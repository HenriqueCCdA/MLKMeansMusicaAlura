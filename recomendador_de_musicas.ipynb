{
 "cells": [
  {
   "cell_type": "code",
   "execution_count": 107,
   "metadata": {},
   "outputs": [],
   "source": [
    "import pandas as pd\n",
    "import numpy as np"
   ]
  },
  {
   "cell_type": "code",
   "execution_count": 108,
   "metadata": {},
   "outputs": [],
   "source": [
    "dados = pd.read_csv('Dados/Dados_totais.csv')\n",
    "dados_generos = pd.read_csv('Dados/data_by_genres.csv')\n",
    "dados_anos = pd.read_csv('Dados/data_by_year.csv')"
   ]
  },
  {
   "cell_type": "code",
   "execution_count": 109,
   "metadata": {},
   "outputs": [
    {
     "data": {
      "text/html": [
       "<div>\n",
       "<style scoped>\n",
       "    .dataframe tbody tr th:only-of-type {\n",
       "        vertical-align: middle;\n",
       "    }\n",
       "\n",
       "    .dataframe tbody tr th {\n",
       "        vertical-align: top;\n",
       "    }\n",
       "\n",
       "    .dataframe thead th {\n",
       "        text-align: right;\n",
       "    }\n",
       "</style>\n",
       "<table border=\"1\" class=\"dataframe\">\n",
       "  <thead>\n",
       "    <tr style=\"text-align: right;\">\n",
       "      <th></th>\n",
       "      <th>valence</th>\n",
       "      <th>year</th>\n",
       "      <th>acousticness</th>\n",
       "      <th>artists</th>\n",
       "      <th>danceability</th>\n",
       "      <th>duration_ms</th>\n",
       "      <th>energy</th>\n",
       "      <th>explicit</th>\n",
       "      <th>id</th>\n",
       "      <th>instrumentalness</th>\n",
       "      <th>key</th>\n",
       "      <th>liveness</th>\n",
       "      <th>loudness</th>\n",
       "      <th>mode</th>\n",
       "      <th>name</th>\n",
       "      <th>popularity</th>\n",
       "      <th>speechiness</th>\n",
       "      <th>tempo</th>\n",
       "      <th>artists_song</th>\n",
       "    </tr>\n",
       "  </thead>\n",
       "  <tbody>\n",
       "    <tr>\n",
       "      <th>0</th>\n",
       "      <td>0.285</td>\n",
       "      <td>2000</td>\n",
       "      <td>0.00239</td>\n",
       "      <td>Coldplay</td>\n",
       "      <td>0.429</td>\n",
       "      <td>266773</td>\n",
       "      <td>0.661</td>\n",
       "      <td>0</td>\n",
       "      <td>3AJwUDP919kvQ9QcozQPxg</td>\n",
       "      <td>0.000121</td>\n",
       "      <td>11</td>\n",
       "      <td>0.2340</td>\n",
       "      <td>-7.227</td>\n",
       "      <td>1</td>\n",
       "      <td>Yellow</td>\n",
       "      <td>84</td>\n",
       "      <td>0.0281</td>\n",
       "      <td>173.372</td>\n",
       "      <td>Coldplay - Yellow</td>\n",
       "    </tr>\n",
       "    <tr>\n",
       "      <th>1</th>\n",
       "      <td>0.613</td>\n",
       "      <td>2000</td>\n",
       "      <td>0.14300</td>\n",
       "      <td>OutKast</td>\n",
       "      <td>0.843</td>\n",
       "      <td>270507</td>\n",
       "      <td>0.806</td>\n",
       "      <td>1</td>\n",
       "      <td>0I3q5fE6wg7LIfHGngUTnV</td>\n",
       "      <td>0.000000</td>\n",
       "      <td>4</td>\n",
       "      <td>0.0771</td>\n",
       "      <td>-5.946</td>\n",
       "      <td>0</td>\n",
       "      <td>Ms. Jackson</td>\n",
       "      <td>80</td>\n",
       "      <td>0.2690</td>\n",
       "      <td>94.948</td>\n",
       "      <td>OutKast - Ms. Jackson</td>\n",
       "    </tr>\n",
       "    <tr>\n",
       "      <th>2</th>\n",
       "      <td>0.400</td>\n",
       "      <td>2000</td>\n",
       "      <td>0.00958</td>\n",
       "      <td>Linkin Park</td>\n",
       "      <td>0.556</td>\n",
       "      <td>216880</td>\n",
       "      <td>0.864</td>\n",
       "      <td>0</td>\n",
       "      <td>60a0Rd6pjrkxjPbaKzXjfq</td>\n",
       "      <td>0.000000</td>\n",
       "      <td>3</td>\n",
       "      <td>0.2090</td>\n",
       "      <td>-5.870</td>\n",
       "      <td>0</td>\n",
       "      <td>In the End</td>\n",
       "      <td>84</td>\n",
       "      <td>0.0584</td>\n",
       "      <td>105.143</td>\n",
       "      <td>Linkin Park - In the End</td>\n",
       "    </tr>\n",
       "    <tr>\n",
       "      <th>3</th>\n",
       "      <td>0.543</td>\n",
       "      <td>2000</td>\n",
       "      <td>0.00664</td>\n",
       "      <td>3 Doors Down</td>\n",
       "      <td>0.545</td>\n",
       "      <td>233933</td>\n",
       "      <td>0.865</td>\n",
       "      <td>0</td>\n",
       "      <td>6ZOBP3NvffbU4SZcrnt1k6</td>\n",
       "      <td>0.000011</td>\n",
       "      <td>11</td>\n",
       "      <td>0.1680</td>\n",
       "      <td>-5.708</td>\n",
       "      <td>0</td>\n",
       "      <td>Kryptonite</td>\n",
       "      <td>78</td>\n",
       "      <td>0.0286</td>\n",
       "      <td>99.009</td>\n",
       "      <td>3 Doors Down - Kryptonite</td>\n",
       "    </tr>\n",
       "    <tr>\n",
       "      <th>4</th>\n",
       "      <td>0.760</td>\n",
       "      <td>2000</td>\n",
       "      <td>0.03020</td>\n",
       "      <td>Eminem</td>\n",
       "      <td>0.949</td>\n",
       "      <td>284200</td>\n",
       "      <td>0.661</td>\n",
       "      <td>1</td>\n",
       "      <td>3yfqSUWxFvZELEM4PmlwIR</td>\n",
       "      <td>0.000000</td>\n",
       "      <td>5</td>\n",
       "      <td>0.0454</td>\n",
       "      <td>-4.244</td>\n",
       "      <td>0</td>\n",
       "      <td>The Real Slim Shady</td>\n",
       "      <td>80</td>\n",
       "      <td>0.0572</td>\n",
       "      <td>104.504</td>\n",
       "      <td>Eminem - The Real Slim Shady</td>\n",
       "    </tr>\n",
       "  </tbody>\n",
       "</table>\n",
       "</div>"
      ],
      "text/plain": [
       "   valence  year  acousticness       artists  danceability  duration_ms  \\\n",
       "0    0.285  2000       0.00239      Coldplay         0.429       266773   \n",
       "1    0.613  2000       0.14300       OutKast         0.843       270507   \n",
       "2    0.400  2000       0.00958   Linkin Park         0.556       216880   \n",
       "3    0.543  2000       0.00664  3 Doors Down         0.545       233933   \n",
       "4    0.760  2000       0.03020        Eminem         0.949       284200   \n",
       "\n",
       "   energy  explicit                      id  instrumentalness  key  liveness  \\\n",
       "0   0.661         0  3AJwUDP919kvQ9QcozQPxg          0.000121   11    0.2340   \n",
       "1   0.806         1  0I3q5fE6wg7LIfHGngUTnV          0.000000    4    0.0771   \n",
       "2   0.864         0  60a0Rd6pjrkxjPbaKzXjfq          0.000000    3    0.2090   \n",
       "3   0.865         0  6ZOBP3NvffbU4SZcrnt1k6          0.000011   11    0.1680   \n",
       "4   0.661         1  3yfqSUWxFvZELEM4PmlwIR          0.000000    5    0.0454   \n",
       "\n",
       "   loudness  mode                 name  popularity  speechiness    tempo  \\\n",
       "0    -7.227     1               Yellow          84       0.0281  173.372   \n",
       "1    -5.946     0          Ms. Jackson          80       0.2690   94.948   \n",
       "2    -5.870     0           In the End          84       0.0584  105.143   \n",
       "3    -5.708     0           Kryptonite          78       0.0286   99.009   \n",
       "4    -4.244     0  The Real Slim Shady          80       0.0572  104.504   \n",
       "\n",
       "                   artists_song  \n",
       "0             Coldplay - Yellow  \n",
       "1         OutKast - Ms. Jackson  \n",
       "2      Linkin Park - In the End  \n",
       "3     3 Doors Down - Kryptonite  \n",
       "4  Eminem - The Real Slim Shady  "
      ]
     },
     "execution_count": 109,
     "metadata": {},
     "output_type": "execute_result"
    }
   ],
   "source": [
    "dados.head()"
   ]
  },
  {
   "cell_type": "code",
   "execution_count": 110,
   "metadata": {},
   "outputs": [
    {
     "data": {
      "text/plain": [
       "array([2000, 2001, 2002, 2003, 2004, 2005, 2006, 2007, 2008, 2009, 2010,\n",
       "       2011, 2012, 2013, 2014, 2015, 2016, 2017, 2018, 2019, 2020])"
      ]
     },
     "execution_count": 110,
     "metadata": {},
     "output_type": "execute_result"
    }
   ],
   "source": [
    "dados[\"year\"].unique()"
   ]
  },
  {
   "cell_type": "code",
   "execution_count": 111,
   "metadata": {},
   "outputs": [
    {
     "data": {
      "text/plain": [
       "(20311, 19)"
      ]
     },
     "execution_count": 111,
     "metadata": {},
     "output_type": "execute_result"
    }
   ],
   "source": [
    "dados.shape"
   ]
  },
  {
   "cell_type": "code",
   "execution_count": 112,
   "metadata": {},
   "outputs": [],
   "source": [
    "dados = dados.drop([\"explicit\", \"key\", \"mode\"], axis=1)\n"
   ]
  },
  {
   "cell_type": "code",
   "execution_count": 113,
   "metadata": {},
   "outputs": [
    {
     "data": {
      "text/plain": [
       "(20311, 16)"
      ]
     },
     "execution_count": 113,
     "metadata": {},
     "output_type": "execute_result"
    }
   ],
   "source": [
    "dados.shape"
   ]
  },
  {
   "cell_type": "code",
   "execution_count": 114,
   "metadata": {},
   "outputs": [
    {
     "data": {
      "text/plain": [
       "valence             0\n",
       "year                0\n",
       "acousticness        0\n",
       "artists             0\n",
       "danceability        0\n",
       "duration_ms         0\n",
       "energy              0\n",
       "id                  0\n",
       "instrumentalness    0\n",
       "liveness            0\n",
       "loudness            0\n",
       "name                0\n",
       "popularity          0\n",
       "speechiness         0\n",
       "tempo               0\n",
       "artists_song        0\n",
       "dtype: int64"
      ]
     },
     "execution_count": 114,
     "metadata": {},
     "output_type": "execute_result"
    }
   ],
   "source": [
    "dados.isna().sum()"
   ]
  },
  {
   "cell_type": "code",
   "execution_count": 115,
   "metadata": {},
   "outputs": [
    {
     "data": {
      "text/html": [
       "<div>\n",
       "<style scoped>\n",
       "    .dataframe tbody tr th:only-of-type {\n",
       "        vertical-align: middle;\n",
       "    }\n",
       "\n",
       "    .dataframe tbody tr th {\n",
       "        vertical-align: top;\n",
       "    }\n",
       "\n",
       "    .dataframe thead th {\n",
       "        text-align: right;\n",
       "    }\n",
       "</style>\n",
       "<table border=\"1\" class=\"dataframe\">\n",
       "  <thead>\n",
       "    <tr style=\"text-align: right;\">\n",
       "      <th></th>\n",
       "      <th>mode</th>\n",
       "      <th>genres</th>\n",
       "      <th>acousticness</th>\n",
       "      <th>danceability</th>\n",
       "      <th>duration_ms</th>\n",
       "      <th>energy</th>\n",
       "      <th>instrumentalness</th>\n",
       "      <th>liveness</th>\n",
       "      <th>loudness</th>\n",
       "      <th>speechiness</th>\n",
       "      <th>tempo</th>\n",
       "      <th>valence</th>\n",
       "      <th>popularity</th>\n",
       "      <th>key</th>\n",
       "    </tr>\n",
       "  </thead>\n",
       "  <tbody>\n",
       "    <tr>\n",
       "      <th>0</th>\n",
       "      <td>1</td>\n",
       "      <td>21st century classical</td>\n",
       "      <td>0.979333</td>\n",
       "      <td>0.162883</td>\n",
       "      <td>1.602977e+05</td>\n",
       "      <td>0.071317</td>\n",
       "      <td>0.606834</td>\n",
       "      <td>0.361600</td>\n",
       "      <td>-31.514333</td>\n",
       "      <td>0.040567</td>\n",
       "      <td>75.336500</td>\n",
       "      <td>0.103783</td>\n",
       "      <td>27.833333</td>\n",
       "      <td>6</td>\n",
       "    </tr>\n",
       "    <tr>\n",
       "      <th>1</th>\n",
       "      <td>1</td>\n",
       "      <td>432hz</td>\n",
       "      <td>0.494780</td>\n",
       "      <td>0.299333</td>\n",
       "      <td>1.048887e+06</td>\n",
       "      <td>0.450678</td>\n",
       "      <td>0.477762</td>\n",
       "      <td>0.131000</td>\n",
       "      <td>-16.854000</td>\n",
       "      <td>0.076817</td>\n",
       "      <td>120.285667</td>\n",
       "      <td>0.221750</td>\n",
       "      <td>52.500000</td>\n",
       "      <td>5</td>\n",
       "    </tr>\n",
       "    <tr>\n",
       "      <th>2</th>\n",
       "      <td>1</td>\n",
       "      <td>8-bit</td>\n",
       "      <td>0.762000</td>\n",
       "      <td>0.712000</td>\n",
       "      <td>1.151770e+05</td>\n",
       "      <td>0.818000</td>\n",
       "      <td>0.876000</td>\n",
       "      <td>0.126000</td>\n",
       "      <td>-9.180000</td>\n",
       "      <td>0.047000</td>\n",
       "      <td>133.444000</td>\n",
       "      <td>0.975000</td>\n",
       "      <td>48.000000</td>\n",
       "      <td>7</td>\n",
       "    </tr>\n",
       "    <tr>\n",
       "      <th>3</th>\n",
       "      <td>1</td>\n",
       "      <td>[]</td>\n",
       "      <td>0.651417</td>\n",
       "      <td>0.529093</td>\n",
       "      <td>2.328809e+05</td>\n",
       "      <td>0.419146</td>\n",
       "      <td>0.205309</td>\n",
       "      <td>0.218696</td>\n",
       "      <td>-12.288965</td>\n",
       "      <td>0.107872</td>\n",
       "      <td>112.857352</td>\n",
       "      <td>0.513604</td>\n",
       "      <td>20.859882</td>\n",
       "      <td>7</td>\n",
       "    </tr>\n",
       "    <tr>\n",
       "      <th>4</th>\n",
       "      <td>1</td>\n",
       "      <td>a cappella</td>\n",
       "      <td>0.676557</td>\n",
       "      <td>0.538961</td>\n",
       "      <td>1.906285e+05</td>\n",
       "      <td>0.316434</td>\n",
       "      <td>0.003003</td>\n",
       "      <td>0.172254</td>\n",
       "      <td>-12.479387</td>\n",
       "      <td>0.082851</td>\n",
       "      <td>112.110362</td>\n",
       "      <td>0.448249</td>\n",
       "      <td>45.820071</td>\n",
       "      <td>7</td>\n",
       "    </tr>\n",
       "  </tbody>\n",
       "</table>\n",
       "</div>"
      ],
      "text/plain": [
       "   mode                  genres  acousticness  danceability   duration_ms  \\\n",
       "0     1  21st century classical      0.979333      0.162883  1.602977e+05   \n",
       "1     1                   432hz      0.494780      0.299333  1.048887e+06   \n",
       "2     1                   8-bit      0.762000      0.712000  1.151770e+05   \n",
       "3     1                      []      0.651417      0.529093  2.328809e+05   \n",
       "4     1              a cappella      0.676557      0.538961  1.906285e+05   \n",
       "\n",
       "     energy  instrumentalness  liveness   loudness  speechiness       tempo  \\\n",
       "0  0.071317          0.606834  0.361600 -31.514333     0.040567   75.336500   \n",
       "1  0.450678          0.477762  0.131000 -16.854000     0.076817  120.285667   \n",
       "2  0.818000          0.876000  0.126000  -9.180000     0.047000  133.444000   \n",
       "3  0.419146          0.205309  0.218696 -12.288965     0.107872  112.857352   \n",
       "4  0.316434          0.003003  0.172254 -12.479387     0.082851  112.110362   \n",
       "\n",
       "    valence  popularity  key  \n",
       "0  0.103783   27.833333    6  \n",
       "1  0.221750   52.500000    5  \n",
       "2  0.975000   48.000000    7  \n",
       "3  0.513604   20.859882    7  \n",
       "4  0.448249   45.820071    7  "
      ]
     },
     "execution_count": 115,
     "metadata": {},
     "output_type": "execute_result"
    }
   ],
   "source": [
    "dados_generos.head()"
   ]
  },
  {
   "cell_type": "code",
   "execution_count": 116,
   "metadata": {},
   "outputs": [
    {
     "data": {
      "text/html": [
       "<div>\n",
       "<style scoped>\n",
       "    .dataframe tbody tr th:only-of-type {\n",
       "        vertical-align: middle;\n",
       "    }\n",
       "\n",
       "    .dataframe tbody tr th {\n",
       "        vertical-align: top;\n",
       "    }\n",
       "\n",
       "    .dataframe thead th {\n",
       "        text-align: right;\n",
       "    }\n",
       "</style>\n",
       "<table border=\"1\" class=\"dataframe\">\n",
       "  <thead>\n",
       "    <tr style=\"text-align: right;\">\n",
       "      <th></th>\n",
       "      <th>genres</th>\n",
       "      <th>acousticness</th>\n",
       "      <th>danceability</th>\n",
       "      <th>duration_ms</th>\n",
       "      <th>energy</th>\n",
       "      <th>instrumentalness</th>\n",
       "      <th>liveness</th>\n",
       "      <th>loudness</th>\n",
       "      <th>speechiness</th>\n",
       "      <th>tempo</th>\n",
       "      <th>valence</th>\n",
       "      <th>popularity</th>\n",
       "    </tr>\n",
       "  </thead>\n",
       "  <tbody>\n",
       "    <tr>\n",
       "      <th>0</th>\n",
       "      <td>21st century classical</td>\n",
       "      <td>0.979333</td>\n",
       "      <td>0.162883</td>\n",
       "      <td>1.602977e+05</td>\n",
       "      <td>0.071317</td>\n",
       "      <td>0.606834</td>\n",
       "      <td>0.3616</td>\n",
       "      <td>-31.514333</td>\n",
       "      <td>0.040567</td>\n",
       "      <td>75.336500</td>\n",
       "      <td>0.103783</td>\n",
       "      <td>27.833333</td>\n",
       "    </tr>\n",
       "    <tr>\n",
       "      <th>1</th>\n",
       "      <td>432hz</td>\n",
       "      <td>0.494780</td>\n",
       "      <td>0.299333</td>\n",
       "      <td>1.048887e+06</td>\n",
       "      <td>0.450678</td>\n",
       "      <td>0.477762</td>\n",
       "      <td>0.1310</td>\n",
       "      <td>-16.854000</td>\n",
       "      <td>0.076817</td>\n",
       "      <td>120.285667</td>\n",
       "      <td>0.221750</td>\n",
       "      <td>52.500000</td>\n",
       "    </tr>\n",
       "  </tbody>\n",
       "</table>\n",
       "</div>"
      ],
      "text/plain": [
       "                   genres  acousticness  danceability   duration_ms    energy  \\\n",
       "0  21st century classical      0.979333      0.162883  1.602977e+05  0.071317   \n",
       "1                   432hz      0.494780      0.299333  1.048887e+06  0.450678   \n",
       "\n",
       "   instrumentalness  liveness   loudness  speechiness       tempo   valence  \\\n",
       "0          0.606834    0.3616 -31.514333     0.040567   75.336500  0.103783   \n",
       "1          0.477762    0.1310 -16.854000     0.076817  120.285667  0.221750   \n",
       "\n",
       "   popularity  \n",
       "0   27.833333  \n",
       "1   52.500000  "
      ]
     },
     "execution_count": 116,
     "metadata": {},
     "output_type": "execute_result"
    }
   ],
   "source": [
    "dados_generos = dados_generos.drop([\"key\", \"mode\"], axis=1)\n",
    "dados_generos.head(2)"
   ]
  },
  {
   "cell_type": "code",
   "execution_count": 117,
   "metadata": {},
   "outputs": [
    {
     "data": {
      "text/html": [
       "<div>\n",
       "<style scoped>\n",
       "    .dataframe tbody tr th:only-of-type {\n",
       "        vertical-align: middle;\n",
       "    }\n",
       "\n",
       "    .dataframe tbody tr th {\n",
       "        vertical-align: top;\n",
       "    }\n",
       "\n",
       "    .dataframe thead th {\n",
       "        text-align: right;\n",
       "    }\n",
       "</style>\n",
       "<table border=\"1\" class=\"dataframe\">\n",
       "  <thead>\n",
       "    <tr style=\"text-align: right;\">\n",
       "      <th></th>\n",
       "      <th>mode</th>\n",
       "      <th>year</th>\n",
       "      <th>acousticness</th>\n",
       "      <th>danceability</th>\n",
       "      <th>duration_ms</th>\n",
       "      <th>energy</th>\n",
       "      <th>instrumentalness</th>\n",
       "      <th>liveness</th>\n",
       "      <th>loudness</th>\n",
       "      <th>speechiness</th>\n",
       "      <th>tempo</th>\n",
       "      <th>valence</th>\n",
       "      <th>popularity</th>\n",
       "      <th>key</th>\n",
       "    </tr>\n",
       "  </thead>\n",
       "  <tbody>\n",
       "    <tr>\n",
       "      <th>0</th>\n",
       "      <td>1</td>\n",
       "      <td>1921</td>\n",
       "      <td>0.886896</td>\n",
       "      <td>0.418597</td>\n",
       "      <td>260537.166667</td>\n",
       "      <td>0.231815</td>\n",
       "      <td>0.344878</td>\n",
       "      <td>0.20571</td>\n",
       "      <td>-17.048667</td>\n",
       "      <td>0.073662</td>\n",
       "      <td>101.531493</td>\n",
       "      <td>0.379327</td>\n",
       "      <td>0.653333</td>\n",
       "      <td>2</td>\n",
       "    </tr>\n",
       "    <tr>\n",
       "      <th>1</th>\n",
       "      <td>1</td>\n",
       "      <td>1922</td>\n",
       "      <td>0.938592</td>\n",
       "      <td>0.482042</td>\n",
       "      <td>165469.746479</td>\n",
       "      <td>0.237815</td>\n",
       "      <td>0.434195</td>\n",
       "      <td>0.24072</td>\n",
       "      <td>-19.275282</td>\n",
       "      <td>0.116655</td>\n",
       "      <td>100.884521</td>\n",
       "      <td>0.535549</td>\n",
       "      <td>0.140845</td>\n",
       "      <td>10</td>\n",
       "    </tr>\n",
       "  </tbody>\n",
       "</table>\n",
       "</div>"
      ],
      "text/plain": [
       "   mode  year  acousticness  danceability    duration_ms    energy  \\\n",
       "0     1  1921      0.886896      0.418597  260537.166667  0.231815   \n",
       "1     1  1922      0.938592      0.482042  165469.746479  0.237815   \n",
       "\n",
       "   instrumentalness  liveness   loudness  speechiness       tempo   valence  \\\n",
       "0          0.344878   0.20571 -17.048667     0.073662  101.531493  0.379327   \n",
       "1          0.434195   0.24072 -19.275282     0.116655  100.884521  0.535549   \n",
       "\n",
       "   popularity  key  \n",
       "0    0.653333    2  \n",
       "1    0.140845   10  "
      ]
     },
     "execution_count": 117,
     "metadata": {},
     "output_type": "execute_result"
    }
   ],
   "source": [
    "dados_anos.head(2)"
   ]
  },
  {
   "cell_type": "code",
   "execution_count": 118,
   "metadata": {},
   "outputs": [
    {
     "data": {
      "text/plain": [
       "array([1921, 1922, 1923, 1924, 1925, 1926, 1927, 1928, 1929, 1930, 1931,\n",
       "       1932, 1933, 1934, 1935, 1936, 1937, 1938, 1939, 1940, 1941, 1942,\n",
       "       1943, 1944, 1945, 1946, 1947, 1948, 1949, 1950, 1951, 1952, 1953,\n",
       "       1954, 1955, 1956, 1957, 1958, 1959, 1960, 1961, 1962, 1963, 1964,\n",
       "       1965, 1966, 1967, 1968, 1969, 1970, 1971, 1972, 1973, 1974, 1975,\n",
       "       1976, 1977, 1978, 1979, 1980, 1981, 1982, 1983, 1984, 1985, 1986,\n",
       "       1987, 1988, 1989, 1990, 1991, 1992, 1993, 1994, 1995, 1996, 1997,\n",
       "       1998, 1999, 2000, 2001, 2002, 2003, 2004, 2005, 2006, 2007, 2008,\n",
       "       2009, 2010, 2011, 2012, 2013, 2014, 2015, 2016, 2017, 2018, 2019,\n",
       "       2020])"
      ]
     },
     "execution_count": 118,
     "metadata": {},
     "output_type": "execute_result"
    }
   ],
   "source": [
    "dados_anos[\"year\"].unique()"
   ]
  },
  {
   "cell_type": "code",
   "execution_count": 119,
   "metadata": {},
   "outputs": [],
   "source": [
    "dados_anos = dados_anos[dados_anos[\"year\"]>=2000]"
   ]
  },
  {
   "cell_type": "code",
   "execution_count": 120,
   "metadata": {},
   "outputs": [
    {
     "data": {
      "text/plain": [
       "array([2000, 2001, 2002, 2003, 2004, 2005, 2006, 2007, 2008, 2009, 2010,\n",
       "       2011, 2012, 2013, 2014, 2015, 2016, 2017, 2018, 2019, 2020])"
      ]
     },
     "execution_count": 120,
     "metadata": {},
     "output_type": "execute_result"
    }
   ],
   "source": [
    "dados_anos[\"year\"].unique()"
   ]
  },
  {
   "cell_type": "code",
   "execution_count": 121,
   "metadata": {},
   "outputs": [
    {
     "data": {
      "text/html": [
       "<div>\n",
       "<style scoped>\n",
       "    .dataframe tbody tr th:only-of-type {\n",
       "        vertical-align: middle;\n",
       "    }\n",
       "\n",
       "    .dataframe tbody tr th {\n",
       "        vertical-align: top;\n",
       "    }\n",
       "\n",
       "    .dataframe thead th {\n",
       "        text-align: right;\n",
       "    }\n",
       "</style>\n",
       "<table border=\"1\" class=\"dataframe\">\n",
       "  <thead>\n",
       "    <tr style=\"text-align: right;\">\n",
       "      <th></th>\n",
       "      <th>year</th>\n",
       "      <th>acousticness</th>\n",
       "      <th>danceability</th>\n",
       "      <th>duration_ms</th>\n",
       "      <th>energy</th>\n",
       "      <th>instrumentalness</th>\n",
       "      <th>liveness</th>\n",
       "      <th>loudness</th>\n",
       "      <th>speechiness</th>\n",
       "      <th>tempo</th>\n",
       "      <th>valence</th>\n",
       "      <th>popularity</th>\n",
       "    </tr>\n",
       "  </thead>\n",
       "  <tbody>\n",
       "    <tr>\n",
       "      <th>79</th>\n",
       "      <td>2000</td>\n",
       "      <td>0.289323</td>\n",
       "      <td>0.590918</td>\n",
       "      <td>242724.642638</td>\n",
       "      <td>0.625413</td>\n",
       "      <td>0.101168</td>\n",
       "      <td>0.197686</td>\n",
       "      <td>-8.247766</td>\n",
       "      <td>0.089205</td>\n",
       "      <td>118.999323</td>\n",
       "      <td>0.559475</td>\n",
       "      <td>46.684049</td>\n",
       "    </tr>\n",
       "    <tr>\n",
       "      <th>80</th>\n",
       "      <td>2001</td>\n",
       "      <td>0.286842</td>\n",
       "      <td>0.583318</td>\n",
       "      <td>240307.796010</td>\n",
       "      <td>0.626986</td>\n",
       "      <td>0.107214</td>\n",
       "      <td>0.187026</td>\n",
       "      <td>-8.305095</td>\n",
       "      <td>0.089182</td>\n",
       "      <td>117.765399</td>\n",
       "      <td>0.541479</td>\n",
       "      <td>48.750125</td>\n",
       "    </tr>\n",
       "  </tbody>\n",
       "</table>\n",
       "</div>"
      ],
      "text/plain": [
       "    year  acousticness  danceability    duration_ms    energy  \\\n",
       "79  2000      0.289323      0.590918  242724.642638  0.625413   \n",
       "80  2001      0.286842      0.583318  240307.796010  0.626986   \n",
       "\n",
       "    instrumentalness  liveness  loudness  speechiness       tempo   valence  \\\n",
       "79          0.101168  0.197686 -8.247766     0.089205  118.999323  0.559475   \n",
       "80          0.107214  0.187026 -8.305095     0.089182  117.765399  0.541479   \n",
       "\n",
       "    popularity  \n",
       "79   46.684049  \n",
       "80   48.750125  "
      ]
     },
     "execution_count": 121,
     "metadata": {},
     "output_type": "execute_result"
    }
   ],
   "source": [
    "dados_anos = dados_anos.drop([\"key\", \"mode\"], axis=1)\n",
    "dados_anos.head(2)"
   ]
  },
  {
   "cell_type": "code",
   "execution_count": 122,
   "metadata": {},
   "outputs": [],
   "source": [
    "dados_anos.reset_index(inplace=True)"
   ]
  },
  {
   "cell_type": "code",
   "execution_count": 123,
   "metadata": {},
   "outputs": [],
   "source": [
    "import plotly.express as px"
   ]
  },
  {
   "cell_type": "code",
   "execution_count": 124,
   "metadata": {},
   "outputs": [
    {
     "data": {
      "application/vnd.plotly.v1+json": {
       "config": {
        "plotlyServerURL": "https://plot.ly"
       },
       "data": [
        {
         "hovertemplate": "year=%{x}<br>loudness=%{y}<extra></extra>",
         "legendgroup": "",
         "line": {
          "color": "#636efa",
          "dash": "solid"
         },
         "marker": {
          "symbol": "circle"
         },
         "mode": "lines+markers",
         "name": "",
         "orientation": "v",
         "showlegend": false,
         "type": "scatter",
         "x": [
          2000,
          2001,
          2002,
          2003,
          2004,
          2005,
          2006,
          2007,
          2008,
          2009,
          2010,
          2011,
          2012,
          2013,
          2014,
          2015,
          2016,
          2017,
          2018,
          2019,
          2020
         ],
         "xaxis": "x",
         "y": [
          -8.247765848670758,
          -8.305095261845384,
          -7.686639500000013,
          -7.485545035823955,
          -7.601655137334684,
          -7.46615897435897,
          -7.265500512820514,
          -7.044535897435892,
          -6.8438040920716166,
          -7.0460147959183645,
          -6.9099042658730125,
          -7.574986117997006,
          -7.260549614395888,
          -7.472039473684207,
          -7.06743990024938,
          -7.625639311043569,
          -8.061056204785759,
          -8.31262951807228,
          -7.168785068949124,
          -7.722191893278596,
          -6.595066995073878
         ],
         "yaxis": "y"
        }
       ],
       "layout": {
        "legend": {
         "tracegroupgap": 0
        },
        "template": {
         "data": {
          "bar": [
           {
            "error_x": {
             "color": "#2a3f5f"
            },
            "error_y": {
             "color": "#2a3f5f"
            },
            "marker": {
             "line": {
              "color": "#E5ECF6",
              "width": 0.5
             },
             "pattern": {
              "fillmode": "overlay",
              "size": 10,
              "solidity": 0.2
             }
            },
            "type": "bar"
           }
          ],
          "barpolar": [
           {
            "marker": {
             "line": {
              "color": "#E5ECF6",
              "width": 0.5
             },
             "pattern": {
              "fillmode": "overlay",
              "size": 10,
              "solidity": 0.2
             }
            },
            "type": "barpolar"
           }
          ],
          "carpet": [
           {
            "aaxis": {
             "endlinecolor": "#2a3f5f",
             "gridcolor": "white",
             "linecolor": "white",
             "minorgridcolor": "white",
             "startlinecolor": "#2a3f5f"
            },
            "baxis": {
             "endlinecolor": "#2a3f5f",
             "gridcolor": "white",
             "linecolor": "white",
             "minorgridcolor": "white",
             "startlinecolor": "#2a3f5f"
            },
            "type": "carpet"
           }
          ],
          "choropleth": [
           {
            "colorbar": {
             "outlinewidth": 0,
             "ticks": ""
            },
            "type": "choropleth"
           }
          ],
          "contour": [
           {
            "colorbar": {
             "outlinewidth": 0,
             "ticks": ""
            },
            "colorscale": [
             [
              0,
              "#0d0887"
             ],
             [
              0.1111111111111111,
              "#46039f"
             ],
             [
              0.2222222222222222,
              "#7201a8"
             ],
             [
              0.3333333333333333,
              "#9c179e"
             ],
             [
              0.4444444444444444,
              "#bd3786"
             ],
             [
              0.5555555555555556,
              "#d8576b"
             ],
             [
              0.6666666666666666,
              "#ed7953"
             ],
             [
              0.7777777777777778,
              "#fb9f3a"
             ],
             [
              0.8888888888888888,
              "#fdca26"
             ],
             [
              1,
              "#f0f921"
             ]
            ],
            "type": "contour"
           }
          ],
          "contourcarpet": [
           {
            "colorbar": {
             "outlinewidth": 0,
             "ticks": ""
            },
            "type": "contourcarpet"
           }
          ],
          "heatmap": [
           {
            "colorbar": {
             "outlinewidth": 0,
             "ticks": ""
            },
            "colorscale": [
             [
              0,
              "#0d0887"
             ],
             [
              0.1111111111111111,
              "#46039f"
             ],
             [
              0.2222222222222222,
              "#7201a8"
             ],
             [
              0.3333333333333333,
              "#9c179e"
             ],
             [
              0.4444444444444444,
              "#bd3786"
             ],
             [
              0.5555555555555556,
              "#d8576b"
             ],
             [
              0.6666666666666666,
              "#ed7953"
             ],
             [
              0.7777777777777778,
              "#fb9f3a"
             ],
             [
              0.8888888888888888,
              "#fdca26"
             ],
             [
              1,
              "#f0f921"
             ]
            ],
            "type": "heatmap"
           }
          ],
          "heatmapgl": [
           {
            "colorbar": {
             "outlinewidth": 0,
             "ticks": ""
            },
            "colorscale": [
             [
              0,
              "#0d0887"
             ],
             [
              0.1111111111111111,
              "#46039f"
             ],
             [
              0.2222222222222222,
              "#7201a8"
             ],
             [
              0.3333333333333333,
              "#9c179e"
             ],
             [
              0.4444444444444444,
              "#bd3786"
             ],
             [
              0.5555555555555556,
              "#d8576b"
             ],
             [
              0.6666666666666666,
              "#ed7953"
             ],
             [
              0.7777777777777778,
              "#fb9f3a"
             ],
             [
              0.8888888888888888,
              "#fdca26"
             ],
             [
              1,
              "#f0f921"
             ]
            ],
            "type": "heatmapgl"
           }
          ],
          "histogram": [
           {
            "marker": {
             "pattern": {
              "fillmode": "overlay",
              "size": 10,
              "solidity": 0.2
             }
            },
            "type": "histogram"
           }
          ],
          "histogram2d": [
           {
            "colorbar": {
             "outlinewidth": 0,
             "ticks": ""
            },
            "colorscale": [
             [
              0,
              "#0d0887"
             ],
             [
              0.1111111111111111,
              "#46039f"
             ],
             [
              0.2222222222222222,
              "#7201a8"
             ],
             [
              0.3333333333333333,
              "#9c179e"
             ],
             [
              0.4444444444444444,
              "#bd3786"
             ],
             [
              0.5555555555555556,
              "#d8576b"
             ],
             [
              0.6666666666666666,
              "#ed7953"
             ],
             [
              0.7777777777777778,
              "#fb9f3a"
             ],
             [
              0.8888888888888888,
              "#fdca26"
             ],
             [
              1,
              "#f0f921"
             ]
            ],
            "type": "histogram2d"
           }
          ],
          "histogram2dcontour": [
           {
            "colorbar": {
             "outlinewidth": 0,
             "ticks": ""
            },
            "colorscale": [
             [
              0,
              "#0d0887"
             ],
             [
              0.1111111111111111,
              "#46039f"
             ],
             [
              0.2222222222222222,
              "#7201a8"
             ],
             [
              0.3333333333333333,
              "#9c179e"
             ],
             [
              0.4444444444444444,
              "#bd3786"
             ],
             [
              0.5555555555555556,
              "#d8576b"
             ],
             [
              0.6666666666666666,
              "#ed7953"
             ],
             [
              0.7777777777777778,
              "#fb9f3a"
             ],
             [
              0.8888888888888888,
              "#fdca26"
             ],
             [
              1,
              "#f0f921"
             ]
            ],
            "type": "histogram2dcontour"
           }
          ],
          "mesh3d": [
           {
            "colorbar": {
             "outlinewidth": 0,
             "ticks": ""
            },
            "type": "mesh3d"
           }
          ],
          "parcoords": [
           {
            "line": {
             "colorbar": {
              "outlinewidth": 0,
              "ticks": ""
             }
            },
            "type": "parcoords"
           }
          ],
          "pie": [
           {
            "automargin": true,
            "type": "pie"
           }
          ],
          "scatter": [
           {
            "fillpattern": {
             "fillmode": "overlay",
             "size": 10,
             "solidity": 0.2
            },
            "type": "scatter"
           }
          ],
          "scatter3d": [
           {
            "line": {
             "colorbar": {
              "outlinewidth": 0,
              "ticks": ""
             }
            },
            "marker": {
             "colorbar": {
              "outlinewidth": 0,
              "ticks": ""
             }
            },
            "type": "scatter3d"
           }
          ],
          "scattercarpet": [
           {
            "marker": {
             "colorbar": {
              "outlinewidth": 0,
              "ticks": ""
             }
            },
            "type": "scattercarpet"
           }
          ],
          "scattergeo": [
           {
            "marker": {
             "colorbar": {
              "outlinewidth": 0,
              "ticks": ""
             }
            },
            "type": "scattergeo"
           }
          ],
          "scattergl": [
           {
            "marker": {
             "colorbar": {
              "outlinewidth": 0,
              "ticks": ""
             }
            },
            "type": "scattergl"
           }
          ],
          "scattermapbox": [
           {
            "marker": {
             "colorbar": {
              "outlinewidth": 0,
              "ticks": ""
             }
            },
            "type": "scattermapbox"
           }
          ],
          "scatterpolar": [
           {
            "marker": {
             "colorbar": {
              "outlinewidth": 0,
              "ticks": ""
             }
            },
            "type": "scatterpolar"
           }
          ],
          "scatterpolargl": [
           {
            "marker": {
             "colorbar": {
              "outlinewidth": 0,
              "ticks": ""
             }
            },
            "type": "scatterpolargl"
           }
          ],
          "scatterternary": [
           {
            "marker": {
             "colorbar": {
              "outlinewidth": 0,
              "ticks": ""
             }
            },
            "type": "scatterternary"
           }
          ],
          "surface": [
           {
            "colorbar": {
             "outlinewidth": 0,
             "ticks": ""
            },
            "colorscale": [
             [
              0,
              "#0d0887"
             ],
             [
              0.1111111111111111,
              "#46039f"
             ],
             [
              0.2222222222222222,
              "#7201a8"
             ],
             [
              0.3333333333333333,
              "#9c179e"
             ],
             [
              0.4444444444444444,
              "#bd3786"
             ],
             [
              0.5555555555555556,
              "#d8576b"
             ],
             [
              0.6666666666666666,
              "#ed7953"
             ],
             [
              0.7777777777777778,
              "#fb9f3a"
             ],
             [
              0.8888888888888888,
              "#fdca26"
             ],
             [
              1,
              "#f0f921"
             ]
            ],
            "type": "surface"
           }
          ],
          "table": [
           {
            "cells": {
             "fill": {
              "color": "#EBF0F8"
             },
             "line": {
              "color": "white"
             }
            },
            "header": {
             "fill": {
              "color": "#C8D4E3"
             },
             "line": {
              "color": "white"
             }
            },
            "type": "table"
           }
          ]
         },
         "layout": {
          "annotationdefaults": {
           "arrowcolor": "#2a3f5f",
           "arrowhead": 0,
           "arrowwidth": 1
          },
          "autotypenumbers": "strict",
          "coloraxis": {
           "colorbar": {
            "outlinewidth": 0,
            "ticks": ""
           }
          },
          "colorscale": {
           "diverging": [
            [
             0,
             "#8e0152"
            ],
            [
             0.1,
             "#c51b7d"
            ],
            [
             0.2,
             "#de77ae"
            ],
            [
             0.3,
             "#f1b6da"
            ],
            [
             0.4,
             "#fde0ef"
            ],
            [
             0.5,
             "#f7f7f7"
            ],
            [
             0.6,
             "#e6f5d0"
            ],
            [
             0.7,
             "#b8e186"
            ],
            [
             0.8,
             "#7fbc41"
            ],
            [
             0.9,
             "#4d9221"
            ],
            [
             1,
             "#276419"
            ]
           ],
           "sequential": [
            [
             0,
             "#0d0887"
            ],
            [
             0.1111111111111111,
             "#46039f"
            ],
            [
             0.2222222222222222,
             "#7201a8"
            ],
            [
             0.3333333333333333,
             "#9c179e"
            ],
            [
             0.4444444444444444,
             "#bd3786"
            ],
            [
             0.5555555555555556,
             "#d8576b"
            ],
            [
             0.6666666666666666,
             "#ed7953"
            ],
            [
             0.7777777777777778,
             "#fb9f3a"
            ],
            [
             0.8888888888888888,
             "#fdca26"
            ],
            [
             1,
             "#f0f921"
            ]
           ],
           "sequentialminus": [
            [
             0,
             "#0d0887"
            ],
            [
             0.1111111111111111,
             "#46039f"
            ],
            [
             0.2222222222222222,
             "#7201a8"
            ],
            [
             0.3333333333333333,
             "#9c179e"
            ],
            [
             0.4444444444444444,
             "#bd3786"
            ],
            [
             0.5555555555555556,
             "#d8576b"
            ],
            [
             0.6666666666666666,
             "#ed7953"
            ],
            [
             0.7777777777777778,
             "#fb9f3a"
            ],
            [
             0.8888888888888888,
             "#fdca26"
            ],
            [
             1,
             "#f0f921"
            ]
           ]
          },
          "colorway": [
           "#636efa",
           "#EF553B",
           "#00cc96",
           "#ab63fa",
           "#FFA15A",
           "#19d3f3",
           "#FF6692",
           "#B6E880",
           "#FF97FF",
           "#FECB52"
          ],
          "font": {
           "color": "#2a3f5f"
          },
          "geo": {
           "bgcolor": "white",
           "lakecolor": "white",
           "landcolor": "#E5ECF6",
           "showlakes": true,
           "showland": true,
           "subunitcolor": "white"
          },
          "hoverlabel": {
           "align": "left"
          },
          "hovermode": "closest",
          "mapbox": {
           "style": "light"
          },
          "paper_bgcolor": "white",
          "plot_bgcolor": "#E5ECF6",
          "polar": {
           "angularaxis": {
            "gridcolor": "white",
            "linecolor": "white",
            "ticks": ""
           },
           "bgcolor": "#E5ECF6",
           "radialaxis": {
            "gridcolor": "white",
            "linecolor": "white",
            "ticks": ""
           }
          },
          "scene": {
           "xaxis": {
            "backgroundcolor": "#E5ECF6",
            "gridcolor": "white",
            "gridwidth": 2,
            "linecolor": "white",
            "showbackground": true,
            "ticks": "",
            "zerolinecolor": "white"
           },
           "yaxis": {
            "backgroundcolor": "#E5ECF6",
            "gridcolor": "white",
            "gridwidth": 2,
            "linecolor": "white",
            "showbackground": true,
            "ticks": "",
            "zerolinecolor": "white"
           },
           "zaxis": {
            "backgroundcolor": "#E5ECF6",
            "gridcolor": "white",
            "gridwidth": 2,
            "linecolor": "white",
            "showbackground": true,
            "ticks": "",
            "zerolinecolor": "white"
           }
          },
          "shapedefaults": {
           "line": {
            "color": "#2a3f5f"
           }
          },
          "ternary": {
           "aaxis": {
            "gridcolor": "white",
            "linecolor": "white",
            "ticks": ""
           },
           "baxis": {
            "gridcolor": "white",
            "linecolor": "white",
            "ticks": ""
           },
           "bgcolor": "#E5ECF6",
           "caxis": {
            "gridcolor": "white",
            "linecolor": "white",
            "ticks": ""
           }
          },
          "title": {
           "x": 0.05
          },
          "xaxis": {
           "automargin": true,
           "gridcolor": "white",
           "linecolor": "white",
           "ticks": "",
           "title": {
            "standoff": 15
           },
           "zerolinecolor": "white",
           "zerolinewidth": 2
          },
          "yaxis": {
           "automargin": true,
           "gridcolor": "white",
           "linecolor": "white",
           "ticks": "",
           "title": {
            "standoff": 15
           },
           "zerolinecolor": "white",
           "zerolinewidth": 2
          }
         }
        },
        "title": {
         "text": "Variação do loudness conforme os anos"
        },
        "xaxis": {
         "anchor": "y",
         "domain": [
          0,
          1
         ],
         "title": {
          "text": "year"
         }
        },
        "yaxis": {
         "anchor": "x",
         "domain": [
          0,
          1
         ],
         "title": {
          "text": "loudness"
         }
        }
       }
      }
     },
     "metadata": {},
     "output_type": "display_data"
    }
   ],
   "source": [
    "fig = px.line(dados_anos, x=\"year\", y=\"loudness\", markers=True, title=\"Variação do loudness conforme os anos\")\n",
    "fig.show()"
   ]
  },
  {
   "cell_type": "code",
   "execution_count": 125,
   "metadata": {},
   "outputs": [],
   "source": [
    "import plotly.graph_objects as go"
   ]
  },
  {
   "cell_type": "code",
   "execution_count": 126,
   "metadata": {},
   "outputs": [
    {
     "data": {
      "application/vnd.plotly.v1+json": {
       "config": {
        "plotlyServerURL": "https://plot.ly"
       },
       "data": [
        {
         "name": "Acousticness",
         "type": "scatter",
         "x": [
          2000,
          2001,
          2002,
          2003,
          2004,
          2005,
          2006,
          2007,
          2008,
          2009,
          2010,
          2011,
          2012,
          2013,
          2014,
          2015,
          2016,
          2017,
          2018,
          2019,
          2020
         ],
         "y": [
          0.2893227005163599,
          0.2868424748428934,
          0.282624289885001,
          0.2564705181729783,
          0.2805589466225845,
          0.2557635068666665,
          0.2799863520256408,
          0.2540809575538463,
          0.2491917627212275,
          0.261928619096939,
          0.2426866435515872,
          0.2731826625185919,
          0.2499530443804624,
          0.2574880859564779,
          0.249312645880299,
          0.2539522577102332,
          0.2841710299554814,
          0.2860990665261043,
          0.2676329907750836,
          0.2782985863365824,
          0.2199308880935964
         ]
        },
        {
         "name": "Valence",
         "type": "scatter",
         "x": [
          2000,
          2001,
          2002,
          2003,
          2004,
          2005,
          2006,
          2007,
          2008,
          2009,
          2010,
          2011,
          2012,
          2013,
          2014,
          2015,
          2016,
          2017,
          2018,
          2019,
          2020
         ],
         "y": [
          0.5594754601226991,
          0.541479107231919,
          0.5423971500000008,
          0.5305042476970324,
          0.5244885554425227,
          0.5325309230769236,
          0.5200283076923078,
          0.5167938461538473,
          0.5275418925831203,
          0.5071696617346935,
          0.5208951587301589,
          0.4724536787307882,
          0.4627090128534706,
          0.4547411943319834,
          0.4630487780548628,
          0.4320983687943254,
          0.4315320589872012,
          0.4164763112449793,
          0.4479212743699474,
          0.4588176295536167,
          0.5010478078817729
         ]
        },
        {
         "name": "Danceability",
         "type": "scatter",
         "x": [
          2000,
          2001,
          2002,
          2003,
          2004,
          2005,
          2006,
          2007,
          2008,
          2009,
          2010,
          2011,
          2012,
          2013,
          2014,
          2015,
          2016,
          2017,
          2018,
          2019,
          2020
         ],
         "y": [
          0.590918047034764,
          0.5833178553615969,
          0.5761602999999997,
          0.5757633060388944,
          0.5676803662258397,
          0.5722805641025652,
          0.5682301538461539,
          0.5634143589743592,
          0.5791928388746803,
          0.5641903571428577,
          0.5724883432539687,
          0.5528669806643526,
          0.5708818508997433,
          0.5711480263157896,
          0.5899476807980057,
          0.5937740628166152,
          0.6002023928770179,
          0.6122170180722886,
          0.6635004755111744,
          0.6448141097998967,
          0.6929043349753701
         ]
        },
        {
         "name": "Energy",
         "type": "scatter",
         "x": [
          2000,
          2001,
          2002,
          2003,
          2004,
          2005,
          2006,
          2007,
          2008,
          2009,
          2010,
          2011,
          2012,
          2013,
          2014,
          2015,
          2016,
          2017,
          2018,
          2019,
          2020
         ],
         "y": [
          0.6254128323108387,
          0.6269855221945144,
          0.6412697960000012,
          0.6601652610030712,
          0.6488679450661226,
          0.653208511282051,
          0.6503262820512825,
          0.6683047743589737,
          0.6714608207672623,
          0.6707487551020408,
          0.6817778026289684,
          0.6483008934060499,
          0.6565714601542408,
          0.6455968914473688,
          0.6487954437905223,
          0.6270642715298895,
          0.5928552316082347,
          0.5904210208835337,
          0.6024346220161672,
          0.5932240360184717,
          0.6312316354679793
         ]
        },
        {
         "name": "Instrumentalness",
         "type": "scatter",
         "x": [
          2000,
          2001,
          2002,
          2003,
          2004,
          2005,
          2006,
          2007,
          2008,
          2009,
          2010,
          2011,
          2012,
          2013,
          2014,
          2015,
          2016,
          2017,
          2018,
          2019,
          2020
         ],
         "y": [
          0.1011677687934559,
          0.1072140189925186,
          0.0880483503149999,
          0.0830492746673491,
          0.0779340349084435,
          0.0901943611846154,
          0.0777014718769231,
          0.0729572680512819,
          0.0636620903171356,
          0.0758720736836735,
          0.0829805682192461,
          0.103772332166584,
          0.0852055206786631,
          0.0983650539170038,
          0.0765695548379051,
          0.1067868780547114,
          0.0939843871174179,
          0.0970906090662649,
          0.0542171216690441,
          0.0776402469728064,
          0.0163755243054187
         ]
        },
        {
         "name": "Liveness",
         "type": "scatter",
         "x": [
          2000,
          2001,
          2002,
          2003,
          2004,
          2005,
          2006,
          2007,
          2008,
          2009,
          2010,
          2011,
          2012,
          2013,
          2014,
          2015,
          2016,
          2017,
          2018,
          2019,
          2020
         ],
         "y": [
          0.1976860429447853,
          0.1870256359102248,
          0.1939111999999998,
          0.196976305015353,
          0.2021994404883014,
          0.1900816256410258,
          0.1882892820512821,
          0.1961265641025642,
          0.1984314066496162,
          0.2052522959183674,
          0.1997006448412699,
          0.2033088249876056,
          0.1897330077120824,
          0.1996308198380571,
          0.1918215960099752,
          0.1888564336372847,
          0.181169894268225,
          0.1917126004016064,
          0.1763255349500711,
          0.1726164186762446,
          0.1785354187192117
         ]
        },
        {
         "name": "speechiness",
         "type": "scatter",
         "x": [
          2000,
          2001,
          2002,
          2003,
          2004,
          2005,
          2006,
          2007,
          2008,
          2009,
          2010,
          2011,
          2012,
          2013,
          2014,
          2015,
          2016,
          2017,
          2018,
          2019,
          2020
         ],
         "y": [
          0.0892054192229039,
          0.0891822942643391,
          0.0843075999999999,
          0.0939257420675538,
          0.0942388097660224,
          0.093333692307692,
          0.0858467692307692,
          0.0843473333333333,
          0.077356368286445,
          0.0854578061224489,
          0.0810314980158731,
          0.087479276152702,
          0.081742467866324,
          0.0938488866396761,
          0.0840605486284289,
          0.0967792299898684,
          0.1043132999443518,
          0.1105364959839356,
          0.1271755587256302,
          0.1210433555669573,
          0.1413836945812805
         ]
        }
       ],
       "layout": {
        "template": {
         "data": {
          "bar": [
           {
            "error_x": {
             "color": "#2a3f5f"
            },
            "error_y": {
             "color": "#2a3f5f"
            },
            "marker": {
             "line": {
              "color": "#E5ECF6",
              "width": 0.5
             },
             "pattern": {
              "fillmode": "overlay",
              "size": 10,
              "solidity": 0.2
             }
            },
            "type": "bar"
           }
          ],
          "barpolar": [
           {
            "marker": {
             "line": {
              "color": "#E5ECF6",
              "width": 0.5
             },
             "pattern": {
              "fillmode": "overlay",
              "size": 10,
              "solidity": 0.2
             }
            },
            "type": "barpolar"
           }
          ],
          "carpet": [
           {
            "aaxis": {
             "endlinecolor": "#2a3f5f",
             "gridcolor": "white",
             "linecolor": "white",
             "minorgridcolor": "white",
             "startlinecolor": "#2a3f5f"
            },
            "baxis": {
             "endlinecolor": "#2a3f5f",
             "gridcolor": "white",
             "linecolor": "white",
             "minorgridcolor": "white",
             "startlinecolor": "#2a3f5f"
            },
            "type": "carpet"
           }
          ],
          "choropleth": [
           {
            "colorbar": {
             "outlinewidth": 0,
             "ticks": ""
            },
            "type": "choropleth"
           }
          ],
          "contour": [
           {
            "colorbar": {
             "outlinewidth": 0,
             "ticks": ""
            },
            "colorscale": [
             [
              0,
              "#0d0887"
             ],
             [
              0.1111111111111111,
              "#46039f"
             ],
             [
              0.2222222222222222,
              "#7201a8"
             ],
             [
              0.3333333333333333,
              "#9c179e"
             ],
             [
              0.4444444444444444,
              "#bd3786"
             ],
             [
              0.5555555555555556,
              "#d8576b"
             ],
             [
              0.6666666666666666,
              "#ed7953"
             ],
             [
              0.7777777777777778,
              "#fb9f3a"
             ],
             [
              0.8888888888888888,
              "#fdca26"
             ],
             [
              1,
              "#f0f921"
             ]
            ],
            "type": "contour"
           }
          ],
          "contourcarpet": [
           {
            "colorbar": {
             "outlinewidth": 0,
             "ticks": ""
            },
            "type": "contourcarpet"
           }
          ],
          "heatmap": [
           {
            "colorbar": {
             "outlinewidth": 0,
             "ticks": ""
            },
            "colorscale": [
             [
              0,
              "#0d0887"
             ],
             [
              0.1111111111111111,
              "#46039f"
             ],
             [
              0.2222222222222222,
              "#7201a8"
             ],
             [
              0.3333333333333333,
              "#9c179e"
             ],
             [
              0.4444444444444444,
              "#bd3786"
             ],
             [
              0.5555555555555556,
              "#d8576b"
             ],
             [
              0.6666666666666666,
              "#ed7953"
             ],
             [
              0.7777777777777778,
              "#fb9f3a"
             ],
             [
              0.8888888888888888,
              "#fdca26"
             ],
             [
              1,
              "#f0f921"
             ]
            ],
            "type": "heatmap"
           }
          ],
          "heatmapgl": [
           {
            "colorbar": {
             "outlinewidth": 0,
             "ticks": ""
            },
            "colorscale": [
             [
              0,
              "#0d0887"
             ],
             [
              0.1111111111111111,
              "#46039f"
             ],
             [
              0.2222222222222222,
              "#7201a8"
             ],
             [
              0.3333333333333333,
              "#9c179e"
             ],
             [
              0.4444444444444444,
              "#bd3786"
             ],
             [
              0.5555555555555556,
              "#d8576b"
             ],
             [
              0.6666666666666666,
              "#ed7953"
             ],
             [
              0.7777777777777778,
              "#fb9f3a"
             ],
             [
              0.8888888888888888,
              "#fdca26"
             ],
             [
              1,
              "#f0f921"
             ]
            ],
            "type": "heatmapgl"
           }
          ],
          "histogram": [
           {
            "marker": {
             "pattern": {
              "fillmode": "overlay",
              "size": 10,
              "solidity": 0.2
             }
            },
            "type": "histogram"
           }
          ],
          "histogram2d": [
           {
            "colorbar": {
             "outlinewidth": 0,
             "ticks": ""
            },
            "colorscale": [
             [
              0,
              "#0d0887"
             ],
             [
              0.1111111111111111,
              "#46039f"
             ],
             [
              0.2222222222222222,
              "#7201a8"
             ],
             [
              0.3333333333333333,
              "#9c179e"
             ],
             [
              0.4444444444444444,
              "#bd3786"
             ],
             [
              0.5555555555555556,
              "#d8576b"
             ],
             [
              0.6666666666666666,
              "#ed7953"
             ],
             [
              0.7777777777777778,
              "#fb9f3a"
             ],
             [
              0.8888888888888888,
              "#fdca26"
             ],
             [
              1,
              "#f0f921"
             ]
            ],
            "type": "histogram2d"
           }
          ],
          "histogram2dcontour": [
           {
            "colorbar": {
             "outlinewidth": 0,
             "ticks": ""
            },
            "colorscale": [
             [
              0,
              "#0d0887"
             ],
             [
              0.1111111111111111,
              "#46039f"
             ],
             [
              0.2222222222222222,
              "#7201a8"
             ],
             [
              0.3333333333333333,
              "#9c179e"
             ],
             [
              0.4444444444444444,
              "#bd3786"
             ],
             [
              0.5555555555555556,
              "#d8576b"
             ],
             [
              0.6666666666666666,
              "#ed7953"
             ],
             [
              0.7777777777777778,
              "#fb9f3a"
             ],
             [
              0.8888888888888888,
              "#fdca26"
             ],
             [
              1,
              "#f0f921"
             ]
            ],
            "type": "histogram2dcontour"
           }
          ],
          "mesh3d": [
           {
            "colorbar": {
             "outlinewidth": 0,
             "ticks": ""
            },
            "type": "mesh3d"
           }
          ],
          "parcoords": [
           {
            "line": {
             "colorbar": {
              "outlinewidth": 0,
              "ticks": ""
             }
            },
            "type": "parcoords"
           }
          ],
          "pie": [
           {
            "automargin": true,
            "type": "pie"
           }
          ],
          "scatter": [
           {
            "fillpattern": {
             "fillmode": "overlay",
             "size": 10,
             "solidity": 0.2
            },
            "type": "scatter"
           }
          ],
          "scatter3d": [
           {
            "line": {
             "colorbar": {
              "outlinewidth": 0,
              "ticks": ""
             }
            },
            "marker": {
             "colorbar": {
              "outlinewidth": 0,
              "ticks": ""
             }
            },
            "type": "scatter3d"
           }
          ],
          "scattercarpet": [
           {
            "marker": {
             "colorbar": {
              "outlinewidth": 0,
              "ticks": ""
             }
            },
            "type": "scattercarpet"
           }
          ],
          "scattergeo": [
           {
            "marker": {
             "colorbar": {
              "outlinewidth": 0,
              "ticks": ""
             }
            },
            "type": "scattergeo"
           }
          ],
          "scattergl": [
           {
            "marker": {
             "colorbar": {
              "outlinewidth": 0,
              "ticks": ""
             }
            },
            "type": "scattergl"
           }
          ],
          "scattermapbox": [
           {
            "marker": {
             "colorbar": {
              "outlinewidth": 0,
              "ticks": ""
             }
            },
            "type": "scattermapbox"
           }
          ],
          "scatterpolar": [
           {
            "marker": {
             "colorbar": {
              "outlinewidth": 0,
              "ticks": ""
             }
            },
            "type": "scatterpolar"
           }
          ],
          "scatterpolargl": [
           {
            "marker": {
             "colorbar": {
              "outlinewidth": 0,
              "ticks": ""
             }
            },
            "type": "scatterpolargl"
           }
          ],
          "scatterternary": [
           {
            "marker": {
             "colorbar": {
              "outlinewidth": 0,
              "ticks": ""
             }
            },
            "type": "scatterternary"
           }
          ],
          "surface": [
           {
            "colorbar": {
             "outlinewidth": 0,
             "ticks": ""
            },
            "colorscale": [
             [
              0,
              "#0d0887"
             ],
             [
              0.1111111111111111,
              "#46039f"
             ],
             [
              0.2222222222222222,
              "#7201a8"
             ],
             [
              0.3333333333333333,
              "#9c179e"
             ],
             [
              0.4444444444444444,
              "#bd3786"
             ],
             [
              0.5555555555555556,
              "#d8576b"
             ],
             [
              0.6666666666666666,
              "#ed7953"
             ],
             [
              0.7777777777777778,
              "#fb9f3a"
             ],
             [
              0.8888888888888888,
              "#fdca26"
             ],
             [
              1,
              "#f0f921"
             ]
            ],
            "type": "surface"
           }
          ],
          "table": [
           {
            "cells": {
             "fill": {
              "color": "#EBF0F8"
             },
             "line": {
              "color": "white"
             }
            },
            "header": {
             "fill": {
              "color": "#C8D4E3"
             },
             "line": {
              "color": "white"
             }
            },
            "type": "table"
           }
          ]
         },
         "layout": {
          "annotationdefaults": {
           "arrowcolor": "#2a3f5f",
           "arrowhead": 0,
           "arrowwidth": 1
          },
          "autotypenumbers": "strict",
          "coloraxis": {
           "colorbar": {
            "outlinewidth": 0,
            "ticks": ""
           }
          },
          "colorscale": {
           "diverging": [
            [
             0,
             "#8e0152"
            ],
            [
             0.1,
             "#c51b7d"
            ],
            [
             0.2,
             "#de77ae"
            ],
            [
             0.3,
             "#f1b6da"
            ],
            [
             0.4,
             "#fde0ef"
            ],
            [
             0.5,
             "#f7f7f7"
            ],
            [
             0.6,
             "#e6f5d0"
            ],
            [
             0.7,
             "#b8e186"
            ],
            [
             0.8,
             "#7fbc41"
            ],
            [
             0.9,
             "#4d9221"
            ],
            [
             1,
             "#276419"
            ]
           ],
           "sequential": [
            [
             0,
             "#0d0887"
            ],
            [
             0.1111111111111111,
             "#46039f"
            ],
            [
             0.2222222222222222,
             "#7201a8"
            ],
            [
             0.3333333333333333,
             "#9c179e"
            ],
            [
             0.4444444444444444,
             "#bd3786"
            ],
            [
             0.5555555555555556,
             "#d8576b"
            ],
            [
             0.6666666666666666,
             "#ed7953"
            ],
            [
             0.7777777777777778,
             "#fb9f3a"
            ],
            [
             0.8888888888888888,
             "#fdca26"
            ],
            [
             1,
             "#f0f921"
            ]
           ],
           "sequentialminus": [
            [
             0,
             "#0d0887"
            ],
            [
             0.1111111111111111,
             "#46039f"
            ],
            [
             0.2222222222222222,
             "#7201a8"
            ],
            [
             0.3333333333333333,
             "#9c179e"
            ],
            [
             0.4444444444444444,
             "#bd3786"
            ],
            [
             0.5555555555555556,
             "#d8576b"
            ],
            [
             0.6666666666666666,
             "#ed7953"
            ],
            [
             0.7777777777777778,
             "#fb9f3a"
            ],
            [
             0.8888888888888888,
             "#fdca26"
            ],
            [
             1,
             "#f0f921"
            ]
           ]
          },
          "colorway": [
           "#636efa",
           "#EF553B",
           "#00cc96",
           "#ab63fa",
           "#FFA15A",
           "#19d3f3",
           "#FF6692",
           "#B6E880",
           "#FF97FF",
           "#FECB52"
          ],
          "font": {
           "color": "#2a3f5f"
          },
          "geo": {
           "bgcolor": "white",
           "lakecolor": "white",
           "landcolor": "#E5ECF6",
           "showlakes": true,
           "showland": true,
           "subunitcolor": "white"
          },
          "hoverlabel": {
           "align": "left"
          },
          "hovermode": "closest",
          "mapbox": {
           "style": "light"
          },
          "paper_bgcolor": "white",
          "plot_bgcolor": "#E5ECF6",
          "polar": {
           "angularaxis": {
            "gridcolor": "white",
            "linecolor": "white",
            "ticks": ""
           },
           "bgcolor": "#E5ECF6",
           "radialaxis": {
            "gridcolor": "white",
            "linecolor": "white",
            "ticks": ""
           }
          },
          "scene": {
           "xaxis": {
            "backgroundcolor": "#E5ECF6",
            "gridcolor": "white",
            "gridwidth": 2,
            "linecolor": "white",
            "showbackground": true,
            "ticks": "",
            "zerolinecolor": "white"
           },
           "yaxis": {
            "backgroundcolor": "#E5ECF6",
            "gridcolor": "white",
            "gridwidth": 2,
            "linecolor": "white",
            "showbackground": true,
            "ticks": "",
            "zerolinecolor": "white"
           },
           "zaxis": {
            "backgroundcolor": "#E5ECF6",
            "gridcolor": "white",
            "gridwidth": 2,
            "linecolor": "white",
            "showbackground": true,
            "ticks": "",
            "zerolinecolor": "white"
           }
          },
          "shapedefaults": {
           "line": {
            "color": "#2a3f5f"
           }
          },
          "ternary": {
           "aaxis": {
            "gridcolor": "white",
            "linecolor": "white",
            "ticks": ""
           },
           "baxis": {
            "gridcolor": "white",
            "linecolor": "white",
            "ticks": ""
           },
           "bgcolor": "#E5ECF6",
           "caxis": {
            "gridcolor": "white",
            "linecolor": "white",
            "ticks": ""
           }
          },
          "title": {
           "x": 0.05
          },
          "xaxis": {
           "automargin": true,
           "gridcolor": "white",
           "linecolor": "white",
           "ticks": "",
           "title": {
            "standoff": 15
           },
           "zerolinecolor": "white",
           "zerolinewidth": 2
          },
          "yaxis": {
           "automargin": true,
           "gridcolor": "white",
           "linecolor": "white",
           "ticks": "",
           "title": {
            "standoff": 15
           },
           "zerolinecolor": "white",
           "zerolinewidth": 2
          }
         }
        }
       }
      }
     },
     "metadata": {},
     "output_type": "display_data"
    }
   ],
   "source": [
    "fig = go.Figure()\n",
    "\n",
    "fig.add_trace(go.Scatter(x=dados_anos['year'], y=dados_anos['acousticness'], name='Acousticness'))\n",
    "\n",
    "fig.add_trace(go.Scatter(x=dados_anos['year'], y=dados_anos['valence'], name='Valence'))\n",
    "\n",
    "fig.add_trace(go.Scatter(x=dados_anos['year'], y=dados_anos['danceability'], name='Danceability'))\n",
    "\n",
    "fig.add_trace(go.Scatter(x=dados_anos['year'], y=dados_anos['energy'], name='Energy'))\n",
    "\n",
    "fig.add_trace(go.Scatter(x=dados_anos['year'], y=dados_anos['instrumentalness'], name='Instrumentalness'))\n",
    "\n",
    "fig.add_trace(go.Scatter(x=dados_anos['year'], y=dados_anos['liveness'], name='Liveness'))\n",
    "\n",
    "fig.add_trace(go.Scatter(x=dados_anos['year'], y=dados_anos['speechiness'], name='speechiness'))\n",
    "\n",
    "\n",
    "fig.show()"
   ]
  },
  {
   "cell_type": "code",
   "execution_count": 127,
   "metadata": {},
   "outputs": [
    {
     "data": {
      "application/vnd.plotly.v1+json": {
       "config": {
        "plotlyServerURL": "https://plot.ly"
       },
       "data": [
        {
         "coloraxis": "coloraxis",
         "hovertemplate": "x: %{x}<br>y: %{y}<br>color: %{z}<extra></extra>",
         "name": "0",
         "texttemplate": "%{z}",
         "type": "heatmap",
         "x": [
          "valence",
          "year",
          "acousticness",
          "danceability",
          "duration_ms",
          "energy",
          "instrumentalness",
          "liveness",
          "loudness",
          "popularity",
          "speechiness",
          "tempo"
         ],
         "xaxis": "x",
         "y": [
          "valence",
          "year",
          "acousticness",
          "danceability",
          "duration_ms",
          "energy",
          "instrumentalness",
          "liveness",
          "loudness",
          "popularity",
          "speechiness",
          "tempo"
         ],
         "yaxis": "y",
         "z": [
          [
           1,
           -0.11152818996552269,
           -0.17906507578880113,
           0.4706016928505381,
           -0.19255117869290994,
           0.35029199798428345,
           -0.2557841048653347,
           0.02221366049722543,
           0.3378977669900986,
           -0.02666406634639214,
           0.08252614933102408,
           0.07315334866798318
          ],
          [
           -0.11152818996552269,
           1,
           -0.011224012558530316,
           0.17440028973064198,
           -0.14627395555186518,
           -0.06995658525945365,
           -0.13203456252176587,
           -0.04295002368784964,
           0.052483197651396335,
           0.5520537744643068,
           0.12405143773766447,
           0.02311722172289499
          ],
          [
           -0.17906507578880113,
           -0.011224012558530316,
           1,
           -0.1758942916516538,
           -0.05596681465486787,
           -0.7091107964699702,
           0.29973973152822125,
           -0.09844289738151028,
           -0.6036127005064934,
           -0.03187901141421101,
           -0.12082482277726948,
           -0.15474122793050457
          ],
          [
           0.4706016928505381,
           0.17440028973064198,
           -0.1758942916516538,
           1,
           -0.15971497774585897,
           0.08735820678113757,
           -0.3142998559030547,
           -0.0696597044523255,
           0.2679343205070181,
           0.1809607849711362,
           0.2267015756782655,
           -0.09486499562608043
          ],
          [
           -0.19255117869290994,
           -0.14627395555186518,
           -0.05596681465486787,
           -0.15971497774585897,
           1,
           0.014565108670534132,
           0.07164598789913075,
           0.052743206410793615,
           -0.017003038059048684,
           -0.10932110003241752,
           -0.02851359221465405,
           -0.028602148844984
          ],
          [
           0.35029199798428345,
           -0.06995658525945365,
           -0.7091107964699702,
           0.08735820678113757,
           0.014565108670534132,
           1,
           -0.3164682501295295,
           0.17387777376175623,
           0.7595724242928918,
           -0.028459539491050623,
           0.11401773090551177,
           0.1916455676981815
          ],
          [
           -0.2557841048653347,
           -0.13203456252176587,
           0.29973973152822125,
           -0.3142998559030547,
           0.07164598789913075,
           -0.3164682501295295,
           1,
           -0.06234712806061889,
           -0.5588938236531733,
           -0.12504620012490858,
           -0.1371187140191706,
           -0.09444020881622293
          ],
          [
           0.02221366049722543,
           -0.04295002368784964,
           -0.09844289738151028,
           -0.0696597044523255,
           0.052743206410793615,
           0.17387777376175623,
           -0.06234712806061889,
           1,
           0.09144172661855732,
           -0.06860593075406679,
           0.11955070410710385,
           0.014857567069808593
          ],
          [
           0.3378977669900986,
           0.052483197651396335,
           -0.6036127005064934,
           0.2679343205070181,
           -0.017003038059048684,
           0.7595724242928918,
           -0.5588938236531733,
           0.09144172661855732,
           1,
           0.09292468076617552,
           0.07902873344113712,
           0.18045939002871472
          ],
          [
           -0.02666406634639214,
           0.5520537744643068,
           -0.03187901141421101,
           0.1809607849711362,
           -0.10932110003241752,
           -0.028459539491050623,
           -0.12504620012490858,
           -0.06860593075406679,
           0.09292468076617552,
           1,
           0.057125553208252515,
           -0.00033755419876421543
          ],
          [
           0.08252614933102408,
           0.12405143773766447,
           -0.12082482277726948,
           0.2267015756782655,
           -0.02851359221465405,
           0.11401773090551177,
           -0.1371187140191706,
           0.11955070410710385,
           0.07902873344113712,
           0.057125553208252515,
           1,
           0.04062153175888837
          ],
          [
           0.07315334866798318,
           0.02311722172289499,
           -0.15474122793050457,
           -0.09486499562608043,
           -0.028602148844984,
           0.1916455676981815,
           -0.09444020881622293,
           0.014857567069808593,
           0.18045939002871472,
           -0.00033755419876421543,
           0.04062153175888837,
           1
          ]
         ]
        }
       ],
       "layout": {
        "coloraxis": {
         "colorscale": [
          [
           0,
           "#0d0887"
          ],
          [
           0.1111111111111111,
           "#46039f"
          ],
          [
           0.2222222222222222,
           "#7201a8"
          ],
          [
           0.3333333333333333,
           "#9c179e"
          ],
          [
           0.4444444444444444,
           "#bd3786"
          ],
          [
           0.5555555555555556,
           "#d8576b"
          ],
          [
           0.6666666666666666,
           "#ed7953"
          ],
          [
           0.7777777777777778,
           "#fb9f3a"
          ],
          [
           0.8888888888888888,
           "#fdca26"
          ],
          [
           1,
           "#f0f921"
          ]
         ]
        },
        "margin": {
         "t": 60
        },
        "template": {
         "data": {
          "bar": [
           {
            "error_x": {
             "color": "#2a3f5f"
            },
            "error_y": {
             "color": "#2a3f5f"
            },
            "marker": {
             "line": {
              "color": "#E5ECF6",
              "width": 0.5
             },
             "pattern": {
              "fillmode": "overlay",
              "size": 10,
              "solidity": 0.2
             }
            },
            "type": "bar"
           }
          ],
          "barpolar": [
           {
            "marker": {
             "line": {
              "color": "#E5ECF6",
              "width": 0.5
             },
             "pattern": {
              "fillmode": "overlay",
              "size": 10,
              "solidity": 0.2
             }
            },
            "type": "barpolar"
           }
          ],
          "carpet": [
           {
            "aaxis": {
             "endlinecolor": "#2a3f5f",
             "gridcolor": "white",
             "linecolor": "white",
             "minorgridcolor": "white",
             "startlinecolor": "#2a3f5f"
            },
            "baxis": {
             "endlinecolor": "#2a3f5f",
             "gridcolor": "white",
             "linecolor": "white",
             "minorgridcolor": "white",
             "startlinecolor": "#2a3f5f"
            },
            "type": "carpet"
           }
          ],
          "choropleth": [
           {
            "colorbar": {
             "outlinewidth": 0,
             "ticks": ""
            },
            "type": "choropleth"
           }
          ],
          "contour": [
           {
            "colorbar": {
             "outlinewidth": 0,
             "ticks": ""
            },
            "colorscale": [
             [
              0,
              "#0d0887"
             ],
             [
              0.1111111111111111,
              "#46039f"
             ],
             [
              0.2222222222222222,
              "#7201a8"
             ],
             [
              0.3333333333333333,
              "#9c179e"
             ],
             [
              0.4444444444444444,
              "#bd3786"
             ],
             [
              0.5555555555555556,
              "#d8576b"
             ],
             [
              0.6666666666666666,
              "#ed7953"
             ],
             [
              0.7777777777777778,
              "#fb9f3a"
             ],
             [
              0.8888888888888888,
              "#fdca26"
             ],
             [
              1,
              "#f0f921"
             ]
            ],
            "type": "contour"
           }
          ],
          "contourcarpet": [
           {
            "colorbar": {
             "outlinewidth": 0,
             "ticks": ""
            },
            "type": "contourcarpet"
           }
          ],
          "heatmap": [
           {
            "colorbar": {
             "outlinewidth": 0,
             "ticks": ""
            },
            "colorscale": [
             [
              0,
              "#0d0887"
             ],
             [
              0.1111111111111111,
              "#46039f"
             ],
             [
              0.2222222222222222,
              "#7201a8"
             ],
             [
              0.3333333333333333,
              "#9c179e"
             ],
             [
              0.4444444444444444,
              "#bd3786"
             ],
             [
              0.5555555555555556,
              "#d8576b"
             ],
             [
              0.6666666666666666,
              "#ed7953"
             ],
             [
              0.7777777777777778,
              "#fb9f3a"
             ],
             [
              0.8888888888888888,
              "#fdca26"
             ],
             [
              1,
              "#f0f921"
             ]
            ],
            "type": "heatmap"
           }
          ],
          "heatmapgl": [
           {
            "colorbar": {
             "outlinewidth": 0,
             "ticks": ""
            },
            "colorscale": [
             [
              0,
              "#0d0887"
             ],
             [
              0.1111111111111111,
              "#46039f"
             ],
             [
              0.2222222222222222,
              "#7201a8"
             ],
             [
              0.3333333333333333,
              "#9c179e"
             ],
             [
              0.4444444444444444,
              "#bd3786"
             ],
             [
              0.5555555555555556,
              "#d8576b"
             ],
             [
              0.6666666666666666,
              "#ed7953"
             ],
             [
              0.7777777777777778,
              "#fb9f3a"
             ],
             [
              0.8888888888888888,
              "#fdca26"
             ],
             [
              1,
              "#f0f921"
             ]
            ],
            "type": "heatmapgl"
           }
          ],
          "histogram": [
           {
            "marker": {
             "pattern": {
              "fillmode": "overlay",
              "size": 10,
              "solidity": 0.2
             }
            },
            "type": "histogram"
           }
          ],
          "histogram2d": [
           {
            "colorbar": {
             "outlinewidth": 0,
             "ticks": ""
            },
            "colorscale": [
             [
              0,
              "#0d0887"
             ],
             [
              0.1111111111111111,
              "#46039f"
             ],
             [
              0.2222222222222222,
              "#7201a8"
             ],
             [
              0.3333333333333333,
              "#9c179e"
             ],
             [
              0.4444444444444444,
              "#bd3786"
             ],
             [
              0.5555555555555556,
              "#d8576b"
             ],
             [
              0.6666666666666666,
              "#ed7953"
             ],
             [
              0.7777777777777778,
              "#fb9f3a"
             ],
             [
              0.8888888888888888,
              "#fdca26"
             ],
             [
              1,
              "#f0f921"
             ]
            ],
            "type": "histogram2d"
           }
          ],
          "histogram2dcontour": [
           {
            "colorbar": {
             "outlinewidth": 0,
             "ticks": ""
            },
            "colorscale": [
             [
              0,
              "#0d0887"
             ],
             [
              0.1111111111111111,
              "#46039f"
             ],
             [
              0.2222222222222222,
              "#7201a8"
             ],
             [
              0.3333333333333333,
              "#9c179e"
             ],
             [
              0.4444444444444444,
              "#bd3786"
             ],
             [
              0.5555555555555556,
              "#d8576b"
             ],
             [
              0.6666666666666666,
              "#ed7953"
             ],
             [
              0.7777777777777778,
              "#fb9f3a"
             ],
             [
              0.8888888888888888,
              "#fdca26"
             ],
             [
              1,
              "#f0f921"
             ]
            ],
            "type": "histogram2dcontour"
           }
          ],
          "mesh3d": [
           {
            "colorbar": {
             "outlinewidth": 0,
             "ticks": ""
            },
            "type": "mesh3d"
           }
          ],
          "parcoords": [
           {
            "line": {
             "colorbar": {
              "outlinewidth": 0,
              "ticks": ""
             }
            },
            "type": "parcoords"
           }
          ],
          "pie": [
           {
            "automargin": true,
            "type": "pie"
           }
          ],
          "scatter": [
           {
            "fillpattern": {
             "fillmode": "overlay",
             "size": 10,
             "solidity": 0.2
            },
            "type": "scatter"
           }
          ],
          "scatter3d": [
           {
            "line": {
             "colorbar": {
              "outlinewidth": 0,
              "ticks": ""
             }
            },
            "marker": {
             "colorbar": {
              "outlinewidth": 0,
              "ticks": ""
             }
            },
            "type": "scatter3d"
           }
          ],
          "scattercarpet": [
           {
            "marker": {
             "colorbar": {
              "outlinewidth": 0,
              "ticks": ""
             }
            },
            "type": "scattercarpet"
           }
          ],
          "scattergeo": [
           {
            "marker": {
             "colorbar": {
              "outlinewidth": 0,
              "ticks": ""
             }
            },
            "type": "scattergeo"
           }
          ],
          "scattergl": [
           {
            "marker": {
             "colorbar": {
              "outlinewidth": 0,
              "ticks": ""
             }
            },
            "type": "scattergl"
           }
          ],
          "scattermapbox": [
           {
            "marker": {
             "colorbar": {
              "outlinewidth": 0,
              "ticks": ""
             }
            },
            "type": "scattermapbox"
           }
          ],
          "scatterpolar": [
           {
            "marker": {
             "colorbar": {
              "outlinewidth": 0,
              "ticks": ""
             }
            },
            "type": "scatterpolar"
           }
          ],
          "scatterpolargl": [
           {
            "marker": {
             "colorbar": {
              "outlinewidth": 0,
              "ticks": ""
             }
            },
            "type": "scatterpolargl"
           }
          ],
          "scatterternary": [
           {
            "marker": {
             "colorbar": {
              "outlinewidth": 0,
              "ticks": ""
             }
            },
            "type": "scatterternary"
           }
          ],
          "surface": [
           {
            "colorbar": {
             "outlinewidth": 0,
             "ticks": ""
            },
            "colorscale": [
             [
              0,
              "#0d0887"
             ],
             [
              0.1111111111111111,
              "#46039f"
             ],
             [
              0.2222222222222222,
              "#7201a8"
             ],
             [
              0.3333333333333333,
              "#9c179e"
             ],
             [
              0.4444444444444444,
              "#bd3786"
             ],
             [
              0.5555555555555556,
              "#d8576b"
             ],
             [
              0.6666666666666666,
              "#ed7953"
             ],
             [
              0.7777777777777778,
              "#fb9f3a"
             ],
             [
              0.8888888888888888,
              "#fdca26"
             ],
             [
              1,
              "#f0f921"
             ]
            ],
            "type": "surface"
           }
          ],
          "table": [
           {
            "cells": {
             "fill": {
              "color": "#EBF0F8"
             },
             "line": {
              "color": "white"
             }
            },
            "header": {
             "fill": {
              "color": "#C8D4E3"
             },
             "line": {
              "color": "white"
             }
            },
            "type": "table"
           }
          ]
         },
         "layout": {
          "annotationdefaults": {
           "arrowcolor": "#2a3f5f",
           "arrowhead": 0,
           "arrowwidth": 1
          },
          "autotypenumbers": "strict",
          "coloraxis": {
           "colorbar": {
            "outlinewidth": 0,
            "ticks": ""
           }
          },
          "colorscale": {
           "diverging": [
            [
             0,
             "#8e0152"
            ],
            [
             0.1,
             "#c51b7d"
            ],
            [
             0.2,
             "#de77ae"
            ],
            [
             0.3,
             "#f1b6da"
            ],
            [
             0.4,
             "#fde0ef"
            ],
            [
             0.5,
             "#f7f7f7"
            ],
            [
             0.6,
             "#e6f5d0"
            ],
            [
             0.7,
             "#b8e186"
            ],
            [
             0.8,
             "#7fbc41"
            ],
            [
             0.9,
             "#4d9221"
            ],
            [
             1,
             "#276419"
            ]
           ],
           "sequential": [
            [
             0,
             "#0d0887"
            ],
            [
             0.1111111111111111,
             "#46039f"
            ],
            [
             0.2222222222222222,
             "#7201a8"
            ],
            [
             0.3333333333333333,
             "#9c179e"
            ],
            [
             0.4444444444444444,
             "#bd3786"
            ],
            [
             0.5555555555555556,
             "#d8576b"
            ],
            [
             0.6666666666666666,
             "#ed7953"
            ],
            [
             0.7777777777777778,
             "#fb9f3a"
            ],
            [
             0.8888888888888888,
             "#fdca26"
            ],
            [
             1,
             "#f0f921"
            ]
           ],
           "sequentialminus": [
            [
             0,
             "#0d0887"
            ],
            [
             0.1111111111111111,
             "#46039f"
            ],
            [
             0.2222222222222222,
             "#7201a8"
            ],
            [
             0.3333333333333333,
             "#9c179e"
            ],
            [
             0.4444444444444444,
             "#bd3786"
            ],
            [
             0.5555555555555556,
             "#d8576b"
            ],
            [
             0.6666666666666666,
             "#ed7953"
            ],
            [
             0.7777777777777778,
             "#fb9f3a"
            ],
            [
             0.8888888888888888,
             "#fdca26"
            ],
            [
             1,
             "#f0f921"
            ]
           ]
          },
          "colorway": [
           "#636efa",
           "#EF553B",
           "#00cc96",
           "#ab63fa",
           "#FFA15A",
           "#19d3f3",
           "#FF6692",
           "#B6E880",
           "#FF97FF",
           "#FECB52"
          ],
          "font": {
           "color": "#2a3f5f"
          },
          "geo": {
           "bgcolor": "white",
           "lakecolor": "white",
           "landcolor": "#E5ECF6",
           "showlakes": true,
           "showland": true,
           "subunitcolor": "white"
          },
          "hoverlabel": {
           "align": "left"
          },
          "hovermode": "closest",
          "mapbox": {
           "style": "light"
          },
          "paper_bgcolor": "white",
          "plot_bgcolor": "#E5ECF6",
          "polar": {
           "angularaxis": {
            "gridcolor": "white",
            "linecolor": "white",
            "ticks": ""
           },
           "bgcolor": "#E5ECF6",
           "radialaxis": {
            "gridcolor": "white",
            "linecolor": "white",
            "ticks": ""
           }
          },
          "scene": {
           "xaxis": {
            "backgroundcolor": "#E5ECF6",
            "gridcolor": "white",
            "gridwidth": 2,
            "linecolor": "white",
            "showbackground": true,
            "ticks": "",
            "zerolinecolor": "white"
           },
           "yaxis": {
            "backgroundcolor": "#E5ECF6",
            "gridcolor": "white",
            "gridwidth": 2,
            "linecolor": "white",
            "showbackground": true,
            "ticks": "",
            "zerolinecolor": "white"
           },
           "zaxis": {
            "backgroundcolor": "#E5ECF6",
            "gridcolor": "white",
            "gridwidth": 2,
            "linecolor": "white",
            "showbackground": true,
            "ticks": "",
            "zerolinecolor": "white"
           }
          },
          "shapedefaults": {
           "line": {
            "color": "#2a3f5f"
           }
          },
          "ternary": {
           "aaxis": {
            "gridcolor": "white",
            "linecolor": "white",
            "ticks": ""
           },
           "baxis": {
            "gridcolor": "white",
            "linecolor": "white",
            "ticks": ""
           },
           "bgcolor": "#E5ECF6",
           "caxis": {
            "gridcolor": "white",
            "linecolor": "white",
            "ticks": ""
           }
          },
          "title": {
           "x": 0.05
          },
          "xaxis": {
           "automargin": true,
           "gridcolor": "white",
           "linecolor": "white",
           "ticks": "",
           "title": {
            "standoff": 15
           },
           "zerolinecolor": "white",
           "zerolinewidth": 2
          },
          "yaxis": {
           "automargin": true,
           "gridcolor": "white",
           "linecolor": "white",
           "ticks": "",
           "title": {
            "standoff": 15
           },
           "zerolinecolor": "white",
           "zerolinewidth": 2
          }
         }
        },
        "xaxis": {
         "anchor": "y",
         "constrain": "domain",
         "domain": [
          0,
          1
         ],
         "scaleanchor": "y"
        },
        "yaxis": {
         "anchor": "x",
         "autorange": "reversed",
         "constrain": "domain",
         "domain": [
          0,
          1
         ]
        }
       }
      }
     },
     "metadata": {},
     "output_type": "display_data"
    }
   ],
   "source": [
    "fig = px.imshow(dados.corr(numeric_only = True), text_auto=True)\n",
    "fig.show()"
   ]
  },
  {
   "cell_type": "code",
   "execution_count": 128,
   "metadata": {},
   "outputs": [
    {
     "data": {
      "text/html": [
       "<div>\n",
       "<style scoped>\n",
       "    .dataframe tbody tr th:only-of-type {\n",
       "        vertical-align: middle;\n",
       "    }\n",
       "\n",
       "    .dataframe tbody tr th {\n",
       "        vertical-align: top;\n",
       "    }\n",
       "\n",
       "    .dataframe thead th {\n",
       "        text-align: right;\n",
       "    }\n",
       "</style>\n",
       "<table border=\"1\" class=\"dataframe\">\n",
       "  <thead>\n",
       "    <tr style=\"text-align: right;\">\n",
       "      <th></th>\n",
       "      <th>genres</th>\n",
       "      <th>acousticness</th>\n",
       "      <th>danceability</th>\n",
       "      <th>duration_ms</th>\n",
       "      <th>energy</th>\n",
       "      <th>instrumentalness</th>\n",
       "      <th>liveness</th>\n",
       "      <th>loudness</th>\n",
       "      <th>speechiness</th>\n",
       "      <th>tempo</th>\n",
       "      <th>valence</th>\n",
       "      <th>popularity</th>\n",
       "    </tr>\n",
       "  </thead>\n",
       "  <tbody>\n",
       "    <tr>\n",
       "      <th>0</th>\n",
       "      <td>21st century classical</td>\n",
       "      <td>0.979333</td>\n",
       "      <td>0.162883</td>\n",
       "      <td>1.602977e+05</td>\n",
       "      <td>0.071317</td>\n",
       "      <td>0.606834</td>\n",
       "      <td>0.361600</td>\n",
       "      <td>-31.514333</td>\n",
       "      <td>0.040567</td>\n",
       "      <td>75.336500</td>\n",
       "      <td>0.103783</td>\n",
       "      <td>27.833333</td>\n",
       "    </tr>\n",
       "    <tr>\n",
       "      <th>1</th>\n",
       "      <td>432hz</td>\n",
       "      <td>0.494780</td>\n",
       "      <td>0.299333</td>\n",
       "      <td>1.048887e+06</td>\n",
       "      <td>0.450678</td>\n",
       "      <td>0.477762</td>\n",
       "      <td>0.131000</td>\n",
       "      <td>-16.854000</td>\n",
       "      <td>0.076817</td>\n",
       "      <td>120.285667</td>\n",
       "      <td>0.221750</td>\n",
       "      <td>52.500000</td>\n",
       "    </tr>\n",
       "    <tr>\n",
       "      <th>2</th>\n",
       "      <td>8-bit</td>\n",
       "      <td>0.762000</td>\n",
       "      <td>0.712000</td>\n",
       "      <td>1.151770e+05</td>\n",
       "      <td>0.818000</td>\n",
       "      <td>0.876000</td>\n",
       "      <td>0.126000</td>\n",
       "      <td>-9.180000</td>\n",
       "      <td>0.047000</td>\n",
       "      <td>133.444000</td>\n",
       "      <td>0.975000</td>\n",
       "      <td>48.000000</td>\n",
       "    </tr>\n",
       "    <tr>\n",
       "      <th>3</th>\n",
       "      <td>[]</td>\n",
       "      <td>0.651417</td>\n",
       "      <td>0.529093</td>\n",
       "      <td>2.328809e+05</td>\n",
       "      <td>0.419146</td>\n",
       "      <td>0.205309</td>\n",
       "      <td>0.218696</td>\n",
       "      <td>-12.288965</td>\n",
       "      <td>0.107872</td>\n",
       "      <td>112.857352</td>\n",
       "      <td>0.513604</td>\n",
       "      <td>20.859882</td>\n",
       "    </tr>\n",
       "    <tr>\n",
       "      <th>4</th>\n",
       "      <td>a cappella</td>\n",
       "      <td>0.676557</td>\n",
       "      <td>0.538961</td>\n",
       "      <td>1.906285e+05</td>\n",
       "      <td>0.316434</td>\n",
       "      <td>0.003003</td>\n",
       "      <td>0.172254</td>\n",
       "      <td>-12.479387</td>\n",
       "      <td>0.082851</td>\n",
       "      <td>112.110362</td>\n",
       "      <td>0.448249</td>\n",
       "      <td>45.820071</td>\n",
       "    </tr>\n",
       "    <tr>\n",
       "      <th>...</th>\n",
       "      <td>...</td>\n",
       "      <td>...</td>\n",
       "      <td>...</td>\n",
       "      <td>...</td>\n",
       "      <td>...</td>\n",
       "      <td>...</td>\n",
       "      <td>...</td>\n",
       "      <td>...</td>\n",
       "      <td>...</td>\n",
       "      <td>...</td>\n",
       "      <td>...</td>\n",
       "      <td>...</td>\n",
       "    </tr>\n",
       "    <tr>\n",
       "      <th>2968</th>\n",
       "      <td>zolo</td>\n",
       "      <td>0.222625</td>\n",
       "      <td>0.547082</td>\n",
       "      <td>2.580991e+05</td>\n",
       "      <td>0.610240</td>\n",
       "      <td>0.143872</td>\n",
       "      <td>0.204206</td>\n",
       "      <td>-11.295878</td>\n",
       "      <td>0.061088</td>\n",
       "      <td>125.494919</td>\n",
       "      <td>0.596155</td>\n",
       "      <td>33.778943</td>\n",
       "    </tr>\n",
       "    <tr>\n",
       "      <th>2969</th>\n",
       "      <td>zouglou</td>\n",
       "      <td>0.161000</td>\n",
       "      <td>0.863000</td>\n",
       "      <td>2.063200e+05</td>\n",
       "      <td>0.909000</td>\n",
       "      <td>0.000000</td>\n",
       "      <td>0.108000</td>\n",
       "      <td>-5.985000</td>\n",
       "      <td>0.081300</td>\n",
       "      <td>119.038000</td>\n",
       "      <td>0.845000</td>\n",
       "      <td>58.000000</td>\n",
       "    </tr>\n",
       "    <tr>\n",
       "      <th>2970</th>\n",
       "      <td>zouk</td>\n",
       "      <td>0.263261</td>\n",
       "      <td>0.748889</td>\n",
       "      <td>3.060728e+05</td>\n",
       "      <td>0.622444</td>\n",
       "      <td>0.257227</td>\n",
       "      <td>0.089678</td>\n",
       "      <td>-10.289222</td>\n",
       "      <td>0.038778</td>\n",
       "      <td>101.965222</td>\n",
       "      <td>0.824111</td>\n",
       "      <td>46.666667</td>\n",
       "    </tr>\n",
       "    <tr>\n",
       "      <th>2971</th>\n",
       "      <td>zurich indie</td>\n",
       "      <td>0.993000</td>\n",
       "      <td>0.705667</td>\n",
       "      <td>1.984173e+05</td>\n",
       "      <td>0.172667</td>\n",
       "      <td>0.468633</td>\n",
       "      <td>0.179667</td>\n",
       "      <td>-11.453333</td>\n",
       "      <td>0.348667</td>\n",
       "      <td>91.278000</td>\n",
       "      <td>0.739000</td>\n",
       "      <td>0.000000</td>\n",
       "    </tr>\n",
       "    <tr>\n",
       "      <th>2972</th>\n",
       "      <td>zydeco</td>\n",
       "      <td>0.421038</td>\n",
       "      <td>0.629409</td>\n",
       "      <td>1.716717e+05</td>\n",
       "      <td>0.609369</td>\n",
       "      <td>0.019248</td>\n",
       "      <td>0.255877</td>\n",
       "      <td>-9.854825</td>\n",
       "      <td>0.050491</td>\n",
       "      <td>126.366087</td>\n",
       "      <td>0.808544</td>\n",
       "      <td>30.261905</td>\n",
       "    </tr>\n",
       "  </tbody>\n",
       "</table>\n",
       "<p>2973 rows × 12 columns</p>\n",
       "</div>"
      ],
      "text/plain": [
       "                      genres  acousticness  danceability   duration_ms  \\\n",
       "0     21st century classical      0.979333      0.162883  1.602977e+05   \n",
       "1                      432hz      0.494780      0.299333  1.048887e+06   \n",
       "2                      8-bit      0.762000      0.712000  1.151770e+05   \n",
       "3                         []      0.651417      0.529093  2.328809e+05   \n",
       "4                 a cappella      0.676557      0.538961  1.906285e+05   \n",
       "...                      ...           ...           ...           ...   \n",
       "2968                    zolo      0.222625      0.547082  2.580991e+05   \n",
       "2969                 zouglou      0.161000      0.863000  2.063200e+05   \n",
       "2970                    zouk      0.263261      0.748889  3.060728e+05   \n",
       "2971            zurich indie      0.993000      0.705667  1.984173e+05   \n",
       "2972                  zydeco      0.421038      0.629409  1.716717e+05   \n",
       "\n",
       "        energy  instrumentalness  liveness   loudness  speechiness  \\\n",
       "0     0.071317          0.606834  0.361600 -31.514333     0.040567   \n",
       "1     0.450678          0.477762  0.131000 -16.854000     0.076817   \n",
       "2     0.818000          0.876000  0.126000  -9.180000     0.047000   \n",
       "3     0.419146          0.205309  0.218696 -12.288965     0.107872   \n",
       "4     0.316434          0.003003  0.172254 -12.479387     0.082851   \n",
       "...        ...               ...       ...        ...          ...   \n",
       "2968  0.610240          0.143872  0.204206 -11.295878     0.061088   \n",
       "2969  0.909000          0.000000  0.108000  -5.985000     0.081300   \n",
       "2970  0.622444          0.257227  0.089678 -10.289222     0.038778   \n",
       "2971  0.172667          0.468633  0.179667 -11.453333     0.348667   \n",
       "2972  0.609369          0.019248  0.255877  -9.854825     0.050491   \n",
       "\n",
       "           tempo   valence  popularity  \n",
       "0      75.336500  0.103783   27.833333  \n",
       "1     120.285667  0.221750   52.500000  \n",
       "2     133.444000  0.975000   48.000000  \n",
       "3     112.857352  0.513604   20.859882  \n",
       "4     112.110362  0.448249   45.820071  \n",
       "...          ...       ...         ...  \n",
       "2968  125.494919  0.596155   33.778943  \n",
       "2969  119.038000  0.845000   58.000000  \n",
       "2970  101.965222  0.824111   46.666667  \n",
       "2971   91.278000  0.739000    0.000000  \n",
       "2972  126.366087  0.808544   30.261905  \n",
       "\n",
       "[2973 rows x 12 columns]"
      ]
     },
     "execution_count": 128,
     "metadata": {},
     "output_type": "execute_result"
    }
   ],
   "source": [
    "dados_generos"
   ]
  },
  {
   "cell_type": "code",
   "execution_count": 129,
   "metadata": {},
   "outputs": [
    {
     "data": {
      "text/plain": [
       "2973"
      ]
     },
     "execution_count": 129,
     "metadata": {},
     "output_type": "execute_result"
    }
   ],
   "source": [
    "dados_generos['genres'].value_counts().sum()"
   ]
  },
  {
   "cell_type": "code",
   "execution_count": 130,
   "metadata": {},
   "outputs": [
    {
     "data": {
      "text/html": [
       "<div>\n",
       "<style scoped>\n",
       "    .dataframe tbody tr th:only-of-type {\n",
       "        vertical-align: middle;\n",
       "    }\n",
       "\n",
       "    .dataframe tbody tr th {\n",
       "        vertical-align: top;\n",
       "    }\n",
       "\n",
       "    .dataframe thead th {\n",
       "        text-align: right;\n",
       "    }\n",
       "</style>\n",
       "<table border=\"1\" class=\"dataframe\">\n",
       "  <thead>\n",
       "    <tr style=\"text-align: right;\">\n",
       "      <th></th>\n",
       "      <th>acousticness</th>\n",
       "      <th>danceability</th>\n",
       "      <th>duration_ms</th>\n",
       "      <th>energy</th>\n",
       "      <th>instrumentalness</th>\n",
       "      <th>liveness</th>\n",
       "      <th>loudness</th>\n",
       "      <th>speechiness</th>\n",
       "      <th>tempo</th>\n",
       "      <th>valence</th>\n",
       "      <th>popularity</th>\n",
       "    </tr>\n",
       "  </thead>\n",
       "  <tbody>\n",
       "    <tr>\n",
       "      <th>0</th>\n",
       "      <td>0.979333</td>\n",
       "      <td>0.162883</td>\n",
       "      <td>1.602977e+05</td>\n",
       "      <td>0.071317</td>\n",
       "      <td>0.606834</td>\n",
       "      <td>0.361600</td>\n",
       "      <td>-31.514333</td>\n",
       "      <td>0.040567</td>\n",
       "      <td>75.336500</td>\n",
       "      <td>0.103783</td>\n",
       "      <td>27.833333</td>\n",
       "    </tr>\n",
       "    <tr>\n",
       "      <th>1</th>\n",
       "      <td>0.494780</td>\n",
       "      <td>0.299333</td>\n",
       "      <td>1.048887e+06</td>\n",
       "      <td>0.450678</td>\n",
       "      <td>0.477762</td>\n",
       "      <td>0.131000</td>\n",
       "      <td>-16.854000</td>\n",
       "      <td>0.076817</td>\n",
       "      <td>120.285667</td>\n",
       "      <td>0.221750</td>\n",
       "      <td>52.500000</td>\n",
       "    </tr>\n",
       "    <tr>\n",
       "      <th>2</th>\n",
       "      <td>0.762000</td>\n",
       "      <td>0.712000</td>\n",
       "      <td>1.151770e+05</td>\n",
       "      <td>0.818000</td>\n",
       "      <td>0.876000</td>\n",
       "      <td>0.126000</td>\n",
       "      <td>-9.180000</td>\n",
       "      <td>0.047000</td>\n",
       "      <td>133.444000</td>\n",
       "      <td>0.975000</td>\n",
       "      <td>48.000000</td>\n",
       "    </tr>\n",
       "    <tr>\n",
       "      <th>3</th>\n",
       "      <td>0.651417</td>\n",
       "      <td>0.529093</td>\n",
       "      <td>2.328809e+05</td>\n",
       "      <td>0.419146</td>\n",
       "      <td>0.205309</td>\n",
       "      <td>0.218696</td>\n",
       "      <td>-12.288965</td>\n",
       "      <td>0.107872</td>\n",
       "      <td>112.857352</td>\n",
       "      <td>0.513604</td>\n",
       "      <td>20.859882</td>\n",
       "    </tr>\n",
       "    <tr>\n",
       "      <th>4</th>\n",
       "      <td>0.676557</td>\n",
       "      <td>0.538961</td>\n",
       "      <td>1.906285e+05</td>\n",
       "      <td>0.316434</td>\n",
       "      <td>0.003003</td>\n",
       "      <td>0.172254</td>\n",
       "      <td>-12.479387</td>\n",
       "      <td>0.082851</td>\n",
       "      <td>112.110362</td>\n",
       "      <td>0.448249</td>\n",
       "      <td>45.820071</td>\n",
       "    </tr>\n",
       "    <tr>\n",
       "      <th>...</th>\n",
       "      <td>...</td>\n",
       "      <td>...</td>\n",
       "      <td>...</td>\n",
       "      <td>...</td>\n",
       "      <td>...</td>\n",
       "      <td>...</td>\n",
       "      <td>...</td>\n",
       "      <td>...</td>\n",
       "      <td>...</td>\n",
       "      <td>...</td>\n",
       "      <td>...</td>\n",
       "    </tr>\n",
       "    <tr>\n",
       "      <th>2968</th>\n",
       "      <td>0.222625</td>\n",
       "      <td>0.547082</td>\n",
       "      <td>2.580991e+05</td>\n",
       "      <td>0.610240</td>\n",
       "      <td>0.143872</td>\n",
       "      <td>0.204206</td>\n",
       "      <td>-11.295878</td>\n",
       "      <td>0.061088</td>\n",
       "      <td>125.494919</td>\n",
       "      <td>0.596155</td>\n",
       "      <td>33.778943</td>\n",
       "    </tr>\n",
       "    <tr>\n",
       "      <th>2969</th>\n",
       "      <td>0.161000</td>\n",
       "      <td>0.863000</td>\n",
       "      <td>2.063200e+05</td>\n",
       "      <td>0.909000</td>\n",
       "      <td>0.000000</td>\n",
       "      <td>0.108000</td>\n",
       "      <td>-5.985000</td>\n",
       "      <td>0.081300</td>\n",
       "      <td>119.038000</td>\n",
       "      <td>0.845000</td>\n",
       "      <td>58.000000</td>\n",
       "    </tr>\n",
       "    <tr>\n",
       "      <th>2970</th>\n",
       "      <td>0.263261</td>\n",
       "      <td>0.748889</td>\n",
       "      <td>3.060728e+05</td>\n",
       "      <td>0.622444</td>\n",
       "      <td>0.257227</td>\n",
       "      <td>0.089678</td>\n",
       "      <td>-10.289222</td>\n",
       "      <td>0.038778</td>\n",
       "      <td>101.965222</td>\n",
       "      <td>0.824111</td>\n",
       "      <td>46.666667</td>\n",
       "    </tr>\n",
       "    <tr>\n",
       "      <th>2971</th>\n",
       "      <td>0.993000</td>\n",
       "      <td>0.705667</td>\n",
       "      <td>1.984173e+05</td>\n",
       "      <td>0.172667</td>\n",
       "      <td>0.468633</td>\n",
       "      <td>0.179667</td>\n",
       "      <td>-11.453333</td>\n",
       "      <td>0.348667</td>\n",
       "      <td>91.278000</td>\n",
       "      <td>0.739000</td>\n",
       "      <td>0.000000</td>\n",
       "    </tr>\n",
       "    <tr>\n",
       "      <th>2972</th>\n",
       "      <td>0.421038</td>\n",
       "      <td>0.629409</td>\n",
       "      <td>1.716717e+05</td>\n",
       "      <td>0.609369</td>\n",
       "      <td>0.019248</td>\n",
       "      <td>0.255877</td>\n",
       "      <td>-9.854825</td>\n",
       "      <td>0.050491</td>\n",
       "      <td>126.366087</td>\n",
       "      <td>0.808544</td>\n",
       "      <td>30.261905</td>\n",
       "    </tr>\n",
       "  </tbody>\n",
       "</table>\n",
       "<p>2973 rows × 11 columns</p>\n",
       "</div>"
      ],
      "text/plain": [
       "      acousticness  danceability   duration_ms    energy  instrumentalness  \\\n",
       "0         0.979333      0.162883  1.602977e+05  0.071317          0.606834   \n",
       "1         0.494780      0.299333  1.048887e+06  0.450678          0.477762   \n",
       "2         0.762000      0.712000  1.151770e+05  0.818000          0.876000   \n",
       "3         0.651417      0.529093  2.328809e+05  0.419146          0.205309   \n",
       "4         0.676557      0.538961  1.906285e+05  0.316434          0.003003   \n",
       "...            ...           ...           ...       ...               ...   \n",
       "2968      0.222625      0.547082  2.580991e+05  0.610240          0.143872   \n",
       "2969      0.161000      0.863000  2.063200e+05  0.909000          0.000000   \n",
       "2970      0.263261      0.748889  3.060728e+05  0.622444          0.257227   \n",
       "2971      0.993000      0.705667  1.984173e+05  0.172667          0.468633   \n",
       "2972      0.421038      0.629409  1.716717e+05  0.609369          0.019248   \n",
       "\n",
       "      liveness   loudness  speechiness       tempo   valence  popularity  \n",
       "0     0.361600 -31.514333     0.040567   75.336500  0.103783   27.833333  \n",
       "1     0.131000 -16.854000     0.076817  120.285667  0.221750   52.500000  \n",
       "2     0.126000  -9.180000     0.047000  133.444000  0.975000   48.000000  \n",
       "3     0.218696 -12.288965     0.107872  112.857352  0.513604   20.859882  \n",
       "4     0.172254 -12.479387     0.082851  112.110362  0.448249   45.820071  \n",
       "...        ...        ...          ...         ...       ...         ...  \n",
       "2968  0.204206 -11.295878     0.061088  125.494919  0.596155   33.778943  \n",
       "2969  0.108000  -5.985000     0.081300  119.038000  0.845000   58.000000  \n",
       "2970  0.089678 -10.289222     0.038778  101.965222  0.824111   46.666667  \n",
       "2971  0.179667 -11.453333     0.348667   91.278000  0.739000    0.000000  \n",
       "2972  0.255877  -9.854825     0.050491  126.366087  0.808544   30.261905  \n",
       "\n",
       "[2973 rows x 11 columns]"
      ]
     },
     "execution_count": 130,
     "metadata": {},
     "output_type": "execute_result"
    }
   ],
   "source": [
    "dados_generos1 = dados_generos.drop('genres', axis=1)\n",
    "dados_generos1"
   ]
  },
  {
   "cell_type": "code",
   "execution_count": 131,
   "metadata": {},
   "outputs": [],
   "source": [
    "from sklearn.pipeline import Pipeline\n",
    "from sklearn.preprocessing import StandardScaler\n",
    "from sklearn.decomposition import PCA\n"
   ]
  },
  {
   "cell_type": "code",
   "execution_count": 132,
   "metadata": {},
   "outputs": [],
   "source": [
    "SEED = 1224\n",
    "\n",
    "np.random.seed(1224)\n",
    "\n",
    "pca_pipeline = Pipeline(\n",
    "    [\n",
    "        ('scaler', StandardScaler()),\n",
    "        ('PCA', PCA(n_components=2, random_state=SEED)),\n",
    "    ]\n",
    ")"
   ]
  },
  {
   "cell_type": "code",
   "execution_count": 133,
   "metadata": {},
   "outputs": [],
   "source": [
    "genre_embedding_pca = pca_pipeline.fit_transform(dados_generos1)\n",
    "projection  = pd.DataFrame(columns=['x', 'y'], data=genre_embedding_pca)"
   ]
  },
  {
   "cell_type": "code",
   "execution_count": 134,
   "metadata": {},
   "outputs": [
    {
     "data": {
      "text/html": [
       "<div>\n",
       "<style scoped>\n",
       "    .dataframe tbody tr th:only-of-type {\n",
       "        vertical-align: middle;\n",
       "    }\n",
       "\n",
       "    .dataframe tbody tr th {\n",
       "        vertical-align: top;\n",
       "    }\n",
       "\n",
       "    .dataframe thead th {\n",
       "        text-align: right;\n",
       "    }\n",
       "</style>\n",
       "<table border=\"1\" class=\"dataframe\">\n",
       "  <thead>\n",
       "    <tr style=\"text-align: right;\">\n",
       "      <th></th>\n",
       "      <th>x</th>\n",
       "      <th>y</th>\n",
       "    </tr>\n",
       "  </thead>\n",
       "  <tbody>\n",
       "    <tr>\n",
       "      <th>0</th>\n",
       "      <td>5.910268</td>\n",
       "      <td>-0.011146</td>\n",
       "    </tr>\n",
       "    <tr>\n",
       "      <th>1</th>\n",
       "      <td>2.787093</td>\n",
       "      <td>4.498483</td>\n",
       "    </tr>\n",
       "    <tr>\n",
       "      <th>2</th>\n",
       "      <td>-0.757538</td>\n",
       "      <td>-1.258495</td>\n",
       "    </tr>\n",
       "    <tr>\n",
       "      <th>3</th>\n",
       "      <td>1.020521</td>\n",
       "      <td>-0.931690</td>\n",
       "    </tr>\n",
       "    <tr>\n",
       "      <th>4</th>\n",
       "      <td>0.753911</td>\n",
       "      <td>-0.999861</td>\n",
       "    </tr>\n",
       "    <tr>\n",
       "      <th>...</th>\n",
       "      <td>...</td>\n",
       "      <td>...</td>\n",
       "    </tr>\n",
       "    <tr>\n",
       "      <th>2968</th>\n",
       "      <td>-0.475136</td>\n",
       "      <td>-0.017126</td>\n",
       "    </tr>\n",
       "    <tr>\n",
       "      <th>2969</th>\n",
       "      <td>-3.026756</td>\n",
       "      <td>-1.304983</td>\n",
       "    </tr>\n",
       "    <tr>\n",
       "      <th>2970</th>\n",
       "      <td>-0.832511</td>\n",
       "      <td>-1.089726</td>\n",
       "    </tr>\n",
       "    <tr>\n",
       "      <th>2971</th>\n",
       "      <td>1.774790</td>\n",
       "      <td>-3.695233</td>\n",
       "    </tr>\n",
       "    <tr>\n",
       "      <th>2972</th>\n",
       "      <td>-1.028069</td>\n",
       "      <td>-1.390709</td>\n",
       "    </tr>\n",
       "  </tbody>\n",
       "</table>\n",
       "<p>2973 rows × 2 columns</p>\n",
       "</div>"
      ],
      "text/plain": [
       "             x         y\n",
       "0     5.910268 -0.011146\n",
       "1     2.787093  4.498483\n",
       "2    -0.757538 -1.258495\n",
       "3     1.020521 -0.931690\n",
       "4     0.753911 -0.999861\n",
       "...        ...       ...\n",
       "2968 -0.475136 -0.017126\n",
       "2969 -3.026756 -1.304983\n",
       "2970 -0.832511 -1.089726\n",
       "2971  1.774790 -3.695233\n",
       "2972 -1.028069 -1.390709\n",
       "\n",
       "[2973 rows x 2 columns]"
      ]
     },
     "execution_count": 134,
     "metadata": {},
     "output_type": "execute_result"
    }
   ],
   "source": [
    "projection"
   ]
  },
  {
   "cell_type": "code",
   "execution_count": 135,
   "metadata": {},
   "outputs": [],
   "source": [
    "from sklearn.cluster import KMeans"
   ]
  },
  {
   "cell_type": "code",
   "execution_count": 136,
   "metadata": {},
   "outputs": [
    {
     "name": "stdout",
     "output_type": "stream",
     "text": [
      "Initialization complete\n",
      "Iteration 0, inertia 5000.532543302805.\n",
      "Iteration 1, inertia 4285.813443543617.\n",
      "Iteration 2, inertia 4040.119594066833.\n",
      "Iteration 3, inertia 3849.6389839787353.\n",
      "Iteration 4, inertia 3731.297392611506.\n",
      "Iteration 5, inertia 3667.0370772967017.\n",
      "Iteration 6, inertia 3617.4299326062164.\n",
      "Iteration 7, inertia 3581.4297688804454.\n",
      "Iteration 8, inertia 3561.6098583117664.\n",
      "Iteration 9, inertia 3550.95537201111.\n",
      "Iteration 10, inertia 3546.863003270549.\n",
      "Iteration 11, inertia 3544.1779327705776.\n",
      "Iteration 12, inertia 3543.176644108009.\n",
      "Iteration 13, inertia 3542.39960868691.\n",
      "Iteration 14, inertia 3541.752700084072.\n",
      "Iteration 15, inertia 3541.1899427653243.\n",
      "Iteration 16, inertia 3540.0611757669485.\n",
      "Iteration 17, inertia 3538.720215348723.\n",
      "Iteration 18, inertia 3536.854106175437.\n",
      "Iteration 19, inertia 3535.3497326041456.\n",
      "Iteration 20, inertia 3533.7965513380987.\n",
      "Iteration 21, inertia 3530.687751080225.\n",
      "Iteration 22, inertia 3526.559153672991.\n",
      "Iteration 23, inertia 3522.5268761647803.\n",
      "Iteration 24, inertia 3519.5103100331385.\n",
      "Iteration 25, inertia 3517.4876704669705.\n",
      "Iteration 26, inertia 3516.29361602005.\n",
      "Iteration 27, inertia 3514.71292721776.\n",
      "Iteration 28, inertia 3512.7279209185726.\n",
      "Iteration 29, inertia 3510.5098919691836.\n",
      "Iteration 30, inertia 3509.3479894786105.\n",
      "Iteration 31, inertia 3508.061774436886.\n",
      "Iteration 32, inertia 3507.0960852112394.\n",
      "Iteration 33, inertia 3505.7879275220025.\n",
      "Iteration 34, inertia 3504.939845843928.\n",
      "Iteration 35, inertia 3504.578254893222.\n",
      "Converged at iteration 35: center shift 9.706195345135374e-05 within tolerance 0.00027098868470996494.\n"
     ]
    }
   ],
   "source": [
    "kmeans_pca = KMeans(n_clusters=5, verbose=True, random_state=SEED)\n",
    "\n",
    "kmeans_pca.fit(projection)\n",
    "\n",
    "dados_generos['cluster_pca'] = kmeans_pca.predict(projection)\n",
    "projection['cluster_pca'] = kmeans_pca.predict(projection)"
   ]
  },
  {
   "cell_type": "code",
   "execution_count": 137,
   "metadata": {},
   "outputs": [
    {
     "data": {
      "text/html": [
       "<div>\n",
       "<style scoped>\n",
       "    .dataframe tbody tr th:only-of-type {\n",
       "        vertical-align: middle;\n",
       "    }\n",
       "\n",
       "    .dataframe tbody tr th {\n",
       "        vertical-align: top;\n",
       "    }\n",
       "\n",
       "    .dataframe thead th {\n",
       "        text-align: right;\n",
       "    }\n",
       "</style>\n",
       "<table border=\"1\" class=\"dataframe\">\n",
       "  <thead>\n",
       "    <tr style=\"text-align: right;\">\n",
       "      <th></th>\n",
       "      <th>x</th>\n",
       "      <th>y</th>\n",
       "      <th>cluster_pca</th>\n",
       "    </tr>\n",
       "  </thead>\n",
       "  <tbody>\n",
       "    <tr>\n",
       "      <th>0</th>\n",
       "      <td>5.910268</td>\n",
       "      <td>-0.011146</td>\n",
       "      <td>2</td>\n",
       "    </tr>\n",
       "    <tr>\n",
       "      <th>1</th>\n",
       "      <td>2.787093</td>\n",
       "      <td>4.498483</td>\n",
       "      <td>2</td>\n",
       "    </tr>\n",
       "    <tr>\n",
       "      <th>2</th>\n",
       "      <td>-0.757538</td>\n",
       "      <td>-1.258495</td>\n",
       "      <td>0</td>\n",
       "    </tr>\n",
       "    <tr>\n",
       "      <th>3</th>\n",
       "      <td>1.020521</td>\n",
       "      <td>-0.931690</td>\n",
       "      <td>4</td>\n",
       "    </tr>\n",
       "    <tr>\n",
       "      <th>4</th>\n",
       "      <td>0.753911</td>\n",
       "      <td>-0.999861</td>\n",
       "      <td>4</td>\n",
       "    </tr>\n",
       "    <tr>\n",
       "      <th>...</th>\n",
       "      <td>...</td>\n",
       "      <td>...</td>\n",
       "      <td>...</td>\n",
       "    </tr>\n",
       "    <tr>\n",
       "      <th>2968</th>\n",
       "      <td>-0.475136</td>\n",
       "      <td>-0.017126</td>\n",
       "      <td>1</td>\n",
       "    </tr>\n",
       "    <tr>\n",
       "      <th>2969</th>\n",
       "      <td>-3.026756</td>\n",
       "      <td>-1.304983</td>\n",
       "      <td>0</td>\n",
       "    </tr>\n",
       "    <tr>\n",
       "      <th>2970</th>\n",
       "      <td>-0.832511</td>\n",
       "      <td>-1.089726</td>\n",
       "      <td>0</td>\n",
       "    </tr>\n",
       "    <tr>\n",
       "      <th>2971</th>\n",
       "      <td>1.774790</td>\n",
       "      <td>-3.695233</td>\n",
       "      <td>4</td>\n",
       "    </tr>\n",
       "    <tr>\n",
       "      <th>2972</th>\n",
       "      <td>-1.028069</td>\n",
       "      <td>-1.390709</td>\n",
       "      <td>0</td>\n",
       "    </tr>\n",
       "  </tbody>\n",
       "</table>\n",
       "<p>2973 rows × 3 columns</p>\n",
       "</div>"
      ],
      "text/plain": [
       "             x         y  cluster_pca\n",
       "0     5.910268 -0.011146            2\n",
       "1     2.787093  4.498483            2\n",
       "2    -0.757538 -1.258495            0\n",
       "3     1.020521 -0.931690            4\n",
       "4     0.753911 -0.999861            4\n",
       "...        ...       ...          ...\n",
       "2968 -0.475136 -0.017126            1\n",
       "2969 -3.026756 -1.304983            0\n",
       "2970 -0.832511 -1.089726            0\n",
       "2971  1.774790 -3.695233            4\n",
       "2972 -1.028069 -1.390709            0\n",
       "\n",
       "[2973 rows x 3 columns]"
      ]
     },
     "execution_count": 137,
     "metadata": {},
     "output_type": "execute_result"
    }
   ],
   "source": [
    "projection"
   ]
  },
  {
   "cell_type": "code",
   "execution_count": 138,
   "metadata": {},
   "outputs": [],
   "source": [
    "projection['generos'] = dados_generos['genres']\n"
   ]
  },
  {
   "cell_type": "code",
   "execution_count": 139,
   "metadata": {},
   "outputs": [
    {
     "data": {
      "text/html": [
       "<div>\n",
       "<style scoped>\n",
       "    .dataframe tbody tr th:only-of-type {\n",
       "        vertical-align: middle;\n",
       "    }\n",
       "\n",
       "    .dataframe tbody tr th {\n",
       "        vertical-align: top;\n",
       "    }\n",
       "\n",
       "    .dataframe thead th {\n",
       "        text-align: right;\n",
       "    }\n",
       "</style>\n",
       "<table border=\"1\" class=\"dataframe\">\n",
       "  <thead>\n",
       "    <tr style=\"text-align: right;\">\n",
       "      <th></th>\n",
       "      <th>x</th>\n",
       "      <th>y</th>\n",
       "      <th>cluster_pca</th>\n",
       "      <th>generos</th>\n",
       "    </tr>\n",
       "  </thead>\n",
       "  <tbody>\n",
       "    <tr>\n",
       "      <th>0</th>\n",
       "      <td>5.910268</td>\n",
       "      <td>-0.011146</td>\n",
       "      <td>2</td>\n",
       "      <td>21st century classical</td>\n",
       "    </tr>\n",
       "    <tr>\n",
       "      <th>1</th>\n",
       "      <td>2.787093</td>\n",
       "      <td>4.498483</td>\n",
       "      <td>2</td>\n",
       "      <td>432hz</td>\n",
       "    </tr>\n",
       "    <tr>\n",
       "      <th>2</th>\n",
       "      <td>-0.757538</td>\n",
       "      <td>-1.258495</td>\n",
       "      <td>0</td>\n",
       "      <td>8-bit</td>\n",
       "    </tr>\n",
       "    <tr>\n",
       "      <th>3</th>\n",
       "      <td>1.020521</td>\n",
       "      <td>-0.931690</td>\n",
       "      <td>4</td>\n",
       "      <td>[]</td>\n",
       "    </tr>\n",
       "    <tr>\n",
       "      <th>4</th>\n",
       "      <td>0.753911</td>\n",
       "      <td>-0.999861</td>\n",
       "      <td>4</td>\n",
       "      <td>a cappella</td>\n",
       "    </tr>\n",
       "    <tr>\n",
       "      <th>...</th>\n",
       "      <td>...</td>\n",
       "      <td>...</td>\n",
       "      <td>...</td>\n",
       "      <td>...</td>\n",
       "    </tr>\n",
       "    <tr>\n",
       "      <th>2968</th>\n",
       "      <td>-0.475136</td>\n",
       "      <td>-0.017126</td>\n",
       "      <td>1</td>\n",
       "      <td>zolo</td>\n",
       "    </tr>\n",
       "    <tr>\n",
       "      <th>2969</th>\n",
       "      <td>-3.026756</td>\n",
       "      <td>-1.304983</td>\n",
       "      <td>0</td>\n",
       "      <td>zouglou</td>\n",
       "    </tr>\n",
       "    <tr>\n",
       "      <th>2970</th>\n",
       "      <td>-0.832511</td>\n",
       "      <td>-1.089726</td>\n",
       "      <td>0</td>\n",
       "      <td>zouk</td>\n",
       "    </tr>\n",
       "    <tr>\n",
       "      <th>2971</th>\n",
       "      <td>1.774790</td>\n",
       "      <td>-3.695233</td>\n",
       "      <td>4</td>\n",
       "      <td>zurich indie</td>\n",
       "    </tr>\n",
       "    <tr>\n",
       "      <th>2972</th>\n",
       "      <td>-1.028069</td>\n",
       "      <td>-1.390709</td>\n",
       "      <td>0</td>\n",
       "      <td>zydeco</td>\n",
       "    </tr>\n",
       "  </tbody>\n",
       "</table>\n",
       "<p>2973 rows × 4 columns</p>\n",
       "</div>"
      ],
      "text/plain": [
       "             x         y  cluster_pca                 generos\n",
       "0     5.910268 -0.011146            2  21st century classical\n",
       "1     2.787093  4.498483            2                   432hz\n",
       "2    -0.757538 -1.258495            0                   8-bit\n",
       "3     1.020521 -0.931690            4                      []\n",
       "4     0.753911 -0.999861            4              a cappella\n",
       "...        ...       ...          ...                     ...\n",
       "2968 -0.475136 -0.017126            1                    zolo\n",
       "2969 -3.026756 -1.304983            0                 zouglou\n",
       "2970 -0.832511 -1.089726            0                    zouk\n",
       "2971  1.774790 -3.695233            4            zurich indie\n",
       "2972 -1.028069 -1.390709            0                  zydeco\n",
       "\n",
       "[2973 rows x 4 columns]"
      ]
     },
     "execution_count": 139,
     "metadata": {},
     "output_type": "execute_result"
    }
   ],
   "source": [
    "projection"
   ]
  },
  {
   "cell_type": "code",
   "execution_count": 140,
   "metadata": {},
   "outputs": [
    {
     "data": {
      "application/vnd.plotly.v1+json": {
       "config": {
        "plotlyServerURL": "https://plot.ly"
       },
       "data": [
        {
         "customdata": [
          [
           "21st century classical"
          ],
          [
           "432hz"
          ],
          [
           "8-bit"
          ],
          [
           "[]"
          ],
          [
           "a cappella"
          ],
          [
           "abstract"
          ],
          [
           "abstract beats"
          ],
          [
           "abstract hip hop"
          ],
          [
           "accordeon"
          ],
          [
           "accordion"
          ],
          [
           "acid house"
          ],
          [
           "acid rock"
          ],
          [
           "acid trance"
          ],
          [
           "acousmatic"
          ],
          [
           "acoustic blues"
          ],
          [
           "acoustic pop"
          ],
          [
           "acoustic punk"
          ],
          [
           "acoustic rock"
          ],
          [
           "action rock"
          ],
          [
           "adoracion"
          ],
          [
           "adult standards"
          ],
          [
           "adventista"
          ],
          [
           "afghan pop"
          ],
          [
           "afghan traditional"
          ],
          [
           "african percussion"
          ],
          [
           "african reggae"
          ],
          [
           "african rock"
          ],
          [
           "african-american classical"
          ],
          [
           "afro dancehall"
          ],
          [
           "afro house"
          ],
          [
           "afro psych"
          ],
          [
           "afro soul"
          ],
          [
           "afro-funk"
          ],
          [
           "afrobeat"
          ],
          [
           "afrofuturism"
          ],
          [
           "afrofuturismo brasileiro"
          ],
          [
           "afropop"
          ],
          [
           "afroswing"
          ],
          [
           "aggrotech"
          ],
          [
           "alabama indie"
          ],
          [
           "alabama metal"
          ],
          [
           "alabama rap"
          ],
          [
           "alaska indie"
          ],
          [
           "albanian pop"
          ],
          [
           "albany ny indie"
          ],
          [
           "alberta country"
          ],
          [
           "alberta hip hop"
          ],
          [
           "album rock"
          ],
          [
           "albuquerque indie"
          ],
          [
           "alt-idol"
          ],
          [
           "alte"
          ],
          [
           "alternative americana"
          ],
          [
           "alternative country"
          ],
          [
           "alternative dance"
          ],
          [
           "alternative emo"
          ],
          [
           "alternative hip hop"
          ],
          [
           "alternative metal"
          ],
          [
           "alternative pop"
          ],
          [
           "alternative pop rock"
          ],
          [
           "alternative r&b"
          ],
          [
           "alternative rock"
          ],
          [
           "alternative roots rock"
          ],
          [
           "ambeat"
          ],
          [
           "ambient"
          ],
          [
           "ambient black metal"
          ],
          [
           "ambient folk"
          ],
          [
           "ambient house"
          ],
          [
           "ambient idm"
          ],
          [
           "ambient industrial"
          ],
          [
           "ambient pop"
          ],
          [
           "ambient techno"
          ],
          [
           "ambient worship"
          ],
          [
           "american 21st century classical"
          ],
          [
           "american choir"
          ],
          [
           "american classical piano"
          ],
          [
           "american contemporary classical"
          ],
          [
           "american early music"
          ],
          [
           "american folk revival"
          ],
          [
           "american metalcore"
          ],
          [
           "american modern classical"
          ],
          [
           "american oi"
          ],
          [
           "american orchestra"
          ],
          [
           "american post-rock"
          ],
          [
           "american primitive"
          ],
          [
           "american romanticism"
          ],
          [
           "american shoegaze"
          ],
          [
           "anadolu rock"
          ],
          [
           "anarcho-punk"
          ],
          [
           "anglican liturgy"
          ],
          [
           "animal singing"
          ],
          [
           "anime"
          ],
          [
           "anime latino"
          ],
          [
           "anime rock"
          ],
          [
           "anime score"
          ],
          [
           "ann arbor indie"
          ],
          [
           "anthem emo"
          ],
          [
           "anthem worship"
          ],
          [
           "anti-folk"
          ],
          [
           "antilliaanse folklore"
          ],
          [
           "antiviral pop"
          ],
          [
           "appalachian folk"
          ],
          [
           "arab folk"
          ],
          [
           "arab groove"
          ],
          [
           "arab pop"
          ],
          [
           "arabesk"
          ],
          [
           "arabic hip hop"
          ],
          [
           "arabic jazz"
          ],
          [
           "argentine ambient"
          ],
          [
           "argentine hardcore"
          ],
          [
           "argentine heavy metal"
          ],
          [
           "argentine hip hop"
          ],
          [
           "argentine indie"
          ],
          [
           "argentine metal"
          ],
          [
           "argentine punk"
          ],
          [
           "argentine reggae"
          ],
          [
           "argentine rock"
          ],
          [
           "argentine telepop"
          ],
          [
           "arizona punk"
          ],
          [
           "arkansas country"
          ],
          [
           "arkansas hip hop"
          ],
          [
           "arkansas indie"
          ],
          [
           "armenian folk"
          ],
          [
           "art pop"
          ],
          [
           "art punk"
          ],
          [
           "art rock"
          ],
          [
           "art song"
          ],
          [
           "asbury park indie"
          ],
          [
           "asheville indie"
          ],
          [
           "asian american hip hop"
          ],
          [
           "asmr"
          ],
          [
           "athens indie"
          ],
          [
           "atl hip hop"
          ],
          [
           "atl trap"
          ],
          [
           "atlanta indie"
          ],
          [
           "atlanta metal"
          ],
          [
           "atlanta punk"
          ],
          [
           "atmosphere"
          ],
          [
           "atmospheric black metal"
          ],
          [
           "atmospheric dnb"
          ],
          [
           "atmospheric post-metal"
          ],
          [
           "atmospheric post-rock"
          ],
          [
           "atmospheric sludge"
          ],
          [
           "auckland indie"
          ],
          [
           "audiophile vocal"
          ],
          [
           "aussietronica"
          ],
          [
           "austin americana"
          ],
          [
           "austin singer-songwriter"
          ],
          [
           "austindie"
          ],
          [
           "australian alternative pop"
          ],
          [
           "australian alternative rock"
          ],
          [
           "australian ambient"
          ],
          [
           "australian children's music"
          ],
          [
           "australian choir"
          ],
          [
           "australian classical"
          ],
          [
           "australian classical piano"
          ],
          [
           "australian country"
          ],
          [
           "australian dance"
          ],
          [
           "australian electropop"
          ],
          [
           "australian garage punk"
          ],
          [
           "australian hip hop"
          ],
          [
           "australian house"
          ],
          [
           "australian indie"
          ],
          [
           "australian indie folk"
          ],
          [
           "australian indie rock"
          ],
          [
           "australian indigenous"
          ],
          [
           "australian metal"
          ],
          [
           "australian metalcore"
          ],
          [
           "australian pop"
          ],
          [
           "australian post-hardcore"
          ],
          [
           "australian post-punk"
          ],
          [
           "australian psych"
          ],
          [
           "australian r&b"
          ],
          [
           "australian reggae fusion"
          ],
          [
           "australian rock"
          ],
          [
           "australian singer-songwriter"
          ],
          [
           "australian ska"
          ],
          [
           "australian talent show"
          ],
          [
           "australian trap"
          ],
          [
           "australian underground hip hop"
          ],
          [
           "austrian choir"
          ],
          [
           "austrian classical piano"
          ],
          [
           "austrian orchestra"
          ],
          [
           "austrian pop"
          ],
          [
           "austro-german modernism"
          ],
          [
           "austropop"
          ],
          [
           "autoharp"
          ],
          [
           "autonomous black metal"
          ],
          [
           "avant-garde"
          ],
          [
           "avant-garde jazz"
          ],
          [
           "avant-garde metal"
          ],
          [
           "axe"
          ],
          [
           "azeri traditional"
          ],
          [
           "azonto"
          ],
          [
           "azontobeats"
          ],
          [
           "bachata"
          ],
          [
           "bachata dominicana"
          ],
          [
           "background music"
          ],
          [
           "background piano"
          ],
          [
           "baglama"
          ],
          [
           "bahai"
          ],
          [
           "bahamian folk"
          ],
          [
           "bahamian pop"
          ],
          [
           "baiao"
          ],
          [
           "bajki"
          ],
          [
           "bakersfield sound"
          ],
          [
           "balearic"
          ],
          [
           "balkan brass"
          ],
          [
           "balkan classical piano"
          ],
          [
           "ballet class"
          ],
          [
           "ballroom"
          ],
          [
           "baltic classical"
          ],
          [
           "baltimore hip hop"
          ],
          [
           "baltimore indie"
          ],
          [
           "banda"
          ],
          [
           "banda caliente"
          ],
          [
           "banda carnavalera"
          ],
          [
           "bandinhas"
          ],
          [
           "bandolim"
          ],
          [
           "bandoneon"
          ],
          [
           "bangla"
          ],
          [
           "banjo"
          ],
          [
           "bansuri"
          ],
          [
           "barbadian pop"
          ],
          [
           "barbershop"
          ],
          [
           "bard"
          ],
          [
           "barnmusik"
          ],
          [
           "barockinterpreten"
          ],
          [
           "baroque"
          ],
          [
           "baroque brass"
          ],
          [
           "baroque ensemble"
          ],
          [
           "baroque pop"
          ],
          [
           "baroque singing"
          ],
          [
           "baroque violin"
          ],
          [
           "baroque woodwind"
          ],
          [
           "bass house"
          ],
          [
           "bass music"
          ],
          [
           "bass trap"
          ],
          [
           "basshall"
          ],
          [
           "bassline"
          ],
          [
           "bath indie"
          ],
          [
           "baton rouge indie"
          ],
          [
           "baton rouge rap"
          ],
          [
           "battle rap"
          ],
          [
           "bay area hip hop"
          ],
          [
           "bay area indie"
          ],
          [
           "bboy"
          ],
          [
           "bc underground hip hop"
          ],
          [
           "beach music"
          ],
          [
           "beat italiano"
          ],
          [
           "beat poetry"
          ],
          [
           "beatboxing"
          ],
          [
           "beatlesque"
          ],
          [
           "bebop"
          ],
          [
           "bedroom pop"
          ],
          [
           "bedroom soul"
          ],
          [
           "belarusian indie"
          ],
          [
           "belarusian pop"
          ],
          [
           "belarusian rock"
          ],
          [
           "belgian classical piano"
          ],
          [
           "belgian contemporary classical"
          ],
          [
           "belgian dance"
          ],
          [
           "belgian edm"
          ],
          [
           "belgian hardcore"
          ],
          [
           "belgian indie"
          ],
          [
           "belgian indie rock"
          ],
          [
           "belgian jazz"
          ],
          [
           "belgian new wave"
          ],
          [
           "belgian pop"
          ],
          [
           "belgian rock"
          ],
          [
           "belgian singer-songwriter"
          ],
          [
           "belgian techno"
          ],
          [
           "belly dance"
          ],
          [
           "bengali folk"
          ],
          [
           "beninese pop"
          ],
          [
           "bergen indie"
          ],
          [
           "berlin minimal techno"
          ],
          [
           "berlin school"
          ],
          [
           "bhajan"
          ],
          [
           "bhangra"
          ],
          [
           "bible"
          ],
          [
           "big band"
          ],
          [
           "big beat"
          ],
          [
           "big room"
          ],
          [
           "binaural"
          ],
          [
           "birdsong"
          ],
          [
           "birmingham grime"
          ],
          [
           "birmingham hip hop"
          ],
          [
           "birmingham metal"
          ],
          [
           "bitpop"
          ],
          [
           "black 'n' roll"
          ],
          [
           "black comedy"
          ],
          [
           "black metal"
          ],
          [
           "black punk"
          ],
          [
           "black thrash"
          ],
          [
           "blackened crust"
          ],
          [
           "blackgaze"
          ],
          [
           "bleep techno"
          ],
          [
           "bluegrass"
          ],
          [
           "bluegrass fiddle"
          ],
          [
           "bluegrass gospel"
          ],
          [
           "blues"
          ],
          [
           "blues latinoamericano"
          ],
          [
           "blues mexicano"
          ],
          [
           "blues rock"
          ],
          [
           "bmore"
          ],
          [
           "bolero"
          ],
          [
           "bolero cubano"
          ],
          [
           "boogaloo"
          ],
          [
           "boogie"
          ],
          [
           "boogie-woogie"
          ],
          [
           "boom bap"
          ],
          [
           "boom bap brasileiro"
          ],
          [
           "bossa nova"
          ],
          [
           "bossa nova jazz"
          ],
          [
           "boston folk"
          ],
          [
           "boston hardcore"
          ],
          [
           "boston hip hop"
          ],
          [
           "boston indie"
          ],
          [
           "boston metal"
          ],
          [
           "boston punk"
          ],
          [
           "boston rock"
          ],
          [
           "bounce"
          ],
          [
           "bouncy house"
          ],
          [
           "bouzouki"
          ],
          [
           "bow pop"
          ],
          [
           "boy band"
          ],
          [
           "boy pop"
          ],
          [
           "boy soprano"
          ],
          [
           "brain waves"
          ],
          [
           "braindance"
          ],
          [
           "brass band"
          ],
          [
           "brass ensemble"
          ],
          [
           "brass quintet"
          ],
          [
           "brazilian boogie"
          ],
          [
           "brazilian classical"
          ],
          [
           "brazilian classical piano"
          ],
          [
           "brazilian contemporary classical"
          ],
          [
           "brazilian edm"
          ],
          [
           "brazilian groove metal"
          ],
          [
           "brazilian hip hop"
          ],
          [
           "brazilian indie"
          ],
          [
           "brazilian jazz"
          ],
          [
           "brazilian metal"
          ],
          [
           "brazilian modern jazz"
          ],
          [
           "brazilian percussion"
          ],
          [
           "brazilian punk"
          ],
          [
           "brazilian reggae"
          ],
          [
           "brazilian rock"
          ],
          [
           "brazilian ska"
          ],
          [
           "brazilian soul"
          ],
          [
           "brazilian thrash metal"
          ],
          [
           "breakbeat"
          ],
          [
           "breakcore"
          ],
          [
           "brega"
          ],
          [
           "breton folk"
          ],
          [
           "brighton indie"
          ],
          [
           "brill building pop"
          ],
          [
           "brisbane indie"
          ],
          [
           "bristol electronic"
          ],
          [
           "bristol indie"
          ],
          [
           "brit funk"
          ],
          [
           "british alternative rock"
          ],
          [
           "british black metal"
          ],
          [
           "british blues"
          ],
          [
           "british children's music"
          ],
          [
           "british choir"
          ],
          [
           "british classical piano"
          ],
          [
           "british comedy"
          ],
          [
           "british contemporary classical"
          ],
          [
           "british dance band"
          ],
          [
           "british death metal"
          ],
          [
           "british experimental"
          ],
          [
           "british folk"
          ],
          [
           "british grindcore"
          ],
          [
           "british indie rock"
          ],
          [
           "british industrial"
          ],
          [
           "british invasion"
          ],
          [
           "british jazz"
          ],
          [
           "british modern classical"
          ],
          [
           "british orchestra"
          ],
          [
           "british post-rock"
          ],
          [
           "british power metal"
          ],
          [
           "british singer-songwriter"
          ],
          [
           "british soul"
          ],
          [
           "british soundtrack"
          ],
          [
           "britpop"
          ],
          [
           "broadway"
          ],
          [
           "broken beat"
          ],
          [
           "bronx hip hop"
          ],
          [
           "brooklyn drill"
          ],
          [
           "brooklyn indie"
          ],
          [
           "brostep"
          ],
          [
           "brutal death metal"
          ],
          [
           "brutal deathcore"
          ],
          [
           "bubble trance"
          ],
          [
           "bubblegrunge"
          ],
          [
           "bubblegum dance"
          ],
          [
           "bubblegum pop"
          ],
          [
           "buffalo hip hop"
          ],
          [
           "buffalo ny indie"
          ],
          [
           "buffalo ny metal"
          ],
          [
           "bulgarian experimental"
          ],
          [
           "burmese traditional"
          ],
          [
           "bush ballad"
          ],
          [
           "c-pop"
          ],
          [
           "c86"
          ],
          [
           "cabaret"
          ],
          [
           "cajun"
          ],
          [
           "calgary indie"
          ],
          [
           "cali rap"
          ],
          [
           "calming instrumental"
          ],
          [
           "calypso"
          ],
          [
           "cambodian rock"
          ],
          [
           "cambridge choir"
          ],
          [
           "cambridgeshire indie"
          ],
          [
           "cameroonian pop"
          ],
          [
           "canadian americana"
          ],
          [
           "canadian blues"
          ],
          [
           "canadian ccm"
          ],
          [
           "canadian celtic"
          ],
          [
           "canadian children's music"
          ],
          [
           "canadian choir"
          ],
          [
           "canadian classical"
          ],
          [
           "canadian classical piano"
          ],
          [
           "canadian comedy"
          ],
          [
           "canadian contemporary country"
          ],
          [
           "canadian contemporary r&b"
          ],
          [
           "canadian country"
          ],
          [
           "canadian electronic"
          ],
          [
           "canadian electropop"
          ],
          [
           "canadian experimental"
          ],
          [
           "canadian folk"
          ],
          [
           "canadian hardcore"
          ],
          [
           "canadian hip hop"
          ],
          [
           "canadian house"
          ],
          [
           "canadian indie"
          ],
          [
           "canadian indie folk"
          ],
          [
           "canadian indigenous"
          ],
          [
           "canadian indigenous hip hop"
          ],
          [
           "canadian latin"
          ],
          [
           "canadian metal"
          ],
          [
           "canadian metalcore"
          ],
          [
           "canadian modern jazz"
          ],
          [
           "canadian pop"
          ],
          [
           "canadian pop punk"
          ],
          [
           "canadian post-hardcore"
          ],
          [
           "canadian post-rock"
          ],
          [
           "canadian psychedelic"
          ],
          [
           "canadian punk"
          ],
          [
           "canadian rock"
          ],
          [
           "canadian rockabilly"
          ],
          [
           "canadian singer-songwriter"
          ],
          [
           "canadian soundtrack"
          ],
          [
           "cancion melodica"
          ],
          [
           "candy pop"
          ],
          [
           "cantautor"
          ],
          [
           "cante flamenco"
          ],
          [
           "canterbury scene"
          ],
          [
           "canto popular uruguayo"
          ],
          [
           "cantopop"
          ],
          [
           "canzone d'autore"
          ],
          [
           "canzone genovese"
          ],
          [
           "canzone napoletana"
          ],
          [
           "cape town indie"
          ],
          [
           "cape verdean folk"
          ],
          [
           "capoeira"
          ],
          [
           "caracas indie"
          ],
          [
           "carnatic"
          ],
          [
           "carnatic instrumental"
          ],
          [
           "carnatic vocal"
          ],
          [
           "cartoon"
          ],
          [
           "cathedral choir"
          ],
          [
           "caucasian classical"
          ],
          [
           "caucasian classical piano"
          ],
          [
           "ccm"
          ],
          [
           "cedm"
          ],
          [
           "cello"
          ],
          [
           "celtic"
          ],
          [
           "celtic harp"
          ],
          [
           "celtic metal"
          ],
          [
           "celtic punk"
          ],
          [
           "celtic rock"
          ],
          [
           "cha-cha-cha"
          ],
          [
           "chakra"
          ],
          [
           "chamame"
          ],
          [
           "chamber choir"
          ],
          [
           "chamber ensemble"
          ],
          [
           "chamber folk"
          ],
          [
           "chamber orchestra"
          ],
          [
           "chamber pop"
          ],
          [
           "chamber psych"
          ],
          [
           "champeta"
          ],
          [
           "channel islands indie"
          ],
          [
           "channel pop"
          ],
          [
           "chanson"
          ],
          [
           "chanson paillarde"
          ],
          [
           "chaotic hardcore"
          ],
          [
           "charanga"
          ],
          [
           "charango"
          ],
          [
           "charlotte nc indie"
          ],
          [
           "charlottesville indie"
          ],
          [
           "chattanooga indie"
          ],
          [
           "chicago blues"
          ],
          [
           "chicago drill"
          ],
          [
           "chicago hardcore"
          ],
          [
           "chicago house"
          ],
          [
           "chicago indie"
          ],
          [
           "chicago pop punk"
          ],
          [
           "chicago punk"
          ],
          [
           "chicago rap"
          ],
          [
           "chicago soul"
          ],
          [
           "chicano punk"
          ],
          [
           "chicano rap"
          ],
          [
           "chicha"
          ],
          [
           "chihuahua indie"
          ],
          [
           "children's choir"
          ],
          [
           "children's folk"
          ],
          [
           "children's music"
          ],
          [
           "children's story"
          ],
          [
           "chilean hardcore"
          ],
          [
           "chilean indie"
          ],
          [
           "chilean rock"
          ],
          [
           "chilena"
          ],
          [
           "chill beats"
          ],
          [
           "chill guitar"
          ],
          [
           "chill lounge"
          ],
          [
           "chill out"
          ],
          [
           "chill pop"
          ],
          [
           "chill r&b"
          ],
          [
           "chillhop"
          ],
          [
           "chillstep"
          ],
          [
           "chillwave"
          ],
          [
           "chinese audiophile"
          ],
          [
           "chinese classical"
          ],
          [
           "chinese classical performance"
          ],
          [
           "chinese classical piano"
          ],
          [
           "chinese electropop"
          ],
          [
           "chinese hip hop"
          ],
          [
           "chinese idol pop"
          ],
          [
           "chinese indie"
          ],
          [
           "chinese indie rock"
          ],
          [
           "chinese instrumental"
          ],
          [
           "chinese jazz"
          ],
          [
           "chinese r&b"
          ],
          [
           "chinese soundtrack"
          ],
          [
           "chinese traditional"
          ],
          [
           "chiptune"
          ],
          [
           "chopped and screwed"
          ],
          [
           "choral"
          ],
          [
           "choro"
          ],
          [
           "christchurch indie"
          ],
          [
           "christelijk"
          ],
          [
           "christian a cappella"
          ],
          [
           "christian alternative rock"
          ],
          [
           "christian dance"
          ],
          [
           "christian hard rock"
          ],
          [
           "christian hardcore"
          ],
          [
           "christian hip hop"
          ],
          [
           "christian indie"
          ],
          [
           "christian metal"
          ],
          [
           "christian metalcore"
          ],
          [
           "christian music"
          ],
          [
           "christian pop"
          ],
          [
           "christian power metal"
          ],
          [
           "christian punk"
          ],
          [
           "christian relaxative"
          ],
          [
           "christian rock"
          ],
          [
           "christian trap"
          ],
          [
           "christian uplift"
          ],
          [
           "christmas instrumental"
          ],
          [
           "christmas product"
          ],
          [
           "chunchaca"
          ],
          [
           "chutney"
          ],
          [
           "cincinnati rap"
          ],
          [
           "cinematic post-rock"
          ],
          [
           "circuit"
          ],
          [
           "circus"
          ],
          [
           "classic afrobeat"
          ],
          [
           "classic arab pop"
          ],
          [
           "classic australian country"
          ],
          [
           "classic belgian pop"
          ],
          [
           "classic bhangra"
          ],
          [
           "classic bollywood"
          ],
          [
           "classic canadian rock"
          ],
          [
           "classic cantopop"
          ],
          [
           "classic colombian pop"
          ],
          [
           "classic country pop"
          ],
          [
           "classic czech pop"
          ],
          [
           "classic danish pop"
          ],
          [
           "classic dubstep"
          ],
          [
           "classic eurovision"
          ],
          [
           "classic finnish pop"
          ],
          [
           "classic french pop"
          ],
          [
           "classic garage rock"
          ],
          [
           "classic girl group"
          ],
          [
           "classic greek pop"
          ],
          [
           "classic hardstyle"
          ],
          [
           "classic icelandic pop"
          ],
          [
           "classic indo pop"
          ],
          [
           "classic iskelma"
          ],
          [
           "classic israeli pop"
          ],
          [
           "classic italian folk pop"
          ],
          [
           "classic italian pop"
          ],
          [
           "classic j-rock"
          ],
          [
           "classic japanese jazz"
          ],
          [
           "classic korean pop"
          ],
          [
           "classic latvian pop"
          ],
          [
           "classic mandopop"
          ],
          [
           "classic norwegian pop"
          ],
          [
           "classic opm"
          ],
          [
           "classic pakistani pop"
          ],
          [
           "classic persian pop"
          ],
          [
           "classic peruvian pop"
          ],
          [
           "classic polish pop"
          ],
          [
           "classic praise"
          ],
          [
           "classic psychedelic rock"
          ],
          [
           "classic punjabi pop"
          ],
          [
           "classic rock"
          ],
          [
           "classic russian pop"
          ],
          [
           "classic russian rock"
          ],
          [
           "classic schlager"
          ],
          [
           "classic soul"
          ],
          [
           "classic soundtrack"
          ],
          [
           "classic swedish pop"
          ],
          [
           "classic thai pop"
          ],
          [
           "classic tunisian pop"
          ],
          [
           "classic turkish pop"
          ],
          [
           "classic uk pop"
          ],
          [
           "classic venezuelan pop"
          ],
          [
           "classical"
          ],
          [
           "classical accordion"
          ],
          [
           "classical baritone"
          ],
          [
           "classical bass"
          ],
          [
           "classical cello"
          ],
          [
           "classical clarinet"
          ],
          [
           "classical contralto"
          ],
          [
           "classical countertenor"
          ],
          [
           "classical era"
          ],
          [
           "classical flute"
          ],
          [
           "classical guitar"
          ],
          [
           "classical harp"
          ],
          [
           "classical horn"
          ],
          [
           "classical mandolin"
          ],
          [
           "classical mezzo-soprano"
          ],
          [
           "classical oboe"
          ],
          [
           "classical organ"
          ],
          [
           "classical performance"
          ],
          [
           "classical piano"
          ],
          [
           "classical piano duo"
          ],
          [
           "classical piano trio"
          ],
          [
           "classical saxophone"
          ],
          [
           "classical soprano"
          ],
          [
           "classical tenor"
          ],
          [
           "classical trumpet"
          ],
          [
           "classify"
          ],
          [
           "clawhammer banjo"
          ],
          [
           "clean comedy"
          ],
          [
           "cleveland metal"
          ],
          [
           "coco"
          ],
          [
           "collage pop"
          ],
          [
           "college a cappella"
          ],
          [
           "colombian hip hop"
          ],
          [
           "colombian pop"
          ],
          [
           "colombian rock"
          ],
          [
           "columbus ohio indie"
          ],
          [
           "comedy"
          ],
          [
           "comedy rap"
          ],
          [
           "comedy rock"
          ],
          [
           "comic"
          ],
          [
           "comic metal"
          ],
          [
           "commons"
          ],
          [
           "complextro"
          ],
          [
           "compositional ambient"
          ],
          [
           "concepcion indie"
          ],
          [
           "concert band"
          ],
          [
           "connecticut hardcore"
          ],
          [
           "connecticut indie"
          ],
          [
           "conscious hip hop"
          ],
          [
           "contemporary choir"
          ],
          [
           "contemporary classical"
          ],
          [
           "contemporary classical piano"
          ],
          [
           "contemporary country"
          ],
          [
           "contemporary folk"
          ],
          [
           "contemporary gospel"
          ],
          [
           "contemporary jazz"
          ],
          [
           "contemporary post-bop"
          ],
          [
           "contemporary vocal jazz"
          ],
          [
           "contrabass"
          ],
          [
           "cool jazz"
          ],
          [
           "copla"
          ],
          [
           "cornish folk"
          ],
          [
           "cornwall indie"
          ],
          [
           "corrido"
          ],
          [
           "corridos cristianos"
          ],
          [
           "corridos tumbados"
          ],
          [
           "corrosion"
          ],
          [
           "cosmic american"
          ],
          [
           "cosmic post-rock"
          ],
          [
           "country"
          ],
          [
           "country blues"
          ],
          [
           "country boogie"
          ],
          [
           "country dawn"
          ],
          [
           "country gospel"
          ],
          [
           "country pop"
          ],
          [
           "country rap"
          ],
          [
           "country road"
          ],
          [
           "country rock"
          ],
          [
           "coverchill"
          ],
          [
           "cowboy western"
          ],
          [
           "cowpunk"
          ],
          [
           "crack rock steady"
          ],
          [
           "croatian folk"
          ],
          [
           "croatian pop"
          ],
          [
           "croatian rock"
          ],
          [
           "crossover thrash"
          ],
          [
           "crunk"
          ],
          [
           "crust punk"
          ],
          [
           "cuarteto"
          ],
          [
           "cuatro venezolano"
          ],
          [
           "cuban alternative"
          ],
          [
           "cuban rumba"
          ],
          [
           "cubaton"
          ],
          [
           "cumbia"
          ],
          [
           "cumbia andina mexicana"
          ],
          [
           "cumbia chilena"
          ],
          [
           "cumbia colombiana regia"
          ],
          [
           "cumbia ecuatoriana"
          ],
          [
           "cumbia funk"
          ],
          [
           "cumbia lagunera"
          ],
          [
           "cumbia paraguaya"
          ],
          [
           "cumbia peruana"
          ],
          [
           "cumbia pop"
          ],
          [
           "cumbia ranchera"
          ],
          [
           "cumbia salvadorena"
          ],
          [
           "cumbia santafesina"
          ],
          [
           "cumbia sonidera"
          ],
          [
           "cumbia villera"
          ],
          [
           "cyberpunk"
          ],
          [
           "cymraeg"
          ],
          [
           "cypriot pop"
          ],
          [
           "czech classical"
          ],
          [
           "czech classical piano"
          ],
          [
           "czech contemporary classical"
          ],
          [
           "d-beat"
          ],
          [
           "dabke"
          ],
          [
           "dakke dak"
          ],
          [
           "dallas indie"
          ],
          [
           "dance pop"
          ],
          [
           "dance rock"
          ],
          [
           "dance-punk"
          ],
          [
           "dancehall"
          ],
          [
           "dangdut"
          ],
          [
           "danish alternative rock"
          ],
          [
           "danish classical"
          ],
          [
           "danish electronic"
          ],
          [
           "danish electropop"
          ],
          [
           "danish hip hop"
          ],
          [
           "danish jazz"
          ],
          [
           "danish metal"
          ],
          [
           "danish pop"
          ],
          [
           "danish pop rock"
          ],
          [
           "danish post-punk"
          ],
          [
           "danish punk"
          ],
          [
           "danish rock"
          ],
          [
           "danish singer-songwriter"
          ],
          [
           "dansband"
          ],
          [
           "danseband"
          ],
          [
           "dansktop"
          ],
          [
           "danspunk"
          ],
          [
           "dark cabaret"
          ],
          [
           "dark clubbing"
          ],
          [
           "dark disco"
          ],
          [
           "dark hardcore"
          ],
          [
           "dark jazz"
          ],
          [
           "dark minimal techno"
          ],
          [
           "dark post-punk"
          ],
          [
           "dark techno"
          ],
          [
           "dark trap"
          ],
          [
           "dark wave"
          ],
          [
           "darksynth"
          ],
          [
           "dayton indie"
          ],
          [
           "dc hardcore"
          ],
          [
           "dc indie"
          ],
          [
           "death 'n' roll"
          ],
          [
           "death metal"
          ],
          [
           "deathcore"
          ],
          [
           "deathgrass"
          ],
          [
           "deathgrind"
          ],
          [
           "deathrash"
          ],
          [
           "deathrock"
          ],
          [
           "deathstep"
          ],
          [
           "deep acoustic pop"
          ],
          [
           "deep adult standards"
          ],
          [
           "deep big room"
          ],
          [
           "deep ccm"
          ],
          [
           "deep christian rock"
          ],
          [
           "deep classic garage rock"
          ],
          [
           "deep comedy"
          ],
          [
           "deep contemporary country"
          ],
          [
           "deep dance pop"
          ],
          [
           "deep delta blues"
          ],
          [
           "deep disco"
          ],
          [
           "deep disco house"
          ],
          [
           "deep dnb"
          ],
          [
           "deep east coast hip hop"
          ],
          [
           "deep euro house"
          ],
          [
           "deep flow"
          ],
          [
           "deep free jazz"
          ],
          [
           "deep freestyle"
          ],
          [
           "deep full on"
          ],
          [
           "deep funk"
          ],
          [
           "deep g funk"
          ],
          [
           "deep gothic post-punk"
          ],
          [
           "deep groove house"
          ],
          [
           "deep house"
          ],
          [
           "deep idm"
          ],
          [
           "deep indian pop"
          ],
          [
           "deep indie singer-songwriter"
          ],
          [
           "deep latin alternative"
          ],
          [
           "deep latin christian"
          ],
          [
           "deep melodic metalcore"
          ],
          [
           "deep minimal techno"
          ],
          [
           "deep motown"
          ],
          [
           "deep new americana"
          ],
          [
           "deep new wave"
          ],
          [
           "deep norteno"
          ],
          [
           "deep northern soul"
          ],
          [
           "deep pop edm"
          ],
          [
           "deep progressive house"
          ],
          [
           "deep psychobilly"
          ],
          [
           "deep punk rock"
          ],
          [
           "deep r&b"
          ],
          [
           "deep ragga"
          ],
          [
           "deep regional mexican"
          ],
          [
           "deep smooth jazz"
          ],
          [
           "deep soft rock"
          ],
          [
           "deep soul house"
          ],
          [
           "deep soundtrack"
          ],
          [
           "deep southern soul"
          ],
          [
           "deep southern trap"
          ],
          [
           "deep space rock"
          ],
          [
           "deep talent show"
          ],
          [
           "deep tech house"
          ],
          [
           "deep techno"
          ],
          [
           "deep tropical house"
          ],
          [
           "deep underground hip hop"
          ],
          [
           "deep uplifting trance"
          ],
          [
           "delta blues"
          ],
          [
           "dembow"
          ],
          [
           "denpa-kei"
          ],
          [
           "denton tx indie"
          ],
          [
           "denver indie"
          ],
          [
           "depressive black metal"
          ],
          [
           "derby indie"
          ],
          [
           "desert blues"
          ],
          [
           "desi hip hop"
          ],
          [
           "desi pop"
          ],
          [
           "destroy techno"
          ],
          [
           "detroit hip hop"
          ],
          [
           "detroit house"
          ],
          [
           "detroit techno"
          ],
          [
           "detroit trap"
          ],
          [
           "detske pisnicky"
          ],
          [
           "detskie pesni"
          ],
          [
           "devon indie"
          ],
          [
           "dfw rap"
          ],
          [
           "dhrupad"
          ],
          [
           "digital hardcore"
          ],
          [
           "dinner jazz"
          ],
          [
           "dirty south rap"
          ],
          [
           "dirty texas rap"
          ],
          [
           "disco"
          ],
          [
           "disco house"
          ],
          [
           "disney"
          ],
          [
           "diva house"
          ],
          [
           "dixieland"
          ],
          [
           "diy emo"
          ],
          [
           "djent"
          ],
          [
           "dmv rap"
          ],
          [
           "dominican pop"
          ],
          [
           "dong-yo"
          ],
          [
           "doo-wop"
          ],
          [
           "doom metal"
          ],
          [
           "double drumming"
          ],
          [
           "downtempo"
          ],
          [
           "drama"
          ],
          [
           "dream pop"
          ],
          [
           "dream trance"
          ],
          [
           "dreamgaze"
          ],
          [
           "dreamo"
          ],
          [
           "drift"
          ],
          [
           "drill"
          ],
          [
           "drill and bass"
          ],
          [
           "drone"
          ],
          [
           "drone folk"
          ],
          [
           "drone metal"
          ],
          [
           "drum and bass"
          ],
          [
           "dub"
          ],
          [
           "dub metal"
          ],
          [
           "dub poetry"
          ],
          [
           "dub techno"
          ],
          [
           "dubstep"
          ],
          [
           "dubsteppe"
          ],
          [
           "duduk"
          ],
          [
           "duluth indie"
          ],
          [
           "dunedin indie"
          ],
          [
           "dunedin sound"
          ],
          [
           "dungeon synth"
          ],
          [
           "duranguense"
          ],
          [
           "dusseldorf electronic"
          ],
          [
           "dutch blues"
          ],
          [
           "dutch cabaret"
          ],
          [
           "dutch classical piano"
          ],
          [
           "dutch death metal"
          ],
          [
           "dutch dnb"
          ],
          [
           "dutch edm"
          ],
          [
           "dutch folk"
          ],
          [
           "dutch hip hop"
          ],
          [
           "dutch house"
          ],
          [
           "dutch indie"
          ],
          [
           "dutch jazz"
          ],
          [
           "dutch metal"
          ],
          [
           "dutch pop"
          ],
          [
           "dutch prog"
          ],
          [
           "dutch rap pop"
          ],
          [
           "dutch rock"
          ],
          [
           "dutch trance"
          ],
          [
           "e6fi"
          ],
          [
           "early american folk"
          ],
          [
           "early avant garde"
          ],
          [
           "early modern classical"
          ],
          [
           "early music"
          ],
          [
           "early music choir"
          ],
          [
           "early music ensemble"
          ],
          [
           "early reggae"
          ],
          [
           "early romantic era"
          ],
          [
           "early synthpop"
          ],
          [
           "early us punk"
          ],
          [
           "east coast hip hop"
          ],
          [
           "east coast reggae"
          ],
          [
           "eastern bloc groove"
          ],
          [
           "easy listening"
          ],
          [
           "easycore"
          ],
          [
           "eau claire indie"
          ],
          [
           "ebm"
          ],
          [
           "ecm-style jazz"
          ],
          [
           "ectofolk"
          ],
          [
           "ecuadorian pop"
          ],
          [
           "edm"
          ],
          [
           "edmonton indie"
          ],
          [
           "egyptian pop"
          ],
          [
           "egyptian traditional"
          ],
          [
           "el paso indie"
          ],
          [
           "electra"
          ],
          [
           "electric bass"
          ],
          [
           "electric blues"
          ],
          [
           "electro"
          ],
          [
           "electro house"
          ],
          [
           "electro jazz"
          ],
          [
           "electro latino"
          ],
          [
           "electro swing"
          ],
          [
           "electro-industrial"
          ],
          [
           "electro-pop francais"
          ],
          [
           "electroclash"
          ],
          [
           "electrofox"
          ],
          [
           "electronic djent"
          ],
          [
           "electronic rock"
          ],
          [
           "electronic trap"
          ],
          [
           "electronica"
          ],
          [
           "electronica argentina"
          ],
          [
           "electropop"
          ],
          [
           "electropowerpop"
          ],
          [
           "emo"
          ],
          [
           "emo mexicano"
          ],
          [
           "emo punk"
          ],
          [
           "emo rap"
          ],
          [
           "emocore"
          ],
          [
           "english baroque"
          ],
          [
           "english indie rock"
          ],
          [
           "english renaissance"
          ],
          [
           "enka"
          ],
          [
           "entehno"
          ],
          [
           "environmental"
          ],
          [
           "epic doom"
          ],
          [
           "epicore"
          ],
          [
           "erhu"
          ],
          [
           "escape room"
          ],
          [
           "esperanto"
          ],
          [
           "essex indie"
          ],
          [
           "estonian hip hop"
          ],
          [
           "estonian pop"
          ],
          [
           "ethereal wave"
          ],
          [
           "etherpop"
          ],
          [
           "ethio-jazz"
          ],
          [
           "ethiopian pop"
          ],
          [
           "ethnomusicology"
          ],
          [
           "ethnotronica"
          ],
          [
           "eugene indie"
          ],
          [
           "euphoric hardstyle"
          ],
          [
           "eurobeat"
          ],
          [
           "eurodance"
          ],
          [
           "europop"
          ],
          [
           "euroska"
          ],
          [
           "eurovision"
          ],
          [
           "exotica"
          ],
          [
           "experimental"
          ],
          [
           "experimental ambient"
          ],
          [
           "experimental big band"
          ],
          [
           "experimental dub"
          ],
          [
           "experimental folk"
          ],
          [
           "experimental guitar"
          ],
          [
           "experimental hip hop"
          ],
          [
           "experimental house"
          ],
          [
           "experimental indie"
          ],
          [
           "experimental jazz"
          ],
          [
           "experimental pop"
          ],
          [
           "experimental rock"
          ],
          [
           "experimental vocal"
          ],
          [
           "fado"
          ],
          [
           "family gospel"
          ],
          [
           "faroese pop"
          ],
          [
           "fast melodic punk"
          ],
          [
           "fidget house"
          ],
          [
           "filmi"
          ],
          [
           "filter house"
          ],
          [
           "filthstep"
          ],
          [
           "final fantasy"
          ],
          [
           "fingerstyle"
          ],
          [
           "finnish alternative rock"
          ],
          [
           "finnish classical"
          ],
          [
           "finnish contemporary classical"
          ],
          [
           "finnish death metal"
          ],
          [
           "finnish edm"
          ],
          [
           "finnish hard rock"
          ],
          [
           "finnish heavy metal"
          ],
          [
           "finnish metal"
          ],
          [
           "finnish power metal"
          ],
          [
           "finnish soul"
          ],
          [
           "flamenco"
          ],
          [
           "flamenco guitar"
          ],
          [
           "flick hop"
          ],
          [
           "flint hip hop"
          ],
          [
           "float house"
          ],
          [
           "florida death metal"
          ],
          [
           "florida rap"
          ],
          [
           "fluxwork"
          ],
          [
           "fo jing"
          ],
          [
           "focus"
          ],
          [
           "focus beats"
          ],
          [
           "focus trance"
          ],
          [
           "folclor afrocolombiano"
          ],
          [
           "folclor colombiano"
          ],
          [
           "folclore extremeno"
          ],
          [
           "folclore jujeno"
          ],
          [
           "folclore navarra"
          ],
          [
           "folclore salteno"
          ],
          [
           "folclore tucumano"
          ],
          [
           "folk"
          ],
          [
           "folk metal"
          ],
          [
           "folk punk"
          ],
          [
           "folk rock"
          ],
          [
           "folk rock italiano"
          ],
          [
           "folk-pop"
          ],
          [
           "folklore argentino"
          ],
          [
           "folklore boliviano"
          ],
          [
           "folklore chileno"
          ],
          [
           "folklore ecuatoriano"
          ],
          [
           "folklore peruano"
          ],
          [
           "folklore venezolano"
          ],
          [
           "folklore veracruzano"
          ],
          [
           "folkmusik"
          ],
          [
           "folktronica"
          ],
          [
           "footwork"
          ],
          [
           "forro"
          ],
          [
           "forro tradicional"
          ],
          [
           "fort worth indie"
          ],
          [
           "fourth world"
          ],
          [
           "francoton"
          ],
          [
           "freak folk"
          ],
          [
           "freakbeat"
          ],
          [
           "free folk"
          ],
          [
           "free improvisation"
          ],
          [
           "free jazz"
          ],
          [
           "freestyle"
          ],
          [
           "french baroque"
          ],
          [
           "french classical piano"
          ],
          [
           "french contemporary classical"
          ],
          [
           "french death metal"
          ],
          [
           "french dnb"
          ],
          [
           "french hip hop"
          ],
          [
           "french indie folk"
          ],
          [
           "french indie pop"
          ],
          [
           "french indietronica"
          ],
          [
           "french jazz"
          ],
          [
           "french metal"
          ],
          [
           "french movie tunes"
          ],
          [
           "french opera"
          ],
          [
           "french orchestra"
          ],
          [
           "french pop"
          ],
          [
           "french post-punk"
          ],
          [
           "french psychedelic"
          ],
          [
           "french reggae"
          ],
          [
           "french rock"
          ],
          [
           "french romanticism"
          ],
          [
           "french shoegaze"
          ],
          [
           "french soundtrack"
          ],
          [
           "french synthpop"
          ],
          [
           "french techno"
          ],
          [
           "frenchcore"
          ],
          [
           "full on"
          ],
          [
           "funana"
          ],
          [
           "funeral doom"
          ],
          [
           "funk"
          ],
          [
           "funk 150 bpm"
          ],
          [
           "funk carioca"
          ],
          [
           "funk das antigas"
          ],
          [
           "funk metal"
          ],
          [
           "funk mexicano"
          ],
          [
           "funk ostentacao"
          ],
          [
           "funk paulista"
          ],
          [
           "funk pop"
          ],
          [
           "funk rock"
          ],
          [
           "funky breaks"
          ],
          [
           "funky tech house"
          ],
          [
           "future bass"
          ],
          [
           "future funk"
          ],
          [
           "future garage"
          ],
          [
           "future house"
          ],
          [
           "future rock"
          ],
          [
           "futurepop"
          ],
          [
           "g funk"
          ],
          [
           "gabba"
          ],
          [
           "gabonese pop"
          ],
          [
           "gaian doom"
          ],
          [
           "gainesville indie"
          ],
          [
           "gaita zuliana"
          ],
          [
           "galante era"
          ],
          [
           "gamelan"
          ],
          [
           "gaming dubstep"
          ],
          [
           "gaming edm"
          ],
          [
           "gangster rap"
          ],
          [
           "garage house"
          ],
          [
           "garage pop"
          ],
          [
           "garage psych"
          ],
          [
           "garage punk"
          ],
          [
           "garage punk blues"
          ],
          [
           "garage rock"
          ],
          [
           "garage rock revival"
          ],
          [
           "gauze pop"
          ],
          [
           "gbvfi"
          ],
          [
           "geek folk"
          ],
          [
           "geek rock"
          ],
          [
           "georgian folk"
          ],
          [
           "german alternative rock"
          ],
          [
           "german baroque"
          ],
          [
           "german choir"
          ],
          [
           "german classical piano"
          ],
          [
           "german country"
          ],
          [
           "german dance"
          ],
          [
           "german hard rock"
          ],
          [
           "german heavy metal"
          ],
          [
           "german house"
          ],
          [
           "german indie"
          ],
          [
           "german jazz"
          ],
          [
           "german literature"
          ],
          [
           "german metal"
          ],
          [
           "german oi"
          ],
          [
           "german opera"
          ],
          [
           "german orchestra"
          ],
          [
           "german pop"
          ],
          [
           "german pop rock"
          ],
          [
           "german post-hardcore"
          ],
          [
           "german power metal"
          ],
          [
           "german punk"
          ],
          [
           "german renaissance"
          ],
          [
           "german rock"
          ],
          [
           "german romanticism"
          ],
          [
           "german show tunes"
          ],
          [
           "german soundtrack"
          ],
          [
           "german techno"
          ],
          [
           "german thrash metal"
          ],
          [
           "german trance"
          ],
          [
           "german underground rap"
          ],
          [
           "ghanaian hip hop"
          ],
          [
           "ghanaian traditional"
          ],
          [
           "ghazal"
          ],
          [
           "ghent indie"
          ],
          [
           "girl group"
          ],
          [
           "glam metal"
          ],
          [
           "glam punk"
          ],
          [
           "glam rock"
          ],
          [
           "glee club"
          ],
          [
           "glitch"
          ],
          [
           "glitch hop"
          ],
          [
           "glitch pop"
          ],
          [
           "glitchcore"
          ],
          [
           "go-go"
          ],
          [
           "goregrind"
          ],
          [
           "gospel"
          ],
          [
           "gospel antigas"
          ],
          [
           "gospel blues"
          ],
          [
           "gospel italiano"
          ],
          [
           "gospel r&b"
          ],
          [
           "gospel rap"
          ],
          [
           "gospel singers"
          ],
          [
           "gospel soul"
          ],
          [
           "gothabilly"
          ],
          [
           "gothenburg indie"
          ],
          [
           "gothenburg metal"
          ],
          [
           "gothic alternative"
          ],
          [
           "gothic americana"
          ],
          [
           "gothic black metal"
          ],
          [
           "gothic metal"
          ],
          [
           "gothic post-punk"
          ],
          [
           "gothic rock"
          ],
          [
           "gothic symphonic metal"
          ],
          [
           "gqom"
          ],
          [
           "grand rapids indie"
          ],
          [
           "grave wave"
          ],
          [
           "greek clarinet"
          ],
          [
           "greek contemporary classical"
          ],
          [
           "greek folk"
          ],
          [
           "greek guitar"
          ],
          [
           "greek house"
          ],
          [
           "greek jazz"
          ],
          [
           "greek pop"
          ],
          [
           "greek swing"
          ],
          [
           "gregorian chant"
          ],
          [
           "grime"
          ],
          [
           "grindcore"
          ],
          [
           "griot"
          ],
          [
           "groove metal"
          ],
          [
           "groove room"
          ],
          [
           "grunge"
          ],
          [
           "grunge pop"
          ],
          [
           "grupera"
          ],
          [
           "gruperas inmortales"
          ],
          [
           "guadalajara indie"
          ],
          [
           "guam indie"
          ],
          [
           "guaracha"
          ],
          [
           "guatemalan pop"
          ],
          [
           "guidance"
          ],
          [
           "guinean pop"
          ],
          [
           "guitarra argentina"
          ],
          [
           "guitarra clasica"
          ],
          [
           "guitarra portuguesa"
          ],
          [
           "gujarati garba"
          ],
          [
           "gujarati pop"
          ],
          [
           "guzheng"
          ],
          [
           "gymcore"
          ],
          [
           "gypsy"
          ],
          [
           "gypsy jazz"
          ],
          [
           "gypsy punk"
          ],
          [
           "haitian traditional"
          ],
          [
           "halifax indie"
          ],
          [
           "halloween"
          ],
          [
           "hamburg electronic"
          ],
          [
           "hammered dulcimer"
          ],
          [
           "hammond organ"
          ],
          [
           "hands up"
          ],
          [
           "hangpan"
          ],
          [
           "happy hardcore"
          ],
          [
           "hard alternative"
          ],
          [
           "hard bop"
          ],
          [
           "hard minimal techno"
          ],
          [
           "hard rock"
          ],
          [
           "hard rock brasileiro"
          ],
          [
           "hardcore"
          ],
          [
           "hardcore hip hop"
          ],
          [
           "hardcore punk"
          ],
          [
           "hardcore techno"
          ],
          [
           "hardstyle"
          ],
          [
           "harlem hip hop"
          ],
          [
           "harlem renaissance"
          ],
          [
           "harmonica blues"
          ],
          [
           "harmonica jazz"
          ],
          [
           "harp"
          ],
          [
           "harpsichord"
          ],
          [
           "haryanvi pop"
          ],
          [
           "hauntology"
          ],
          [
           "hawaiian"
          ],
          [
           "hawaiian hip hop"
          ],
          [
           "hawaiian indie"
          ],
          [
           "healing"
          ],
          [
           "heartland rock"
          ],
          [
           "hi-nrg"
          ],
          [
           "highlife"
          ],
          [
           "hindi hip hop"
          ],
          [
           "hindi indie"
          ],
          [
           "hindustani classical"
          ],
          [
           "hindustani instrumental"
          ],
          [
           "hindustani vocal"
          ],
          [
           "hip hop"
          ],
          [
           "hip hop cubano"
          ],
          [
           "hip house"
          ],
          [
           "hip pop"
          ],
          [
           "hiplife"
          ],
          [
           "histoire pour enfants"
          ],
          [
           "historic classical performance"
          ],
          [
           "historic orchestral performance"
          ],
          [
           "historic piano performance"
          ],
          [
           "historic string quartet"
          ],
          [
           "historical keyboard"
          ],
          [
           "historically informed performance"
          ],
          [
           "hoerspiel"
          ],
          [
           "hokkien pop"
          ],
          [
           "hollywood"
          ],
          [
           "hong kong hip hop"
          ],
          [
           "hong kong indie"
          ],
          [
           "hong kong rock"
          ],
          [
           "honky tonk"
          ],
          [
           "honky-tonk piano"
          ],
          [
           "hopebeat"
          ],
          [
           "horror punk"
          ],
          [
           "horror synth"
          ],
          [
           "horrorcore"
          ],
          [
           "house"
          ],
          [
           "houston rap"
          ],
          [
           "huapango"
          ],
          [
           "huayno"
          ],
          [
           "hula"
          ],
          [
           "humppa"
          ],
          [
           "hungarian choir"
          ],
          [
           "hungarian classical performance"
          ],
          [
           "hungarian classical piano"
          ],
          [
           "hungarian contemporary classical"
          ],
          [
           "hungarian edm"
          ],
          [
           "hungarian folk"
          ],
          [
           "hungarian pop"
          ],
          [
           "hungarian rock"
          ],
          [
           "hungarian techno"
          ],
          [
           "hurdy-gurdy"
          ],
          [
           "hyperpop"
          ],
          [
           "hyphy"
          ],
          [
           "icelandic classical"
          ],
          [
           "icelandic electronic"
          ],
          [
           "icelandic experimental"
          ],
          [
           "icelandic folk"
          ],
          [
           "icelandic indie"
          ],
          [
           "icelandic jazz"
          ],
          [
           "icelandic pop"
          ],
          [
           "icelandic rock"
          ],
          [
           "idaho indie"
          ],
          [
           "idol"
          ],
          [
           "idol rock"
          ],
          [
           "ilahiler"
          ],
          [
           "ilocano pop"
          ],
          [
           "impressionism"
          ],
          [
           "indian classical"
          ],
          [
           "indian edm"
          ],
          [
           "indian folk"
          ],
          [
           "indian fusion"
          ],
          [
           "indian indie"
          ],
          [
           "indian instrumental"
          ],
          [
           "indian jazz"
          ],
          [
           "indiana hip hop"
          ],
          [
           "indie anthem-folk"
          ],
          [
           "indie cafe pop"
          ],
          [
           "indie deutschrap"
          ],
          [
           "indie dream pop"
          ],
          [
           "indie electronica"
          ],
          [
           "indie electropop"
          ],
          [
           "indie folk"
          ],
          [
           "indie game soundtrack"
          ],
          [
           "indie garage rock"
          ],
          [
           "indie hip hop"
          ],
          [
           "indie jazz"
          ],
          [
           "indie pop"
          ],
          [
           "indie pop rap"
          ],
          [
           "indie poptimism"
          ],
          [
           "indie psych-pop"
          ],
          [
           "indie punk"
          ],
          [
           "indie quebecois"
          ],
          [
           "indie r&b"
          ],
          [
           "indie rock"
          ],
          [
           "indie rock mexicano"
          ],
          [
           "indie rockism"
          ],
          [
           "indie shoegaze"
          ],
          [
           "indie singer-songwriter"
          ],
          [
           "indie soul"
          ],
          [
           "indie surf"
          ],
          [
           "indie triste"
          ],
          [
           "indiecoustica"
          ],
          [
           "indietronica"
          ],
          [
           "indonesian hip hop"
          ],
          [
           "indonesian indie"
          ],
          [
           "indonesian pop"
          ],
          [
           "indonesian r&b"
          ],
          [
           "indonesian worship"
          ],
          [
           "industrial"
          ],
          [
           "industrial hardcore"
          ],
          [
           "industrial hip hop"
          ],
          [
           "industrial metal"
          ],
          [
           "industrial rock"
          ],
          [
           "indy indie"
          ],
          [
           "instrumental acoustic guitar"
          ],
          [
           "instrumental bluegrass"
          ],
          [
           "instrumental funk"
          ],
          [
           "instrumental grime"
          ],
          [
           "instrumental math rock"
          ],
          [
           "instrumental post-rock"
          ],
          [
           "instrumental progressive metal"
          ],
          [
           "instrumental rock"
          ],
          [
           "instrumental soul"
          ],
          [
           "instrumental stoner rock"
          ],
          [
           "instrumental surf"
          ],
          [
           "intelligent dance music"
          ],
          [
           "iowa hip hop"
          ],
          [
           "irish accordion"
          ],
          [
           "irish ballad"
          ],
          [
           "irish banjo"
          ],
          [
           "irish classical"
          ],
          [
           "irish country"
          ],
          [
           "irish dance"
          ],
          [
           "irish fiddle"
          ],
          [
           "irish folk"
          ],
          [
           "irish hip hop"
          ],
          [
           "irish indie"
          ],
          [
           "irish metal"
          ],
          [
           "irish pop"
          ],
          [
           "irish pub song"
          ],
          [
           "irish rock"
          ],
          [
           "irish singer-songwriter"
          ],
          [
           "iskelma"
          ],
          [
           "islamic recitation"
          ],
          [
           "isle of wight indie"
          ],
          [
           "israeli classical"
          ],
          [
           "israeli classical piano"
          ],
          [
           "israeli folk"
          ],
          [
           "israeli hip hop"
          ],
          [
           "israeli mediterranean"
          ],
          [
           "israeli pop"
          ],
          [
           "israeli rock"
          ],
          [
           "israeli singer-songwriter"
          ],
          [
           "israeli techno"
          ],
          [
           "italian adult pop"
          ],
          [
           "italian baritone"
          ],
          [
           "italian baroque"
          ],
          [
           "italian baroque ensemble"
          ],
          [
           "italian bass"
          ],
          [
           "italian blues"
          ],
          [
           "italian classical guitar"
          ],
          [
           "italian classical piano"
          ],
          [
           "italian contemporary jazz"
          ],
          [
           "italian disco"
          ],
          [
           "italian gothic"
          ],
          [
           "italian gothic metal"
          ],
          [
           "italian indie pop"
          ],
          [
           "italian jazz"
          ],
          [
           "italian library music"
          ],
          [
           "italian mandolin"
          ],
          [
           "italian metal"
          ],
          [
           "italian mezzo-soprano"
          ],
          [
           "italian modern prog"
          ],
          [
           "italian opera"
          ],
          [
           "italian orchestra"
          ],
          [
           "italian pop rock"
          ],
          [
           "italian power metal"
          ],
          [
           "italian progressive metal"
          ],
          [
           "italian progressive rock"
          ],
          [
           "italian renaissance"
          ],
          [
           "italian romanticism"
          ],
          [
           "italian soprano"
          ],
          [
           "italian soundtrack"
          ],
          [
           "italian techno"
          ],
          [
           "italian tenor"
          ],
          [
           "italian violin"
          ],
          [
           "italo dance"
          ],
          [
           "italo house"
          ],
          [
           "j-acoustic"
          ],
          [
           "j-ambient"
          ],
          [
           "j-dance"
          ],
          [
           "j-division"
          ],
          [
           "j-idol"
          ],
          [
           "j-metal"
          ],
          [
           "j-pixie"
          ],
          [
           "j-pop"
          ],
          [
           "j-pop girl group"
          ],
          [
           "j-poprock"
          ],
          [
           "j-punk"
          ],
          [
           "j-reggae"
          ],
          [
           "j-rock"
          ],
          [
           "jacksonville indie"
          ],
          [
           "jam band"
          ],
          [
           "jamgrass"
          ],
          [
           "jamtronica"
          ],
          [
           "jangle pop"
          ],
          [
           "japanese alternative rock"
          ],
          [
           "japanese chillhop"
          ],
          [
           "japanese city pop"
          ],
          [
           "japanese classical"
          ],
          [
           "japanese classical performance"
          ],
          [
           "japanese classical piano"
          ],
          [
           "japanese concert band"
          ],
          [
           "japanese dream pop"
          ],
          [
           "japanese electronic"
          ],
          [
           "japanese electropop"
          ],
          [
           "japanese emo"
          ],
          [
           "japanese experimental"
          ],
          [
           "japanese folk"
          ],
          [
           "japanese garage rock"
          ],
          [
           "japanese girl punk"
          ],
          [
           "japanese heavy metal"
          ],
          [
           "japanese idm"
          ],
          [
           "japanese indie folk"
          ],
          [
           "japanese indie rock"
          ],
          [
           "japanese instrumental"
          ],
          [
           "japanese jazz"
          ],
          [
           "japanese jazz fusion"
          ],
          [
           "japanese jazztronica"
          ],
          [
           "japanese metalcore"
          ],
          [
           "japanese new wave"
          ],
          [
           "japanese piano"
          ],
          [
           "japanese pop punk"
          ],
          [
           "japanese post-hardcore"
          ],
          [
           "japanese power metal"
          ],
          [
           "japanese prog"
          ],
          [
           "japanese psychedelic"
          ],
          [
           "japanese punk rock"
          ],
          [
           "japanese r&b"
          ],
          [
           "japanese rockabilly"
          ],
          [
           "japanese singer-songwriter"
          ],
          [
           "japanese soundtrack"
          ],
          [
           "japanese traditional"
          ],
          [
           "japanese vgm"
          ],
          [
           "japanese vocal jazz"
          ],
          [
           "jawaiian"
          ],
          [
           "jazz"
          ],
          [
           "jazz accordion"
          ],
          [
           "jazz blues"
          ],
          [
           "jazz boom bap"
          ],
          [
           "jazz brass"
          ],
          [
           "jazz chileno"
          ],
          [
           "jazz clarinet"
          ],
          [
           "jazz colombiano"
          ],
          [
           "jazz cubano"
          ],
          [
           "jazz double bass"
          ],
          [
           "jazz drums"
          ],
          [
           "jazz flute"
          ],
          [
           "jazz funk"
          ],
          [
           "jazz fusion"
          ],
          [
           "jazz guitar"
          ],
          [
           "jazz harp"
          ],
          [
           "jazz metal"
          ],
          [
           "jazz mexicano"
          ],
          [
           "jazz orchestra"
          ],
          [
           "jazz organ"
          ],
          [
           "jazz piano"
          ],
          [
           "jazz pop"
          ],
          [
           "jazz quartet"
          ],
          [
           "jazz rap"
          ],
          [
           "jazz rock"
          ],
          [
           "jazz saxophone"
          ],
          [
           "jazz trio"
          ],
          [
           "jazz trombone"
          ],
          [
           "jazz trumpet"
          ],
          [
           "jazz tuba"
          ],
          [
           "jazz venezolano"
          ],
          [
           "jazz vibraphone"
          ],
          [
           "jazz violin"
          ],
          [
           "jazztronica"
          ],
          [
           "jewish cantorial"
          ],
          [
           "jewish hip hop"
          ],
          [
           "jig and reel"
          ],
          [
           "jordanian pop"
          ],
          [
           "joropo"
          ],
          [
           "jovem guarda"
          ],
          [
           "jug band"
          ],
          [
           "juju"
          ],
          [
           "jump blues"
          ],
          [
           "jump up"
          ],
          [
           "k-indie"
          ],
          [
           "k-pop"
          ],
          [
           "k-pop boy group"
          ],
          [
           "k-pop girl group"
          ],
          [
           "k-rap"
          ],
          [
           "kabarett"
          ],
          [
           "kabyle"
          ],
          [
           "kaneka"
          ],
          [
           "kannada bhava geethe"
          ],
          [
           "kansas city hip hop"
          ],
          [
           "kashmiri pop"
          ],
          [
           "kawaii future bass"
          ],
          [
           "kawaii metal"
          ],
          [
           "kayokyoku"
          ],
          [
           "kc indie"
          ],
          [
           "kent indie"
          ],
          [
           "kentucky hip hop"
          ],
          [
           "kentucky indie"
          ],
          [
           "kentucky metal"
          ],
          [
           "kentucky mountain folk"
          ],
          [
           "kentucky punk"
          ],
          [
           "kentucky roots"
          ],
          [
           "keroncong"
          ],
          [
           "khaleeji iraqi"
          ],
          [
           "khmer"
          ],
          [
           "kids dance party"
          ],
          [
           "kindie rock"
          ],
          [
           "kingston on indie"
          ],
          [
           "kirtan"
          ],
          [
           "kiwi rock"
          ],
          [
           "kizomba antigas"
          ],
          [
           "kleine hoerspiel"
          ],
          [
           "klezmer"
          ],
          [
           "knoxville indie"
          ],
          [
           "kodomo no ongaku"
          ],
          [
           "kolsche karneval"
          ],
          [
           "komedi"
          ],
          [
           "kompa"
          ],
          [
           "kora"
          ],
          [
           "korean classical performance"
          ],
          [
           "korean classical piano"
          ],
          [
           "korean indie rock"
          ],
          [
           "korean mask singer"
          ],
          [
           "korean pop"
          ],
          [
           "korean r&b"
          ],
          [
           "korean trap"
          ],
          [
           "koto"
          ],
          [
           "krautrock"
          ],
          [
           "kundiman"
          ],
          [
           "la indie"
          ],
          [
           "la pop"
          ],
          [
           "laboratorio"
          ],
          [
           "lafayette indie"
          ],
          [
           "laiko"
          ],
          [
           "lancashire indie"
          ],
          [
           "lancaster pa indie"
          ],
          [
           "late romantic era"
          ],
          [
           "latin"
          ],
          [
           "latin afrobeat"
          ],
          [
           "latin alternative"
          ],
          [
           "latin american classical piano"
          ],
          [
           "latin arena pop"
          ],
          [
           "latin christian"
          ],
          [
           "latin classical"
          ],
          [
           "latin funk"
          ],
          [
           "latin hip hop"
          ],
          [
           "latin house"
          ],
          [
           "latin jazz"
          ],
          [
           "latin metal"
          ],
          [
           "latin pop"
          ],
          [
           "latin rock"
          ],
          [
           "latin ska"
          ],
          [
           "latin soundtrack"
          ],
          [
           "latin talent show"
          ],
          [
           "latin tech house"
          ],
          [
           "latin viral pop"
          ],
          [
           "latin worship"
          ],
          [
           "latincore"
          ],
          [
           "latino comedy"
          ],
          [
           "latintronica"
          ],
          [
           "latinx alternative"
          ],
          [
           "latvian pop"
          ],
          [
           "lds"
          ],
          [
           "lds youth"
          ],
          [
           "lebanese pop"
          ],
          [
           "leicester indie"
          ],
          [
           "lexington ky indie"
          ],
          [
           "lgbtq+ hip hop"
          ],
          [
           "library music"
          ],
          [
           "liedermacher"
          ],
          [
           "light music"
          ],
          [
           "lilith"
          ],
          [
           "liquid funk"
          ],
          [
           "lithuanian electronic"
          ],
          [
           "liverpool indie"
          ],
          [
           "livetronica"
          ],
          [
           "lldm"
          ],
          [
           "lo star"
          ],
          [
           "lo-fi"
          ],
          [
           "lo-fi beats"
          ],
          [
           "lo-fi brasileiro"
          ],
          [
           "lo-fi chill"
          ],
          [
           "lo-fi cover"
          ],
          [
           "lo-fi emo"
          ],
          [
           "lo-fi house"
          ],
          [
           "lo-fi indie"
          ],
          [
           "lo-fi vgm"
          ],
          [
           "london rap"
          ],
          [
           "louisiana blues"
          ],
          [
           "louisiana metal"
          ],
          [
           "louisville indie"
          ],
          [
           "louisville underground"
          ],
          [
           "lounge"
          ],
          [
           "louvor"
          ],
          [
           "lovers rock"
          ],
          [
           "lullaby"
          ],
          [
           "lund indie"
          ],
          [
           "lute"
          ],
          [
           "macedonian folk"
          ],
          [
           "madchester"
          ],
          [
           "madrigal"
          ],
          [
           "magyar alternative"
          ],
          [
           "maine hip hop"
          ],
          [
           "maine indie"
          ],
          [
           "mainland chinese pop"
          ],
          [
           "makossa"
          ],
          [
           "malaysian mandopop"
          ],
          [
           "malaysian pop"
          ],
          [
           "malian blues"
          ],
          [
           "mallet"
          ],
          [
           "malmo indie"
          ],
          [
           "mambo"
          ],
          [
           "manchester hip hop"
          ],
          [
           "manchester indie"
          ],
          [
           "mande pop"
          ],
          [
           "mandolin"
          ],
          [
           "mandopop"
          ],
          [
           "manguebeat"
          ],
          [
           "manila sound"
          ],
          [
           "manitoba indie"
          ],
          [
           "mantra"
          ],
          [
           "marathi pop"
          ],
          [
           "marathi traditional"
          ],
          [
           "marching band"
          ],
          [
           "mariachi"
          ],
          [
           "mariachi cristiano"
          ],
          [
           "marimba orquesta"
          ],
          [
           "martial industrial"
          ],
          [
           "mashup"
          ],
          [
           "math rock"
          ],
          [
           "mathcore"
          ],
          [
           "mbalax"
          ],
          [
           "medieval"
          ],
          [
           "medieval folk"
          ],
          [
           "medieval rock"
          ],
          [
           "meditation"
          ],
          [
           "melancholia"
          ],
          [
           "melbourne bounce"
          ],
          [
           "melbourne bounce international"
          ],
          [
           "melbourne indie"
          ],
          [
           "mellow gold"
          ],
          [
           "melodic death metal"
          ],
          [
           "melodic deathcore"
          ],
          [
           "melodic dubstep"
          ],
          [
           "melodic groove metal"
          ],
          [
           "melodic hard rock"
          ],
          [
           "melodic hardcore"
          ],
          [
           "melodic metal"
          ],
          [
           "melodic metalcore"
          ],
          [
           "melodic power metal"
          ],
          [
           "melodic rap"
          ],
          [
           "melodic thrash"
          ],
          [
           "meme rap"
          ],
          [
           "memphis americana"
          ],
          [
           "memphis blues"
          ],
          [
           "memphis hip hop"
          ],
          [
           "memphis indie"
          ],
          [
           "memphis soul"
          ],
          [
           "mento"
          ],
          [
           "merengue"
          ],
          [
           "merengue tipico"
          ],
          [
           "merseybeat"
          ],
          [
           "messianic praise"
          ],
          [
           "metal"
          ],
          [
           "metal guitar"
          ],
          [
           "metal mineiro"
          ],
          [
           "metalcore"
          ],
          [
           "metropopolis"
          ],
          [
           "mexican classic rock"
          ],
          [
           "mexican classical"
          ],
          [
           "mexican hip hop"
          ],
          [
           "mexican indie"
          ],
          [
           "mexican pop"
          ],
          [
           "mexican pop punk"
          ],
          [
           "mexican rock"
          ],
          [
           "mexican rock-and-roll"
          ],
          [
           "mexican son"
          ],
          [
           "mexican traditional"
          ],
          [
           "miami bass"
          ],
          [
           "miami hip hop"
          ],
          [
           "miami indie"
          ],
          [
           "miami metal"
          ],
          [
           "michigan indie"
          ],
          [
           "microhouse"
          ],
          [
           "microtonal"
          ],
          [
           "middle earth"
          ],
          [
           "middle east hip hop"
          ],
          [
           "middle eastern traditional"
          ],
          [
           "midwest americana"
          ],
          [
           "midwest emo"
          ],
          [
           "military cadence"
          ],
          [
           "military rap"
          ],
          [
           "milwaukee indie"
          ],
          [
           "mindfulness"
          ],
          [
           "minecraft"
          ],
          [
           "minimal melodic techno"
          ],
          [
           "minimal tech house"
          ],
          [
           "minimal techno"
          ],
          [
           "minimal wave"
          ],
          [
           "minimalism"
          ],
          [
           "minneapolis indie"
          ],
          [
           "minneapolis metal"
          ],
          [
           "minneapolis punk"
          ],
          [
           "minneapolis sound"
          ],
          [
           "minnesota hip hop"
          ],
          [
           "mississippi hip hop"
          ],
          [
           "mississippi indie"
          ],
          [
           "mizrahi"
          ],
          [
           "mod revival"
          ],
          [
           "modern alternative pop"
          ],
          [
           "modern alternative rock"
          ],
          [
           "modern big band"
          ],
          [
           "modern blues"
          ],
          [
           "modern blues rock"
          ],
          [
           "modern bollywood"
          ],
          [
           "modern country rock"
          ],
          [
           "modern dream pop"
          ],
          [
           "modern folk rock"
          ],
          [
           "modern funk"
          ],
          [
           "modern hard rock"
          ],
          [
           "modern indie pop"
          ],
          [
           "modern jazz piano"
          ],
          [
           "modern jazz trio"
          ],
          [
           "modern old-time"
          ],
          [
           "modern performance"
          ],
          [
           "modern power pop"
          ],
          [
           "modern psychedelic folk"
          ],
          [
           "modern reggae"
          ],
          [
           "modern rock"
          ],
          [
           "modern salsa"
          ],
          [
           "modern ska punk"
          ],
          [
           "modern southern rock"
          ],
          [
           "modern string quartet"
          ],
          [
           "modern swing"
          ],
          [
           "modern uplift"
          ],
          [
           "modular synth"
          ],
          [
           "moldovan pop"
          ],
          [
           "mollywood"
          ],
          [
           "mongolian hip hop"
          ],
          [
           "mongolian pop"
          ],
          [
           "monterrey indie"
          ],
          [
           "montreal indie"
          ],
          [
           "moog"
          ],
          [
           "moombahton"
          ],
          [
           "morna"
          ],
          [
           "motivation"
          ],
          [
           "motown"
          ],
          [
           "mountain dulcimer"
          ],
          [
           "movie tunes"
          ],
          [
           "mpb"
          ],
          [
           "music box"
          ],
          [
           "music hall"
          ],
          [
           "musica afroperuana"
          ],
          [
           "musica alagoana"
          ],
          [
           "musica andina"
          ],
          [
           "musica andina colombiana"
          ],
          [
           "musica antigua"
          ],
          [
           "musica aragonesa"
          ],
          [
           "musica ayacuchana"
          ],
          [
           "musica canaria"
          ],
          [
           "musica costarricense"
          ],
          [
           "musica costena"
          ],
          [
           "musica cristiana guatemalteca"
          ],
          [
           "musica de fondo"
          ],
          [
           "musica gaucha tradicionalista"
          ],
          [
           "musica hondurena"
          ],
          [
           "musica infantil"
          ],
          [
           "musica jibara"
          ],
          [
           "musica juiz-forana"
          ],
          [
           "musica llanera"
          ],
          [
           "musica nicaraguense"
          ],
          [
           "musica para criancas"
          ],
          [
           "musica para ninos"
          ],
          [
           "musica paraibana"
          ],
          [
           "musica piemonteisa"
          ],
          [
           "musica popular colombiana"
          ],
          [
           "musica popular mineira"
          ],
          [
           "musica popular paraense"
          ],
          [
           "musica potosina"
          ],
          [
           "musica prehispanica"
          ],
          [
           "musica sarda"
          ],
          [
           "musica tradicional cubana"
          ],
          [
           "musica tropical guatemalteca"
          ],
          [
           "musical advocacy"
          ],
          [
           "musikkorps"
          ],
          [
           "musique concrete"
          ],
          [
           "musique peule"
          ],
          [
           "musique pour enfant quebecois"
          ],
          [
           "musique pour enfants"
          ],
          [
           "musique touareg"
          ],
          [
           "muzica populara"
          ],
          [
           "muzika l'yeladim"
          ],
          [
           "naija worship"
          ],
          [
           "nantes indie"
          ],
          [
           "narodna muzika"
          ],
          [
           "nashville americana"
          ],
          [
           "nashville hip hop"
          ],
          [
           "nashville indie"
          ],
          [
           "nashville singer-songwriter"
          ],
          [
           "nashville sound"
          ],
          [
           "native american"
          ],
          [
           "native american contemporary"
          ],
          [
           "native american flute"
          ],
          [
           "native american hip hop"
          ],
          [
           "native american spiritual"
          ],
          [
           "navajo"
          ],
          [
           "nederlandse hardstyle"
          ],
          [
           "nederpop"
          ],
          [
           "neo classical metal"
          ],
          [
           "neo kyma"
          ],
          [
           "neo mellow"
          ],
          [
           "neo r&b"
          ],
          [
           "neo soul"
          ],
          [
           "neo-classical"
          ],
          [
           "neo-kraut"
          ],
          [
           "neo-pagan"
          ],
          [
           "neo-progressive"
          ],
          [
           "neo-psychedelic"
          ],
          [
           "neo-rockabilly"
          ],
          [
           "neo-singer-songwriter"
          ],
          [
           "neo-synthpop"
          ],
          [
           "neo-trad metal"
          ],
          [
           "neo-traditional bluegrass"
          ],
          [
           "neo-traditional country"
          ],
          [
           "neoclassical darkwave"
          ],
          [
           "neoclassicism"
          ],
          [
           "neofolk"
          ],
          [
           "neon pop punk"
          ],
          [
           "neotango"
          ],
          [
           "nepali indie"
          ],
          [
           "nepali pop"
          ],
          [
           "nerdcore"
          ],
          [
           "neue deutsche harte"
          ],
          [
           "neue deutsche todeskunst"
          ],
          [
           "neue deutsche welle"
          ],
          [
           "neurofunk"
          ],
          [
           "new age"
          ],
          [
           "new age piano"
          ],
          [
           "new americana"
          ],
          [
           "new beat"
          ],
          [
           "new comedy"
          ],
          [
           "new england americana"
          ],
          [
           "new england emo"
          ],
          [
           "new french touch"
          ],
          [
           "new isolationism"
          ],
          [
           "new jack swing"
          ],
          [
           "new jersey hardcore"
          ],
          [
           "new jersey indie"
          ],
          [
           "new jersey punk"
          ],
          [
           "new jersey rap"
          ],
          [
           "new mexico music"
          ],
          [
           "new orleans blues"
          ],
          [
           "new orleans funk"
          ],
          [
           "new orleans indie"
          ],
          [
           "new orleans jazz"
          ],
          [
           "new orleans rap"
          ],
          [
           "new rave"
          ],
          [
           "new romantic"
          ],
          [
           "new tribe"
          ],
          [
           "new wave"
          ],
          [
           "new wave of thrash metal"
          ],
          [
           "new wave pop"
          ],
          [
           "new weird america"
          ],
          [
           "new york death metal"
          ],
          [
           "new york drill"
          ],
          [
           "new zealand classical"
          ],
          [
           "newcastle indie"
          ],
          [
           "newcastle nsw indie"
          ],
          [
           "nigerian hip hop"
          ],
          [
           "nigerian pop"
          ],
          [
           "nightcore"
          ],
          [
           "nightrun"
          ],
          [
           "ninja"
          ],
          [
           "nintendocore"
          ],
          [
           "nisiotika"
          ],
          [
           "nl folk"
          ],
          [
           "no wave"
          ],
          [
           "noise pop"
          ],
          [
           "noise punk"
          ],
          [
           "noise rock"
          ],
          [
           "nordic classical piano"
          ],
          [
           "nordic contemporary classical"
          ],
          [
           "nordic folk"
          ],
          [
           "nordic house"
          ],
          [
           "nordic orchestra"
          ],
          [
           "nordic post-rock"
          ],
          [
           "nordic soundtrack"
          ],
          [
           "norman ok indie"
          ],
          [
           "norsk lovsang"
          ],
          [
           "norteno"
          ],
          [
           "norteno-sax"
          ],
          [
           "north carolina emo"
          ],
          [
           "north carolina hip hop"
          ],
          [
           "north carolina indie"
          ],
          [
           "north carolina metal"
          ],
          [
           "north carolina roots"
          ],
          [
           "north east england indie"
          ],
          [
           "northern irish indie"
          ],
          [
           "northern irish punk"
          ],
          [
           "northern soul"
          ],
          [
           "norwegian black metal"
          ],
          [
           "norwegian choir"
          ],
          [
           "norwegian classical"
          ],
          [
           "norwegian contemporary jazz"
          ],
          [
           "norwegian death metal"
          ],
          [
           "norwegian experimental"
          ],
          [
           "norwegian hip hop"
          ],
          [
           "norwegian indie"
          ],
          [
           "norwegian jazz"
          ],
          [
           "norwegian metal"
          ],
          [
           "norwegian pop"
          ],
          [
           "norwegian pop rap"
          ],
          [
           "norwegian punk rock"
          ],
          [
           "norwegian rock"
          ],
          [
           "norwegian singer-songwriter"
          ],
          [
           "norwegian space disco"
          ],
          [
           "nottingham indie"
          ],
          [
           "nouvelle chanson francaise"
          ],
          [
           "nova canco"
          ],
          [
           "nova mpb"
          ],
          [
           "nova musica pernambucana"
          ],
          [
           "novelty"
          ],
          [
           "nu age"
          ],
          [
           "nu disco"
          ],
          [
           "nu gaze"
          ],
          [
           "nu jazz"
          ],
          [
           "nu metal"
          ],
          [
           "nu skool breaks"
          ],
          [
           "nu-cumbia"
          ],
          [
           "nu-metalcore"
          ],
          [
           "nubian traditional"
          ],
          [
           "nueva cancion"
          ],
          [
           "nueva ola chilena"
          ],
          [
           "nueva ola peruana"
          ],
          [
           "nuevo flamenco"
          ],
          [
           "nuevo folklore mexicano"
          ],
          [
           "nuevo regional mexicano"
          ],
          [
           "nuevo tango"
          ],
          [
           "nursery"
          ],
          [
           "nwobhm"
          ],
          [
           "nwothm"
          ],
          [
           "ny roots"
          ],
          [
           "nyc pop"
          ],
          [
           "nyc rap"
          ],
          [
           "nyhc"
          ],
          [
           "nz christian"
          ],
          [
           "nz folk"
          ],
          [
           "nz hardcore"
          ],
          [
           "nz indie"
          ],
          [
           "nz pop"
          ],
          [
           "nz punk"
          ],
          [
           "nz reggae"
          ],
          [
           "nz singer-songwriter"
          ],
          [
           "oakland hip hop"
          ],
          [
           "oakland indie"
          ],
          [
           "oc indie"
          ],
          [
           "oc rap"
          ],
          [
           "oceania soundtrack"
          ],
          [
           "ohio hip hop"
          ],
          [
           "ohio indie"
          ],
          [
           "oi"
          ],
          [
           "ok indie"
          ],
          [
           "okc indie"
          ],
          [
           "okinawan pop"
          ],
          [
           "oklahoma country"
          ],
          [
           "old school dancehall"
          ],
          [
           "old school hip hop"
          ],
          [
           "old school rap francais"
          ],
          [
           "old school thrash"
          ],
          [
           "old school uk hip hop"
          ],
          [
           "old west"
          ],
          [
           "old-time"
          ],
          [
           "old-time fiddle"
          ],
          [
           "olympia wa indie"
          ],
          [
           "omaha indie"
          ],
          [
           "one-person band"
          ],
          [
           "ontario indie"
          ],
          [
           "opera"
          ],
          [
           "opera chorus"
          ],
          [
           "opera metal"
          ],
          [
           "operatic pop"
          ],
          [
           "operetta"
          ],
          [
           "opm"
          ],
          [
           "oratory"
          ],
          [
           "orchestra"
          ],
          [
           "orchestral performance"
          ],
          [
           "orebro indie"
          ],
          [
           "organic ambient"
          ],
          [
           "organic electronic"
          ],
          [
           "organic house"
          ],
          [
           "orgcore"
          ],
          [
           "oriental classical"
          ],
          [
           "orkney and shetland folk"
          ],
          [
           "orlando indie"
          ],
          [
           "orquesta tipica"
          ],
          [
           "orthodox chant"
          ],
          [
           "oshare kei"
          ],
          [
           "otacore"
          ],
          [
           "oth indie"
          ],
          [
           "ottawa indie"
          ],
          [
           "ottawa rap"
          ],
          [
           "oud"
          ],
          [
           "outer hip hop"
          ],
          [
           "outlaw country"
          ],
          [
           "outsider"
          ],
          [
           "outsider house"
          ],
          [
           "oxford choir"
          ],
          [
           "oxford indie"
          ],
          [
           "p funk"
          ],
          [
           "pagan black metal"
          ],
          [
           "pagode"
          ],
          [
           "pagode baiano"
          ],
          [
           "paisley underground"
          ],
          [
           "pakistani folk"
          ],
          [
           "pakistani hip hop"
          ],
          [
           "pakistani pop"
          ],
          [
           "palestinian pop"
          ],
          [
           "palm desert scene"
          ],
          [
           "panamanian pop"
          ],
          [
           "panamanian rock"
          ],
          [
           "panpipe"
          ],
          [
           "papuri"
          ],
          [
           "parody"
          ],
          [
           "partido alto"
          ],
          [
           "partyschlager"
          ],
          [
           "pei indie"
          ],
          [
           "permanent wave"
          ],
          [
           "perreo"
          ],
          [
           "persian pop"
          ],
          [
           "persian traditional"
          ],
          [
           "perth indie"
          ],
          [
           "peruvian hip hop"
          ],
          [
           "peruvian rock"
          ],
          [
           "pet calming"
          ],
          [
           "philly indie"
          ],
          [
           "philly rap"
          ],
          [
           "philly soul"
          ],
          [
           "phoenix indie"
          ],
          [
           "phonk"
          ],
          [
           "pianissimo"
          ],
          [
           "piano blues"
          ],
          [
           "piano cover"
          ],
          [
           "piano mpb"
          ],
          [
           "piano rock"
          ],
          [
           "pibroch"
          ],
          [
           "piedmont blues"
          ],
          [
           "pinoy hip hop"
          ],
          [
           "pinoy indie"
          ],
          [
           "pinoy pop punk"
          ],
          [
           "pinoy praise"
          ],
          [
           "pinoy r&b"
          ],
          [
           "pinoy reggae"
          ],
          [
           "pinoy rock"
          ],
          [
           "pinoy traditional"
          ],
          [
           "pinoy trap"
          ],
          [
           "pirate"
          ],
          [
           "pittsburgh indie"
          ],
          [
           "pittsburgh rap"
          ],
          [
           "pittsburgh rock"
          ],
          [
           "pixie"
          ],
          [
           "plunderphonics"
          ],
          [
           "poetry"
          ],
          [
           "polca paraguaya"
          ],
          [
           "polish blues"
          ],
          [
           "polish classical"
          ],
          [
           "polish classical piano"
          ],
          [
           "polish contemporary classical"
          ],
          [
           "polish jazz"
          ],
          [
           "polish modern jazz"
          ],
          [
           "polish pop"
          ],
          [
           "polish post-rock"
          ],
          [
           "polish reggae"
          ],
          [
           "polish rock"
          ],
          [
           "political hip hop"
          ],
          [
           "polka"
          ],
          [
           "polynesian hip hop"
          ],
          [
           "polynesian pop"
          ],
          [
           "polyphony"
          ],
          [
           "pony"
          ],
          [
           "pop"
          ],
          [
           "pop argentino"
          ],
          [
           "pop chileno"
          ],
          [
           "pop dance"
          ],
          [
           "pop edm"
          ],
          [
           "pop electronico"
          ],
          [
           "pop emo"
          ],
          [
           "pop flamenco"
          ],
          [
           "pop folk"
          ],
          [
           "pop house"
          ],
          [
           "pop nacional"
          ],
          [
           "pop nacional antigas"
          ],
          [
           "pop peruano"
          ],
          [
           "pop punk"
          ],
          [
           "pop quebecois"
          ],
          [
           "pop r&b"
          ],
          [
           "pop rap"
          ],
          [
           "pop reggaeton"
          ],
          [
           "pop rock"
          ],
          [
           "pop rock brasileiro"
          ],
          [
           "pop romantico"
          ],
          [
           "pop soul"
          ],
          [
           "pop venezolano"
          ],
          [
           "pop violin"
          ],
          [
           "popgaze"
          ],
          [
           "popping"
          ],
          [
           "pops orchestra"
          ],
          [
           "popwave"
          ],
          [
           "pornogrind"
          ],
          [
           "porro"
          ],
          [
           "portland hip hop"
          ],
          [
           "portland indie"
          ],
          [
           "portland metal"
          ],
          [
           "portland punk"
          ],
          [
           "portuguese early music"
          ],
          [
           "post-disco"
          ],
          [
           "post-disco soul"
          ],
          [
           "post-doom metal"
          ],
          [
           "post-grunge"
          ],
          [
           "post-hardcore"
          ],
          [
           "post-metal"
          ],
          [
           "post-minimalism"
          ],
          [
           "post-post-hardcore"
          ],
          [
           "post-punk"
          ],
          [
           "post-punk argentina"
          ],
          [
           "post-rock"
          ],
          [
           "post-romantic era"
          ],
          [
           "post-screamo"
          ],
          [
           "post-teen pop"
          ],
          [
           "power metal"
          ],
          [
           "power pop"
          ],
          [
           "power thrash"
          ],
          [
           "power-pop punk"
          ],
          [
           "praise"
          ],
          [
           "prepared piano"
          ],
          [
           "preschool children's music"
          ],
          [
           "prog quebec"
          ],
          [
           "progressive alternative"
          ],
          [
           "progressive bluegrass"
          ],
          [
           "progressive deathcore"
          ],
          [
           "progressive electro house"
          ],
          [
           "progressive groove metal"
          ],
          [
           "progressive house"
          ],
          [
           "progressive jazz fusion"
          ],
          [
           "progressive metal"
          ],
          [
           "progressive metalcore"
          ],
          [
           "progressive post-hardcore"
          ],
          [
           "progressive power metal"
          ],
          [
           "progressive psytrance"
          ],
          [
           "progressive rock"
          ],
          [
           "progressive sludge"
          ],
          [
           "progressive trance"
          ],
          [
           "progressive trance house"
          ],
          [
           "progressive uplifting trance"
          ],
          [
           "proto-rap"
          ],
          [
           "proto-techno"
          ],
          [
           "protopunk"
          ],
          [
           "psalmen"
          ],
          [
           "psicodelia brasileira"
          ],
          [
           "psybass"
          ],
          [
           "psychedelic blues-rock"
          ],
          [
           "psychedelic doom"
          ],
          [
           "psychedelic folk"
          ],
          [
           "psychedelic folk rock"
          ],
          [
           "psychedelic hip hop"
          ],
          [
           "psychedelic pop"
          ],
          [
           "psychedelic punk"
          ],
          [
           "psychedelic rock"
          ],
          [
           "psychedelic soul"
          ],
          [
           "psychedelic trance"
          ],
          [
           "psychill"
          ],
          [
           "psychobilly"
          ],
          [
           "pub rock"
          ],
          [
           "puerto rican folk"
          ],
          [
           "puerto rican pop"
          ],
          [
           "puerto rican rock"
          ],
          [
           "punjabi folk"
          ],
          [
           "punjabi hip hop"
          ],
          [
           "punjabi pop"
          ],
          [
           "punk"
          ],
          [
           "punk 'n' roll"
          ],
          [
           "punk blues"
          ],
          [
           "punk rock italiano"
          ],
          [
           "punk rock mexicano"
          ],
          [
           "punta"
          ],
          [
           "purple sound"
          ],
          [
           "qawwali"
          ],
          [
           "quartetto d'archi"
          ],
          [
           "quatuor a cordes"
          ],
          [
           "quebec death metal"
          ],
          [
           "quebec indie"
          ],
          [
           "queens hip hop"
          ],
          [
           "queer country"
          ],
          [
           "queercore"
          ],
          [
           "quiet storm"
          ],
          [
           "quran"
          ],
          [
           "r&b"
          ],
          [
           "r&b en espanol"
          ],
          [
           "rabindra sangeet"
          ],
          [
           "radio symphony"
          ],
          [
           "ragtime"
          ],
          [
           "rai"
          ],
          [
           "ranchera"
          ],
          [
           "rap"
          ],
          [
           "rap chileno"
          ],
          [
           "rap conciencia"
          ],
          [
           "rap conscient"
          ],
          [
           "rap cristiano"
          ],
          [
           "rap dominicano"
          ],
          [
           "rap kreyol"
          ],
          [
           "rap latina"
          ],
          [
           "rap metal"
          ],
          [
           "rap nacional antigo"
          ],
          [
           "rap napoletano"
          ],
          [
           "rap rock"
          ],
          [
           "rap underground mexicano"
          ],
          [
           "rare groove"
          ],
          [
           "rave"
          ],
          [
           "rawstyle"
          ],
          [
           "reading"
          ],
          [
           "reading indie"
          ],
          [
           "rebel blues"
          ],
          [
           "rebetiko"
          ],
          [
           "recorder"
          ],
          [
           "red dirt"
          ],
          [
           "redneck"
          ],
          [
           "reggae"
          ],
          [
           "reggae en espanol"
          ],
          [
           "reggae fusion"
          ],
          [
           "reggae rock"
          ],
          [
           "reggaeton"
          ],
          [
           "reggaeton colombiano"
          ],
          [
           "reggaeton cristiano"
          ],
          [
           "reggaeton flow"
          ],
          [
           "reggaeton mexicano"
          ],
          [
           "regional mexican"
          ],
          [
           "relaxative"
          ],
          [
           "renaissance"
          ],
          [
           "rennes indie"
          ],
          [
           "retro metal"
          ],
          [
           "retro soul"
          ],
          [
           "rhode island indie"
          ],
          [
           "rhode island rap"
          ],
          [
           "rhythm and blues"
          ],
          [
           "riddim"
          ],
          [
           "rif"
          ],
          [
           "riot grrrl"
          ],
          [
           "ritmo kombina"
          ],
          [
           "rochester mn indie"
          ],
          [
           "rochester ny indie"
          ],
          [
           "rock"
          ],
          [
           "rock alternatif francais"
          ],
          [
           "rock alternativo brasileiro"
          ],
          [
           "rock andaluz"
          ],
          [
           "rock baiano"
          ],
          [
           "rock brasiliense"
          ],
          [
           "rock chapin"
          ],
          [
           "rock cristiano"
          ],
          [
           "rock drums"
          ],
          [
           "rock en espanol"
          ],
          [
           "rock gaucho"
          ],
          [
           "rock independant francais"
          ],
          [
           "rock kapak"
          ],
          [
           "rock keyboard"
          ],
          [
           "rock nacional"
          ],
          [
           "rock nacional brasileiro"
          ],
          [
           "rock pernambucano"
          ],
          [
           "rock progressif francais"
          ],
          [
           "rock steady"
          ],
          [
           "rock urbano mexicano"
          ],
          [
           "rock-and-roll"
          ],
          [
           "rockabilly"
          ],
          [
           "rockabilly en espanol"
          ],
          [
           "roda de samba"
          ],
          [
           "romanian classical piano"
          ],
          [
           "romanian electronic"
          ],
          [
           "romanian folk"
          ],
          [
           "romanian pop"
          ],
          [
           "romanian rock"
          ],
          [
           "romantico"
          ],
          [
           "roots americana"
          ],
          [
           "roots reggae"
          ],
          [
           "roots rock"
          ],
          [
           "roots worship"
          ],
          [
           "rosary"
          ],
          [
           "rumba"
          ],
          [
           "rumba congolaise"
          ],
          [
           "rune folk"
          ],
          [
           "russian alternative rock"
          ],
          [
           "russian ccm"
          ],
          [
           "russian chanson"
          ],
          [
           "russian choir"
          ],
          [
           "russian classical piano"
          ],
          [
           "russian dance"
          ],
          [
           "russian edm"
          ],
          [
           "russian folk"
          ],
          [
           "russian folk rock"
          ],
          [
           "russian jazz"
          ],
          [
           "russian metal"
          ],
          [
           "russian metalcore"
          ],
          [
           "russian modern classical"
          ],
          [
           "russian orchestra"
          ],
          [
           "russian pop"
          ],
          [
           "russian post-punk"
          ],
          [
           "russian punk"
          ],
          [
           "russian rock"
          ],
          [
           "russian romanticism"
          ],
          [
           "russian shoegaze"
          ],
          [
           "russian trance"
          ],
          [
           "rva indie"
          ],
          [
           "rwandan traditional"
          ],
          [
           "ryukyu ongaku"
          ],
          [
           "sacramento hip hop"
          ],
          [
           "sacramento indie"
          ],
          [
           "sacred steel"
          ],
          [
           "sad rap"
          ],
          [
           "salsa"
          ],
          [
           "salsa choke"
          ],
          [
           "salsa colombiana"
          ],
          [
           "salsa cubana"
          ],
          [
           "salsa international"
          ],
          [
           "salsa peruana"
          ],
          [
           "salsa puertorriquena"
          ],
          [
           "salsa venezolana"
          ],
          [
           "samba"
          ],
          [
           "samba de roda"
          ],
          [
           "samba moderno"
          ],
          [
           "samba-enredo"
          ],
          [
           "samba-jazz"
          ],
          [
           "samba-rock"
          ],
          [
           "san antonio rap"
          ],
          [
           "san diego indie"
          ],
          [
           "san diego rap"
          ],
          [
           "san marcos tx indie"
          ],
          [
           "sandalwood"
          ],
          [
           "sarod"
          ],
          [
           "saskatchewan indie"
          ],
          [
           "scam rap"
          ],
          [
           "scandinavian r&b"
          ],
          [
           "scandipop"
          ],
          [
           "schlager"
          ],
          [
           "scorecore"
          ],
          [
           "scottish electronic"
          ],
          [
           "scottish fiddle"
          ],
          [
           "scottish folk"
          ],
          [
           "scottish hip hop"
          ],
          [
           "scottish indie"
          ],
          [
           "scottish jazz"
          ],
          [
           "scottish metal"
          ],
          [
           "scottish new wave"
          ],
          [
           "scottish rock"
          ],
          [
           "scottish singer-songwriter"
          ],
          [
           "scratch"
          ],
          [
           "scream rap"
          ],
          [
           "screamo"
          ],
          [
           "seattle hip hop"
          ],
          [
           "seattle indie"
          ],
          [
           "second line"
          ],
          [
           "sefardi"
          ],
          [
           "serbian electronic"
          ],
          [
           "serialism"
          ],
          [
           "sertanejo"
          ],
          [
           "sertanejo pop"
          ],
          [
           "sertanejo tradicional"
          ],
          [
           "sertanejo universitario"
          ],
          [
           "sevdah"
          ],
          [
           "sevillanas"
          ],
          [
           "shaabi"
          ],
          [
           "shabad"
          ],
          [
           "shakuhachi"
          ],
          [
           "shamanic"
          ],
          [
           "shanty"
          ],
          [
           "sheffield indie"
          ],
          [
           "shibuya-kei"
          ],
          [
           "shimmer pop"
          ],
          [
           "shimmer psych"
          ],
          [
           "shiver pop"
          ],
          [
           "shoegaze"
          ],
          [
           "show tunes"
          ],
          [
           "shred"
          ],
          [
           "shush"
          ],
          [
           "sierreno"
          ],
          [
           "singaporean mandopop"
          ],
          [
           "singaporean pop"
          ],
          [
           "singaporean singer-songwriter"
          ],
          [
           "singer-songwriter"
          ],
          [
           "singing bowl"
          ],
          [
           "sitar"
          ],
          [
           "ska"
          ],
          [
           "ska argentino"
          ],
          [
           "ska chileno"
          ],
          [
           "ska jazz"
          ],
          [
           "ska mexicano"
          ],
          [
           "ska punk"
          ],
          [
           "ska revival"
          ],
          [
           "skate punk"
          ],
          [
           "skiffle"
          ],
          [
           "skramz"
          ],
          [
           "sky room"
          ],
          [
           "slack-key guitar"
          ],
          [
           "slam poetry"
          ],
          [
           "slamming deathcore"
          ],
          [
           "slavic folk metal"
          ],
          [
           "slayer"
          ],
          [
           "slc indie"
          ],
          [
           "sleaze rock"
          ],
          [
           "sleep"
          ],
          [
           "slovak electronic"
          ],
          [
           "slovenian electronic"
          ],
          [
           "slovenian metal"
          ],
          [
           "slow game"
          ],
          [
           "slowcore"
          ],
          [
           "sludge metal"
          ],
          [
           "small room"
          ],
          [
           "smooth jazz"
          ],
          [
           "smooth saxophone"
          ],
          [
           "smooth soul"
          ],
          [
           "soca"
          ],
          [
           "socal pop punk"
          ],
          [
           "social media pop"
          ],
          [
           "soda pop"
          ],
          [
           "soft rock"
          ],
          [
           "solipsynthm"
          ],
          [
           "son cubano"
          ],
          [
           "son cubano clasico"
          ],
          [
           "son jarocho"
          ],
          [
           "sophisti-pop"
          ],
          [
           "sotalaulut"
          ],
          [
           "soukous"
          ],
          [
           "soul"
          ],
          [
           "soul blues"
          ],
          [
           "soul flow"
          ],
          [
           "soul jazz"
          ],
          [
           "souldies"
          ],
          [
           "sound"
          ],
          [
           "sound art"
          ],
          [
           "sound effects"
          ],
          [
           "sound team"
          ],
          [
           "soundtrack"
          ],
          [
           "south african alternative"
          ],
          [
           "south african choral"
          ],
          [
           "south african country"
          ],
          [
           "south african hip hop"
          ],
          [
           "south african house"
          ],
          [
           "south african jazz"
          ],
          [
           "south african pop"
          ],
          [
           "south african pop dance"
          ],
          [
           "south african rock"
          ],
          [
           "south carolina hip hop"
          ],
          [
           "south carolina indie"
          ],
          [
           "south carolina metal"
          ],
          [
           "south dakota indie"
          ],
          [
           "southampton indie"
          ],
          [
           "southern americana"
          ],
          [
           "southern gospel"
          ],
          [
           "southern hip hop"
          ],
          [
           "southern metal"
          ],
          [
           "southern rock"
          ],
          [
           "southern soul"
          ],
          [
           "southern soul blues"
          ],
          [
           "soviet synthpop"
          ],
          [
           "sovietwave"
          ],
          [
           "spa"
          ],
          [
           "space age pop"
          ],
          [
           "space ambient"
          ],
          [
           "space rock"
          ],
          [
           "spanish baroque"
          ],
          [
           "spanish classical"
          ],
          [
           "spanish classical piano"
          ],
          [
           "spanish folk metal"
          ],
          [
           "spanish hip hop"
          ],
          [
           "spanish indie pop"
          ],
          [
           "spanish invasion"
          ],
          [
           "spanish metal"
          ],
          [
           "spanish modern rock"
          ],
          [
           "spanish new wave"
          ],
          [
           "spanish noise pop"
          ],
          [
           "spanish pop"
          ],
          [
           "spanish pop rock"
          ],
          [
           "spanish renaissance"
          ],
          [
           "spanish rock"
          ],
          [
           "spanish synthpop"
          ],
          [
           "spanish techno"
          ],
          [
           "speed garage"
          ],
          [
           "speed metal"
          ],
          [
           "speedcore"
          ],
          [
           "spiritual hip hop"
          ],
          [
           "spiritual jazz"
          ],
          [
           "spirituals"
          ],
          [
           "springfield mo indie"
          ],
          [
           "spytrack"
          ],
          [
           "st louis rap"
          ],
          [
           "steampunk"
          ],
          [
           "steel guitar"
          ],
          [
           "steelpan"
          ],
          [
           "stl indie"
          ],
          [
           "stomp and flutter"
          ],
          [
           "stomp and holler"
          ],
          [
           "stomp and whittle"
          ],
          [
           "stomp pop"
          ],
          [
           "stoner metal"
          ],
          [
           "stoner rock"
          ],
          [
           "straight edge"
          ],
          [
           "straight-ahead jazz"
          ],
          [
           "street band"
          ],
          [
           "street punk"
          ],
          [
           "streichquartett"
          ],
          [
           "stride"
          ],
          [
           "string band"
          ],
          [
           "string folk"
          ],
          [
           "string orchestra"
          ],
          [
           "string quartet"
          ],
          [
           "strut"
          ],
          [
           "substep"
          ],
          [
           "sudanese pop"
          ],
          [
           "sufi"
          ],
          [
           "sufi chant"
          ],
          [
           "sunshine pop"
          ],
          [
           "supergroup"
          ],
          [
           "surf music"
          ],
          [
           "surf punk"
          ],
          [
           "svensk progg"
          ],
          [
           "swamp blues"
          ],
          [
           "swamp pop"
          ],
          [
           "swamp rock"
          ],
          [
           "swancore"
          ],
          [
           "swedish alternative rock"
          ],
          [
           "swedish americana"
          ],
          [
           "swedish black metal"
          ],
          [
           "swedish choir"
          ],
          [
           "swedish country"
          ],
          [
           "swedish dancehall"
          ],
          [
           "swedish death metal"
          ],
          [
           "swedish doom metal"
          ],
          [
           "swedish electronic"
          ],
          [
           "swedish electropop"
          ],
          [
           "swedish eurodance"
          ],
          [
           "swedish garage rock"
          ],
          [
           "swedish hard rock"
          ],
          [
           "swedish hardcore"
          ],
          [
           "swedish heavy metal"
          ],
          [
           "swedish house"
          ],
          [
           "swedish idol pop"
          ],
          [
           "swedish indie folk"
          ],
          [
           "swedish indie pop"
          ],
          [
           "swedish indie rock"
          ],
          [
           "swedish jazz"
          ],
          [
           "swedish jazz orkester"
          ],
          [
           "swedish melodic rock"
          ],
          [
           "swedish metal"
          ],
          [
           "swedish metalcore"
          ],
          [
           "swedish pop"
          ],
          [
           "swedish post-hardcore"
          ],
          [
           "swedish power metal"
          ],
          [
           "swedish prog"
          ],
          [
           "swedish progressive metal"
          ],
          [
           "swedish rock-and-roll"
          ],
          [
           "swedish singer-songwriter"
          ],
          [
           "swedish soul"
          ],
          [
           "swedish stoner rock"
          ],
          [
           "swedish synth"
          ],
          [
           "swedish synthpop"
          ],
          [
           "swedish tropical house"
          ],
          [
           "swedish underground rap"
          ],
          [
           "swing"
          ],
          [
           "swing italiano"
          ],
          [
           "swing revival"
          ],
          [
           "swiss black metal"
          ],
          [
           "swiss classical piano"
          ],
          [
           "swiss country"
          ],
          [
           "swiss metal"
          ],
          [
           "swiss pop"
          ],
          [
           "swiss rock"
          ],
          [
           "swiss worship"
          ],
          [
           "sydney indie"
          ],
          [
           "symphonic black metal"
          ],
          [
           "symphonic metal"
          ],
          [
           "symphonic rock"
          ],
          [
           "synth funk"
          ],
          [
           "synthpop"
          ],
          [
           "synthwave"
          ],
          [
           "syrian pop"
          ],
          [
           "tabla"
          ],
          [
           "tagalog rap"
          ],
          [
           "tagalog worship"
          ],
          [
           "taiwan campus folk"
          ],
          [
           "taiwan classical performance"
          ],
          [
           "taiwan hip hop"
          ],
          [
           "taiwan indie"
          ],
          [
           "taiwan pop"
          ],
          [
           "taiwan singer-songwriter"
          ],
          [
           "tajik pop"
          ],
          [
           "talent show"
          ],
          [
           "tamaulipas indie"
          ],
          [
           "tamaulipas rap"
          ],
          [
           "tamborazo"
          ],
          [
           "tamil hip hop"
          ],
          [
           "tamil pop"
          ],
          [
           "tamil worship"
          ],
          [
           "tampa indie"
          ],
          [
           "tango"
          ],
          [
           "tango cancion"
          ],
          [
           "tape club"
          ],
          [
           "tech house"
          ],
          [
           "technical death metal"
          ],
          [
           "technical deathcore"
          ],
          [
           "technical groove metal"
          ],
          [
           "technical melodic death metal"
          ],
          [
           "technical thrash"
          ],
          [
           "techno"
          ],
          [
           "techno kayo"
          ],
          [
           "tecnobanda"
          ],
          [
           "teen pop"
          ],
          [
           "tejano"
          ],
          [
           "tempe indie"
          ],
          [
           "tennessee hip hop"
          ],
          [
           "tennessee metal"
          ],
          [
           "tex-mex"
          ],
          [
           "texas blues"
          ],
          [
           "texas country"
          ],
          [
           "texas latin rap"
          ],
          [
           "texas pop punk"
          ],
          [
           "texas punk"
          ],
          [
           "thai folk"
          ],
          [
           "thai folk rock"
          ],
          [
           "thai idol"
          ],
          [
           "thai indie rock"
          ],
          [
           "thai pop"
          ],
          [
           "thall"
          ],
          [
           "theme"
          ],
          [
           "theremin"
          ],
          [
           "thrash core"
          ],
          [
           "thrash metal"
          ],
          [
           "timba"
          ],
          [
           "tin pan alley"
          ],
          [
           "tipico"
          ],
          [
           "tolkien metal"
          ],
          [
           "tollywood"
          ],
          [
           "tone"
          ],
          [
           "torch song"
          ],
          [
           "toronto indie"
          ],
          [
           "toronto rap"
          ],
          [
           "trad jazz catala"
          ],
          [
           "traditional bluegrass"
          ],
          [
           "traditional blues"
          ],
          [
           "traditional british folk"
          ],
          [
           "traditional country"
          ],
          [
           "traditional folk"
          ],
          [
           "traditional funk"
          ],
          [
           "traditional rockabilly"
          ],
          [
           "traditional ska"
          ],
          [
           "traditional soul"
          ],
          [
           "trance"
          ],
          [
           "trance mexicano"
          ],
          [
           "trancecore"
          ],
          [
           "transpop"
          ],
          [
           "trap"
          ],
          [
           "trap argentino"
          ],
          [
           "trap chileno"
          ],
          [
           "trap dominicano"
          ],
          [
           "trap latino"
          ],
          [
           "trap mexicano"
          ],
          [
           "trap queen"
          ],
          [
           "trap soul"
          ],
          [
           "trap triste"
          ],
          [
           "trap venezolano"
          ],
          [
           "traprun"
          ],
          [
           "trash rock"
          ],
          [
           "triangle indie"
          ],
          [
           "tribal house"
          ],
          [
           "trinidadian reggae"
          ],
          [
           "trio cubano"
          ],
          [
           "trip hop"
          ],
          [
           "trival"
          ],
          [
           "tropical"
          ],
          [
           "tropical house"
          ],
          [
           "tropicalia"
          ],
          [
           "trova"
          ],
          [
           "trova mexicana"
          ],
          [
           "truck-driving country"
          ],
          [
           "tuareg guitar"
          ],
          [
           "tucson indie"
          ],
          [
           "tulsa indie"
          ],
          [
           "tuna estudiantil"
          ],
          [
           "tunisian pop"
          ],
          [
           "turbo folk"
          ],
          [
           "turkish classical"
          ],
          [
           "turkish classical performance"
          ],
          [
           "turkish edm"
          ],
          [
           "turkish experimental"
          ],
          [
           "turkish folk"
          ],
          [
           "turkish jazz"
          ],
          [
           "turkish modern jazz"
          ],
          [
           "turkish pop"
          ],
          [
           "turkish psych"
          ],
          [
           "turkish trap"
          ],
          [
           "turkish trap pop"
          ],
          [
           "turntablism"
          ],
          [
           "twee pop"
          ],
          [
           "twoubadou"
          ],
          [
           "tzadik"
          ],
          [
           "ugandan pop"
          ],
          [
           "uilleann pipes"
          ],
          [
           "uk alternative hip hop"
          ],
          [
           "uk alternative pop"
          ],
          [
           "uk americana"
          ],
          [
           "uk contemporary jazz"
          ],
          [
           "uk contemporary r&b"
          ],
          [
           "uk dance"
          ],
          [
           "uk dancehall"
          ],
          [
           "uk diy punk"
          ],
          [
           "uk dnb"
          ],
          [
           "uk doom metal"
          ],
          [
           "uk dub"
          ],
          [
           "uk experimental electronic"
          ],
          [
           "uk funky"
          ],
          [
           "uk garage"
          ],
          [
           "uk hip hop"
          ],
          [
           "uk house"
          ],
          [
           "uk metalcore"
          ],
          [
           "uk noise rock"
          ],
          [
           "uk pop"
          ],
          [
           "uk pop punk"
          ],
          [
           "uk post-hardcore"
          ],
          [
           "uk post-punk"
          ],
          [
           "uk reggae"
          ],
          [
           "uk rockabilly"
          ],
          [
           "uk stoner rock"
          ],
          [
           "uk worship"
          ],
          [
           "uk82"
          ],
          [
           "ukrainian choir"
          ],
          [
           "ukrainian classical"
          ],
          [
           "ukrainian classical piano"
          ],
          [
           "ukrainian electronic"
          ],
          [
           "ukrainian pop"
          ],
          [
           "ukulele"
          ],
          [
           "umbanda"
          ],
          [
           "underground hip hop"
          ],
          [
           "underground power pop"
          ],
          [
           "underground rap"
          ],
          [
           "university choir"
          ],
          [
           "uplifting trance"
          ],
          [
           "uptempo hardcore"
          ],
          [
           "urban contemporary"
          ],
          [
           "urbano espanol"
          ],
          [
           "us power metal"
          ],
          [
           "utah indie"
          ],
          [
           "uzbek pop"
          ],
          [
           "uzbek traditional"
          ],
          [
           "v-pop"
          ],
          [
           "vallenato"
          ],
          [
           "vallenato moderno"
          ],
          [
           "vancouver indie"
          ],
          [
           "vancouver metal"
          ],
          [
           "vancouver punk"
          ],
          [
           "vapor pop"
          ],
          [
           "vapor soul"
          ],
          [
           "vapor trap"
          ],
          [
           "vapor twitch"
          ],
          [
           "vaporwave"
          ],
          [
           "variete francaise"
          ],
          [
           "vaudeville"
          ],
          [
           "vbs"
          ],
          [
           "veena"
          ],
          [
           "vegan straight edge"
          ],
          [
           "vegas indie"
          ],
          [
           "velha guarda"
          ],
          [
           "venezuelan hip hop"
          ],
          [
           "venezuelan indie"
          ],
          [
           "venezuelan rock"
          ],
          [
           "veracruz indie"
          ],
          [
           "vermont indie"
          ],
          [
           "vgm instrumental"
          ],
          [
           "vgm remix"
          ],
          [
           "victoria bc indie"
          ],
          [
           "victorian britain"
          ],
          [
           "video game music"
          ],
          [
           "vienna indie"
          ],
          [
           "vietnamese bolero"
          ],
          [
           "vietnamese pop"
          ],
          [
           "viking black metal"
          ],
          [
           "viking folk"
          ],
          [
           "viking metal"
          ],
          [
           "villancicos"
          ],
          [
           "vintage chanson"
          ],
          [
           "vintage chinese pop"
          ],
          [
           "vintage classical singing"
          ],
          [
           "vintage country folk"
          ],
          [
           "vintage dutch pop"
          ],
          [
           "vintage french electronic"
          ],
          [
           "vintage gospel"
          ],
          [
           "vintage hollywood"
          ],
          [
           "vintage italian pop"
          ],
          [
           "vintage italian soundtrack"
          ],
          [
           "vintage jazz"
          ],
          [
           "vintage old-time"
          ],
          [
           "vintage rockabilly"
          ],
          [
           "vintage schlager"
          ],
          [
           "vintage spanish pop"
          ],
          [
           "vintage swedish pop"
          ],
          [
           "vintage swing"
          ],
          [
           "vintage tango"
          ],
          [
           "viola"
          ],
          [
           "violao"
          ],
          [
           "violao classico"
          ],
          [
           "violin"
          ],
          [
           "viral pop"
          ],
          [
           "viral rap"
          ],
          [
           "viral trap"
          ],
          [
           "virgin islands reggae"
          ],
          [
           "virginia hip hop"
          ],
          [
           "virginia metal"
          ],
          [
           "virginia punk"
          ],
          [
           "visor"
          ],
          [
           "visual kei"
          ],
          [
           "vocal ensemble"
          ],
          [
           "vocal harmony group"
          ],
          [
           "vocal house"
          ],
          [
           "vocal jazz"
          ],
          [
           "vocal trance"
          ],
          [
           "vocaloid"
          ],
          [
           "vogue"
          ],
          [
           "volksmusik"
          ],
          [
           "warm drone"
          ],
          [
           "washboard"
          ],
          [
           "washington indie"
          ],
          [
           "wassoulou"
          ],
          [
           "water"
          ],
          [
           "wave"
          ],
          [
           "welsh folk"
          ],
          [
           "welsh indie"
          ],
          [
           "welsh metal"
          ],
          [
           "welsh rock"
          ],
          [
           "west african jazz"
          ],
          [
           "west australian hip hop"
          ],
          [
           "west coast rap"
          ],
          [
           "west coast reggae"
          ],
          [
           "west coast trap"
          ],
          [
           "west end"
          ],
          [
           "west virginia indie"
          ],
          [
           "western americana"
          ],
          [
           "western mass indie"
          ],
          [
           "western saharan folk"
          ],
          [
           "western swing"
          ],
          [
           "white noise"
          ],
          [
           "wind ensemble"
          ],
          [
           "wind quintet"
          ],
          [
           "wisconsin indie"
          ],
          [
           "witch house"
          ],
          [
           "women's choir"
          ],
          [
           "women's music"
          ],
          [
           "wonky"
          ],
          [
           "worcester ma indie"
          ],
          [
           "world"
          ],
          [
           "world fusion"
          ],
          [
           "world meditation"
          ],
          [
           "world worship"
          ],
          [
           "worship"
          ],
          [
           "wrestling"
          ],
          [
           "wu fam"
          ],
          [
           "wyoming indie"
          ],
          [
           "wyoming roots"
          ],
          [
           "xhosa"
          ],
          [
           "xtra raw"
          ],
          [
           "yacht rock"
          ],
          [
           "ye ye"
          ],
          [
           "yiddish folk"
          ],
          [
           "yodeling"
          ],
          [
           "yoga"
          ],
          [
           "yoik"
          ],
          [
           "york indie"
          ],
          [
           "yorkshire folk"
          ],
          [
           "yugoslav new wave"
          ],
          [
           "yugoslav rock"
          ],
          [
           "zambian pop"
          ],
          [
           "zeuhl"
          ],
          [
           "zhongguo feng"
          ],
          [
           "zimdancehall"
          ],
          [
           "zolo"
          ],
          [
           "zouglou"
          ],
          [
           "zouk"
          ],
          [
           "zurich indie"
          ],
          [
           "zydeco"
          ]
         ],
         "hovertemplate": "x=%{x}<br>y=%{y}<br>generos=%{customdata[0]}<br>cluster_pca=%{marker.color}<extra></extra>",
         "legendgroup": "",
         "marker": {
          "color": [
           2,
           2,
           0,
           4,
           4,
           1,
           1,
           0,
           4,
           4,
           3,
           1,
           3,
           2,
           4,
           1,
           0,
           1,
           3,
           1,
           4,
           4,
           0,
           4,
           1,
           0,
           0,
           2,
           0,
           0,
           0,
           0,
           0,
           1,
           1,
           3,
           1,
           0,
           3,
           1,
           3,
           0,
           0,
           0,
           1,
           0,
           0,
           1,
           0,
           3,
           0,
           1,
           1,
           3,
           3,
           0,
           3,
           3,
           0,
           0,
           3,
           1,
           0,
           2,
           3,
           1,
           3,
           3,
           1,
           2,
           1,
           1,
           2,
           2,
           2,
           2,
           2,
           4,
           3,
           2,
           1,
           2,
           1,
           2,
           2,
           3,
           4,
           3,
           2,
           0,
           3,
           3,
           3,
           1,
           1,
           3,
           3,
           1,
           4,
           0,
           4,
           2,
           1,
           1,
           1,
           1,
           2,
           1,
           0,
           3,
           0,
           1,
           0,
           0,
           0,
           0,
           0,
           3,
           1,
           0,
           1,
           2,
           1,
           0,
           1,
           2,
           0,
           1,
           0,
           2,
           1,
           0,
           0,
           0,
           3,
           0,
           2,
           3,
           0,
           3,
           0,
           3,
           3,
           4,
           3,
           1,
           1,
           0,
           1,
           0,
           2,
           0,
           2,
           2,
           2,
           1,
           3,
           3,
           0,
           0,
           3,
           3,
           1,
           3,
           0,
           3,
           3,
           0,
           0,
           1,
           3,
           1,
           1,
           0,
           0,
           3,
           1,
           0,
           0,
           2,
           2,
           2,
           1,
           2,
           0,
           4,
           3,
           2,
           2,
           3,
           0,
           4,
           0,
           0,
           0,
           0,
           2,
           2,
           4,
           1,
           4,
           0,
           4,
           4,
           4,
           3,
           1,
           2,
           2,
           4,
           2,
           0,
           3,
           0,
           0,
           0,
           4,
           4,
           4,
           4,
           1,
           2,
           0,
           4,
           4,
           4,
           2,
           2,
           2,
           2,
           1,
           2,
           2,
           4,
           0,
           1,
           3,
           0,
           0,
           3,
           0,
           0,
           0,
           0,
           3,
           0,
           0,
           4,
           1,
           4,
           0,
           1,
           4,
           1,
           0,
           3,
           3,
           3,
           2,
           2,
           3,
           3,
           0,
           1,
           3,
           4,
           3,
           0,
           1,
           1,
           1,
           1,
           4,
           0,
           0,
           1,
           2,
           4,
           0,
           2,
           4,
           3,
           3,
           2,
           2,
           0,
           0,
           3,
           3,
           3,
           0,
           3,
           3,
           3,
           3,
           1,
           3,
           1,
           4,
           1,
           4,
           3,
           3,
           1,
           0,
           4,
           4,
           0,
           0,
           4,
           0,
           0,
           4,
           4,
           1,
           0,
           0,
           0,
           3,
           3,
           1,
           0,
           0,
           4,
           1,
           0,
           0,
           2,
           2,
           2,
           1,
           2,
           2,
           0,
           2,
           2,
           2,
           0,
           3,
           0,
           4,
           4,
           3,
           4,
           4,
           0,
           0,
           0,
           3,
           0,
           3,
           3,
           0,
           1,
           2,
           1,
           1,
           3,
           3,
           3,
           0,
           3,
           3,
           1,
           0,
           2,
           2,
           0,
           2,
           4,
           3,
           1,
           4,
           3,
           3,
           1,
           1,
           1,
           2,
           2,
           1,
           3,
           1,
           0,
           2,
           3,
           1,
           1,
           0,
           0,
           0,
           3,
           3,
           0,
           3,
           1,
           0,
           0,
           0,
           1,
           3,
           2,
           4,
           4,
           1,
           1,
           4,
           0,
           3,
           0,
           2,
           4,
           0,
           2,
           1,
           0,
           4,
           0,
           3,
           0,
           4,
           2,
           2,
           2,
           4,
           0,
           1,
           1,
           3,
           0,
           2,
           4,
           3,
           0,
           3,
           1,
           4,
           1,
           0,
           0,
           3,
           3,
           1,
           0,
           3,
           3,
           2,
           1,
           3,
           3,
           0,
           1,
           2,
           1,
           3,
           1,
           1,
           1,
           4,
           1,
           1,
           4,
           4,
           3,
           4,
           4,
           0,
           4,
           4,
           4,
           0,
           2,
           2,
           2,
           3,
           0,
           2,
           4,
           2,
           3,
           0,
           0,
           4,
           2,
           4,
           2,
           2,
           1,
           2,
           1,
           1,
           3,
           0,
           1,
           1,
           0,
           3,
           4,
           0,
           0,
           3,
           4,
           4,
           0,
           3,
           0,
           3,
           3,
           3,
           0,
           1,
           3,
           0,
           0,
           0,
           4,
           4,
           0,
           4,
           0,
           1,
           1,
           0,
           3,
           2,
           4,
           1,
           4,
           0,
           4,
           3,
           1,
           1,
           2,
           2,
           2,
           3,
           3,
           0,
           1,
           3,
           2,
           1,
           1,
           2,
           2,
           2,
           0,
           2,
           4,
           1,
           4,
           1,
           3,
           0,
           3,
           0,
           0,
           1,
           3,
           3,
           1,
           3,
           3,
           0,
           2,
           3,
           0,
           1,
           2,
           1,
           0,
           0,
           0,
           3,
           3,
           1,
           0,
           4,
           4,
           0,
           0,
           4,
           0,
           1,
           4,
           4,
           4,
           4,
           3,
           4,
           0,
           0,
           0,
           1,
           4,
           3,
           3,
           3,
           4,
           1,
           4,
           1,
           3,
           4,
           4,
           4,
           1,
           0,
           1,
           4,
           1,
           0,
           4,
           1,
           1,
           0,
           1,
           4,
           3,
           4,
           1,
           2,
           0,
           0,
           0,
           1,
           1,
           0,
           2,
           1,
           2,
           2,
           2,
           2,
           2,
           2,
           2,
           2,
           2,
           2,
           2,
           4,
           2,
           2,
           2,
           2,
           2,
           2,
           2,
           1,
           2,
           2,
           2,
           4,
           4,
           0,
           3,
           0,
           0,
           0,
           0,
           0,
           0,
           0,
           0,
           0,
           4,
           0,
           3,
           1,
           3,
           2,
           0,
           2,
           3,
           3,
           0,
           2,
           2,
           2,
           0,
           1,
           1,
           2,
           4,
           4,
           2,
           4,
           4,
           4,
           3,
           0,
           0,
           0,
           3,
           1,
           2,
           0,
           4,
           4,
           1,
           4,
           0,
           0,
           0,
           1,
           4,
           4,
           0,
           0,
           1,
           0,
           0,
           3,
           0,
           3,
           0,
           0,
           0,
           4,
           0,
           0,
           0,
           0,
           0,
           0,
           0,
           0,
           0,
           4,
           0,
           4,
           0,
           0,
           0,
           0,
           3,
           3,
           4,
           2,
           2,
           4,
           3,
           4,
           0,
           0,
           0,
           0,
           3,
           0,
           3,
           3,
           2,
           3,
           2,
           0,
           2,
           3,
           0,
           1,
           3,
           0,
           3,
           3,
           4,
           0,
           4,
           0,
           0,
           3,
           0,
           3,
           2,
           1,
           3,
           1,
           0,
           3,
           3,
           3,
           3,
           1,
           3,
           3,
           3,
           0,
           3,
           3,
           3,
           3,
           0,
           4,
           3,
           3,
           1,
           0,
           4,
           1,
           0,
           4,
           0,
           1,
           3,
           0,
           0,
           0,
           4,
           0,
           3,
           0,
           0,
           3,
           0,
           0,
           2,
           4,
           3,
           4,
           1,
           3,
           1,
           4,
           1,
           0,
           0,
           2,
           3,
           3,
           3,
           0,
           3,
           0,
           0,
           1,
           1,
           1,
           2,
           4,
           0,
           1,
           0,
           1,
           1,
           0,
           0,
           3,
           4,
           0,
           0,
           0,
           1,
           1,
           0,
           1,
           0,
           1,
           3,
           0,
           1,
           3,
           0,
           1,
           4,
           1,
           0,
           4,
           3,
           2,
           0,
           0,
           0,
           0,
           4,
           0,
           4,
           3,
           3,
           0,
           0,
           0,
           4,
           3,
           3,
           1,
           4,
           1,
           3,
           3,
           3,
           2,
           0,
           1,
           2,
           2,
           3,
           3,
           0,
           3,
           0,
           2,
           3,
           1,
           2,
           1,
           4,
           4,
           3,
           0,
           1,
           3,
           4,
           2,
           3,
           3,
           0,
           4,
           0,
           3,
           4,
           2,
           3,
           0,
           3,
           0,
           1,
           3,
           1,
           4,
           4,
           2,
           2,
           2,
           2,
           0,
           2,
           1,
           3,
           0,
           0,
           1,
           4,
           0,
           1,
           3,
           2,
           1,
           0,
           3,
           0,
           0,
           4,
           3,
           3,
           4,
           1,
           0,
           3,
           1,
           0,
           0,
           3,
           1,
           3,
           0,
           3,
           3,
           3,
           1,
           0,
           0,
           0,
           3,
           3,
           3,
           0,
           3,
           2,
           3,
           2,
           1,
           4,
           2,
           3,
           1,
           4,
           0,
           2,
           3,
           4,
           0,
           1,
           1,
           1,
           2,
           4,
           1,
           0,
           3,
           3,
           0,
           0,
           0,
           0,
           4,
           1,
           2,
           2,
           0,
           0,
           2,
           1,
           0,
           3,
           2,
           1,
           1,
           4,
           4,
           1,
           4,
           3,
           0,
           4,
           0,
           3,
           1,
           2,
           3,
           2,
           2,
           3,
           3,
           3,
           3,
           3,
           3,
           0,
           1,
           1,
           2,
           0,
           1,
           3,
           0,
           3,
           1,
           2,
           0,
           3,
           0,
           0,
           4,
           4,
           4,
           4,
           1,
           1,
           3,
           0,
           1,
           1,
           1,
           1,
           0,
           4,
           4,
           0,
           0,
           0,
           4,
           1,
           1,
           0,
           0,
           3,
           2,
           0,
           1,
           1,
           1,
           2,
           2,
           0,
           2,
           2,
           4,
           3,
           3,
           0,
           1,
           1,
           3,
           4,
           3,
           4,
           2,
           2,
           1,
           0,
           3,
           0,
           0,
           2,
           3,
           4,
           0,
           3,
           3,
           3,
           0,
           3,
           1,
           4,
           0,
           0,
           3,
           3,
           4,
           0,
           0,
           0,
           0,
           3,
           3,
           0,
           1,
           0,
           3,
           1,
           0,
           3,
           1,
           3,
           3,
           0,
           4,
           2,
           3,
           3,
           0,
           0,
           3,
           1,
           3,
           1,
           3,
           0,
           3,
           1,
           1,
           0,
           1,
           3,
           2,
           2,
           2,
           1,
           0,
           3,
           3,
           0,
           0,
           2,
           4,
           3,
           3,
           2,
           2,
           0,
           0,
           0,
           3,
           0,
           2,
           3,
           2,
           2,
           2,
           3,
           3,
           3,
           0,
           0,
           4,
           4,
           3,
           0,
           3,
           3,
           1,
           0,
           3,
           3,
           3,
           0,
           0,
           3,
           1,
           4,
           4,
           4,
           1,
           0,
           4,
           1,
           3,
           1,
           3,
           0,
           0,
           3,
           3,
           1,
           3,
           3,
           0,
           0,
           3,
           4,
           2,
           4,
           4,
           3,
           2,
           4,
           4,
           2,
           0,
           3,
           1,
           3,
           0,
           3,
           3,
           0,
           0,
           0,
           0,
           3,
           3,
           4,
           1,
           4,
           2,
           4,
           4,
           4,
           2,
           3,
           4,
           4,
           1,
           4,
           0,
           0,
           0,
           2,
           1,
           0,
           2,
           3,
           3,
           4,
           1,
           3,
           0,
           3,
           0,
           3,
           3,
           3,
           0,
           4,
           4,
           4,
           2,
           2,
           2,
           2,
           4,
           0,
           0,
           2,
           0,
           0,
           0,
           1,
           0,
           2,
           2,
           4,
           0,
           0,
           0,
           0,
           0,
           2,
           2,
           2,
           2,
           2,
           2,
           2,
           4,
           1,
           1,
           0,
           1,
           1,
           4,
           4,
           0,
           3,
           2,
           0,
           0,
           0,
           0,
           0,
           4,
           0,
           2,
           2,
           2,
           2,
           1,
           4,
           4,
           4,
           1,
           1,
           0,
           0,
           2,
           3,
           2,
           1,
           1,
           1,
           1,
           1,
           1,
           1,
           3,
           1,
           4,
           2,
           4,
           0,
           0,
           2,
           0,
           4,
           4,
           0,
           1,
           1,
           4,
           1,
           2,
           0,
           1,
           1,
           1,
           0,
           1,
           1,
           0,
           0,
           1,
           3,
           1,
           0,
           1,
           3,
           0,
           3,
           1,
           1,
           3,
           4,
           1,
           3,
           0,
           3,
           1,
           0,
           2,
           1,
           1,
           0,
           3,
           3,
           1,
           4,
           4,
           1,
           0,
           3,
           3,
           3,
           3,
           1,
           3,
           1,
           1,
           0,
           0,
           4,
           1,
           2,
           1,
           1,
           4,
           4,
           0,
           2,
           3,
           1,
           4,
           3,
           4,
           0,
           4,
           4,
           2,
           2,
           4,
           0,
           3,
           0,
           1,
           1,
           1,
           1,
           2,
           2,
           2,
           2,
           3,
           2,
           2,
           1,
           0,
           3,
           3,
           0,
           2,
           1,
           2,
           3,
           2,
           3,
           2,
           2,
           1,
           3,
           1,
           3,
           2,
           2,
           2,
           2,
           1,
           4,
           4,
           0,
           0,
           3,
           2,
           1,
           3,
           0,
           3,
           3,
           3,
           0,
           3,
           3,
           0,
           3,
           3,
           1,
           1,
           0,
           0,
           3,
           4,
           0,
           2,
           2,
           2,
           2,
           3,
           2,
           0,
           3,
           1,
           1,
           0,
           3,
           3,
           2,
           4,
           0,
           1,
           4,
           1,
           3,
           3,
           1,
           3,
           3,
           3,
           3,
           1,
           3,
           3,
           0,
           0,
           3,
           1,
           2,
           1,
           1,
           0,
           4,
           4,
           4,
           0,
           4,
           4,
           4,
           1,
           4,
           2,
           4,
           4,
           1,
           1,
           4,
           4,
           3,
           2,
           4,
           1,
           4,
           1,
           4,
           0,
           1,
           4,
           2,
           4,
           4,
           4,
           4,
           4,
           4,
           1,
           2,
           0,
           1,
           0,
           0,
           1,
           4,
           0,
           4,
           3,
           0,
           0,
           0,
           0,
           0,
           4,
           4,
           0,
           4,
           0,
           4,
           3,
           3,
           1,
           3,
           1,
           0,
           1,
           0,
           4,
           0,
           0,
           4,
           2,
           0,
           0,
           4,
           0,
           2,
           1,
           1,
           4,
           4,
           0,
           2,
           2,
           2,
           1,
           4,
           2,
           2,
           3,
           0,
           0,
           0,
           0,
           2,
           2,
           4,
           0,
           3,
           2,
           0,
           4,
           1,
           1,
           2,
           0,
           0,
           0,
           2,
           0,
           1,
           4,
           0,
           0,
           0,
           0,
           3,
           0,
           0,
           0,
           4,
           0,
           0,
           0,
           1,
           0,
           0,
           0,
           0,
           4,
           2,
           1,
           1,
           3,
           0,
           0,
           4,
           1,
           2,
           1,
           3,
           1,
           1,
           3,
           4,
           0,
           1,
           4,
           0,
           4,
           1,
           1,
           4,
           1,
           1,
           0,
           4,
           3,
           3,
           3,
           4,
           1,
           0,
           2,
           1,
           4,
           1,
           3,
           2,
           4,
           0,
           1,
           1,
           0,
           1,
           3,
           1,
           2,
           3,
           4,
           0,
           3,
           1,
           1,
           1,
           0,
           4,
           1,
           4,
           0,
           4,
           4,
           1,
           1,
           0,
           1,
           0,
           1,
           3,
           1,
           2,
           1,
           3,
           2,
           1,
           0,
           0,
           3,
           1,
           3,
           3,
           3,
           3,
           3,
           3,
           3,
           3,
           3,
           0,
           3,
           0,
           1,
           4,
           0,
           3,
           1,
           4,
           0,
           0,
           1,
           4,
           3,
           3,
           3,
           3,
           3,
           1,
           2,
           0,
           3,
           0,
           3,
           0,
           4,
           0,
           0,
           0,
           0,
           0,
           3,
           0,
           1,
           2,
           2,
           1,
           2,
           1,
           3,
           4,
           0,
           1,
           2,
           1,
           3,
           0,
           1,
           3,
           2,
           1,
           3,
           3,
           0,
           0,
           0,
           1,
           2,
           3,
           1,
           3,
           1,
           1,
           3,
           0,
           0,
           3,
           1,
           1,
           0,
           1,
           2,
           2,
           0,
           2,
           3,
           0,
           0,
           3,
           0,
           0,
           0,
           2,
           3,
           3,
           2,
           0,
           4,
           4,
           4,
           1,
           0,
           2,
           0,
           4,
           4,
           1,
           4,
           4,
           1,
           4,
           4,
           0,
           1,
           1,
           0,
           2,
           3,
           0,
           0,
           1,
           0,
           1,
           2,
           4,
           0,
           4,
           4,
           0,
           0,
           4,
           0,
           4,
           4,
           4,
           0,
           1,
           0,
           0,
           4,
           4,
           4,
           0,
           1,
           4,
           3,
           3,
           0,
           2,
           1,
           4,
           4,
           3,
           3,
           1,
           1,
           0,
           3,
           1,
           4,
           2,
           0,
           2,
           0,
           2,
           4,
           3,
           1,
           3,
           4,
           1,
           0,
           0,
           2,
           1,
           4,
           1,
           3,
           0,
           1,
           3,
           3,
           1,
           1,
           1,
           2,
           1,
           0,
           1,
           4,
           4,
           1,
           3,
           3,
           0,
           3,
           2,
           2,
           1,
           0,
           0,
           1,
           3,
           1,
           2,
           0,
           3,
           1,
           3,
           0,
           4,
           4,
           0,
           0,
           4,
           0,
           3,
           0,
           1,
           0,
           3,
           0,
           1,
           3,
           0,
           2,
           3,
           3,
           0,
           0,
           3,
           3,
           1,
           3,
           4,
           0,
           1,
           3,
           3,
           3,
           2,
           2,
           1,
           0,
           2,
           1,
           2,
           4,
           3,
           0,
           0,
           3,
           0,
           1,
           3,
           1,
           3,
           0,
           3,
           0,
           3,
           2,
           2,
           2,
           3,
           2,
           0,
           1,
           2,
           3,
           3,
           3,
           3,
           3,
           1,
           3,
           1,
           0,
           1,
           1,
           0,
           0,
           2,
           0,
           3,
           1,
           3,
           3,
           0,
           3,
           4,
           1,
           1,
           1,
           1,
           4,
           0,
           4,
           4,
           3,
           3,
           0,
           0,
           0,
           3,
           2,
           1,
           0,
           1,
           0,
           0,
           3,
           1,
           0,
           0,
           3,
           0,
           2,
           0,
           1,
           3,
           0,
           1,
           0,
           1,
           0,
           0,
           0,
           3,
           0,
           1,
           4,
           4,
           1,
           3,
           0,
           1,
           2,
           2,
           3,
           2,
           2,
           1,
           2,
           2,
           2,
           3,
           2,
           3,
           1,
           3,
           2,
           2,
           4,
           4,
           2,
           0,
           3,
           0,
           0,
           0,
           4,
           0,
           1,
           1,
           2,
           2,
           3,
           0,
           3,
           0,
           0,
           3,
           4,
           0,
           4,
           1,
           1,
           0,
           0,
           2,
           1,
           0,
           0,
           0,
           4,
           1,
           0,
           1,
           4,
           3,
           0,
           0,
           4,
           3,
           0,
           1,
           0,
           0,
           0,
           4,
           2,
           1,
           1,
           2,
           4,
           0,
           3,
           3,
           3,
           4,
           1,
           3,
           1,
           0,
           0,
           0,
           0,
           0,
           3,
           3,
           4,
           2,
           0,
           2,
           2,
           2,
           2,
           2,
           4,
           3,
           4,
           0,
           0,
           4,
           0,
           0,
           2,
           0,
           0,
           0,
           1,
           0,
           3,
           0,
           3,
           0,
           1,
           0,
           0,
           1,
           0,
           3,
           1,
           0,
           0,
           0,
           0,
           3,
           1,
           1,
           0,
           1,
           0,
           0,
           2,
           3,
           4,
           0,
           1,
           1,
           3,
           1,
           2,
           0,
           0,
           3,
           3,
           3,
           3,
           2,
           3,
           1,
           1,
           2,
           2,
           3,
           0,
           3,
           0,
           3,
           3,
           1,
           2,
           0,
           1,
           1,
           1,
           3,
           3,
           3,
           3,
           3,
           3,
           3,
           3,
           3,
           3,
           1,
           3,
           3,
           1,
           3,
           4,
           3,
           1,
           4,
           1,
           3,
           1,
           3,
           4,
           1,
           0,
           1,
           3,
           1,
           1,
           3,
           3,
           3,
           0,
           4,
           1,
           0,
           4,
           0,
           0,
           3,
           3,
           3,
           0,
           3,
           0,
           0,
           4,
           2,
           2,
           3,
           1,
           0,
           0,
           0,
           1,
           4,
           0,
           0,
           4,
           2,
           4,
           1,
           1,
           0,
           0,
           0,
           0,
           1,
           0,
           0,
           0,
           3,
           0,
           2,
           3,
           0,
           1,
           3,
           3,
           4,
           3,
           0,
           4,
           4,
           3,
           0,
           0,
           0,
           0,
           0,
           0,
           0,
           3,
           0,
           0,
           0,
           4,
           2,
           0,
           3,
           0,
           1,
           0,
           4,
           0,
           1,
           3,
           0,
           3,
           0,
           3,
           0,
           0,
           0,
           0,
           1,
           3,
           3,
           1,
           0,
           3,
           3,
           0,
           1,
           1,
           0,
           4,
           1,
           0,
           3,
           1,
           0,
           0,
           4,
           2,
           1,
           2,
           0,
           4,
           1,
           1,
           0,
           1,
           1,
           4,
           1,
           1,
           1,
           3,
           3,
           4,
           2,
           2,
           3,
           3,
           4,
           1,
           4,
           3,
           3,
           2,
           2,
           0,
           3,
           1,
           1,
           2,
           1,
           3,
           0,
           2,
           4,
           0,
           3,
           0,
           0,
           0,
           0,
           0,
           0,
           0,
           0,
           0,
           1,
           4,
           4,
           0,
           0,
           4,
           0,
           0,
           3,
           0,
           1,
           4,
           2,
           4,
           0,
           1,
           0,
           1,
           2,
           0,
           2,
           1,
           0,
           1,
           4,
           0,
           0,
           0,
           0,
           0,
           0,
           3,
           0,
           1,
           0,
           0,
           1,
           2,
           1,
           4,
           4,
           0,
           1,
           1,
           0,
           4,
           2,
           2,
           4,
           3,
           1,
           3,
           1,
           1,
           3,
           1,
           3,
           2,
           0,
           1,
           1,
           3,
           1,
           2,
           2,
           0,
           0,
           0,
           1,
           0,
           0,
           0,
           3,
           4,
           4,
           3,
           4,
           3,
           3,
           3,
           3,
           1,
           3,
           2,
           1,
           0,
           3,
           0,
           1,
           3,
           1,
           1,
           1,
           1,
           0,
           3,
           0,
           4,
           1,
           0,
           1,
           4,
           0,
           0,
           0,
           4,
           1,
           1,
           0,
           4,
           1,
           2,
           2,
           2,
           0,
           2,
           0,
           4,
           0,
           0,
           0,
           4,
           0,
           0,
           3,
           0,
           1,
           3,
           3,
           1,
           0,
           1,
           0,
           3,
           1,
           1,
           0,
           0,
           3,
           2,
           4,
           2,
           1,
           2,
           2,
           2,
           3,
           0,
           1,
           0,
           3,
           1,
           0,
           1,
           0,
           0,
           2,
           0,
           0,
           1,
           0,
           3,
           1,
           0,
           1,
           4,
           1,
           4,
           0,
           0,
           4,
           4,
           0,
           4,
           1,
           4,
           0,
           3,
           3,
           3,
           2,
           0,
           3,
           2,
           4,
           4,
           2,
           2,
           2,
           0,
           3,
           1,
           1,
           1,
           1,
           1,
           1,
           3,
           3,
           0,
           0,
           0,
           3,
           3,
           1,
           3,
           2,
           0,
           0,
           3,
           3,
           1,
           3,
           3,
           0,
           3,
           3,
           1,
           1,
           3,
           1,
           3,
           3,
           2,
           4,
           1,
           3,
           3,
           0,
           3,
           3,
           3,
           3,
           0,
           1,
           1,
           1,
           2,
           1,
           3,
           0,
           4,
           4,
           1,
           3,
           2,
           2,
           3,
           0,
           1,
           2,
           4,
           3,
           3,
           1,
           0,
           0,
           3,
           4,
           4,
           0,
           1,
           1,
           2,
           4,
           1,
           1,
           1,
           4,
           0,
           0,
           0,
           0,
           4,
           4,
           4,
           3,
           4,
           4,
           1,
           1,
           3,
           1,
           3,
           3,
           3,
           1,
           1,
           0,
           0,
           0,
           0,
           0,
           3,
           0,
           1,
           1,
           0,
           0,
           0,
           0,
           0,
           1,
           4,
           0,
           3,
           4,
           2,
           3,
           3,
           0,
           4,
           1,
           1,
           4,
           2,
           4,
           1,
           0,
           4,
           1,
           4,
           1,
           4,
           4,
           1,
           0,
           0,
           0,
           3,
           3,
           3,
           0,
           0,
           0,
           3,
           1,
           0,
           0,
           0,
           0,
           0,
           0,
           3,
           3,
           3,
           0,
           4,
           4,
           1,
           0,
           0,
           0,
           1,
           1,
           4,
           4,
           1,
           0,
           1,
           0,
           0,
           0,
           4,
           2,
           3,
           3,
           4,
           4,
           4,
           1,
           4,
           3,
           1,
           0,
           1,
           4,
           2,
           1,
           4,
           0,
           0,
           1,
           1,
           0,
           0,
           0,
           3,
           3,
           3,
           0,
           1,
           0,
           0,
           0,
           0,
           3,
           0,
           0,
           0,
           3,
           1,
           0,
           0,
           3,
           1,
           3,
           2,
           2,
           2,
           3,
           0,
           4,
           4,
           0,
           0,
           0,
           2,
           3,
           3,
           0,
           0,
           3,
           1,
           4,
           4,
           0,
           0,
           0,
           1,
           3,
           3,
           1,
           1,
           0,
           1,
           3,
           1,
           4,
           0,
           4,
           3,
           3,
           4,
           0,
           0,
           0,
           0,
           1,
           2,
           3,
           0,
           2,
           1,
           1,
           0,
           0,
           3,
           1,
           3,
           4,
           4,
           4,
           2,
           4,
           4,
           1,
           4,
           4,
           4,
           2,
           4,
           4,
           0,
           4,
           4,
           4,
           4,
           4,
           2,
           4,
           4,
           2,
           1,
           0,
           0,
           0,
           0,
           3,
           3,
           4,
           3,
           2,
           4,
           0,
           4,
           3,
           3,
           0,
           4,
           2,
           4,
           0,
           1,
           2,
           0,
           2,
           3,
           3,
           3,
           1,
           0,
           0,
           0,
           0,
           4,
           0,
           1,
           0,
           1,
           4,
           2,
           2,
           2,
           2,
           1,
           3,
           1,
           1,
           0,
           1,
           1,
           2,
           3,
           1,
           3,
           0,
           3,
           1,
           1,
           3,
           1,
           1,
           2,
           4,
           2,
           2,
           4,
           1,
           0,
           0,
           0,
           3,
           0,
           0,
           1,
           0,
           0,
           4,
           0
          ],
          "coloraxis": "coloraxis",
          "symbol": "circle"
         },
         "mode": "markers",
         "name": "",
         "showlegend": false,
         "type": "scattergl",
         "x": [
          5.910268108221789,
          2.7870931528085903,
          -0.757537538374463,
          1.0205214866168157,
          0.7539105142791427,
          1.7971062652419414,
          -0.4620496054489362,
          -1.3116722595637265,
          0.5984179553898578,
          0.5982012013950398,
          -1.1656525385277157,
          -0.07118124655695997,
          -2.171711585828401,
          3.6732966630297685,
          0.8327855889826042,
          0.001405939211135383,
          -0.927305742007774,
          0.6796203745139372,
          -1.4878005371777192,
          -0.2501697630725662,
          0.9541894103960765,
          0.8894938464845359,
          -0.9349244756981548,
          2.4352422167029117,
          -0.5794096848078703,
          -1.6872704870086672,
          -1.066529075903029,
          3.743308758581933,
          -2.154301657445695,
          -1.0808503055522518,
          -0.9549632645218932,
          -3.235872651592801,
          -1.7119755341735559,
          -0.4336563737020194,
          -0.6062336832001031,
          -0.9441629326199629,
          -0.2189735279123693,
          -1.5617667209055153,
          -1.3458348880477147,
          -0.6937048482628608,
          -1.6190405446647003,
          -1.533327685835035,
          -1.6988335792571143,
          -1.8093965083506087,
          1.0018621405554717,
          -1.5505557919539057,
          -2.616201799535102,
          -0.7218561265706734,
          -0.9358284356998527,
          -2.321719004377391,
          -2.1698597717064185,
          -0.1170407648414011,
          -0.17798254163413776,
          -1.3770978627884978,
          -1.277570648448912,
          -1.6689082229336605,
          -1.4330066722916897,
          -0.8812940272849346,
          -1.933727851085023,
          -0.9919561769523911,
          -0.8554408012501137,
          -0.45004862859253486,
          -1.064289270263443,
          3.4626062715850767,
          0.6998427652454067,
          1.0246979229312394,
          -0.853551391960864,
          0.6504792609298511,
          -0.4774877693274697,
          3.6547368585169053,
          -0.5680284493815134,
          1.2275685578826745,
          6.308184544302043,
          3.3947572178066756,
          4.909954292792231,
          4.521497311111669,
          3.4368402266794438,
          1.7065111212663087,
          -1.9949213104070929,
          2.883522671902226,
          -0.04924041576369377,
          4.251881907817699,
          1.5205339090003134,
          2.7578274763525528,
          3.8188688418188868,
          0.5222233385124354,
          0.6640664570007115,
          -1.8377265384972319,
          4.307369932725615,
          -0.9793272008623068,
          -1.7532546732907157,
          -2.255179190561468,
          -2.29044156642183,
          -0.28007894163165425,
          0.22291185347269316,
          -1.510182195528753,
          -0.6192845089796352,
          -0.07420986987072359,
          1.6728243374303784,
          -1.943353014657049,
          1.0149766128732867,
          2.719557668645424,
          0.9057166961074976,
          -0.2183730069180105,
          -0.2625665565621538,
          0.844908045381962,
          2.832779475931767,
          1.4614957709996288,
          -1.584260298828402,
          -1.8856176787118508,
          -2.393866425909585,
          -0.008422928392726034,
          -3.0786420856227723,
          -1.6438199733026304,
          -2.0393729844155697,
          -0.9968674357840713,
          -1.9809887425444175,
          -1.9736099706764747,
          -0.21426030082170883,
          -2.3201588880940074,
          0.6288114935083468,
          5.262718544641115,
          -0.12166536408823815,
          -1.0121054754613958,
          0.03526096300568471,
          3.4926105143427897,
          -1.2753710449014173,
          0.32826468813668336,
          -1.6951789119860818,
          3.7286177933129534,
          -0.6107015592017122,
          -1.9032893260849408,
          -1.8874273931826748,
          -1.4787588103471276,
          -1.6879273436441127,
          -2.160665941591209,
          4.658088207506917,
          0.6998427652454067,
          -1.8094474553131514,
          0.6443884999442708,
          -2.818281416913887,
          0.6443884999442708,
          -1.4716926838801558,
          1.8781753016297529,
          -1.1338434847768153,
          -0.7702516670886767,
          -0.5221138504004779,
          -0.9270989547196352,
          0.5931378934821798,
          -1.3843251626688347,
          5.271177784407818,
          -0.964217070583412,
          3.754319584280468,
          2.9926527080734293,
          4.167831601809075,
          -0.3896280793317451,
          -1.6424751435576146,
          -1.167543393129808,
          -1.738152496930645,
          -1.938338440805134,
          -1.675752945490251,
          -1.1873372651487157,
          -0.3541927469754771,
          -1.9748930162104505,
          -1.4332166640427928,
          -1.859962127993922,
          -1.6285081252103317,
          -1.2616275422044279,
          -1.2397362810749393,
          0.18868288124372704,
          -1.2018029791688294,
          0.07754390698956917,
          -0.43606997058020863,
          -1.272795338523541,
          -1.0274090397486295,
          -1.861782165770576,
          -0.87886833582232,
          -2.6221998744781305,
          -1.6576596345415082,
          4.075563099476093,
          4.894322340584221,
          4.158854712674676,
          0.3441558565252684,
          3.252965531703461,
          -2.014666324606974,
          0.1933516169142154,
          0.5398747178532799,
          4.407656001383198,
          2.3595535652176145,
          -1.013481282683205,
          -1.4775598253498043,
          1.751655098733294,
          -1.9813204401207751,
          -1.592114847773861,
          -1.8603543986322095,
          -1.6438683942628727,
          4.74351152734234,
          2.1646111991229056,
          1.9271058748133276,
          0.24867553257171232,
          0.264049588815346,
          -3.106214577644636,
          1.0069292318079612,
          0.7363487998666436,
          0.013770393933030846,
          -0.9862592055897749,
          -0.010758925244005506,
          5.381249937095058,
          3.031134078256738,
          2.1219579799750283,
          5.376825054885017,
          -1.871534493819717,
          -0.8257044500186869,
          -1.8050999520940765,
          -1.5965747063171383,
          -1.390362051849041,
          2.381784988233929,
          0.326710542194027,
          1.1855448365432075,
          2.230795233307351,
          0.18273407852012696,
          4.819813386113587,
          -1.8931190472758388,
          1.0877277036361286,
          1.2390028548321212,
          2.3940366677464047,
          2.576594196723721,
          3.758125064467636,
          3.603387921723093,
          3.0892966317647015,
          -0.29784148837110047,
          4.138457045658253,
          2.6839649557379293,
          0.9951124914788232,
          -1.640926922819029,
          -0.10733653159368316,
          -1.7242942774158052,
          -2.2972037194660815,
          -2.151173770862402,
          -1.5759181415763406,
          -1.3487051914956139,
          -2.0265484820804587,
          -2.1206904747689896,
          -1.9307654535976817,
          -0.9234066530601976,
          -1.251647186068175,
          -1.9113516620063313,
          0.7812550919890991,
          -0.5237497338668535,
          1.5258122967139582,
          -1.4815229037775166,
          -0.8608015003990181,
          2.066445088869665,
          -0.39181100273553776,
          -0.8627420859305024,
          -1.7244851503949097,
          -2.4519764221514806,
          -2.4519764221514806,
          4.9110940863506665,
          2.1284228776298377,
          -2.0262276800530055,
          -1.7259688400927664,
          -1.7612462995881761,
          -0.3294248445373816,
          -0.7167812722224336,
          2.3599126557972516,
          -0.4109516244751072,
          -2.0724990678317297,
          0.49415125488177697,
          0.39473675784610557,
          0.5011147455994408,
          -0.1501947731074117,
          2.2643665658299255,
          -1.3540154536804456,
          -1.4700532554453156,
          -0.39148658961174965,
          2.9286868308441942,
          1.5627344941817927,
          -1.8046533953228454,
          4.421919934708998,
          1.6666341252458152,
          -0.8630069468661098,
          -1.8240161816083948,
          6.202329832453549,
          2.7007297571142193,
          -1.9219988731601099,
          -3.8853351569825367,
          -0.3237352337227921,
          -1.4830437992216357,
          -0.6661581305866585,
          -0.8975313027897498,
          -0.2715001095859903,
          -2.026007496411841,
          0.030668548225325068,
          -0.6661581305866585,
          1.6679376175633998,
          -0.9628431990032477,
          0.05229047058608329,
          1.4342428370670817,
          -0.07440927214208709,
          0.3161956897243035,
          -1.6854348307187534,
          -1.3783735498215965,
          -0.5302811239602089,
          -1.9482834157370146,
          0.4376816653802447,
          0.46116511270965066,
          -0.6169217471719324,
          -1.1400256377059368,
          1.2533220435925618,
          -1.8065011423621302,
          -2.1058975606514694,
          0.5834156893519928,
          0.6150431813346561,
          0.8314068380244773,
          -1.167749833094719,
          -1.8797451580250855,
          -1.5737313828666786,
          -1.7148709729100615,
          -1.2187163240425551,
          -0.9081075934919378,
          -2.4076385061986563,
          -2.6312477371308924,
          1.5673168136376303,
          1.260676137476438,
          -1.2731362784415325,
          -1.9933897451720615,
          6.078392568331345,
          6.202329832453549,
          1.880647197466098,
          0.48550384897295196,
          3.7247868746474655,
          4.9990228510230175,
          -0.6507019188068313,
          2.8317540321081105,
          5.15722412109132,
          3.8192902746508084,
          -1.8812815325483472,
          -1.017041578089581,
          -2.343114277873314,
          -0.061394194594860646,
          1.12449732263351,
          -1.017041578089581,
          1.5499874451851445,
          -0.23880439879088844,
          -2.05489488332625,
          -1.4608536919332902,
          -1.2511268482027638,
          -1.4326231369090208,
          -0.8322050040892998,
          -1.017041578089581,
          -1.4771002595731533,
          -2.6286065993341587,
          -0.2103525565903886,
          3.72204110649193,
          -0.6601937727661518,
          -0.08898081277070342,
          -1.3796424287630291,
          0.8934594009314065,
          -0.6029963198787511,
          -0.7120551860400108,
          -0.776983937946849,
          -0.6805758573158156,
          -0.24279844901403555,
          -1.9562315383510123,
          4.118042026063584,
          5.713741031844156,
          -0.7417411626392634,
          4.424095099147773,
          2.3273182406295385,
          0.017763471206447765,
          0.3014939930849978,
          0.9650215283895122,
          0.02246839262249685,
          -1.2199650459691418,
          0.3417751159053106,
          -0.5378912868672472,
          0.8644678960471941,
          4.004696577326853,
          4.008320181774834,
          1.3829663131262557,
          -2.057429789142763,
          1.3094774137593312,
          -1.2244223547667645,
          3.3013877478747724,
          -1.1107604184765898,
          0.5360702750732712,
          -0.24744053697254742,
          -1.9441899850782947,
          -2.133057653760354,
          -1.0891187918604008,
          -1.8302469752259656,
          -0.15516416449344184,
          -0.9951653539849198,
          -1.3596060537015464,
          -0.6110809564064188,
          -2.5498154982660926,
          -0.6067753052647091,
          -0.7288872748469323,
          -0.6427561202341454,
          -0.8384661829154191,
          7.048160534198838,
          3.086299510078865,
          1.6499160539143827,
          0.5039626516959587,
          -0.7628234779254295,
          1.9098861430974061,
          -0.7381554703584132,
          -1.21050503753396,
          -1.6165006411449976,
          2.9152852845241632,
          0.7875315395435436,
          -1.4713066508652923,
          3.840536654487977,
          0.8180105809922918,
          -1.5363920461225509,
          1.5017010248753793,
          -0.8269573928584227,
          -1.2365537984863493,
          -1.1213910396496634,
          0.3532535757130954,
          4.156988672470462,
          4.181143915852828,
          5.874241617946337,
          0.7726737970500176,
          -1.2384651584229946,
          0.17391144426442504,
          -0.2910191568213255,
          -1.3643289196729795,
          -1.0013576229512053,
          2.8143610849320835,
          1.0152267748235695,
          -0.8997096472317089,
          -1.8161225830951802,
          -0.40691985636643363,
          -0.6222506022041554,
          0.9298554236724583,
          -0.031158874814142607,
          -1.8953253854100007,
          -2.0864594737726567,
          -1.0330740365002848,
          -1.648478835334428,
          -0.07688967377256115,
          -0.9626729037514542,
          -2.0140350530214652,
          -1.3293413005641412,
          2.960200102558321,
          0.3366612973343736,
          -1.7136150221763604,
          -1.4322797629514934,
          -0.9929724146692323,
          0.3710468481112419,
          2.6387134059669584,
          -0.028077801649979268,
          -1.667664865504653,
          -0.6079060289417969,
          0.022377474382160423,
          0.9645203776907131,
          1.2387761280336032,
          0.3211546567581576,
          0.39931016340159864,
          1.448049386029834,
          2.279897641894934,
          -0.22663402010361844,
          0.25316511117440343,
          -0.21480126217786205,
          -2.4628532337473232,
          1.3697801765357989,
          1.7508953452310547,
          1.3863298495833418,
          -1.2538737101450215,
          5.133050169971325,
          3.5265151258836993,
          6.346033202222224,
          -0.6161373499207315,
          -2.3748289472525186,
          2.2533078147803622,
          0.8167571253489772,
          3.653765378813386,
          -1.8047421918261297,
          -1.8627951125034796,
          -0.9242152643491603,
          0.7066524688936535,
          4.942598053975863,
          1.125233612783273,
          4.795289250255227,
          2.4635678490115005,
          -0.09446247231001546,
          4.247306482872683,
          0.2490357613668703,
          -0.11019294017436516,
          -1.8060319312706887,
          -1.469079712748625,
          -0.025425946360965592,
          0.337003742217901,
          -1.0272113725970824,
          -1.1806601610443492,
          -0.08462383414740994,
          -1.2131974145350355,
          -1.5289774319052674,
          -1.3378086857797176,
          0.9015460755941922,
          0.34704130353341317,
          -1.8391030814300067,
          -1.2105926310370012,
          -1.3843046322401924,
          -1.1745523891881082,
          -0.8900534710795271,
          -1.7792525918076745,
          -1.7629015313750143,
          -0.22626369877920507,
          -1.359674374010852,
          -1.4373298042223681,
          -1.0505476390009716,
          -1.2326907154182063,
          1.3565283499092389,
          -0.31742155846790115,
          -0.8073456954282037,
          0.6294753135461049,
          -2.017437359162993,
          -0.1145479510711895,
          -0.579736723683011,
          -1.8188905101656396,
          -0.21705098951570165,
          4.5294302605170165,
          0.33318971537504827,
          0.9708797436014676,
          -0.17127054263204103,
          -0.7941852500264387,
          0.1589213249972657,
          -1.1876432241511585,
          -0.6402858806840845,
          0.8750838457096447,
          3.6087315817291583,
          5.02298863805747,
          5.80583244770181,
          -2.4845855869545876,
          -0.06723872685756722,
          -1.8199456802868188,
          -0.16463751050254613,
          -0.937342606581523,
          3.6959874644486947,
          -0.11499063549310228,
          -0.3119119497426369,
          3.6087315817291583,
          2.962821117328595,
          1.974525554328061,
          -1.8693347569376908,
          3.9265835294224667,
          0.8514655969973891,
          0.25165487338246045,
          1.5069037952476554,
          0.8765073635953347,
          -0.8493286256975376,
          -2.767042218285056,
          -1.9426782361716521,
          -1.9404583741889665,
          -2.3277141531057506,
          -0.48930088551691936,
          -1.2448085534620563,
          -1.4681887969761531,
          -0.4197705078970211,
          -1.179404182055468,
          -0.7316519448921258,
          -1.9934477924940692,
          2.6589574687484143,
          -1.8424902425655316,
          -1.9752037541359393,
          0.49738213453453695,
          2.803014248045929,
          0.8898853897758203,
          -1.6997216230484247,
          -1.1189657700263962,
          -2.2297276153308534,
          -0.7369155743144535,
          -2.886057972767239,
          -0.04773120798274708,
          -1.2455077589325831,
          1.581293382163733,
          0.3862402573486108,
          -1.3826420603119776,
          -2.4775829776870495,
          1.1497627661579255,
          -1.0859697564578674,
          0.6207099620941167,
          -0.073136234504189,
          0.002695886147725162,
          2.170027229768548,
          0.36718627717097774,
          -0.9314426872002078,
          2.353248545597483,
          -1.0597890934720597,
          -2.276109855694125,
          -0.7031780913867117,
          -0.29266338241288664,
          1.0280402330301837,
          -1.1648221376777192,
          0.451160457752545,
          -0.549117259918565,
          -0.675145914721635,
          0.29979688154291106,
          2.6834129126268156,
          0.5984074638508647,
          -0.5498879058004911,
          1.5305789710549682,
          1.6719273733102398,
          2.365034188094585,
          0.5073760258805259,
          -1.353909825927525,
          0.5151319213344541,
          1.0608289232294799,
          0.5729789672192858,
          -0.7152407495550078,
          -0.04317819295220955,
          1.6217258746453853,
          0.36751585684045157,
          -0.7640261804664318,
          -0.5419837729171579,
          1.0156004276682966,
          -1.0104901039718692,
          0.34745430653825077,
          -0.2807461940428685,
          3.1877031348523137,
          -0.545260379031776,
          -1.6326205624300438,
          -1.1815682360615904,
          0.4831617885888123,
          -0.4662482753257239,
          -0.6461748391001934,
          4.245475571774245,
          -0.17032794041760066,
          3.4798674918083137,
          3.84097588094037,
          4.963938781946999,
          4.4080801508248,
          4.139496296933861,
          4.031285308102275,
          3.936321424219396,
          4.187078489713526,
          4.91780816360102,
          4.959531607032033,
          5.4913638121789,
          1.5324624690552497,
          3.786004970194429,
          4.224405197605611,
          3.813445724703181,
          4.269047290947429,
          5.355886276386324,
          5.634525317250316,
          5.131366024213475,
          1.5778734844665667,
          3.6283998048062993,
          3.3748679584004275,
          3.1366409364731775,
          1.5464616640991635,
          1.7734555001668166,
          -0.5736981384083495,
          -1.3474769379185072,
          -1.4095676969430222,
          -1.7902349574504646,
          -0.9599392716314983,
          -2.3378502090707274,
          -1.9219232563386317,
          -1.4554683365959458,
          -1.9072262876723372,
          -0.6716795002770666,
          -2.0046562231551004,
          0.3251566625513815,
          -1.152386072071766,
          -1.4557044571067248,
          0.1805907136268421,
          -1.907935059514841,
          3.523659061137905,
          -2.0491186934792043,
          3.6180834062291507,
          -1.737484514657711,
          -1.4392948516572357,
          -1.5714083380161565,
          6.308184544302043,
          5.008294840003462,
          5.403265664257088,
          -1.485371002996553,
          0.33114376729517825,
          -0.46419951317278096,
          2.7937786280697057,
          2.229327145953378,
          1.3893334009215683,
          4.269223510110592,
          2.1474447251427833,
          0.7629686163768576,
          0.5313880649539605,
          -1.1115207404332892,
          -1.8204209333872408,
          -2.1921376455691455,
          -1.6730626775637112,
          -0.5625611286937763,
          0.451918045748741,
          1.919573857543192,
          -0.8702170708257265,
          1.0741748437686,
          -0.22718136569597652,
          -0.8526204872249907,
          0.430983395810221,
          -1.5594414900233993,
          -1.7883857649490373,
          -1.2843690828034693,
          -0.3289293614603012,
          1.051814375580959,
          0.5340816012176952,
          -1.1097151949345345,
          -1.9685741228713418,
          1.352697131444026,
          -1.1080951590932826,
          -1.1080951590932826,
          -0.7862581323449487,
          -2.1866569882184583,
          -0.7966028054395352,
          -1.8418411545862132,
          -0.7800250543797564,
          -2.4784838201281763,
          0.25976035564036504,
          -1.3550297693817033,
          -1.6177557993272007,
          -1.8260772103567111,
          -2.3046905029491933,
          -1.7235553968485757,
          -1.3761949647926437,
          -1.021875743285251,
          -1.7791379054828032,
          -2.656622572909873,
          1.029114625510054,
          -3.094666351260061,
          0.2724699225082959,
          -1.790007185391614,
          -2.47938308777124,
          -1.8871690235505902,
          -2.643073812178534,
          -0.3573801366614936,
          -2.5671936495562417,
          1.3794835128663618,
          4.525123553936599,
          4.716885186699745,
          2.595025591971072,
          -1.1366165372990904,
          1.9842254319975132,
          -2.4281391425039107,
          -1.356175401140454,
          -1.6507557002712345,
          -0.9916773688297719,
          -1.461483843233098,
          -2.1097261247542543,
          -0.549117259918565,
          -1.9852742550337772,
          4.386572613899493,
          -1.11017229194422,
          3.377600294793801,
          -2.4344247833985966,
          3.5934938671033736,
          -0.49643132082921343,
          -2.4420108168095602,
          1.0393967728352165,
          0.02417263635028079,
          -2.536043601464765,
          -1.4224961761214603,
          0.02417263635028079,
          -0.2612995615269687,
          -0.9108428135470118,
          2.094042485609157,
          -2.5645649137076525,
          -1.2386221853149892,
          -0.30842192358759635,
          -1.5155895125722443,
          -2.031298614678037,
          3.8631048897343288,
          -0.10838299594407852,
          -0.6022552644160734,
          0.5177509655213357,
          -1.7090697231493617,
          -0.2761452223050104,
          -0.7551372548019912,
          -1.3763064760423567,
          -0.5312260392016577,
          0.23717195172482392,
          -0.3026081729421223,
          -0.5065280021147461,
          -1.2055895512885544,
          -0.8204348260187266,
          0.2660650637100616,
          -0.29884421461537664,
          -0.872801255403477,
          -1.7175667292646413,
          -1.5155528888804213,
          0.8864093485671767,
          -1.676646874745967,
          -0.4694345966142341,
          0.8710775895722578,
          -0.8644705676615111,
          -0.7144561741353889,
          -0.4406885569491469,
          -2.790270900922428,
          2.890414617654669,
          -1.1507276718314712,
          -0.8031773216690987,
          -1.9473824019540262,
          -2.1629636170947366,
          -1.4723654985500965,
          -2.6893121402844162,
          0.9240011933509131,
          -1.7474528809598413,
          -0.14576653368649814,
          -1.8983586902445269,
          -2.669347847935737,
          -0.5221693744493336,
          -1.4548434949416957,
          -1.0283096381666235,
          2.3622397711804477,
          0.5436395862813675,
          -1.868930436853079,
          1.1710036212559032,
          0.6999040042938866,
          -1.704447142955154,
          -0.592054699002688,
          0.4498649728207438,
          -0.3295745148089145,
          -1.6376693914418599,
          -1.4572609901665456,
          2.466070869617822,
          -1.2095953675949738,
          0.5254555899481586,
          0.07547147484810598,
          -1.5847134393643667,
          -2.9080619282235403,
          -1.1765084408048707,
          -1.9119343526634263,
          0.9356036829290546,
          -0.36086600256967194,
          0.9679635861196781,
          4.699816675368837,
          -0.47233140556173164,
          -2.005630532214278,
          1.5727472398500428,
          -0.9464089318334703,
          1.4686267276229197,
          0.5011147455994408,
          -1.353749504362387,
          -1.8434120476123388,
          -0.6537657414667504,
          0.8902655962892365,
          -2.81625912505893,
          -1.2235095886351686,
          -1.5127849605175296,
          -0.9684779368006281,
          1.1487058582651937,
          -1.0984469249325655,
          0.502237797213784,
          -1.4812543999862984,
          -0.5435665341609945,
          -1.290964936608622,
          -2.162833307478608,
          -0.8354743294354064,
          -0.033148562461248574,
          -2.0149265692493197,
          1.796033242084348,
          0.7846163460118247,
          0.32114376159708036,
          -2.1901371392226086,
          2.597137364064699,
          -1.6127967117375035,
          3.02605302894775,
          -2.0657056457669625,
          -1.5210993374175878,
          -0.9258655178346507,
          -2.074379532320172,
          0.7511849781136248,
          -1.7164833605229042,
          1.3199455730608434,
          -0.29967490885489584,
          -1.0601592783170948,
          -1.57938616321675,
          -1.6924656514757903,
          -3.133177732795538,
          -0.0372462328629696,
          -0.08421121464130112,
          -0.7467746719958063,
          -0.16470824566879252,
          1.4022482201741067,
          0.4677989764236726,
          -1.337321684088964,
          0.08110278845448501,
          -1.377926545841368,
          5.03110784490364,
          -1.8983922147789338,
          0.5995552083481094,
          3.525204639447452,
          2.2683191496362327,
          0.9096299592015565,
          -1.026418914347898,
          -1.0690904627080777,
          0.655663132079736,
          -2.0237690194122586,
          2.1959209999050584,
          -1.9202674340983548,
          0.6521268829335789,
          5.262718544641115,
          -0.6974112188432154,
          0.7820338260369193,
          -0.2090432327886091,
          0.6998427652454067,
          -2.0224335239758697,
          0.4712071639952825,
          -1.260480286683123,
          1.827145455088542,
          6.083318328609309,
          -0.8508696332442807,
          -2.0825048372647568,
          -2.224336625502372,
          1.4014298850676423,
          -2.7228295299586773,
          -1.6085417664418025,
          1.6013054390496686,
          3.3170485154906704,
          -0.893628771252799,
          -1.045953972709039,
          -0.7263218841933002,
          -2.9436481698922794,
          0.06221403756445207,
          -1.166386556396755,
          -0.5132483562854896,
          0.6525178740460733,
          2.213623428481485,
          4.157689233042855,
          3.995264448657274,
          3.744144134343589,
          3.3340361292652156,
          -0.6706922862361592,
          3.7210836024692706,
          -0.7220199150774412,
          -1.5037488884709542,
          -1.8208063443174323,
          -1.3092499530556854,
          -0.5828274996029211,
          1.8767430181001135,
          -2.3135721971896435,
          0.7099128201293102,
          -0.781268227770792,
          3.394927981868261,
          0.9032880273730487,
          -1.5365804542172703,
          -1.6283452043117537,
          -1.702268481494209,
          -2.4352854352283093,
          2.018654282616747,
          -0.3166155515639361,
          -0.8941954290264563,
          1.1047609784727364,
          -0.1961274070336842,
          -1.3280200419065074,
          -1.870446312712765,
          -0.7325588346573653,
          -2.4322104556325064,
          -1.0631051517428243,
          -0.9018458559798228,
          -0.5690495861384952,
          -1.730386673282588,
          -2.1007718092553644,
          0.1206240525104152,
          -1.5280973319537643,
          -1.9108022973619916,
          -0.21031089609908865,
          -1.7943548127338844,
          -1.5361213058279375,
          -2.216000136727967,
          -1.4955985695299723,
          -2.5500589751698017,
          -1.098226216720645,
          -1.2393277340386912,
          -0.8577092210584599,
          3.660395664513194,
          -2.6601514416636025,
          4.225043041397306,
          0.41508078148570915,
          1.188059738799602,
          2.7531891075881902,
          -0.290498459729091,
          0.5136929486351995,
          1.8792188806685457,
          -1.665774549979445,
          4.166293634806008,
          -0.5221693744493336,
          1.0434337104662197,
          -1.873099653497444,
          0.8500285353730014,
          -0.3318503843828145,
          0.2744299751321875,
          3.481276240454128,
          2.331775500646686,
          -0.0708459073389064,
          -1.2092837434063086,
          -1.3631427295039147,
          -2.450222781385805,
          -2.088476993478858,
          -1.8057549808143691,
          -3.3995837310824375,
          -1.699822589137529,
          1.5209018222443889,
          0.7646308800896885,
          4.478609512834522,
          2.4661133198039704,
          -2.235490459928443,
          -0.8246614851720221,
          3.4324506450763255,
          -0.488236232268269,
          -2.081322355130962,
          0.14989400405551725,
          1.897388952891096,
          -0.13683775308019472,
          0.4502592342354182,
          2.0957686662777846,
          0.9153914685653923,
          0.5857264273779647,
          2.2333595333061385,
          -3.0450765877715433,
          -2.3291508714311777,
          0.45432202704512564,
          -1.630120735089728,
          -1.4143229884606345,
          0.24435456870028244,
          3.210799648564411,
          -0.9304532954544277,
          5.150035753984845,
          5.00428170738885,
          -1.3148675759101844,
          -0.7597385878813319,
          -1.6628375487419655,
          -1.8902303297831136,
          -1.532846735252269,
          -1.2536233695640082,
          -1.2302352255235949,
          0.10461162581345655,
          0.5222047642496483,
          4.431045401922305,
          -1.1896884868417064,
          0.3826515107286236,
          -0.7773625634585387,
          -1.4952959189875166,
          1.6675267223983983,
          1.485242878068136,
          4.356729544123438,
          -0.9108592533331845,
          0.18164272293418474,
          -1.8732582454237787,
          -1.6946786996734686,
          0.4358314317588766,
          0.48799101985832494,
          2.7658581502204425,
          1.95408766817973,
          -0.17613599599091723,
          0.42279312293853316,
          -1.611735936982192,
          -1.0419915528465538,
          -0.12021237473150534,
          -0.11140233801850546,
          -0.34434278626743625,
          0.6672750904822239,
          -1.2131974145350355,
          2.5136903101093657,
          1.1845545043666204,
          -1.755389031147311,
          -0.6992418306210496,
          -1.0580195579562368,
          2.311940378611574,
          -0.13688948178293084,
          -0.8741749815567258,
          -0.9304422088236259,
          -0.9840382097343713,
          -1.3564305630785594,
          3.3966287287929475,
          -1.7688160662074714,
          0.25324946539756965,
          -0.562543296673325,
          0.1389498083800928,
          2.9951823246963114,
          2.3219296947796293,
          -1.4964895263633475,
          3.2743693149316218,
          5.3355366381637825,
          1.1970948667173502,
          -0.9325106706495234,
          -1.0348098358027826,
          -2.025148199151575,
          1.0657747825801034,
          -0.38574105649317086,
          -0.6253799907794833,
          1.5479900682861585,
          -0.9325106706495234,
          1.1810200528402155,
          3.6809276424008894,
          3.7570147332726553,
          0.012415187357944155,
          -3.030569719031827,
          -0.9098410453161855,
          -1.519191213934289,
          -0.9195814288618503,
          3.8284561838288953,
          -1.111713310393215,
          2.2673373620579826,
          -1.515072130973403,
          -1.3925033257613078,
          -1.299584666673285,
          -0.12266151502753797,
          -1.8668753039071238,
          -1.5018729408205724,
          -0.5700160017381583,
          3.039882270510461,
          -1.8005405433301163,
          -3.6632315599681697,
          -1.4679455092351452,
          -1.08006146963036,
          0.8055109936842508,
          -2.8202672391359034,
          -3.4529710337762114,
          -1.1110635172556054,
          -2.791897090464661,
          -0.6542529218710759,
          -1.2316328350265473,
          -1.3092383176769784,
          -0.4469941032014109,
          -2.11479385943553,
          -0.8486770478305623,
          -0.9409778444685297,
          -1.8320832439959551,
          -1.4789288509342502,
          -0.2603117476767195,
          0.7062856706652347,
          -0.947231238377564,
          -1.8280677033103923,
          2.8968869857554753,
          4.209593201660838,
          -2.7548708199059346,
          -1.5459459240384132,
          -1.8925052109960363,
          -1.7067784255245086,
          -1.677453950866064,
          -0.4563518583717414,
          -1.3346043453735306,
          -0.32162950035436966,
          -1.5006475935961925,
          -1.45959381702398,
          -0.8243341544860167,
          -0.6580875903276743,
          0.28642701434719325,
          -1.2796134458978496,
          -0.37049705875550165,
          -1.2343513887207473,
          3.9963005471458795,
          3.3395779158555357,
          5.384016484346953,
          0.21837706806185928,
          -2.306768848291024,
          -0.5021981388206951,
          -1.006897853418229,
          -2.1476944439402614,
          -2.396863743557693,
          2.709606964693455,
          1.7560435745437515,
          -0.944397387299848,
          -1.1396430988151263,
          3.5578638142965153,
          3.853519820121416,
          -0.8855858941782218,
          -0.982965165320577,
          -2.3201254212705913,
          -1.2569492976214989,
          -1.7231498462043984,
          5.961074281238079,
          -0.9304306817837584,
          3.792309664083234,
          2.533893924578382,
          2.4003469329064764,
          -1.7878372257776929,
          -0.23352895324163747,
          -1.8863702813551408,
          -3.0007847223145747,
          -2.0888534256576925,
          1.0430639994862385,
          1.4753691607777772,
          -0.7167812722224336,
          -1.824163976086663,
          -1.0939818264875387,
          -1.4173759806756014,
          -0.9227672156589168,
          -1.104428046412081,
          0.0673526847473577,
          -0.7895365930463453,
          -0.07072149456798847,
          -1.8517630213186196,
          -1.8601271467736307,
          -0.08828355973957774,
          -0.25544103116343253,
          1.8793807339843214,
          0.9116853878805063,
          0.10012379315177564,
          -0.6039439779725398,
          -2.929817585496707,
          0.19839714092277724,
          -0.4491867303360409,
          -0.7937960986538566,
          -0.6206510300666291,
          -1.4459240490094982,
          -2.3369061253580052,
          -1.463382068040218,
          -1.2208847510985534,
          -1.1296546207459421,
          -0.1778733037171467,
          -0.6960752028433899,
          -1.3678339527436485,
          -2.3446882446890296,
          -1.5994355501742878,
          -0.6953135901672175,
          1.6229388520328982,
          2.7823998445336753,
          2.285874428736387,
          2.155550798796948,
          -0.26478294441047373,
          2.8276062488980154,
          0.6100656850450626,
          1.317480504278314,
          2.746800775169634,
          -2.2523754075787226,
          0.7036343124900772,
          -0.001183760249146114,
          -1.4829619080699736,
          -1.1075232058518307,
          -0.6971997960267916,
          -1.9568620208735594,
          -1.1054970278095244,
          -1.326483193570149,
          -1.7849025600389334,
          -1.2811371791205033,
          -2.886057972767239,
          -1.24183485681529,
          -0.15427203546754034,
          0.5668302283795723,
          3.16387382953157,
          5.047031224564758,
          1.2487075452916379,
          0.6273736799906421,
          0.07539853780510594,
          4.046423353988646,
          -2.0948414895359444,
          1.7704705061504296,
          1.3428053485486449,
          -0.6281159028604064,
          2.700757100788,
          -2.8964595824616723,
          -0.4890714865795589,
          -2.4153603716354706,
          3.350597068739795,
          0.11785838188577188,
          -2.0818315040779067,
          3.383381376861084,
          -2.0288683703444135,
          -1.9296895864420223,
          1.9624352875108129,
          -0.1147378176740243,
          -0.8976185323361076,
          -0.6162589382614417,
          -1.339850634422028,
          -1.8605094581925599,
          -1.1256165151572648,
          -1.3471905127214168,
          -1.663466730138916,
          -1.7937172212243653,
          1.711607079218843,
          0.6875307868210211,
          2.3599126557972516,
          3.4077455863709956,
          3.420163417355513,
          3.170408043356184,
          4.189709436743139,
          0.8861883023723549,
          -1.2041336806401508,
          -2.4332660384219973,
          4.396257729264006,
          -0.9943458450544881,
          -1.6640786009656172,
          -0.6530120732992514,
          -0.7024160963306578,
          -1.6162721975405976,
          2.700067123399993,
          3.1332303142138054,
          2.6230336450209117,
          -1.7234064226917918,
          -2.8800245580393935,
          -1.8011679111545562,
          -1.6369871043498485,
          -1.8914809660644958,
          4.6189357801611575,
          4.050843042184679,
          4.352663051268987,
          5.122067061563873,
          3.906816410033581,
          3.986678980914988,
          2.785223409389509,
          0.9999800069643554,
          0.6799719491218092,
          0.014298306941483712,
          -3.156152761147989,
          0.022755347441269978,
          0.022755347441269978,
          0.16215521835046717,
          1.884824936440657,
          -1.6357883699260105,
          -1.44053680923962,
          1.9595862552593741,
          -1.964396362640466,
          -1.597373864650285,
          -2.089446314970425,
          -1.8026658189060798,
          -1.2917710621025624,
          1.6122957977964256,
          -1.0597890934720597,
          4.601631831528843,
          4.450568176559051,
          5.210196579660403,
          5.777399769903289,
          0.200765625727757,
          2.132612098958038,
          1.745996809434329,
          1.745996809434329,
          0.200765625727757,
          0.345466843927741,
          -1.515422681091898,
          -1.6922378597241023,
          4.310681878249159,
          0.46926894723910695,
          2.324208231380985,
          0.9381121233998017,
          1.184125244273474,
          -0.37430669765646213,
          1.0133098935057985,
          1.0103085340590083,
          0.7875315203113383,
          -0.5858043284252902,
          -2.6432273139517286,
          0.7454678649645963,
          1.0437438961384302,
          4.839564142521274,
          2.289658143604798,
          -1.302533341046243,
          -1.32124993874134,
          4.0332580078560465,
          -0.9054653279761936,
          1.4077154542863604,
          1.819776761863794,
          -2.0266801412988684,
          0.4069739919366759,
          -0.17898853073046184,
          0.48476181187359624,
          0.2637378078660121,
          1.949047289770571,
          -1.2617841821502724,
          0.1492151480055361,
          -0.21755040086465136,
          -0.7624724066787728,
          -0.9387029953969084,
          0.2794997792688245,
          -0.7588630483770611,
          -2.1527959857986354,
          -1.5357814618078698,
          0.8290154285889059,
          -0.9817137056298615,
          0.0007320463538195042,
          -1.0590701782309828,
          -0.752901170878853,
          -2.5175145217551647,
          -2.3199405171221903,
          -0.23471491664775287,
          -0.22120729624415436,
          -0.6810305719934211,
          -1.3423911334200622,
          0.9329099433229747,
          -0.331385986009132,
          -1.3663419235685057,
          -1.0192775239661642,
          -0.549117259918565,
          0.053066294991843455,
          -1.2567107324055804,
          5.25966150697429,
          -0.2965634305110336,
          -0.20192591787070066,
          -2.0246023398504867,
          -1.4443686593542004,
          -0.9751839182365093,
          0.05452714640811985,
          1.4523524534217263,
          0.8192739231873555,
          0.07698261684037526,
          -2.4241133476805627,
          -1.049939683603634,
          1.3593481661758213,
          -0.843701824803568,
          -0.4054386474312052,
          0.6101227140817006,
          0.12017397103911867,
          -1.008409709766835,
          1.2229974720456418,
          -1.1031682937994713,
          -1.4083418571679749,
          2.5756303060219774,
          -0.15864834545483691,
          2.915458923587587,
          0.014968192928110125,
          1.4088806725999028,
          0.8082967149746673,
          0.44649458027625627,
          -1.2795600059785794,
          2.827260081154486,
          -0.4277133637975993,
          -0.8837451046928385,
          -0.23093094143364565,
          -0.5371447045574771,
          1.38807843705267,
          -1.0597890934720597,
          0.8795324448096477,
          1.4764147298242958,
          2.7650016272370332,
          5.637075618753219,
          3.5002357640189063,
          -1.5104184002125933,
          -1.2334843591545108,
          -0.7529405029218754,
          0.08511187324309183,
          0.32051098514515164,
          -0.9120762581936728,
          -0.2785807002941408,
          3.0884336247674806,
          4.1432477779996955,
          2.399716316397862,
          3.176957929846898,
          -0.604428344069407,
          5.574219688203975,
          5.333727896640726,
          -0.17032794041760066,
          -1.442721061247867,
          -1.3399879370214884,
          -1.3399879370214884,
          -1.080245898570193,
          3.916659393187202,
          1.1333539879918566,
          3.131924063360544,
          -1.3399879370214884,
          3.135171724665464,
          0.05296106361416781,
          3.824228685300254,
          3.313960361031419,
          0.6376433975357708,
          -1.367827649451648,
          1.4795949689527155,
          0.5075398114106463,
          4.025163763893029,
          3.397634175449694,
          3.302529115701345,
          2.83112882247411,
          0.4298703987209259,
          2.6526038200999,
          1.9894395187425358,
          -2.44513483770625,
          -1.9828992824413225,
          -2.908813880378371,
          4.910713009747098,
          -0.6498036654322965,
          -1.530344449493799,
          -2.7153897454154516,
          -2.0687544157967643,
          -2.2542542997003827,
          -2.010052679611554,
          -2.1099099573153435,
          -2.2236326075156008,
          -2.3132103064829774,
          -0.9502346814249335,
          -2.1364027095393245,
          -1.00653354894602,
          -0.5635117535932606,
          -0.5452437114590932,
          -2.269809098860971,
          -1.2016336137926893,
          -1.3117714960738542,
          0.11607867116484602,
          -1.1573319711835883,
          2.8442612084686383,
          4.816971047050101,
          5.38850213788645,
          4.902234021478255,
          0.17804007974110678,
          3.1296296239009402,
          -2.6715653444756335,
          -1.4732881003033524,
          1.210945654717013,
          -0.6283268472049902,
          -1.8232159852586591,
          -2.761626719266496,
          -0.8038412941572953,
          3.1296296239009402,
          1.2775355899569332,
          -3.499987153766301,
          1.3589483043899584,
          1.7385554462803194,
          -0.22573449118776856,
          -2.274067346388715,
          -2.722292027168739,
          -0.5665714728194744,
          -0.7245547433332955,
          -1.8992419894110668,
          -2.8397395979008886,
          -2.0779173370881696,
          -0.8771721526876277,
          -0.4066838677898668,
          -2.462682444077483,
          -0.9502346814249335,
          -0.8848052512508227,
          -1.4759715630515942,
          1.0340563390737685,
          3.9266530882283877,
          1.3504189491626393,
          0.40228114438331447,
          -0.7883433217568934,
          2.027965414020064,
          2.0402179546875274,
          0.897991007385602,
          -1.3703622819832761,
          2.195947876785934,
          -0.3257151107438935,
          2.1667905160060235,
          -0.10849963879625063,
          0.5555801926793549,
          2.6855272350918424,
          2.0629718502740513,
          1.932778973012087,
          0.5823874663723919,
          1.4280076694700525,
          2.2279502077988336,
          2.0141117237244606,
          -1.7548260472472814,
          3.145271157736503,
          1.8851878311394756,
          0.5461741363291337,
          2.3563966282033193,
          0.8590333940405679,
          1.5750036225782393,
          -1.425407917604751,
          0.1322950570473492,
          1.6585341861753562,
          2.6330801007313847,
          1.2919858967101805,
          1.5307731412375452,
          1.8030112846657083,
          0.0670694267604603,
          1.80454035059817,
          1.3745874347744307,
          -0.08395614302769298,
          4.0497491727114605,
          -2.1275500290304175,
          0.5273523375187045,
          -3.0914737893276913,
          -0.9291176379098586,
          -0.4015548957102335,
          1.1987811941730067,
          -1.4489486989802902,
          0.4216419583783459,
          -1.0348098358027826,
          -0.633742057212648,
          -2.183496509851047,
          -2.1758672952105007,
          -2.8243568560471197,
          -1.5657851439064703,
          2.488852486987384,
          1.7069952938522637,
          -1.7699525413624646,
          2.0944287535894532,
          -2.5389405610748894,
          1.7757562576013008,
          -1.3673813815784812,
          -2.321719004377391,
          -0.07145510003716113,
          -0.12953515656082018,
          0.017056520577367996,
          -1.6918615662065624,
          0.24788898634041978,
          -3.371949005692059,
          1.8109439725347143,
          -2.9563167102804067,
          -0.9326576513945362,
          1.545356372190425,
          2.0175676302543017,
          -0.9777384825203526,
          -1.8088045851480492,
          -0.19764938933701467,
          -1.7360045350795752,
          3.68422019892972,
          -0.6847094485509616,
          -0.2603117476767195,
          1.5422988888047588,
          0.5930026646121636,
          -1.7912959670136772,
          3.1180214989226327,
          3.3580144918752333,
          3.509930965088285,
          -0.19461924016161913,
          2.480527963790226,
          4.517776810914007,
          6.091867137337176,
          -1.3864258127587974,
          -1.6590894291934792,
          -0.8451615089399571,
          -1.0417192548785006,
          -2.2126328441140077,
          3.904762418566284,
          2.3576582971520175,
          0.039926016615873895,
          -1.1004953247578715,
          -1.3293394373721148,
          2.4179234417138873,
          -1.8494158071698892,
          0.6194589894389161,
          0.7007141496868077,
          -0.2213109957661935,
          4.069805840259908,
          -1.6915198589429592,
          -1.6480326701342503,
          -1.6266757262409488,
          5.070598490109718,
          -1.2012069430765224,
          -0.20161483159628862,
          2.2123779499001275,
          -2.464924839700887,
          -1.9249814682117177,
          -2.408016409672175,
          -0.39816065469448925,
          -1.1481127843950476,
          -1.2373304643909673,
          -1.4628181365509447,
          -2.6429915346372557,
          1.9533017033003979,
          -2.1195725580612317,
          -1.0140421857817676,
          -1.8430894155768573,
          -0.17434341580478363,
          -1.807906374375226,
          -1.0770098667738919,
          -1.4905481769240267,
          -1.2980784897176665,
          2.3650341880945853,
          2.805690268078531,
          0.48472351061886254,
          0.8549288236322982,
          -1.501392214950879,
          -1.3673565615888001,
          -1.5786623309290857,
          1.9460913874910197,
          0.03174403073604785,
          3.518987096487809,
          -0.12194207361813122,
          -0.8643826427197121,
          -0.3431640158084623,
          0.14879956982851636,
          -0.7021345155769472,
          2.5268907301930486,
          -1.590742895701245,
          -0.04081922184563159,
          0.7899298288307433,
          -0.9108592533331845,
          0.5345492960066752,
          1.7118640514247745,
          0.32913723878694906,
          1.1931202253106954,
          1.0958689907088612,
          1.2545681987114243,
          -1.645491242171435,
          0.06998303323160518,
          -0.6562708849308361,
          -0.8025844842561625,
          1.0288670632622694,
          1.5503148149597892,
          0.7522544149888789,
          -1.3594752795046872,
          3.018000391387946,
          1.0712957412947133,
          3.2217287372984584,
          -0.09309152149855168,
          -1.298577997346758,
          3.2186280625537043,
          2.132612098958038,
          -2.34467300168256,
          0.40529331240226646,
          -0.5726023021440035,
          -0.8831651240421446,
          0.2864992879018396,
          -1.1602891468274354,
          0.7158496154657071,
          3.51075343562,
          -0.20646597214665635,
          0.13893639159218657,
          -1.8058188159171573,
          -1.769051266009556,
          0.8116576480875324,
          0.3375246919062732,
          -0.01039477591061325,
          -0.8944573785036672,
          0.2138747361762315,
          0.23100452434814067,
          2.0308782271879835,
          -2.2995204704233028,
          2.464111119546667,
          2.119217861721358,
          0.039000464651965515,
          -0.6538759240822299,
          -2.5086272188807186,
          0.8123565472634443,
          -1.5787530557618952,
          0.21465726009403832,
          -1.83701650875699,
          0.922956531959853,
          5.656350818133162,
          1.2758796109944475,
          -0.5087977010750425,
          4.278428722085262,
          0.6992100078765245,
          -2.384136424298683,
          -1.777730842694501,
          -1.780389886012656,
          -0.41675396826810707,
          -1.1894418289754776,
          -1.3168814365839543,
          -1.3415980593024464,
          -1.9057076077566903,
          -0.9399967293329502,
          -1.6808685152004779,
          -1.1904065555534995,
          -1.4119055620195082,
          -1.9190223555873616,
          -1.6818203902001196,
          -1.4359027004171436,
          -2.0112309024792445,
          0.0912140689015651,
          0.5055869622129675,
          -2.3991249477716163,
          -1.4878005371777192,
          0.09012877718788304,
          0.31014652749821403,
          -1.4468211063157406,
          -1.8879364766330238,
          -0.4308099759040463,
          1.9127398992549014,
          -0.934073942009669,
          -0.09245424702743066,
          -1.017041578089581,
          -1.4337106390703662,
          -1.1513085587600567,
          -0.3505327260134416,
          4.8917286124850445,
          -2.262035465700967,
          -1.164623953523947,
          -1.4194876518446773,
          -2.178982674772513,
          -1.704846765341105,
          0.08723516303489846,
          -1.5513713971895937,
          -1.130591932974701,
          -2.0086014603024744,
          -1.9719849087291321,
          -0.7603552441700421,
          -1.7081845936205504,
          -1.4526447883764566,
          1.093653629083842,
          4.707297316935374,
          4.066416551661848,
          0.844908045381962,
          2.0175676302543017,
          -0.5221029502555895,
          -1.0819030183511782,
          0.9363603495410874,
          -1.6901930633720708,
          -0.06734437755377311,
          3.1284096100847627,
          -0.01337292489036211,
          0.9315488370480692,
          -1.1078988413689925,
          0.9836845171357762,
          -0.6216384167307971,
          4.1763841532248325,
          -0.8174650647916104,
          -0.9844049327521108,
          -1.9340208521383073,
          -0.9150586306583646,
          -1.9024375077661237,
          -1.5991191899978698,
          -0.39791226734428137,
          3.1890107734387265,
          -1.3604505665769016,
          -0.7141034047337277,
          -1.5914938986038447,
          -0.269817901147435,
          -0.32057160195909246,
          -0.9748467556979397,
          -0.6346112423952767,
          -1.485246786990906,
          -0.6488361413093116,
          -0.687520897298204,
          -0.5235210522524468,
          -1.299764417933025,
          -0.39374742517973943,
          3.4924077989945728,
          2.5763577232711765,
          -1.2550502056471329,
          3.8527580670263823,
          -1.3963654042352835,
          -1.5970419948490946,
          -1.6886328758157632,
          -1.3774550293604095,
          -1.3690729524620973,
          -2.0826181995813386,
          -1.1954018276570262,
          3.4027511525664953,
          -1.9587229941745243,
          -2.6463148412916917,
          2.3353127950974346,
          -2.345824751081745,
          1.3957426239486532,
          0.30917657842897983,
          0.30917657842897983,
          0.048258746895679897,
          -1.082352072264751,
          3.0490881810417636,
          -2.0975769095841943,
          0.2531651111744035,
          -0.15427203546754034,
          -0.4124018197799242,
          2.894885667642767,
          0.9925700176837301,
          -0.1038038744527442,
          1.893819524326883,
          0.9398182903443826,
          -2.219007000192059,
          -0.40289995088326486,
          0.4855598419464205,
          -1.6946786996734686,
          4.453263833371458,
          -1.7698042251004982,
          -1.2917710621025624,
          -1.8456441547473572,
          0.09262464006245325,
          -1.8537718049763485,
          -0.32412406221746054,
          5.699030304877427,
          2.381784988233929,
          -1.5609102360473242,
          -0.2799174074815631,
          -0.5542550572699012,
          -0.6637454999146547,
          -0.32926983060965115,
          0.6663435469489164,
          -0.8145720543150353,
          0.6939265197491394,
          1.416207588595243,
          0.5778186477553663,
          -1.2584741789017153,
          -0.18772365879072267,
          -0.8836013757068091,
          -1.6875506785986942,
          1.5211340327985514,
          0.21959081948294984,
          0.2885020536256108,
          -1.4926217671802826,
          -0.21175692447558028,
          -0.17581020496163216,
          -0.8875625801717651,
          -1.2556219866206977,
          -1.226936160428372,
          4.6189357801611575,
          1.3552239026426227,
          1.9336164093535586,
          0.3436840728473261,
          -0.569037639940762,
          -1.8919920103002272,
          -0.5841890549176627,
          0.33276996189999714,
          -1.9175550818936058,
          -1.2392356281844927,
          -0.0954652032579175,
          0.5577786585832497,
          3.002801573904522,
          -0.5753522125886521,
          4.161022525837931,
          -1.998877005770338,
          3.7468909865289723,
          2.224478260333409,
          -2.060176960058503,
          -0.765174794011318,
          -0.8818233752987561,
          2.2008285870324475,
          -0.5335105742105519,
          -0.591376541706871,
          -0.8686121365386247,
          3.12692919116963,
          1.5727472398500428,
          1.8241788630931568,
          0.9487631695800594,
          -0.7979632686424223,
          -1.5274385093734049,
          -0.04031006817489295,
          -1.4688940844932503,
          -1.5189484652220913,
          -0.3336390303841244,
          -0.2874184653253753,
          1.9173914860919654,
          4.217793257754892,
          0.8123565472634443,
          -2.026822876035975,
          -0.9888603025879962,
          1.3505978175446587,
          1.3505978175446587,
          -0.22448253695649334,
          -1.559982375387885,
          -0.9445110188851539,
          -0.968737494136997,
          -1.9473824019540262,
          3.2626195808960086,
          3.335750201236276,
          -0.08400104548676977,
          -1.8353016618474354,
          -1.0147768860330988,
          0.6805879787852317,
          -0.9288952404986105,
          -0.9673631567290875,
          4.1683633391471355,
          -0.8950461905575403,
          -1.6554978350332143,
          -0.6736705457075535,
          -1.5694794034452266,
          -1.6619836307825173,
          -0.15889958107504099,
          0.6637508483382966,
          -0.8307561706234641,
          -2.2833156359466367,
          0.8752453390642231,
          -2.4277401058841876,
          -1.4224065981480551,
          -1.103766214033281,
          1.5650671095135869,
          -1.0895612371376289,
          -1.1687147925779535,
          -0.9946974720841738,
          0.7352426388393162,
          0.05685055929293578,
          -2.3649098795794234,
          4.904751130878136,
          -2.803040390957147,
          -2.2525620808187825,
          -1.8959245730757281,
          -2.091751605201151,
          -2.5083171311632473,
          -1.0932669094952765,
          0.23002712834864747,
          -1.7664024000158323,
          0.6845546448708267,
          -0.9024606571237697,
          -0.47940453613652795,
          -0.7455458630228241,
          -0.9013326790547922,
          -0.7150579071819959,
          5.521484025398483,
          4.330780758381717,
          1.0507517772310684,
          -1.67348091683272,
          4.236594177348254,
          -0.2745021491914585,
          4.055818049656476,
          2.13576691328172,
          -0.8330021081673906,
          -1.8279298926842602,
          -1.7462095781463154,
          -1.4292748016739303,
          -1.8043356480433588,
          -0.03892607223898024,
          -1.3609492642096954,
          0.44798540695465083,
          -1.6881966197421532,
          -2.2605554980822573,
          -1.6032958665289627,
          -0.5719868279724852,
          0.22680621843925566,
          3.0007464182467123,
          5.262058618140631,
          2.8858699481600527,
          -0.6661581305866585,
          4.647416850813501,
          -2.325980508300886,
          -0.8749418351069344,
          3.435844753643243,
          -0.18592056996048306,
          -1.325257796141949,
          -1.645482650470816,
          -2.2743637727692683,
          -1.1375489854458387,
          -0.30594649082110353,
          -0.2632103614648399,
          0.3682343908784766,
          -0.7749919598416062,
          -0.17119199961990753,
          -0.06981557094042451,
          -1.2072588326020253,
          -0.6241021127308282,
          5.41987474102352,
          -1.597222245578425,
          -0.36389517538093713,
          -0.34450217250929627,
          -1.6165697131635015,
          -1.1021594097961769,
          -1.2273516660222614,
          -2.0452140986874645,
          2.018654282616747,
          0.4298289927167258,
          0.6052682794470802,
          -0.44235378658709595,
          0.02294714194443698,
          0.001594477147354106,
          -1.8238846076569695,
          2.23175416819827,
          0.7642748141635719,
          -0.8433282919666293,
          -1.3230875790813401,
          -1.3298929349932953,
          -1.226722089484788,
          -2.1499949310856787,
          -1.2163920877132457,
          3.463484711466784,
          0.4539412166357163,
          -3.0613383031984145,
          0.2272961451813854,
          -1.1344768325631738,
          -3.0613383031984145,
          -0.7072963438992378,
          0.3418433804143049,
          -1.5671182591234911,
          -0.8696666900612363,
          -1.5795590761486473,
          -0.8772502462786003,
          3.5825006834571167,
          -2.2268342780614714,
          -0.20126115331103736,
          -1.6675215191123842,
          -1.1676869386410895,
          -0.0959440563615275,
          -2.3820664249846017,
          -0.12872264422547422,
          -1.582249851962994,
          -1.6387434617760288,
          -2.0251481991515745,
          -0.6993509873932,
          -1.8764670933076542,
          0.3544325608968114,
          0.5717167306430496,
          3.101964714448181,
          -0.5188294035461427,
          -1.012674121933812,
          -0.7097641046725912,
          -0.7276269751785628,
          3.3634624924175145,
          2.9752226817107945,
          -0.8219366599034383,
          2.208962871622311,
          2.785064005343366,
          0.2981463520357146,
          1.8664884741638574,
          4.140411488353789,
          4.13304881701773,
          0.5282838272987538,
          2.6055721017645617,
          -0.26478294441047373,
          -0.17832420764440873,
          -1.9380303715726244,
          2.903905039029223,
          3.6496770215064642,
          -0.012929923744353124,
          0.9703843368446688,
          4.840030364876461,
          -2.3821204287662274,
          -1.544168977234577,
          -1.3888697809804076,
          -1.9542613765865,
          -1.5849819030822276,
          2.4466955357895825,
          -1.3666480483746375,
          -0.2676245317046491,
          0.4023034180521386,
          2.374570566204157,
          5.050054496026233,
          -0.9053180429942433,
          -1.2698419846443327,
          0.5398747178532799,
          -0.9479576954954874,
          -3.0324499813922863,
          -1.112151754758308,
          1.0543642222548273,
          -2.1748260590504613,
          0.8783391882405457,
          0.844908045381962,
          -0.28380427510568873,
          -1.8083647450254476,
          -3.2024704591966726,
          3.321552105448821,
          0.8539122759964444,
          -1.0527079835431894,
          -1.623352607510671,
          -1.4951842716237826,
          1.751945377775932,
          -0.8298967446281688,
          -2.187333543701748,
          -0.2494408066463479,
          1.1074723601112286,
          -2.0859355414082126,
          -2.412511518031864,
          -1.2499990583699119,
          1.291866958177361,
          -1.4808604861756574,
          -2.014442970023501,
          -0.5413481296670031,
          -1.6534058002388405,
          -1.4317917003045728,
          -0.9871359024336283,
          1.1655411567729193,
          3.000235685866881,
          0.15000872558749098,
          -0.5219177664341913,
          3.0474287586662023,
          0.8524577565344766,
          -1.8419708771379095,
          -1.421250538743618,
          -1.5990912760966647,
          -0.09245231702928411,
          0.7589239174389405,
          -0.38861753676292615,
          -0.48869129923344323,
          0.18601744652391886,
          -0.5767423202391128,
          -1.0445259856521207,
          -1.4103425017750715,
          -0.9467174638564452,
          -1.5570907577492825,
          -2.0316565223762746,
          -1.5050207141774012,
          2.033041433841409,
          2.997241190313891,
          -1.1131903712057165,
          3.414345747692765,
          5.320867729182727,
          4.085991435509481,
          2.1274425358348825,
          4.947269754284721,
          0.4726197924305082,
          -2.2016868255719313,
          0.4316718530586424,
          -1.1131903712057165,
          -1.6057702396471834,
          0.8312197050104078,
          -1.7642479233188493,
          -1.1590732070276344,
          4.081447099437761,
          -1.1266837590924155,
          -1.291954768053504,
          -1.7723311723076074,
          0.021900563903480545,
          -1.833336844358951,
          -1.7602758888628411,
          -1.8693460615922173,
          -2.0465422770963446,
          -1.056139046860632,
          1.177051678970372,
          -1.8762990960288102,
          -2.425224032256407,
          -0.12210277573933466,
          -1.6260066325782967,
          -1.8445494912080067,
          -0.30330829710303375,
          -1.2048764587975171,
          -1.8182765975060042,
          -1.442209488752754,
          -1.0947009976647608,
          -1.9236465210710885,
          0.06349215750229735,
          -0.796764303237476,
          -1.30896003935697,
          0.5354649061742399,
          -1.1538421770428793,
          -1.132658691282923,
          3.105698982407421,
          -0.5655314564562385,
          1.6711847582607378,
          -1.6903592808965588,
          -0.17282411226062477,
          -0.15342344242621753,
          -1.1213935734132485,
          -0.35601148920323883,
          4.264393263445869,
          -0.9702087331231124,
          -1.4795207011403093,
          -0.019163938022138477,
          -1.6262673095858822,
          -1.0729349066364677,
          0.6594213427915574,
          4.066995385985656,
          -1.7593947139165313,
          -0.6148631774543111,
          -0.532844373318665,
          2.195131016648976,
          4.211073384228149,
          -2.0951936831935862,
          -1.7126773122191739,
          -1.3176226052793825,
          -1.2398389440352913,
          -0.6365159443123248,
          -1.8680718365870286,
          -0.20774898984439694,
          4.663158190213196,
          -0.7172902492876043,
          1.41263753621151,
          -0.05348159629165112,
          0.12258449104649317,
          -0.6930082747630685,
          -1.6842462616801213,
          -0.9997143462304269,
          -0.9925277416519359,
          -0.4055455246851509,
          -0.7943307030855637,
          -1.41797668820237,
          -1.5077618691738786,
          -0.11864752625194233,
          0.06513251514329885,
          0.44790618060021864,
          -0.5905352698295564,
          -0.6656940772015782,
          -0.12568353651020564,
          -0.29682397832757873,
          -0.30208503695033034,
          -0.4431538767660776,
          -0.8497568273164441,
          1.5069037952476554,
          0.4803661333128788,
          -0.6970804646138781,
          -0.10347402499997169,
          0.42611844118291153,
          1.7181988956708976,
          -0.14880872420562632,
          -0.8608961760184052,
          -0.21186655948989552,
          -1.2074405624776157,
          -0.2444728652772303,
          -0.11108361445809357,
          0.43318289130716153,
          -0.4666659930456592,
          -1.8413507629642503,
          -1.021406674438293,
          -0.4975884880865189,
          -0.684484917817824,
          -1.669702850008826,
          1.9435278334052593,
          -2.590401210503965,
          -0.9832888022778706,
          -1.51024504564875,
          -1.5772672834448833,
          -1.37475474794452,
          -1.2001953198664042,
          -2.5500589751698017,
          -1.5609102360473242,
          -1.890277639273256,
          1.6587543910014164,
          2.793143587037334,
          3.3936697303588153,
          -0.30781971693868326,
          -0.5170085720229919,
          -1.938067491497645,
          -0.8915763547993774,
          -0.9886668262046697,
          -0.5696178874425255,
          0.8795324448096477,
          -1.1447334158703653,
          -2.0065454067291424,
          2.820574209762175,
          4.028986191210212,
          1.7372253796499775,
          1.5655853810053746,
          0.07802122878737054,
          -1.8274876886852278,
          -1.950207538952984,
          -1.7354065296445789,
          -1.8699631356031983,
          -0.5644354650111919,
          -2.0061121385605514,
          -1.7634140784138796,
          -1.872300894132351,
          -1.8639932204222442,
          -2.1058975606514694,
          2.95753971431692,
          -1.9232812200626481,
          -1.7291945028487072,
          -0.33946039336051,
          -1.4817947434057153,
          -1.364827290068009,
          1.618438063319604,
          0.6731669759445231,
          -1.3981525797114387,
          1.4897707598582157,
          1.0157432689846024,
          -1.0568509529743555,
          -1.7518249634932694,
          -1.2421958404602658,
          -1.9336938727708384,
          -1.7598217040333743,
          -1.4555523482943324,
          -2.108294479868845,
          -2.060666043906392,
          -1.490419418939703,
          -2.073494506413841,
          -3.9937547184628492,
          -1.78045030092248,
          0.4188013767860374,
          4.074252866889352,
          -1.6540996021001344,
          -0.8706935586305727,
          -1.2311045301288557,
          -0.0778845353742985,
          -2.4434013956713954,
          -0.07625660353628129,
          -2.131859024911716,
          -0.16461671372417555,
          -1.7771222855258428,
          -2.2929023354570375,
          -1.2277075421191312,
          -2.427003125157997,
          -1.0198781946837479,
          -0.6385744256983851,
          -0.6162589382614417,
          -1.590311499967027,
          -1.1226867924008344,
          -0.7780117610925477,
          -1.24183485681529,
          -0.4187722487021997,
          -0.5887610453578066,
          -1.425515750569962,
          -1.9236465210710885,
          -0.8321122702871243,
          -0.7103155395647756,
          -0.45457897450550955,
          -0.5006469673618127,
          -1.3433860165170095,
          -0.5586881735072344,
          0.7183670596719582,
          -0.8757146430848185,
          -1.0684891129569063,
          -0.37919072063458753,
          -0.5255270518176547,
          -0.4899308370179314,
          -0.15972671026188381,
          4.813777021504076,
          -0.869000942686585,
          3.321552105448821,
          -2.5792042125307058,
          1.5603981597326737,
          0.8888968989143615,
          -0.47690770582583375,
          -1.3173980164012011,
          -0.4962570470088784,
          0.3375764127658352,
          2.148755017920206,
          0.5205896223390919,
          0.002390378671263796,
          1.4438543702229794,
          -1.7722920756714393,
          -0.21138765775075488,
          0.9097158032319778,
          4.844601565033674,
          5.666384156661315,
          -1.9417108967056649,
          -2.106550982409217,
          1.1407962580835327,
          0.23103463786948558,
          0.42561757819746576,
          -1.565711492393082,
          -1.565711492393082,
          4.2444809943559925,
          5.176708744973613,
          -0.859602709337008,
          -1.0270738870476313,
          0.3751242769202264,
          0.051811371512324705,
          4.582553845204489,
          0.5168944033678443,
          0.06057426972990446,
          -1.7784927255694183,
          5.408174041012418,
          2.5327757019918757,
          -1.5302866131478008,
          -1.0610339222842113,
          -1.0947736380529194,
          -0.9227741339323359,
          -0.9605533109182777,
          -2.1322400770566374,
          -1.6689001793002776,
          -1.435167301648585,
          -0.7169772246162459,
          -0.9568264963416651,
          -0.9416875707314987,
          -0.4133385047052836,
          0.16883070258110142,
          1.4322493420169793,
          -0.7813213297476449,
          -1.1271281147595333,
          0.6524595908390055,
          -0.6927403014042187,
          -0.6732878229230738,
          -1.141479992617012,
          -1.4892770702646914,
          -0.3553585485210672,
          1.8294487165805162,
          3.656077271822228,
          0.726179940162258,
          -1.8969714198549814,
          -0.41939395144300917,
          -1.2730663318838358,
          0.1039749929652094,
          2.096483641589661,
          -0.8776788935290588,
          2.529909789362584,
          1.0082003519061757,
          -1.890277639273256,
          -0.4220782534476119,
          2.10900571434995,
          -2.371561218751931,
          -1.044438834763484,
          -1.2311316155798775,
          -1.1776970800546378,
          -1.0345327312064307,
          -2.723466640316102,
          -1.7104420113557288,
          -1.9914059300228173,
          -0.6226927475906393,
          -1.0468527623234285,
          -1.290024838233272,
          0.12309112973266118,
          4.652403689691262,
          -0.40462364134067286,
          0.4430017973536211,
          0.7869224265474071,
          -0.5605651851159844,
          -0.12843809243295368,
          -0.5314028806277059,
          -1.023829088862141,
          3.1748797341320354,
          3.859538766764742,
          2.6026231331657725,
          0.1583326346192817,
          -0.7710403655798264,
          -0.49954195302792925,
          -1.2938074605601007,
          -0.3580542688912638,
          -0.8371847600040478,
          0.2332762265516227,
          -0.08852138585591882,
          -0.6084691009396404,
          3.879862859303173,
          -1.6480835900823707,
          -0.07920628817761151,
          0.18122554674263525,
          -0.7235894288501383,
          0.3806768139362985,
          7.226544609014918,
          3.401539713522078,
          -1.4159279091453267,
          -1.9127960305645069,
          -2.017437359162993,
          -0.8956325749527947,
          -2.260349604311189,
          -1.940733736119525,
          -1.4539395308420207,
          -1.9899331345222502,
          0.5563608894958336,
          1.3655741274589224,
          -0.6778354788931383,
          1.4872586279570366,
          -1.4237008451336224,
          -1.2748104198497443,
          -2.5524611671940147,
          -1.7375662708101356,
          0.8903585804759294,
          -1.3514066895790267,
          3.673495161639018,
          0.23893979548550515,
          -1.800938059715405,
          -0.6930082747630685,
          -1.1302346153383862,
          1.0424609969554544,
          -0.3854930285215794,
          0.4808026898470225,
          0.36960151506622396,
          -0.2431243129906114,
          -0.3142989666133021,
          -2.122990542540928,
          -1.7729246995643375,
          -1.617369675471301,
          0.23810845387496868,
          -0.48339166999374117,
          -1.7273711551849695,
          -0.1019880455330468,
          0.5055144803084046,
          -0.7131430817527223,
          -0.8951228201123633,
          -1.0597890934720597,
          0.3674321547116668,
          -0.32755247999582,
          -0.1539229033512905,
          -1.0079751959068295,
          1.331226750839261,
          0.148791783988422,
          2.593757649392417,
          5.280198100270835,
          2.6125401236233943,
          -1.2429187294667825,
          2.8834607480253323,
          -0.845495893298662,
          2.1255631796368912,
          -1.2848447129982976,
          -2.333529043949486,
          -2.387460845551279,
          0.47081022186238575,
          -1.8703654091300088,
          -2.6048645631439253,
          -1.5249585479981809,
          -1.9311352130461583,
          0.15925914311312822,
          -0.3368542746747288,
          -1.7238132206500618,
          -0.1452317393293597,
          -1.1513324744387905,
          0.5329054203221857,
          -1.961224910202729,
          -1.2399292163761022,
          -0.9213520425348972,
          -0.2934493481289033,
          -0.7878251517408997,
          -1.9817641589623989,
          -1.7244851503949095,
          3.925517286069734,
          1.5942931299634597,
          3.1863353179970497,
          0.977596931153784,
          3.5867432508255224,
          2.6477450497993638,
          5.2702177596449715,
          -1.7082485977385515,
          -2.199803980460221,
          -0.0657808177900528,
          -0.8368706284559636,
          -0.7854677175050848,
          -0.20916402742117782,
          -1.7085754585994821,
          -0.20916402742117782,
          -1.3997320777127062,
          -1.0909590554136055,
          4.169466471505722,
          -1.3684630603624202,
          -1.9324283671873017,
          0.11061706995923508,
          -1.8318071541194512,
          -0.9598571387641522,
          -0.20192591787070066,
          -2.322482104084648,
          1.2956242638589615,
          2.4399389680424695,
          -0.0034299770508509717,
          1.9689878707923258,
          -1.8110394558681608,
          -1.2760228016973985,
          1.751264609190848,
          0.04735484250802997,
          -1.4262864308855516,
          0.8119245867926482,
          -0.3351614731377253,
          -0.28854191440585936,
          -1.913521712971656,
          -0.4450657468956566,
          -0.3898013592395595,
          -1.0965604946490628,
          2.863244558695546,
          -1.0064366536641476,
          -1.6679956265557816,
          5.037072097193787,
          2.3072516687894207,
          0.9817234747421222,
          3.023290887104781,
          4.117010734472985,
          4.113361444554915,
          -1.7640887933065441,
          0.15200397301154628,
          1.0100574747776048,
          -0.0982682591865971,
          0.7454678649645963,
          -0.0791291396877652,
          -0.5869929672815049,
          0.061376567586416686,
          -1.2493185544417866,
          -1.1625329569665976,
          -0.54464643571787,
          -0.5257359411169921,
          -0.6973969041449726,
          -0.9719600477668985,
          -1.71139243374177,
          0.6626099536052519,
          0.37990667046115345,
          4.3531727623868335,
          -1.750511188321822,
          -2.608281914795237,
          -0.7744430956484721,
          -0.290498459729091,
          0.1934791840008388,
          -1.5005648417719322,
          -1.3802231760043513,
          -2.5201491133096097,
          -0.6742590697690073,
          -1.2280633296074597,
          0.42297421259544365,
          0.1934791840008388,
          -1.6139893679672426,
          0.2459207013415713,
          -0.9320241203449572,
          -2.0291882153646807,
          3.0861648235299453,
          3.2896302356289486,
          -0.8430280926050701,
          -1.0191080260121521,
          -1.2581311719443335,
          -1.4293847145323797,
          -1.2280633296074597,
          -0.8918518314853038,
          -1.1625329569665976,
          0.3320094024663931,
          -1.4006157751179185,
          0.4749551626010546,
          -0.32853831112165577,
          1.2317234135229198,
          1.8982351464781346,
          -0.8272044736771341,
          -1.1182953375910347,
          -1.2140979999974266,
          1.4102809155728933,
          1.1162558244140943,
          -0.9625261685035064,
          -0.22774342883917317,
          4.820483671447003,
          2.8066726781677906,
          -0.8910597762575789,
          -1.419710022543954,
          -0.6373053624231059,
          2.6678110759629465,
          1.3709647550842816,
          -0.8509927620370428,
          -1.1349369532310427,
          0.30831398576217445,
          -1.4183221756409596,
          -1.1093252736015076,
          -0.7858824490959337,
          2.1433565649047113,
          1.699803481395566,
          -0.5767423202391125,
          1.175329050283697,
          0.7683249437917384,
          3.067247968624567,
          2.171382773188071,
          0.09109228763953188,
          0.17424196049511995,
          0.3190799364008101,
          0.527708375746863,
          -1.5891418340117436,
          -1.807906374375226,
          -3.0009494117128,
          -1.5683430554100009,
          1.2531320966526067,
          0.48007880695773464,
          1.1470176346512189,
          -1.3095170917389256,
          1.5929388159834164,
          1.0710420132491283,
          -0.6277790692076216,
          -0.7049891902633257,
          -0.3660994904340939,
          -0.4871764094606709,
          -0.7621598571323522,
          -0.09005428008473228,
          -0.1486852055596907,
          -0.250778349408211,
          -0.7043224955062203,
          -2.109018269583258,
          -1.8793340708111208,
          -1.4483273104314516,
          -1.6855200932596452,
          -1.8814813682552236,
          -1.4090316369170137,
          -1.8761815210993207,
          -0.4113534767140588,
          -0.8662032598582575,
          -1.5843624105760052,
          -2.4428347518126072,
          -1.0024189493957538,
          -0.7470110613107903,
          -1.209990775425119,
          0.8179688501593769,
          -0.3212642807458095,
          -1.1398522347318432,
          -0.843701824803568,
          2.0422528852061292,
          4.763938610263662,
          -0.8284168584098434,
          -0.6352570447275036,
          -0.8515059856345193,
          2.24617673416468,
          -0.39823929265682817,
          0.6404987805565752,
          1.2643075804942296,
          5.199354627810792,
          1.8583829004360752,
          0.7197917125418747,
          -1.810091848086664,
          -0.051435894770322795,
          0.37389210195511785,
          0.7611727109350761,
          0.8241113127768873,
          0.5550844565870742,
          0.7400410988074474,
          0.4304758860098784,
          -1.1913376013534467,
          -2.0196290838920703,
          -1.036229851950722,
          -0.6266858975965721,
          -1.7617435578112315,
          -1.9484506333422842,
          -1.0008080358122446,
          -1.9465609399407118,
          -2.476175635292685,
          -2.6575800924276174,
          -0.798817718608318,
          -2.13236430571108,
          -2.564168655670438,
          -2.1305638358695553,
          -1.027109505898173,
          -2.271182762073553,
          -2.995567970719322,
          -2.013777147378138,
          -1.5437600629004609,
          -0.5641657478210654,
          -1.953961590067142,
          0.135311774620941,
          1.524083050884101,
          -0.38979132753570017,
          -2.1472490541110054,
          -1.7165767230653302,
          -1.7102416567782452,
          -0.2945681091475022,
          0.6183200167275005,
          1.1050523168212685,
          0.01347708914945715,
          1.3552239026426227,
          -1.4987842085344647,
          -0.8367365709615118,
          -1.0892869241339986,
          -1.1815682360615904,
          -0.8359986265401642,
          1.8064229455207181,
          4.573522285535849,
          -2.3895472039585006,
          -0.8875625801717651,
          1.562393247252768,
          1.6129921406346883,
          2.3782870107067726,
          0.2481472564120751,
          0.873145343223989,
          -1.7647645267425454,
          -0.13139150759423363,
          -1.612977308128734,
          -0.5758965096135334,
          0.07342012773008665,
          5.948310252700195,
          -0.2603117476767195,
          2.3439529774231582,
          -2.0317748746875957,
          -1.3422308343188214,
          0.5257049943117355,
          0.22042439977145017,
          -1.4231533307505309,
          -1.9680325183749647,
          -2.4900041877896304,
          -3.6403170139945336,
          -0.7100689834528808,
          0.1803774457546644,
          -2.7307792390101286,
          0.6051493269356281,
          -2.012226808574385,
          -2.9882377865906737,
          -1.988122656708789,
          -1.100181105675231,
          -1.632256010248139,
          -1.5585212785368743,
          -1.2003769056176086,
          -1.1518035655172447,
          -1.5626575408762546,
          -0.7030185679656775,
          -1.510987856425023,
          -2.09497625640537,
          0.2182080372711188,
          0.28102092564734626,
          -1.5999015985109122,
          3.636437671895394,
          4.377634569812744,
          5.517832620777445,
          -0.1559322046983329,
          -2.7823545006812145,
          1.7058186045512946,
          -0.33256344644116165,
          -1.5606335978828192,
          -1.4666166729454648,
          -1.6720377493956833,
          5.050054496026233,
          -0.42113023519586984,
          -1.41568057817847,
          -1.031017531753144,
          -2.0594619338254336,
          -1.1993121002513591,
          0.8418391167498284,
          0.527708375746863,
          3.2000540604664485,
          -1.0918956593169185,
          -1.6640321370290683,
          -1.7940379519331604,
          0.2675915444468301,
          -1.1761461616742355,
          -0.9236608800933438,
          -0.7383878592737921,
          -0.7370115676562268,
          -1.7260061487881724,
          -0.8276749826467557,
          -1.0981889258275148,
          -0.06860373314219148,
          -0.1984230049980879,
          -1.7252882884251945,
          1.902704125064269,
          -1.2041377469319992,
          -2.146761574037713,
          0.5675226390225954,
          -2.7378605856359575,
          -2.3646735229993023,
          -1.515905185254406,
          -1.199182015542416,
          -0.2390187911039028,
          3.755510100997643,
          -0.9172187524603741,
          -0.6027578678703434,
          4.365128553031848,
          1.357052659263262,
          1.0610805001881736,
          -1.0918956593169185,
          -1.0918956593169185,
          0.37990667046115345,
          1.0507517772310684,
          -0.8347222062998007,
          -0.43629024499739283,
          1.839346014750084,
          0.9749323262388515,
          3.599847460359528,
          1.387850042164116,
          1.8808998932641336,
          -0.24102161445379222,
          2.524288141841368,
          1.822645487978487,
          2.3824054687967253,
          2.7160711465674634,
          1.3400521098127436,
          2.0675085711905994,
          -1.3774147805614478,
          2.1169017128094128,
          0.4725370812856809,
          1.700509033027921,
          1.0124138734776418,
          1.463848986140686,
          4.517415285770566,
          1.6062390664664281,
          1.509098548391417,
          3.3281730713216433,
          -0.7586867391814026,
          -1.971089378520746,
          -2.6279453478185073,
          -1.0959217221133752,
          -1.7330340393361578,
          -1.5509421569582758,
          -1.9153264230825673,
          3.2865430676300695,
          -1.885301259836649,
          4.031929446383435,
          1.0917032949632046,
          -2.0995891751226217,
          1.607751513817956,
          -0.7338996331495035,
          -2.3299231668522866,
          -1.6714994013804179,
          1.3227936929233721,
          3.2245788048711375,
          0.8493078136160146,
          -0.8991050041159995,
          -0.25963697831105476,
          2.487845989688517,
          -1.0057381074581446,
          3.7826527020996874,
          -1.915767923123047,
          -2.0026233957398754,
          -1.6696448272331212,
          0.351505462569008,
          -2.446048369204403,
          -1.7619019356353514,
          -1.6517774567678374,
          -1.6237547621234043,
          0.8957766323986612,
          -1.8642286743270589,
          0.05337344824099938,
          -1.6425344618411393,
          1.3552239026426227,
          0.14624608874565373,
          5.858209721616867,
          3.718031260960788,
          4.993793590175093,
          1.8999455539621668,
          -0.8127854597663111,
          -0.9882751706880354,
          0.6321516301100978,
          0.013416667960794932,
          -1.277250408742438,
          0.5751095293838525,
          1.865057911369897,
          4.510568593122147,
          -0.0844990555337559,
          -0.2416463803129785,
          -1.9830682310610868,
          -1.8494850568377148,
          -2.5072492769425168,
          -0.31208753852228244,
          -0.19799516276387946,
          -1.913240682495197,
          -0.46675708557075835,
          0.5301321114835893,
          2.8059892371366963,
          0.6503978876248575,
          4.008015267389633,
          3.0007464182467123,
          0.30328525020158564,
          0.7826398955578461,
          -1.4792219052824103,
          -1.3563827742337002,
          -0.9660709260830566,
          -0.05259932417507894,
          -1.3776523091749255,
          -3.072525663599118,
          -0.4751356317600314,
          -3.0267560599545056,
          -0.8325111872744704,
          1.7747900310136342,
          -1.0280691588067052
         ],
         "xaxis": "x",
         "y": [
          -0.011146290126845997,
          4.498483040491561,
          -1.2584950530912307,
          -0.9316902391794359,
          -0.9998605575699301,
          1.44919879521613,
          -0.15349105666351914,
          -1.0976948285917079,
          -1.2029511963611867,
          -1.672071018582589,
          0.6245816077119469,
          0.3542795183340961,
          0.6218862595041168,
          -0.725726077064711,
          -1.7533744258913717,
          0.09456002264657741,
          -0.7607765416859079,
          0.09023324070523069,
          0.6354891072036849,
          0.9549247299482807,
          -0.8173396601849968,
          -1.2470979651002094,
          -1.0384504583107188,
          -1.8477530524364016,
          0.3664056587919275,
          -1.0939423326821645,
          -0.5130725914703961,
          0.19285191038163718,
          -0.4085058347890236,
          -0.4019127768691342,
          -0.5390360868356463,
          -0.5093297116411062,
          -1.5551823065201964,
          -0.32752024826158105,
          -0.11881659332814615,
          0.6359085300784658,
          -0.5876810821821729,
          -1.6234813101233752,
          0.9261554472362568,
          -0.002583714634443169,
          0.9482384115361036,
          -0.4325272360306122,
          -1.0477234546789866,
          -0.5884127949167762,
          0.1096237671939483,
          -0.17631562638303236,
          -2.2313108525205148,
          0.3421759568804063,
          -0.13393724871445492,
          1.8282937839211046,
          -1.5586608599510317,
          0.3941377070229469,
          -0.16899555980659184,
          0.6402870848131597,
          0.7535261568595866,
          -1.0071979202008559,
          1.2513815447321528,
          0.7283795254050489,
          -0.3155870920706917,
          -0.3743084277381317,
          0.6971582660739039,
          0.4907815022846544,
          -1.4496313293936165,
          1.4022237154782533,
          3.1825154078065756,
          -0.13343620635138168,
          0.7231412843907878,
          2.4356732324127695,
          -0.6624452959667978,
          0.8828610649268516,
          -0.45399742433685464,
          1.2895652026945392,
          0.7021569500086037,
          -0.03212034941795378,
          0.15589311833335065,
          0.044837405588017284,
          0.7644853720457727,
          -1.8700830086717861,
          1.9424014130733946,
          -0.5355532328520195,
          -0.7101916522494023,
          0.6821340814378518,
          1.5096042889137329,
          1.0677125248492443,
          -0.20319345565050145,
          1.900070375991711,
          -0.9569272319374199,
          1.7957948181498629,
          -0.5045512816835335,
          -3.0351142354928853,
          1.1858743295178071,
          0.8760206158908891,
          1.0658710831443396,
          0.8982598530428667,
          -0.10984688935739677,
          0.7719022721632369,
          1.199081680321863,
          -0.05275616015040289,
          -1.8569894900465935,
          -0.3264355253289213,
          -1.6939481840668287,
          -0.1043879637646205,
          -0.1453104378123527,
          -0.4996968944645949,
          0.32606478883571793,
          0.5077876996618921,
          -0.05048147181217279,
          0.47469665982555637,
          -0.387973552480598,
          0.9981145621078826,
          -0.06458868577411671,
          -0.1668060796051404,
          0.6183612930258743,
          0.3466789772890137,
          -0.8498816694047548,
          0.028285354530940478,
          -0.43098808762266844,
          0.9716433758065653,
          -1.0005494442087872,
          0.5665290125385671,
          1.1465811195268014,
          1.396474433756302,
          0.43319264302379534,
          0.09286868670805445,
          0.2827170296635817,
          -0.4675119546435407,
          0.3005906656279889,
          -0.2568312192639159,
          -0.7082299299146102,
          1.9653556872423257,
          0.5402660920588396,
          -0.47330522451280843,
          -0.45905707493854114,
          0.17712840735323812,
          1.3226057430132456,
          -0.18364572119185296,
          0.5715418725763881,
          3.1825154078065756,
          -0.22520769265871282,
          3.3372777729058667,
          -1.1787016560533645,
          3.3372777729058667,
          0.8919286352285141,
          -1.6621229341015167,
          0.9126518916872713,
          0.04544220504715565,
          0.15799090914534836,
          -0.38811167466529534,
          0.7693841067862309,
          0.31652003537511164,
          1.5899977353431334,
          -1.904786800046836,
          -0.957085038930011,
          0.22303451284726425,
          2.1053849872447783,
          -0.6995465461225077,
          0.7111076327776106,
          1.009240171419462,
          0.323811882669647,
          -0.16319434873237984,
          1.0404375904923138,
          0.6564793989659149,
          0.39517415148942125,
          1.2410104338213066,
          0.37695909322640725,
          2.4618886452370745,
          1.2357005578886247,
          0.26347434069351017,
          -0.31498030623084167,
          0.510508173024183,
          1.1597876950391832,
          -0.15864705407278926,
          0.2960584459910358,
          0.08484118937578819,
          -0.7467089182464832,
          2.2114132179374675,
          0.08320541248182163,
          -1.0443441784920704,
          0.19123446817488654,
          0.6089226265344305,
          0.7789952619638916,
          0.9523723915944734,
          1.0296391405424696,
          -0.36267015960538473,
          -0.9711390263760888,
          -2.642486423345221,
          3.103331962225936,
          0.21619308773179466,
          0.014957619740980173,
          3.9190384728573666,
          -0.5723148273970242,
          -0.9986452552999857,
          -0.9516486023188425,
          -0.6906988660514823,
          -1.184084181842627,
          -1.300618990890576,
          0.5947979963623251,
          0.08054162638613795,
          -1.8790387512323186,
          -0.3388521257419285,
          -1.6309491743985545,
          -1.0941715165686385,
          -2.4464617479279025,
          -1.140705993026636,
          -1.8453286786660479,
          0.6507379346285523,
          -0.47118087570081857,
          1.019732591308469,
          -0.2733651563736518,
          0.017367780195285967,
          0.7744178910726922,
          -1.1653490752846138,
          1.582927537076042,
          -1.284553040192646,
          -1.3462327707720663,
          -1.1924586912170803,
          -2.3552209829195103,
          -1.6350920282524646,
          -0.7943134394819898,
          -1.5948015187911304,
          -1.036774416376768,
          0.2383420258656927,
          -0.9150329918104076,
          -1.6791143643828936,
          -1.11400818377878,
          -0.42641535088457744,
          0.19720315170070232,
          -0.7675781583836262,
          -0.6634064026910811,
          0.018494863427140084,
          0.0323939574292352,
          0.5429849610833287,
          -0.5502293308844958,
          -2.587755947082531,
          0.07003755588593018,
          0.7387646468178276,
          0.8517448089595102,
          -1.0045392123559678,
          0.022744918930618294,
          1.102884007023605,
          -0.9711482695074357,
          -0.5747759434969213,
          -0.7041665708533789,
          -1.2590290776964872,
          0.511083724838695,
          -0.447392930274673,
          -0.7770987572885047,
          -1.5128098061317306,
          -0.010119072281301109,
          -2.6565170442836563,
          -1.857853765349958,
          0.029678348751542308,
          -0.4881176600840508,
          -0.46263501008077146,
          -0.6323213193002084,
          0.8689648267049036,
          3.240477508030488,
          3.240477508030488,
          0.023892287317252174,
          0.67039639481469,
          0.7996627431599461,
          0.5833737164149397,
          -0.11689578549234618,
          0.7123683209024166,
          1.5310948073312323,
          -1.6069800221607167,
          1.8559942570662085,
          0.044375399803955086,
          1.2105451052359497,
          -0.6133121765032437,
          1.0809283795559999,
          -0.21205336988886395,
          -1.1818910023338225,
          -0.7775444494726198,
          -0.6234088227383866,
          0.5694778943370086,
          1.717518937021361,
          -1.0189490622171717,
          -1.1180976339575948,
          0.54577942494202,
          -1.2203204394225364,
          0.8906898331423546,
          0.9608276029309014,
          -1.2672613034227593,
          1.683578422293908,
          -0.7047166607825167,
          -0.6445389710374198,
          1.7118067203121359,
          2.070033591790966,
          3.7740953500324235,
          -2.5264020438823525,
          3.027705154585712,
          0.7863022708009556,
          2.8536627519810107,
          3.7740953500324235,
          2.05135705576308,
          1.4012277428553164,
          -0.9266969511957172,
          -0.6326476919953272,
          -1.1279563071617347,
          -1.1810383810275709,
          1.9575377687744184,
          1.9979683623798505,
          0.06784792539787157,
          0.5362425827548245,
          -1.4777415250203845,
          -1.977790167123198,
          -1.1096645491064119,
          -0.789528295659512,
          -1.4068333771286494,
          -0.8359585182991264,
          -1.5475653090429058,
          -1.2046762480700812,
          -1.6143833336086206,
          -0.5314998546403827,
          0.18027712010472305,
          -0.7320794166920269,
          -0.035066869396596895,
          1.9807742361710303,
          0.4223294232920442,
          0.28360676072867325,
          -0.6255932639365446,
          0.7112353207108745,
          -1.107710188561171,
          0.48824908011310697,
          -0.22795730447657728,
          0.19717824977674267,
          0.3150319980462701,
          -1.2672613034227593,
          1.1177165541627045,
          -0.4457172777483629,
          -0.8138693535483428,
          0.3178642790899847,
          -1.146466302455805,
          -0.177141610093278,
          0.34844421110532126,
          2.4064049724463232,
          -0.0003525217776436443,
          1.8873203415832402,
          -1.3725204164548326,
          -1.2657688377536684,
          -0.6949733179444145,
          1.8873203415832402,
          -0.8101213187323116,
          -2.9183415164682835,
          -0.9151402576715371,
          -0.989486937361543,
          -0.299232720827239,
          0.4760198718631134,
          -1.5094498562717868,
          1.8873203415832402,
          1.111360390996172,
          -0.3749760147515891,
          -1.2545771481814054,
          0.9048464943468995,
          0.1449198321361044,
          -1.0798413560153621,
          0.8958070512138092,
          2.060755763387276,
          1.3380694906666473,
          -0.7927850799344988,
          0.7801239402947849,
          2.3890026316786566,
          0.010923878415342425,
          -2.7011628810914052,
          0.30716006665628726,
          0.406017772107356,
          -1.7931461706698153,
          0.658252872669046,
          -1.5634644260717647,
          2.4150542414887286,
          0.5843336029259846,
          -0.6038418556220859,
          2.2825376777124338,
          0.5348228328720842,
          0.44349978495395964,
          -0.6515118089357833,
          1.0533504658934272,
          -0.05684593511018085,
          0.7667072369066992,
          1.9924299245585104,
          1.665001923510303,
          0.09891338575271866,
          -0.21030445971978115,
          1.404959187868926,
          0.6572987131801556,
          -0.7572609888099857,
          -0.42897885501636795,
          -1.1663827255438786,
          -1.037573785781152,
          0.3177602599695217,
          1.1770272825990244,
          2.522013302298846,
          -0.35565697175471467,
          1.2739159471111892,
          0.1255266410729623,
          -0.04443688853521276,
          -0.9598826795695844,
          -0.9994617694103726,
          -0.17192238560156645,
          2.0825047669647554,
          9.80861566527572,
          -1.9109995363880035,
          -1.5953448853504661,
          -0.20772046078352582,
          0.38379843657746726,
          -1.6622338726879464,
          -0.5449138158014982,
          0.39260421140156165,
          -1.0816366373679904,
          0.25331032353654437,
          -2.3938747210539604,
          -0.47150127593609625,
          -0.17561167281722279,
          0.7451440430086276,
          -1.6873495018786038,
          -0.20380451675243216,
          -0.6772495315786103,
          0.4515441159027951,
          -0.4727486064660544,
          -2.6124788945229893,
          -0.5263262266185538,
          0.8079535533547765,
          0.11383168486562961,
          -0.8406691236039691,
          -0.07662975110137495,
          -0.5132639481080142,
          -0.5820581328286752,
          1.4966189151479747,
          0.2159129418191725,
          0.8749333087385144,
          -0.4958347243325943,
          1.2667969389178948,
          -0.6352214968617708,
          1.7116862484490916,
          -0.05981311705813852,
          -0.64977247361623,
          -0.6584021042342939,
          -0.11984531532774532,
          -0.649892721693871,
          1.6583247694069472,
          2.0021393264062297,
          0.10467094944933103,
          0.12593071239530565,
          0.9211842808505308,
          1.156698588087625,
          4.137971827721903,
          0.4510339910091281,
          0.7392753979079749,
          0.7802223761612861,
          -2.0010115300907683,
          -0.5462424385825613,
          1.2886913072683883,
          -0.4138934852797075,
          0.5142060333389619,
          -0.19834002790450053,
          -1.132519116842593,
          1.0888335146592365,
          -0.8852774981108725,
          -0.2595736667103265,
          -0.3365596012460396,
          -1.4383020605948769,
          -0.8553689297851268,
          2.0374156634903384,
          -1.0849805099308243,
          -2.624972510429554,
          -0.29118493718810695,
          -0.9406771827196896,
          -0.8619638727305493,
          -0.7446552433346854,
          -1.5806404300447312,
          -0.2454019965262016,
          0.16613234798095172,
          0.2552234665149244,
          0.897480772227442,
          0.6208671719375579,
          0.2805925306926616,
          -0.6340873085014076,
          1.0661851762831902,
          1.5503964871266402,
          -0.7612398420860168,
          -0.06922749235527215,
          -2.1577156365998027,
          2.187271309515397,
          -1.3215548520622256,
          0.7356238326523752,
          0.767364251082475,
          -0.06979929244775938,
          0.4886676650433229,
          0.26698121988756796,
          0.7328123563979602,
          0.5861214875061433,
          -0.9953858151396165,
          -0.17759522520563842,
          -0.6764116893753344,
          -1.2989213224117377,
          0.8921496309187896,
          -2.267536479736288,
          -0.6406026434243628,
          0.08160718107044275,
          0.7976536903440766,
          -2.5319163057702347,
          -1.079901417635554,
          -0.19615586969321377,
          1.138417032076645,
          0.2870754908025122,
          0.42268510345319377,
          1.5804058973004496,
          0.7663364597659559,
          -0.6146786963745652,
          -1.1175193421862717,
          0.6785761172927794,
          -1.1806363394390706,
          -1.2359788765089323,
          -0.3195532424962447,
          -0.37440710690790324,
          -1.8640708749147703,
          -1.7773287436540233,
          -1.9813608548146293,
          0.2570733598340704,
          -0.6155426574374911,
          0.2429255993826785,
          -1.1616324224085028,
          1.895862279855883,
          -0.33566063651685757,
          -1.0694624857178232,
          1.7513158520768182,
          -2.4367945237996893,
          -0.7722764505011075,
          -1.1810989500449762,
          1.931705228903824,
          0.571635861033015,
          -0.4666957497791022,
          0.708548757443372,
          0.28161800267875997,
          0.3907796891399576,
          1.866457264485951,
          1.2570515395744688,
          -0.025989927797271512,
          0.08292369316000954,
          2.212558250703968,
          0.32506176456087205,
          -1.1703087112108859,
          0.2742683209909508,
          0.708548757443372,
          1.1437392895821459,
          1.3752645944313238,
          -0.583649867891646,
          0.19823214236746264,
          -1.6148947810199694,
          1.0620864810567905,
          -0.9361637998069967,
          -0.022866776118987988,
          0.6613537913076044,
          0.38530631843082563,
          1.2299781646381982,
          -0.07782348751577027,
          -0.15923645755136528,
          0.4627913102919561,
          0.867270453683648,
          1.5854835718191609,
          0.7367549070529659,
          0.7140682739125954,
          0.9688369678118377,
          0.251268023915345,
          0.5132039117659946,
          0.837222220350174,
          -0.35736707481577784,
          0.7717816493277018,
          -0.6074502986415965,
          -0.26946117978951617,
          -0.8556227790287788,
          -1.1068158657389362,
          0.18685711887944545,
          0.6816277954199109,
          0.9788842536594309,
          0.45208387285022295,
          -0.7983021441809105,
          -0.13385525664813094,
          -1.3796314186286855,
          -0.2107813864028407,
          -0.9811799170595054,
          -1.331994816318074,
          -0.19328093980775132,
          -0.2770836557895615,
          -1.9783775271564619,
          -1.3738927533892686,
          -1.20244473617962,
          -1.308069457661719,
          1.7650475397544316,
          -1.1229156368814148,
          -2.730925832158354,
          -0.8706224842112561,
          -0.5243173469086165,
          -1.1097479863616213,
          -1.2308039831949456,
          1.1494624022273865,
          1.9641977657477778,
          2.1785293823189735,
          -2.813561060773163,
          -0.4446860762774544,
          -1.3634716348410427,
          -0.6220149462494257,
          1.0416800370699868,
          -0.3952177166580214,
          -0.19449469553583926,
          -0.38526083549147166,
          -0.06318642030526903,
          -0.06793988912860899,
          0.04752527244375211,
          -1.2880149374051078,
          -0.4742245086831731,
          -1.3815311599721687,
          -1.4991282734577784,
          0.10597497457688045,
          1.2977230389711818,
          -1.486456518564597,
          -0.04309271241806805,
          -2.3328311797700807,
          0.9425352116267066,
          -0.9782852103707464,
          -0.8375933378434273,
          0.24182119457517615,
          -0.8490077081291274,
          0.06737530831032355,
          -1.174535786255176,
          -0.6271315392818441,
          -0.5770669957486684,
          -1.3448712697469212,
          0.23196544102466712,
          0.8445197390903239,
          -0.4029009897872094,
          -0.005736214361116024,
          0.4499143340358748,
          0.6750056141422719,
          0.28269214284247124,
          1.2696072180370288,
          -0.4871801805221603,
          0.6108104896236367,
          -0.4948587314914101,
          0.11817817238234567,
          0.7334875142917908,
          -0.518091796150676,
          0.18106416040857842,
          0.7146230917208733,
          0.7428997971628286,
          0.5593656303835155,
          0.48490533108278355,
          -1.017125998370766,
          0.38781049055471,
          1.6226377843395525,
          -0.1780970479433492,
          -0.12476503646774191,
          -0.29617796041093547,
          -0.2737989226362739,
          -0.9268841480713061,
          -2.0380101122304404,
          1.450633713791228,
          -2.0579085201675222,
          0.0330273105623399,
          -0.688735696252969,
          -0.519081532889868,
          -0.7472663186110942,
          -0.8682390206907913,
          -0.23433916561783188,
          -1.4053392824479516,
          -1.298186109840002,
          -1.1127467506287034,
          -0.9768526143068145,
          0.6741636247927283,
          -0.9814765781246856,
          1.0934127148953325,
          1.1383910108144228,
          0.06965396958828218,
          1.9959801067556258,
          0.9755122541602348,
          0.6623848700199343,
          -0.8861233320777795,
          0.7021569500086037,
          0.7363870858767154,
          0.23300896490671516,
          0.1553283747858452,
          -0.7151335683911888,
          0.4534623044762595,
          0.5953873912830419,
          -0.12083862405770235,
          -0.7904677532103991,
          0.7442943549477118,
          -0.5173945461923841,
          -1.3671815537397134,
          -2.1647606862810407,
          2.406575770189157,
          -1.249114229575503,
          -1.713805745486365,
          -1.1199854719256763,
          1.6019710557732258,
          -0.7298052345060032,
          2.696272599035889,
          -0.3514964395317271,
          -1.702470907429886,
          -2.602808344103323,
          -0.0018618573810398854,
          -1.6785787472575238,
          0.1710084301558401,
          -0.2664486511200115,
          0.07288441826828304,
          -0.5148061391081218,
          -3.6521473312229364,
          -1.5229955970088471,
          -0.36150444423669453,
          0.33209914601970214,
          0.06386128061297999,
          -0.06798773550581427,
          -0.06798773550581427,
          1.660087892788117,
          -0.5499230709138894,
          1.165758976011193,
          -0.5731714708818128,
          -1.6661836834923491,
          -1.4165624627850515,
          -1.4308328180936034,
          -1.1943971753589033,
          -1.427409520873935,
          -1.1511209970770355,
          -1.486919097107159,
          -1.5228713473950597,
          -1.45163820915342,
          0.17590165038654607,
          -1.2007541057312026,
          -1.1574513304114857,
          -0.8775905383634298,
          -0.5753777267466662,
          -2.0477466943732643,
          -1.261201967711881,
          -1.6578915972040735,
          -0.9738377876979707,
          -1.3021828325620166,
          2.0304286520410297,
          0.7354293886633672,
          -1.4150905188259995,
          0.5545644883197908,
          0.4961085640844203,
          -1.430563963798719,
          1.6075802808416442,
          -0.8012284798287431,
          0.6747351899313613,
          0.12194654885889893,
          -0.09902124256603796,
          -0.06924925887923099,
          0.6715536596689551,
          -1.1968649079150169,
          2.1785293823189735,
          0.7120396547541875,
          1.0719117293828992,
          1.147852074059686,
          0.6481283190597543,
          -0.596096602505419,
          0.22109387579757786,
          1.9766866328626063,
          0.06676449711305207,
          0.9143713972798155,
          2.8467708265343044,
          0.1470187709122603,
          1.2816469698098119,
          2.8467708265343044,
          -1.940794020637523,
          0.045940278560434256,
          -2.106243615014696,
          -0.7473077818496975,
          0.3813305370708731,
          1.1563480223931886,
          0.09832857235023898,
          1.3195450645550804,
          0.6838502211062955,
          0.9286327150239205,
          1.2197449477602849,
          1.1812618877138894,
          -0.24626779839357057,
          1.0543507232367988,
          1.6346249482684623,
          1.1208526375187813,
          1.1665004006106972,
          0.35920488968032555,
          2.9368444395740783,
          2.359411015343148,
          1.5909270645632698,
          -0.21910571865285083,
          2.2780569687552243,
          2.621518835986779,
          1.5149446421866535,
          2.1521154668475497,
          0.3527371550411683,
          -1.523959546980697,
          0.8283125934152247,
          1.451635892343001,
          -0.07205021415422824,
          -1.1760735761202974,
          -3.198217865125084,
          -0.8201818438122827,
          0.6486029919662069,
          -1.8391905524002876,
          -0.29583327844079826,
          -0.08593625358313119,
          2.161647716158938,
          -1.5566511731330444,
          -0.19148102107685733,
          -0.7299870431004445,
          -0.7726676252422102,
          -0.8789815373159131,
          2.596594940330122,
          -0.9684721849669089,
          -0.012415922773767322,
          2.7776317992507407,
          0.008146240049375437,
          -0.12915323542918086,
          0.6678652880289522,
          -1.5107021703796677,
          3.0731493555380642,
          -1.44386104160653,
          -0.5025097048772126,
          1.3242077355585729,
          0.5827095805282594,
          -2.1973568753736115,
          -0.14753873569748532,
          -0.48809535255463843,
          -1.3450083943612767,
          0.32685326130838904,
          0.8459249238174451,
          2.2524644820304,
          3.3049931546089577,
          0.03839524739570616,
          0.9816545686601095,
          -1.7461053753967277,
          -1.4139744288995433,
          0.10598670322736167,
          -1.1229631780375924,
          1.3844106892201353,
          -0.1616719729889362,
          -2.254469623879281,
          -0.6869253409334323,
          0.7902407593582259,
          -0.14973732308850846,
          2.028445670364841,
          1.0809283795559999,
          0.2532824348560143,
          -0.1398698040763767,
          1.5193532518080068,
          -1.5507576235702523,
          -0.808893510125646,
          0.15044670458467213,
          -0.04500234018913878,
          0.18720132576081003,
          1.2968594264079543,
          -0.4626240158171055,
          1.0988180711853754,
          -0.4246271861727909,
          -0.8185606053174727,
          1.119792628100466,
          -0.6119842950529566,
          0.2947456189667915,
          1.4551038711161857,
          -0.4100179474855026,
          0.5691942254362518,
          -2.5905991500480106,
          -0.1820295137480933,
          -0.8607013036745846,
          -2.2960756072603274,
          1.3167076465878844,
          -0.27251690398117395,
          -0.5566738862996019,
          -0.7152170885868833,
          -0.7028362760612356,
          0.06303033231618378,
          -0.9902208730061522,
          0.01972410670452852,
          -1.5601392302159733,
          1.2645522348952978,
          1.738302222935585,
          -0.2495732285193382,
          -1.0702528843505676,
          -1.2844295150086946,
          -1.246435643307107,
          2.2993299862982317,
          1.1641245992756328,
          0.7015448503931597,
          -1.5291054878331414,
          1.2451125043197093,
          1.2631399169680344,
          2.2103714360060196,
          0.8690317957680922,
          1.7953295321679037,
          -0.2279979509833214,
          1.0354966936301413,
          1.7471850168622889,
          0.6393512413680974,
          2.7322746057581973,
          1.9385695616987777,
          -1.4797811365083353,
          2.626893231713909,
          -0.987133970886943,
          1.5030130287038028,
          1.0529794513877146,
          1.2377964378668664,
          1.396474433756302,
          -0.40502039300438897,
          -0.9982484808587204,
          -1.5468837439767473,
          3.1825154078065756,
          -1.5412634785360066,
          0.8001407315361053,
          1.6262958353849528,
          -3.4389885917616203,
          0.5753938621894713,
          2.212216389479004,
          2.483677273352301,
          0.5885938945441713,
          -4.121183392702429,
          -1.3940325838598706,
          0.7540240214844229,
          -0.932172544535234,
          3.0281100691433314,
          2.28811316302797,
          -0.4078631192511272,
          1.1182369660441558,
          -1.3045923139922597,
          -1.0114715054304513,
          1.4550998217037534,
          -0.11640318223675926,
          -2.4161106590600303,
          -1.9796288927708479,
          0.16213361299954063,
          -0.46828752726256895,
          0.5913167294180863,
          -0.3108898220591147,
          -2.520090736976857,
          -0.09431542449179749,
          -0.13783072116580325,
          0.6444051988424137,
          -1.1620644660524477,
          -0.5610637779327748,
          0.23168889026857875,
          -0.5581193468046403,
          0.21538909230151507,
          0.38654712958519194,
          0.9889416595795393,
          0.751509595307455,
          -0.2332940537339563,
          -1.229747887102898,
          0.8201643769410959,
          -0.15882043442039193,
          -0.7565388853115689,
          -2.1120286151716225,
          1.8405369669807916,
          0.5764743024800896,
          -0.6914969477991734,
          -0.31577070586742345,
          -0.8810996699177853,
          0.8021470798848583,
          0.19347997695700583,
          -0.42601966535244035,
          -0.5943416563048257,
          1.4291872876100427,
          -0.16409245911004627,
          0.8120993643015328,
          -1.5026498422538628,
          2.5987795097546704,
          0.5293587436794355,
          0.7783608326259308,
          0.6238136690580929,
          -0.12191949193504392,
          0.2679161610638078,
          0.4237906487477509,
          1.0686408169382269,
          1.4026574288018108,
          1.3879816561431075,
          -0.21462188479536518,
          1.5320826718596174,
          -0.6503647631977191,
          1.3022033030346325,
          -1.3393116405859735,
          0.0968101517322795,
          -1.3155880062177097,
          3.2836447682990038,
          2.799421051795822,
          1.3470804164822874,
          -0.18101845690861057,
          -0.17543690178552068,
          0.6064345226532634,
          2.7776317992507407,
          -1.8230617493286427,
          0.1305772910259913,
          1.2313845008696014,
          0.3466045216035894,
          -0.0983293899949596,
          -0.09436777659232763,
          -1.8418970721984356,
          0.5570265612360658,
          0.3387411601865388,
          1.0151455031556134,
          0.7643506416929167,
          0.08291424450270472,
          -0.1060351235148722,
          -0.04999871550889501,
          -0.8471965335774991,
          -0.762542698952958,
          0.449497178932784,
          1.1125741175253254,
          0.6084618967296032,
          -1.2541278438638581,
          -0.6314035129261288,
          1.2962849057650534,
          0.24621207217738003,
          0.053941403926324044,
          1.4956554144984144,
          1.7899910019342098,
          0.47066581613318176,
          0.5196573621206044,
          -0.09702344877198583,
          -1.6289827036759457,
          -0.14762103535583213,
          -1.053848339287195,
          2.575473897310148,
          0.326982700845207,
          -1.0584835530918624,
          0.2810292146864912,
          1.4795346263809033,
          0.8726252657977542,
          0.019121467791144396,
          0.8287698711128356,
          1.137836809617567,
          0.2635445790927017,
          2.2707965426279664,
          1.3077206199092597,
          0.8185767880870035,
          0.6650768549335054,
          1.787438072381298,
          2.0664051307236835,
          -0.346392683630533,
          -0.8577415633782176,
          -0.3466429693933361,
          -1.0922817043651074,
          -1.3118166173906045,
          0.8976326080505223,
          2.5385277673135573,
          -1.187038771794919,
          2.786982618493672,
          0.25451437231873447,
          0.38936147667520343,
          -1.1071412055199383,
          1.6107705074878242,
          -1.173952508855419,
          -2.0616820132566853,
          -2.805394596387117,
          -0.8831663371685472,
          -2.063367899423589,
          -1.7987616717190227,
          -0.42073147532698213,
          -0.6148024213290775,
          2.274393449922064,
          0.1859934865096035,
          -0.5898593904191536,
          -1.2018199465962696,
          -0.11050871698376902,
          -0.5749320975573813,
          -0.6406026434243628,
          -1.3543005202399958,
          -1.572566092403898,
          -0.6421207488010789,
          -1.76579365034066,
          -1.400959628516293,
          -0.5103533356941561,
          0.3136669597306113,
          0.10148720546280311,
          -2.2277616611461624,
          -2.1663989305907427,
          0.9798370766144229,
          1.2933397156417656,
          -0.18737478514681152,
          0.3543719949788695,
          -0.49404574101390414,
          0.40820241461265366,
          0.07545889725107924,
          -0.02009748944254687,
          -0.5232755081075602,
          -1.115184570111142,
          -0.03524547218808536,
          -1.7256356053318507,
          2.565355550971349,
          3.785598078144562,
          -0.5196969124319153,
          2.0225229491030863,
          -0.32733611209997365,
          0.9020944113643276,
          -0.9310219539819885,
          2.565355550971349,
          -0.9971014093097093,
          -0.2976292993379709,
          0.324103409563872,
          -0.3972965827435318,
          -0.2918528030421968,
          1.2589704060075457,
          -1.1152716845022306,
          -0.6068327709989872,
          -0.01960871852509086,
          1.8576890270533741,
          -0.44601320040822506,
          -0.08888667464901526,
          1.2226267391788153,
          1.318041944793467,
          2.834779660631978,
          -1.6881739103057398,
          0.8702582499121658,
          -0.6016329590871639,
          -1.6520216682288371,
          -0.6742172913753637,
          -0.168010773791866,
          0.6829368856864,
          1.0166141420885233,
          -1.1573513700831797,
          -0.992031172542553,
          -0.30940759541017476,
          0.2731435477189458,
          0.015838701558659234,
          0.724023593469401,
          0.8707080592041286,
          0.21601977979558212,
          0.4183086601789258,
          -0.77484563902602,
          1.670090775433564,
          0.2147123427348223,
          -1.173344783806563,
          1.070746086260502,
          -0.5757347764161697,
          2.7914806372152134,
          0.8073484220482443,
          -1.0511858033336978,
          -1.1638906002201035,
          -0.9323783000383242,
          1.4338452229528578,
          1.5482517667523987,
          -0.8243053696849127,
          -0.21727761748933574,
          0.7408819707686045,
          0.7766444874755668,
          1.2466074522256274,
          0.7996077501042823,
          0.7098984500909357,
          0.15738238233608895,
          0.8291981600164929,
          0.41152118484001093,
          0.18507012194701283,
          -1.0699889202336406,
          0.5477835991559148,
          1.0667926679701099,
          -0.8775491680441364,
          -0.41127717743982595,
          0.09562702241928561,
          0.07627133581846482,
          -0.4121154042046888,
          1.2651376595429618,
          1.1350518360935884,
          -0.06337771493283888,
          -0.4354620140625751,
          0.7196787549342661,
          -4.402578912524459,
          1.9687208683682593,
          0.65551260138514,
          -0.05604008805531361,
          0.36014843924403467,
          -0.33933105305157063,
          -0.05618864061894612,
          -0.7620360756541424,
          2.2765844364760226,
          -0.1809785248737499,
          0.04741030706685412,
          0.9977781862139034,
          -0.10368604875802742,
          0.08477651925558183,
          0.861242594474016,
          0.7906107892066139,
          2.222153168898029,
          0.9271137572827841,
          -0.9330765738277954,
          -0.8988029806520119,
          -2.313794695898908,
          -1.262031299788922,
          1.5310948073312323,
          -0.4698002472753553,
          0.8215286852076026,
          0.7262953082237084,
          0.3474608869182147,
          0.19331601407252022,
          1.4030209257013264,
          1.4136472750859461,
          1.4846899884981615,
          -0.31071788634395814,
          -0.10512270723039221,
          2.7885881960637877,
          0.6942665279067876,
          -1.6221205168196695,
          -1.5358891258969731,
          -5.390230091324028,
          -0.05382714583808643,
          -0.2898665417593285,
          -1.2603822989769267,
          -0.7803224545641387,
          1.5051495770311576,
          0.5803112501175962,
          2.0866649366493726,
          -0.18161001740644242,
          -0.6501600677716755,
          2.8005081295505785,
          2.010684631814507,
          1.0261929757046153,
          0.8826209995591443,
          1.4018861885732563,
          -0.16219622891775676,
          0.25599546097227716,
          0.869149706090262,
          -1.5011848488732087,
          -0.3200597277327529,
          -1.2944994042026126,
          -0.5456178840144875,
          1.8888243208696958,
          -0.5729396178889075,
          -1.4908371626662964,
          -2.1898217107727205,
          -0.6979816378653599,
          -0.2390529547481167,
          2.4092943529985402,
          0.9257675849876756,
          1.5566745603483776,
          -1.006937496724284,
          1.0084966732206213,
          0.9323963957092473,
          -1.0527303276752797,
          -1.2373064742887563,
          -1.061956511129075,
          -0.5555449222733335,
          0.9788842536594309,
          1.0408259298766696,
          -2.8428263971497687,
          0.5180488529611242,
          -1.6905110652741515,
          -0.32628851114170176,
          -2.1300316136128097,
          -1.12781689072758,
          -1.2815634859617253,
          2.468497036072903,
          1.0838583358054037,
          -3.134978290334294,
          -1.6413306810627122,
          -0.4525027847066127,
          -1.952274321102968,
          0.48362291075191716,
          -1.4563425687414278,
          -0.10987314385041742,
          0.6158576137099466,
          -0.5868950184257319,
          0.5769079407121158,
          0.9088328834540078,
          0.9740543609654347,
          1.4055402227803466,
          -0.4515041144129988,
          0.891818172817333,
          0.8975360796648462,
          -0.6621999979037594,
          0.9635875557455987,
          -1.2252005169240645,
          0.8707039875644647,
          0.8253771930222111,
          1.0561426926150905,
          -0.9405407931339571,
          -1.8287828386842497,
          -1.3540124493050325,
          -1.6069800221607167,
          0.34601176774672393,
          -0.4822437003617022,
          -1.0797421576520245,
          2.049442378801732,
          -0.6863589864441041,
          -1.2312058155561396,
          -0.4408077734631773,
          1.9103928827399024,
          0.03270583740353565,
          -0.20996796039133664,
          -0.6289580764774898,
          0.5105359440905777,
          -0.959193673966363,
          -0.6258817633061434,
          0.06520142346467354,
          -1.7822998845983413,
          -0.8405755615134103,
          -0.6824369774306227,
          -0.30506673575070586,
          -0.6683855409374204,
          -1.2952094103434584,
          4.826559931350397,
          -0.3360372733285958,
          0.5404265351754685,
          -0.12259444631687318,
          0.4040503109581104,
          -0.430686330334451,
          -0.24231908854981207,
          -3.746303915498808,
          0.39035402921086304,
          -0.3559583563930892,
          0.0600188626122307,
          -0.8933600247286165,
          -0.8933600247286165,
          -2.0865163953577026,
          -1.7010795872307343,
          0.26067694030080113,
          1.09225939339299,
          1.2345506751356488,
          -0.48824078778516905,
          0.45241863132259647,
          -0.8399721363552373,
          -1.5610763688475235,
          -0.5750562636036334,
          -0.8381301731828605,
          -2.730925832158354,
          0.7874939756284267,
          0.49119509274400835,
          0.3774487375210153,
          -0.996782744117442,
          1.201041381518771,
          -1.6818591537753822,
          -1.4601155094272058,
          -1.4601155094272058,
          1.201041381518771,
          1.0670428479199014,
          -0.4567946599848599,
          -1.2245378851001394,
          0.6475400473459355,
          1.719433738758039,
          0.4721520501796564,
          0.13514671558855204,
          -0.28063377886379076,
          -0.35412608462657724,
          1.0318573930800456,
          1.7208456743530525,
          1.3009344093014208,
          0.4789975912632367,
          1.8697348981141593,
          -0.5914828614287034,
          -2.0590376645165502,
          0.2675743062137759,
          -0.9853266239471643,
          -0.4604816004754522,
          -0.5391510807840085,
          0.9443175429761831,
          -0.25995302986961555,
          -1.064985308912599,
          -0.23905742054502482,
          -0.734581125361942,
          -0.08720400421957727,
          -0.04894204937688613,
          -2.8657596347127168,
          0.6414594616910245,
          0.6520037893508102,
          0.2747868787312045,
          -0.0878401370863105,
          0.6768356895737331,
          0.35920674858527013,
          -1.3101377947307844,
          -0.06956410118681565,
          0.21875627038953013,
          -0.10658644268281298,
          0.3257683708684402,
          -0.2924354141491199,
          0.6336547576565379,
          0.31334569308871335,
          -0.5032505939465272,
          0.5371220456325415,
          2.374337714272008,
          0.2790429935717446,
          3.1922750681240433,
          0.08380126477325454,
          -0.34517502480052165,
          0.6167098993104891,
          -1.079290054814856,
          0.14936143468670218,
          0.4447099327029954,
          -0.5114790901334068,
          2.1785293823189735,
          0.4572206020731511,
          -0.2555612326053269,
          -0.807420867009889,
          0.9472386308757956,
          -1.2426905814373985,
          -0.33641761852626456,
          1.0736651373184178,
          1.1904782212570608,
          0.7623681292410858,
          -0.6732696472195177,
          -0.6440393410699292,
          -0.456979572910962,
          -0.9355214742832673,
          2.9929437226692435,
          2.7260040104125647,
          0.5718932501658435,
          1.588926021384984,
          -0.2064734849848299,
          2.503834748957688,
          0.29615014757155,
          1.084618979639962,
          -2.2022095311350482,
          -1.4404515406505767,
          -1.2821572583643752,
          -1.0392645050027831,
          -0.8359784282430524,
          -0.3047987156005998,
          2.072970576974866,
          -1.8586859035534289,
          -1.2049475634533084,
          -0.503215348509192,
          0.3362431205690463,
          2.564961981122826,
          0.30175743185270004,
          -1.7667927291437808,
          0.8235435410088737,
          -0.22551329798238823,
          -2.730925832158354,
          -1.661339230424577,
          -0.5014512201902226,
          -0.6092820716180168,
          0.845822380172414,
          -1.9773985178392324,
          -1.0538519726242694,
          1.8607976208546795,
          -0.3395686494139335,
          -0.9174984834704691,
          -0.8125754547368464,
          0.14301701527301117,
          -0.4362737933068565,
          -0.9044991715514366,
          -0.2767892181150546,
          -0.24579307422650662,
          -0.8244011946355027,
          0.9298124473763034,
          -0.5950664354754026,
          0.441250704186331,
          0.8445197390903239,
          -0.4650701320324816,
          2.1319338498127403,
          2.1319338498127403,
          -0.33139835788936023,
          0.44153230211221434,
          0.07998978375631983,
          -0.3963211426076421,
          2.1319338498127403,
          -0.8155413081291467,
          3.1718734757847713,
          -0.5190281872867492,
          -0.04992336453818279,
          -0.5719527809990373,
          1.4382986039502845,
          1.0900669684738835,
          1.784362690675144,
          0.10095590734268002,
          -0.6444052078607332,
          -0.6061843984291282,
          0.5550883374467281,
          1.5481209530840485,
          -0.7817051706674053,
          -0.6388486423779021,
          -0.17090223401107518,
          -0.32611218191329455,
          2.3012225966724302,
          1.7357442769118514,
          0.046925631639287785,
          1.3344903152922993,
          -0.31151254721625615,
          1.540760346052994,
          1.5085799273169227,
          0.807560413027532,
          -0.4410685895903897,
          1.146189209110409,
          1.075078164015807,
          -0.025287696876735617,
          1.0359956773490937,
          0.7940371917879295,
          0.010298079972030224,
          -0.23136664446222194,
          -1.1263578380899084,
          0.3482735683073877,
          0.7188007759804197,
          -1.200668586601681,
          -0.4887491938537945,
          1.0511329441517367,
          0.7337050641208367,
          0.5801340207770194,
          1.7465185489496868,
          1.5845399675574972,
          1.229362757056718,
          -0.06943785397606662,
          1.3142245990799333,
          0.3466877992177151,
          -0.32247279140588725,
          0.2900924021945493,
          1.2744631039301608,
          1.9501468899176146,
          1.229362757056718,
          -2.3742008151056493,
          0.8097924046763029,
          0.3257493828803805,
          -0.1136722977489452,
          0.5239443339764662,
          1.6637469576513082,
          1.7453471747826579,
          0.19832259823786963,
          1.7258681710226258,
          1.4745753880275598,
          1.6228113586987154,
          2.126492838412718,
          0.3083705907543971,
          1.1642030880653798,
          1.1415398106539252,
          -0.025287696876735617,
          -0.6942782995410625,
          0.6062441505324676,
          0.8056575915427348,
          -0.9718696038331133,
          1.1846475025888192,
          0.2226039312098758,
          -1.1380333885721858,
          -0.4229417107027704,
          -0.9603842841299469,
          -1.2655864882815993,
          -1.6743094682762172,
          -0.9592325696676607,
          -2.2082757823500123,
          -0.7614311127461274,
          -0.9283602915772435,
          -1.0003872778034184,
          0.3330594280435953,
          -0.19978661479337204,
          -0.09779050727088649,
          -0.32732316638662007,
          0.3299914922454787,
          -0.17328787315154331,
          -0.21810390747021463,
          2.0778770647655014,
          0.02548911291235657,
          -0.9418507803283741,
          -0.4804940299306701,
          -0.47779605592947283,
          -0.5236326235491896,
          -0.9163671842424641,
          -1.288412638700221,
          0.7256755059981274,
          -0.536175477047159,
          -0.200048318346952,
          -1.5613522001109874,
          -0.6142121203837297,
          -1.1941311908090242,
          -2.112375819129675,
          -0.7475462109839728,
          -1.0862550094175347,
          0.6072921779752902,
          -0.35977774728872775,
          -1.5821085055818678,
          -0.13876869479146245,
          -0.003982163539607703,
          -1.772100454225184,
          -0.10800633824615902,
          -1.7184551482442958,
          -0.7220600773571377,
          -2.0084981311726877,
          3.785598078144562,
          -0.6245323153977055,
          -0.18114110937883393,
          -0.022800292142003457,
          -0.1526302556077636,
          -0.1887950055902842,
          -2.323447975853463,
          -1.6129585756299765,
          -1.925973818653644,
          -1.4099877285403832,
          0.10661860207796532,
          -3.205538486710098,
          0.5323072652927344,
          1.8282937839211046,
          -0.6155007542491473,
          1.3122550950150027,
          0.6822192108782649,
          -1.035489718088049,
          -0.45676528942886246,
          -0.845313101007244,
          -1.9210975153315701,
          -0.6527180829080172,
          0.02426250545143674,
          -1.1247553043951903,
          0.40145569484540833,
          0.053466258378492344,
          -1.7065805207387765,
          -1.9235702921852218,
          -0.6810658577223937,
          1.6164448236652167,
          0.09441690780118826,
          -0.5757347764161697,
          -5.3248497109911765,
          -1.8070057827169637,
          -0.021224692335779328,
          -0.8179812815431703,
          -1.3805997531516425,
          -0.4252552251575272,
          -1.1523424561828024,
          -0.6194712237286706,
          0.2735411475255203,
          -1.2756162640421735,
          1.7770619659271738,
          -0.45488241736513435,
          -0.4217610806862248,
          -0.638431370514771,
          0.39834270537014643,
          -0.1877564432767383,
          1.6973069926470348,
          -1.549598120569174,
          0.19379976247852138,
          0.4813935019603193,
          -0.20512310302811157,
          -1.0982469509351982,
          -1.5081390298152684,
          1.4235176038388115,
          0.8841847068181836,
          0.20932951138073655,
          -0.5197990686970071,
          -0.7780011535498256,
          -0.08477339014202782,
          0.7143393983015871,
          0.137368352146898,
          0.7007718477066585,
          -1.0091976515141239,
          -1.0020222624106272,
          -0.7434581785609032,
          -0.7805593020332079,
          -1.3122341658827255,
          1.0170344495471022,
          -0.30407331253456527,
          0.08946315030054484,
          -0.3123068127017152,
          -0.16456801441915736,
          -0.20494956985883087,
          -0.0799155781155268,
          -0.4800402335682107,
          1.0418746296709653,
          0.41832376286280354,
          -1.0277443701394147,
          -0.6611049658549456,
          -0.6489680497255799,
          -0.3852608354914717,
          0.17448410537177989,
          0.524833900963763,
          -0.43529139936164873,
          1.1609463777718727,
          0.25898520090417493,
          -0.42691453943558577,
          -0.6464046362867732,
          0.42815031752521243,
          0.4327388460338237,
          -0.10281476747520121,
          1.7409198864727389,
          0.5389720184815575,
          0.2021375589873261,
          0.7995084254451705,
          -2.2233358551456566,
          -0.2981841698859277,
          0.41034709323556173,
          -1.1839367028471575,
          -1.1071412055199383,
          -1.1559737393615033,
          0.4471515763880719,
          0.7108677100843086,
          -0.4873342819660027,
          0.6078594827312365,
          0.14936260868723789,
          -0.5306247834551343,
          -1.460098652532919,
          2.158879972144931,
          1.4175724059415644,
          2.323474646233735,
          -0.7264340924704052,
          0.538005162070482,
          -1.5551401795197877,
          -0.23681909680485475,
          0.4830988146821112,
          -1.6654053221269016,
          -0.7714833608045433,
          0.4358784205841089,
          -0.9528768477392696,
          -1.6818591537753822,
          -1.1853532984892796,
          0.039815640584811775,
          0.427680273266411,
          -1.1439320101672605,
          0.48812003926868336,
          1.0666625856504652,
          0.011626124047278568,
          0.5060631780243171,
          1.4863001605179256,
          -1.2844967685177466,
          -0.3713389048807103,
          1.964001700166655,
          -0.167781807158872,
          -0.6040355782456601,
          0.2917830774541002,
          -1.4741218575235382,
          -1.1120222115701306,
          0.3059623637210855,
          -0.4379365403910012,
          -0.5672204471636585,
          -1.489832811794992,
          -0.43677317153655004,
          -0.9923148417845811,
          -0.2090243774305232,
          -1.0654567706274023,
          0.7770097252992116,
          0.334017017143828,
          0.5252445248516953,
          1.8155609678787492,
          0.5081082583965725,
          -1.7117626410225586,
          0.4959448449737472,
          1.7418772023653073,
          1.401774055858237,
          0.2819221874301162,
          0.13536712504467738,
          0.0784134996298549,
          0.6245229490939125,
          -0.35942637089814405,
          1.7406762762745653,
          1.781079013239126,
          1.6140113589621867,
          1.6826908295445566,
          1.2215784649122425,
          0.9220277790772241,
          1.7617395286963502,
          1.5690767467252895,
          2.7233564576301763,
          -0.4776370803199382,
          2.123302287001612,
          -1.1063612328205006,
          0.1099350132215814,
          -1.6569223971159335,
          -0.7710263136821082,
          0.6354891072036849,
          -0.935076096144232,
          -3.154052361357526,
          -1.213793872987985,
          -0.843898148183908,
          -0.912537509800451,
          0.2368117634647016,
          1.7845842030479488,
          1.9879280654500107,
          1.8873203415832402,
          1.389082085230539,
          0.5250577760428057,
          -0.6949754865209044,
          -1.6187760969086622,
          -1.0019065974555341,
          0.46327213127598055,
          -0.16280340377950495,
          0.9104905958323075,
          0.42987233925511237,
          -1.1802309291515316,
          -1.1011781151568325,
          -2.4095640228892576,
          -1.1367904663450712,
          -0.4810385583693398,
          -1.2429177650114924,
          0.6135342320569057,
          0.06955499887095187,
          0.8825057082452485,
          5.661064469750118,
          -0.1617325261948507,
          0.5077876996618921,
          0.40145569484540833,
          0.6099267306357672,
          0.7221971732916757,
          -1.148249704227904,
          -0.30695042305714826,
          -0.754549980995693,
          2.3277517381735118,
          0.24686911448379892,
          2.436830025160058,
          0.3434852089598272,
          0.5893342154021546,
          1.0175082866881129,
          0.6428230485845227,
          0.08601275154033057,
          1.3216325337985844,
          1.7160008601508696,
          -0.5715956896217791,
          -0.8386394424269159,
          -0.3763273731968023,
          -0.004324987100124534,
          0.8203433536037084,
          0.9161667510871507,
          -0.14941271670467504,
          0.604210994393577,
          1.0137097562146546,
          0.13603763028618537,
          0.5283163487891245,
          -0.7549928952607791,
          0.16600454255353495,
          0.95050981766123,
          -0.12126743768402097,
          -0.2766010244296394,
          0.282344052419291,
          -0.6505340216336379,
          0.5842145967287776,
          0.5598043266791889,
          -0.4591874361420226,
          1.1835659275212278,
          0.7476109366159943,
          0.09042435986383494,
          -1.164191397218856,
          0.5884791515413877,
          -0.9406279038400528,
          0.1852494298999765,
          0.19004799950629833,
          0.8947453894033424,
          1.5051506536341879,
          0.8918238940497791,
          2.9135456906314836,
          0.19535040548850938,
          -2.1347042752673886,
          -1.0963441427170584,
          -1.0963441427170584,
          -0.17984935525889523,
          -0.8950542673028742,
          0.4247555799804476,
          0.583105306526443,
          -1.084980509930824,
          -2.8428263971497687,
          -0.930605940280628,
          -1.2361284238426469,
          -0.9994364223214942,
          -0.8532624380946267,
          -1.2052063378789555,
          -3.006413789118259,
          -0.7091852339985254,
          -1.087171668401282,
          -0.541108076105751,
          -2.0616820132566853,
          -1.860614398221934,
          1.0730684436328806,
          -0.5750562636036334,
          -1.4422160971020856,
          0.18867895860109105,
          -1.3758920059641688,
          -0.5901899611195262,
          0.9140536000059566,
          -2.3552209829195103,
          -1.1982458217628007,
          -1.4354924459885974,
          -2.282372401763111,
          -1.4495411317022107,
          -1.3961646106574355,
          -1.2322459853919865,
          -0.6873446047620463,
          -1.3331003309856058,
          -0.3457065151016621,
          -1.6510206389647333,
          -1.2550499258583405,
          -0.6079438902660617,
          -1.3761751048259687,
          -1.5947288333897764,
          -2.75681514610376,
          -2.0975174481531917,
          -1.789045300998634,
          0.26938140551560397,
          0.6810389452681566,
          -1.4846548825159835,
          0.7411803149126371,
          1.9235878436744343,
          -3.1653627866074627,
          4.826559931350397,
          -0.0874185190206053,
          -2.0674106916733925,
          -2.9687344407540297,
          0.9064658020706716,
          0.7987656364710396,
          -0.5571382455449448,
          -0.2985993159826208,
          -1.1430498587646876,
          0.48171047250429766,
          0.24316610774922728,
          -1.2805711408949845,
          -0.5518033813859747,
          -1.1406132411762944,
          -0.6281451448687279,
          -1.865098767014213,
          -0.07153712703737602,
          -1.5947560608544433,
          1.4829391941009864,
          -0.03041744399149729,
          1.9025446924993947,
          -0.6947868184198223,
          0.14542983433201526,
          -0.7902420934319379,
          -0.4958217071530856,
          0.4233905789931047,
          0.7902407593582259,
          -0.3263511848736126,
          1.1445857085486655,
          0.8799311581112473,
          -0.943943834061544,
          -0.4296076407966236,
          0.6670912404694661,
          2.2933766544371124,
          -0.4854428229005874,
          -0.7261160220215047,
          0.6223149471238171,
          0.16143317928932321,
          0.7770097252992116,
          0.4494073239760205,
          0.29172619989326914,
          -2.8559660325114815,
          -2.8559660325114815,
          0.6559230533819493,
          1.406293735881835,
          1.0147877716635718,
          -0.25782567626502173,
          2.161647716158938,
          0.9725077360054154,
          0.5566877659983659,
          -0.12451622959309912,
          0.3868410938488662,
          -2.2742671474041,
          -0.5032745309280615,
          0.4632574382839324,
          0.24131108774216115,
          0.4347306693747598,
          -0.4860819155388505,
          1.3493684929291605,
          0.529116211316704,
          1.3688832383135683,
          -0.7445120828736286,
          -1.4873373485364942,
          -1.4723501299578934,
          -0.5094951483576848,
          -0.662636027799376,
          -1.0397485474220622,
          -0.5147913976645269,
          0.6622361023624531,
          -0.1298494266082222,
          2.5095452655964974,
          0.034388253828876156,
          1.6820118145061866,
          -0.22151898410253842,
          -0.4154576536923456,
          1.8643364588341294,
          -0.693191618271561,
          3.38928432251332,
          1.6888125651475758,
          0.7724804102748123,
          -0.027114204062824686,
          -0.44158173588628924,
          0.8066569243264369,
          1.3009605925765588,
          0.8036905200841317,
          1.4551854278010652,
          -0.9668417120819928,
          -1.6011254016144787,
          0.4239634544031921,
          0.9768693414114819,
          1.6643262992104457,
          0.6616282733623552,
          -0.07493749940942637,
          -0.053419150523242385,
          1.5817331684268614,
          0.25080378322681623,
          1.4150167553021769,
          0.9464624614115359,
          1.7854208091586647,
          -1.8986513450642593,
          1.6602819900696797,
          -1.2797034194713295,
          -1.2278698439781432,
          1.538207925110093,
          -0.9416686159264978,
          0.2595421804552357,
          1.08251353880443,
          -0.479565020323354,
          2.523417044763236,
          0.5799128089869481,
          0.8994140052267795,
          -1.1652508706177396,
          3.5410661345301517,
          -0.6151603064563296,
          1.2037797236775667,
          -0.19189490558534003,
          3.7740953500324235,
          1.4190247050954996,
          0.46052362278154346,
          0.19506465400558123,
          0.8894868952712859,
          3.4923409189643313,
          0.5095306889194521,
          2.5580337274539624,
          2.94132960356337,
          2.9585376283879437,
          0.6664854167602072,
          1.2751122185381878,
          1.0858549905634807,
          -1.0223874893828675,
          -0.4896122311522351,
          -0.8883453305418864,
          -1.0527146426813934,
          -1.5979672130884706,
          2.4205435798085646,
          -0.01840980869446381,
          1.3150039075834294,
          0.05034428153885805,
          1.2175238766675403,
          1.451318897447084,
          -0.7764384500968172,
          1.4989831502198443,
          -2.1120286151716225,
          -0.8242950319505021,
          -0.7193176773642302,
          -0.5324102979469506,
          -0.7377570441587139,
          -1.7549264883420423,
          -1.1175832891565338,
          -0.8167610018597046,
          -1.4246076648562211,
          1.9210094918522984,
          2.5107890898612335,
          -1.0983810149208881,
          -0.31907824241307786,
          -0.7018982279762445,
          1.1118432949722454,
          -0.43925124042932123,
          0.22403578221356663,
          0.6909457256744242,
          0.13117975779423216,
          0.17250022808780685,
          0.6909457256744242,
          0.88014452129442,
          -0.17264943240538308,
          -0.9571843923901082,
          -0.3418744272736622,
          1.2354223195199219,
          -0.4772773599784329,
          0.6744175097128865,
          -0.4013353354818064,
          0.024502695165670014,
          1.0114888345052582,
          -0.8582289768525573,
          0.9394174796720551,
          0.4181213817232739,
          -0.8914675871467116,
          -1.5430309314244648,
          -1.0478864536138908,
          -0.5196969124319154,
          2.093378912735366,
          0.04095302452669416,
          0.9543876770247657,
          -1.2613527108263536,
          -1.3497698875032396,
          0.10155215220949028,
          1.139522497877638,
          -0.6224926824437781,
          -0.29961093997959837,
          -0.03876120335108577,
          -0.3328413481692123,
          2.1948710462685384,
          0.3926654752334098,
          -0.7082917138338342,
          0.2902319832740683,
          1.392268030544579,
          0.6626605141152944,
          0.6693446790274964,
          3.826832140878453,
          1.03585568044911,
          1.8888243208696958,
          0.9430672461585762,
          1.2597163972076537,
          -0.8635581785887428,
          -1.6236929721271747,
          -1.2939500198084297,
          -1.6971954084152059,
          1.9663728384182095,
          0.5163649992284995,
          0.50042065539245,
          0.14092098116822402,
          -1.3864965358510808,
          -0.02516930509482899,
          -1.1102871922238364,
          -0.7901974202446446,
          -0.8316780531167164,
          -0.667052655989864,
          1.455436764683401,
          0.9890710951795688,
          0.9287715899499603,
          -0.5819582864843361,
          3.103331962225936,
          -1.2547084597372207,
          -0.5922012386467976,
          0.4435955306112877,
          -1.172002542799351,
          0.1301078402567261,
          -0.826309714140059,
          0.5077876996618921,
          0.9391439233166052,
          -0.8361202369462654,
          -0.41710445916982125,
          0.7424716521704853,
          0.6133935006749375,
          -0.6458383516302345,
          -1.7510201157210294,
          -0.319838331456716,
          -1.459640795466034,
          0.32456410733230096,
          -0.43057562980432734,
          -1.1280657628897415,
          -0.4656357674489758,
          1.2702245745656187,
          -0.219652735720984,
          -0.6328920510936783,
          -0.698897541260702,
          0.7686819591582698,
          -0.8578855206836928,
          -0.675103543740879,
          -0.4860554777818964,
          -0.6387093576147171,
          -2.3003554276697566,
          -1.4089869637399521,
          0.5329524166170322,
          -0.5503229283988331,
          0.26496692510713865,
          0.16553005113670338,
          -1.7294067262714845,
          -1.5577347517846176,
          0.7672821803529795,
          1.2004658861734097,
          1.4061401453545952,
          -2.350193203598048,
          -0.08627299783939574,
          0.844655709257436,
          -0.6487851809748283,
          -1.7149594650926812,
          0.0013927407355487694,
          -0.6547324029555968,
          -0.6716498259605346,
          -0.23597623740894438,
          0.90641879717299,
          0.818995493301739,
          -3.9657535964109245,
          -0.11703497197782611,
          -2.25675154277966,
          -0.09410452304932371,
          0.3812586717201792,
          2.6976463366123955,
          0.5131120537669283,
          0.9959213711304606,
          -1.2402689930457071,
          1.5628972442440012,
          -1.0607416100157314,
          -2.25675154277966,
          -0.956787739997805,
          -1.7290648744164634,
          0.20449305184851493,
          -1.423900417611846,
          0.24505719072753612,
          -0.2503357512574871,
          -0.056872802905973505,
          -0.061435918394806305,
          0.7385669494015956,
          0.21719128364850077,
          0.7781800659952605,
          -0.6563513629989093,
          0.6651735153459148,
          -0.8660248605849102,
          0.10023142404119578,
          0.4355569975397251,
          -0.2041627944480546,
          -0.23066117701024624,
          -0.8316304566337256,
          0.7676614983898066,
          -0.24079201735998385,
          -0.26152158860559827,
          -0.41122320695676107,
          -0.8988800994715385,
          0.33369412234070567,
          0.6860578631441884,
          -0.4951214050625917,
          -0.05956019009529998,
          0.12075812107373474,
          0.4444178437987884,
          -0.6616514069680487,
          -1.4117539522982119,
          0.27815757325230706,
          1.2439293597589172,
          -0.2352310758254075,
          -1.292276764691029,
          0.13248114283797663,
          -0.5926544520710927,
          3.116286769732263,
          0.23782341079724,
          -0.6096458997580968,
          -0.6930003232440012,
          -1.1323136221586487,
          2.1986968196259027,
          1.1580810480104038,
          1.2457790474239896,
          2.390098384649922,
          0.2437348166896696,
          1.0924350472163,
          0.2903542953149217,
          -0.22221128725045794,
          1.8975682273569157,
          0.021286560459712594,
          1.3744385074292984,
          0.01571081049753215,
          1.9290845928997915,
          0.1974189949432019,
          2.316189655961483,
          0.8430468316977243,
          0.7314162765751034,
          -0.7154802731599023,
          -2.20046492501433,
          0.7920409187021271,
          -0.5335446105803917,
          -0.6116306323663955,
          3.603182112776723,
          1.0162723217827376,
          2.5978306373195363,
          1.0108598689274577,
          1.093851232172893,
          2.2513235929449373,
          1.5770042098068624,
          1.346752702755334,
          4.185024132169864,
          2.0897495005941,
          1.0383832443919554,
          2.350845883738034,
          1.2583716721302363,
          0.7401609265457777,
          2.1602288633856808,
          -1.7852850671989082,
          1.0456398874007033,
          0.028154177287874647,
          -0.9361637998069967,
          -0.522071823744877,
          3.513969831465879,
          1.1131804574029112,
          2.5375564571759472,
          -0.29017001406721826,
          -0.5300761897294414,
          -0.256930647547249,
          -0.314266217741345,
          2.556676519754192,
          -0.0329352023696412,
          -0.19885795871475268,
          2.4016454281870794,
          1.0351778267918144,
          0.6444849876155513,
          0.028306074933144142,
          -2.1162902439844737,
          0.0023635999375403957,
          0.11962982789439516,
          -2.3475492425405364,
          -0.9201381858244987,
          -0.9743563680480036,
          0.6855028852755772,
          1.137090114462427,
          0.5578793427893985,
          0.2654487617243338,
          1.4026574288018108,
          -1.1982458217628007,
          -0.4598399809985958,
          0.004144946964963312,
          -0.12385926837783738,
          0.9074993270322178,
          2.9661176348304297,
          0.23373058553335319,
          -1.0639389150223326,
          -0.46220981259856947,
          -0.29805267115109346,
          -0.5943153326486946,
          -1.661339230424577,
          -0.3679066722953554,
          -1.0497134604561376,
          -1.349401683239453,
          0.7991499058784416,
          -1.6325913148629327,
          1.6707445011481394,
          -0.9660544362186649,
          -0.6556564907066507,
          -2.0606593454143702,
          -0.9655688502559325,
          -0.6386814446471751,
          0.39223597708810687,
          -0.8850916940287167,
          -0.37443829851879085,
          -0.8776851115060572,
          1.0174448376284788,
          -1.5475653090429058,
          -0.34767541953337056,
          0.7476935362147713,
          -1.7158149473483142,
          -0.10726619418296364,
          1.1371005994234737,
          1.1252714892569724,
          -3.3937229407621827,
          2.008001960014268,
          0.3406402701807248,
          -1.9378358956816626,
          -1.6406240108949193,
          0.36113796281649546,
          -0.11848794556724301,
          -1.38597759721093,
          -0.8010825313436066,
          -0.6575570841874525,
          -0.8394366975160794,
          -0.5271531372802957,
          -0.611421277488057,
          1.5845151521137233,
          -0.4643760537535931,
          -1.3018832532958378,
          -1.1516668256705358,
          -0.875163382122861,
          -0.8847666158004622,
          -1.1693233863795682,
          1.7741759054637443,
          -0.08797624049417598,
          0.0031216044997852757,
          -0.21948269271775536,
          -1.4655689988816658,
          -1.5463730166337226,
          0.40327617661500625,
          0.7755578306120958,
          -0.705965790616284,
          0.550389866529953,
          -1.118231783659827,
          0.5624036751698469,
          -1.4549911125915858,
          -0.6621999979037594,
          -0.4681495641372789,
          -0.4870410138231997,
          0.33010939541903,
          1.0408259298766696,
          1.4738730430602935,
          0.5156531889061453,
          -0.01571567175587989,
          0.6860578631441884,
          1.287287428623743,
          -1.7328518095993386,
          0.6959769757292263,
          -0.007669339267966339,
          -0.026276856447328148,
          -2.3639641186732696,
          1.1631494108116496,
          -1.9638694381659376,
          0.5622885515036905,
          -1.187031973934584,
          -1.2154061426403056,
          -1.4566505898126159,
          -2.2659149056848715,
          0.17948450776703578,
          0.09855330331148268,
          0.7424716521704853,
          -0.08219381352159497,
          -0.8236358611214707,
          -0.48352969560008746,
          -0.16310794825620056,
          -1.3903335627467304,
          -0.25239003901778256,
          0.4873161663950994,
          -0.4786048260815288,
          -0.3195944017333597,
          -0.42283836051148077,
          0.4615724899439203,
          1.3345949133414943,
          2.1353388542792664,
          -1.260368942063365,
          0.6396464239450976,
          0.7174376136046106,
          2.345272967063733,
          1.3733289406188693,
          -0.5966630580451387,
          -0.8228496570941326,
          -2.416942245443599,
          0.9336350514741278,
          0.9336350514741278,
          0.2366487328086498,
          1.2386911146487682,
          -0.5418841654097424,
          0.8575279188846321,
          -0.7605992017394507,
          -0.23040106781687425,
          0.5411367955330904,
          1.3618413519709778,
          2.457186219925856,
          -1.489821630377477,
          -1.0689235689502807,
          -2.046513409718878,
          -0.9547823761436238,
          0.8758128302585265,
          -0.5020453808359169,
          -0.8450034896699773,
          -1.1505866051408815,
          -1.0162719172752022,
          -0.6633142881216196,
          -1.669792851071192,
          -1.3533738902887797,
          -0.9919352561058704,
          -1.0803934023175579,
          -0.6401416299877907,
          -1.302409449839551,
          -1.5274633223822716,
          -1.881636991596234,
          -0.6241541934765823,
          -1.108751387261616,
          -1.0937437785451833,
          -0.5769655569107667,
          1.350116593760214,
          -0.6835707776462,
          -0.21333495891230722,
          -1.7208881667392975,
          0.6069933473401399,
          -0.9485578909088197,
          0.3406380049689812,
          -0.6728024875104708,
          0.009588568549991404,
          -0.3318682072964181,
          1.2099337331859246,
          -0.043516538890151744,
          0.47249730841774984,
          0.166700617825101,
          -0.4598399809985958,
          0.8379678502770372,
          -1.8668083916396299,
          0.39134901070350464,
          0.030032344428861137,
          0.33346010912390556,
          -0.41099462855907704,
          -0.7476281108276729,
          -0.5327999702766621,
          1.4165753877023464,
          -0.977875526993149,
          0.5343302360287076,
          -1.102307666103708,
          -0.861099026349939,
          -0.7747711983975639,
          -0.1436390775853724,
          -0.9146586648127367,
          -0.9765413938527056,
          -1.7663661393860062,
          -1.1307289608189768,
          -0.7087335536763925,
          -0.5947383472184754,
          0.07306755370479688,
          -1.515879694964564,
          0.6613108686606777,
          1.1286274880828162,
          -2.0581977671877025,
          1.0677052103269247,
          -0.3012459235234423,
          0.4257801498878068,
          -0.40263933571266164,
          0.2989675907068802,
          1.628563669796177,
          -0.6663501829263654,
          1.8664334683739898,
          2.420357930284384,
          -1.1092347492996686,
          0.32008414751743747,
          0.031691890126981426,
          1.1160776457145447,
          -0.439456520582332,
          2.0898309796232155,
          -0.7570751399473795,
          -0.7746598120563285,
          -0.38653891891373215,
          0.2570733598340704,
          0.06329890129218398,
          0.337361981734593,
          0.22643180698531135,
          -1.354610726080656,
          0.8002025039600894,
          -0.8889081107644079,
          -0.7286812887095783,
          1.3078694865346452,
          -0.6114302591907714,
          0.5466667600703204,
          1.8234840719083265,
          2.2518211503014935,
          1.5327451810884483,
          1.6920378828976925,
          0.7022921431888594,
          1.9109285289174884,
          0.28044846146532015,
          -1.049841788790346,
          3.603182112776723,
          -0.5242582112536107,
          0.7861182653546219,
          2.040327191221803,
          0.1689301613237655,
          -0.08526345403740611,
          -0.011024140739628008,
          -0.7916755386423818,
          -1.214727083640508,
          0.7724463413233454,
          -0.3037457413035925,
          -2.3335427199807524,
          -0.35621684950736354,
          0.12430303586946695,
          -1.1706210899866965,
          -2.360627446467736,
          -1.6367819175495604,
          -0.5023576395671431,
          -2.730925832158354,
          -1.242344612795521,
          -0.8386470327706332,
          -1.007919852139858,
          -0.22761893527393182,
          -0.42160553228633446,
          -0.9631389674046085,
          2.489831978249961,
          0.7343740197596866,
          2.115364063407615,
          0.13724873880508418,
          1.0125213152896417,
          -0.3700529157494536,
          -1.7815300896312842,
          -1.1887304827614913,
          -0.24042744331689692,
          -0.6167239342012004,
          -0.9734476761826595,
          -0.5688906477444716,
          -0.4861672206217933,
          1.0076600514519962,
          -0.3015057633668328,
          0.12897294715117802,
          2.5309300185056154,
          0.9337858603263681,
          0.8418091510500229,
          -0.9333434321358235,
          -0.19397496311706489,
          -0.5671126380023045,
          1.5106561492724924,
          0.18074855667507533,
          -1.0463627822229704,
          -0.7333067303893,
          -1.0246191375816263,
          0.8689648267049037,
          2.413138762792476,
          -1.0475814842246274,
          0.9736919192976656,
          1.7212392934745586,
          -1.3429003712914214,
          -0.5792383396463384,
          1.3474157429635805,
          1.2378265189856161,
          -0.6277344905438694,
          -0.4669374453129716,
          -0.6195438014522843,
          1.4249282490014081,
          0.9643381077505959,
          0.11165727459267948,
          0.9643381077505959,
          -0.12094841593244848,
          -0.43451549773971776,
          -0.8717228134320262,
          0.15079746470859687,
          0.2779790895369217,
          1.1894891272965893,
          0.13692337593368253,
          2.2951298743783073,
          -1.2426905814373985,
          -0.34856941623504517,
          0.30276431226280964,
          -0.9565041870588187,
          -0.03455778115238203,
          -0.23528215500303093,
          -0.2877116065230737,
          0.33490144838208885,
          -0.5519801147930511,
          -1.6671675160620276,
          0.3483655714328138,
          -0.6829322826912606,
          0.1027995161212,
          -1.995951140242705,
          0.2685118467719538,
          1.9946169248668213,
          1.8483060822592718,
          1.0554925588676234,
          0.21879040449048232,
          -0.13570197581661128,
          0.9851968861900027,
          1.068051974712581,
          -0.9423944222871238,
          -1.3267365895545915,
          0.23792831775974285,
          1.0906730354380947,
          0.8260360840052868,
          -0.11461723951061713,
          1.8404077114195658,
          1.0823540919940677,
          -0.8687738626484468,
          -0.5914828614287034,
          -0.808906366017503,
          0.6170449549147404,
          -0.03580072293818525,
          1.591342828103711,
          1.3560670015995686,
          -1.628748170739258,
          -1.2933490428322183,
          -0.6763485851962375,
          1.1830106693009683,
          0.6030493268732684,
          0.3823904837157768,
          3.024148516645296,
          1.4320445004928866,
          0.34228297341502245,
          -1.4187000715910456,
          1.6814999864821378,
          2.799421051795822,
          -0.04549238763922169,
          0.46574141694873866,
          1.4198239456029444,
          0.5888953615807226,
          1.0444386933204306,
          0.5964434905315009,
          0.08844995393029544,
          -0.04549238763922169,
          0.8977977758332224,
          -0.16885058170457787,
          0.5983088128366486,
          0.6667441748139571,
          0.11485247399156087,
          -2.57692520530168,
          0.23909640755805583,
          2.2487561906623954,
          2.538734024943242,
          -0.05632591154783102,
          0.5964434905315009,
          1.9783020811682732,
          1.3560670015995686,
          2.916068975918375,
          -0.6225797561996642,
          0.25594206718460466,
          -0.29072442076003396,
          0.3757386950204421,
          1.5556309456722202,
          0.4506309276092262,
          0.7757854374142334,
          0.07431941987263646,
          -1.3080925230982416,
          -1.352434598293571,
          0.29360917681999604,
          3.309915508156944,
          -0.5551636406866731,
          0.5675987166081091,
          2.646139877637887,
          0.03399799833089988,
          0.6786040056615535,
          0.1492336042384171,
          -0.45591360084023763,
          2.9465579423623556,
          1.9486015356312547,
          0.6937156146030233,
          -0.6479161411275303,
          -0.1683264356040661,
          0.920633188950651,
          -0.45076135107728355,
          -1.6238548107932478,
          -1.7149594650926812,
          0.8246937348674254,
          -0.6046810983191566,
          0.9951455987502076,
          -0.4943961431689715,
          -0.19789301436615112,
          -0.17763361203952602,
          -0.0811359416283306,
          -3.591928184508256,
          0.015192898637178168,
          0.41832376286280354,
          -1.343039625106529,
          -1.153338780548078,
          -1.5144988077562596,
          -1.5909581557697066,
          -2.345699961945221,
          0.51879294550998,
          -2.0068878431165387,
          -1.5610744785887498,
          0.40272432155177107,
          0.38857174117138116,
          2.4711907619370566,
          -0.2141403583291819,
          3.0020429581390786,
          2.4311389903409193,
          2.882281167231521,
          0.9642980521378555,
          0.0079952873761835,
          -1.4448575644382033,
          -0.21558652585747334,
          -1.0494337432873815,
          -0.168814313299353,
          -0.7392065333258863,
          2.1790993577352333,
          -1.0820263567320572,
          -0.5618613817516007,
          0.05919103367562646,
          -1.0420534653157898,
          0.12324047273321512,
          -0.06624184533439158,
          -1.563289476917089,
          -0.20455517338153084,
          -0.28256903175167425,
          -1.73734728942494,
          -1.046587089328853,
          0.5718932501658435,
          0.03184445897223722,
          -0.012659131268619513,
          1.0406554362647784,
          2.0807189773265056,
          -2.2215790057935054,
          -1.2942306228088367,
          -0.9232671973085154,
          1.6648500226504828,
          -2.251716443317538,
          2.2279199793837736,
          -1.4934305722339838,
          0.06759763053874135,
          -0.42200852490748636,
          -1.6224994565962756,
          -0.8568498421627408,
          -1.7156119083516965,
          -0.4018140005258481,
          -1.9183111465675227,
          -1.0284176661154827,
          0.5662509076481979,
          -1.9360921290485078,
          -1.366197026777161,
          -0.4790532667477199,
          1.5323961175618472,
          0.6372584903149808,
          1.373379897638389,
          -0.51263514699764,
          -0.47065776417615485,
          0.0005851604650560975,
          0.8136001906911955,
          0.3899702635827696,
          -0.39546104811196797,
          -1.5825523645928836,
          -0.9178690058179519,
          -0.38203090899092285,
          0.15708317010829853,
          -0.980660431436618,
          1.257391239773403,
          0.5631582113333877,
          1.1114556668423157,
          0.19309430754008017,
          -3.0573576367230793,
          -2.796405090095435,
          0.444193198132989,
          -0.5425621727635158,
          -0.8201583062849642,
          0.3751431940363832,
          -1.0223780840942371,
          -0.6070712876472267,
          -0.9624492068779504,
          -2.0237471356014676,
          -0.0874185190206053,
          -0.20462864179538687,
          -0.08910926007141677,
          -2.0591628392523127,
          -1.174535786255176,
          -0.6346088648189889,
          -0.5491745735455973,
          0.5095716897531242,
          0.8065406104992447,
          0.7411803149126371,
          -0.855882162906124,
          -0.3657681542279318,
          -0.5309994855824167,
          -0.5213994519208934,
          -0.8095689157079909,
          1.1265825463110433,
          -0.20982947444075317,
          -1.132394606692692,
          0.22119401719295387,
          -1.1950493627964556,
          1.4025390812695389,
          -0.5757347764161697,
          -0.7264869106374366,
          -0.7415878471844212,
          0.0695133638457341,
          -0.20446565868520736,
          -0.018790314063138594,
          0.03139289071179001,
          0.35067005623607644,
          -1.112895632869604,
          1.8195868927959131,
          1.871301395156878,
          1.9181525956534924,
          -1.7186688480437657,
          0.8757893106119158,
          0.17563027053701374,
          -0.6929183840508946,
          -0.28726002097626285,
          0.20809406613317616,
          1.7764954026041306,
          -0.4085731850932772,
          0.029405535122964722,
          0.30289029594966604,
          0.9923583707665751,
          0.43377995483685894,
          -1.3564329550862637,
          0.586375836873632,
          2.923932736424932,
          1.0230580147774828,
          0.8397768146241371,
          2.571609178955056,
          -0.39274683629951035,
          0.31036458933882777,
          1.2122221199360612,
          -0.9105271986614424,
          -0.4231354934946312,
          -1.50229337047053,
          -0.39581140385400604,
          0.11057980583580622,
          -1.136462759521512,
          0.9890710951795688,
          1.6893322614019672,
          0.9299479085907801,
          -0.452596877613777,
          -0.7448746955627192,
          1.8574219818393154,
          0.3162113284328107,
          -3.591928184508256,
          -2.7715699519860655,
          -1.0936649608603803,
          -0.8987367758535372,
          -0.7144851932041136,
          0.08471793830475373,
          3.40232525853672,
          0.5915376393811415,
          0.19594602619168558,
          0.0359650849812199,
          -0.7572787491134734,
          0.48004216049067794,
          0.5277834265150183,
          -0.07029951988053287,
          -2.645920314483971,
          -1.3983743516341567,
          -1.7875077633778913,
          0.8485646204971745,
          1.205932979210664,
          -1.7241610708089128,
          -0.4721562361789342,
          -0.8206980878304457,
          -0.9083842640904373,
          -0.7454847813329012,
          -0.7426614340923876,
          -0.5761116798393006,
          1.2630604906993124,
          -0.9648409921390881,
          0.19368622313439862,
          0.9996039142658518,
          1.1575246422378067,
          -1.0936649608603803,
          -1.0936649608603803,
          3.024148516645296,
          1.581733168426861,
          1.645258276171448,
          -2.404578838074835,
          -2.4574249906447108,
          -0.5475715725911331,
          -1.309837370956772,
          -2.0126521925813607,
          -2.462051030380862,
          0.4839182224013328,
          -1.4091483830778588,
          -1.555787843924436,
          -1.710465901789655,
          -0.14939377576964724,
          -2.0027033980752837,
          -2.2204584178167055,
          -0.9119564427723743,
          -2.2209031233141783,
          -1.7536558307851111,
          -1.3764437205042668,
          -2.539680899330995,
          -1.9288195091233975,
          0.45865280287595983,
          -0.7370750659682037,
          -1.4238717798777543,
          0.31313785015723244,
          0.031646261329057825,
          -0.9437787672942015,
          0.42203314767341743,
          -0.19189119093840562,
          -0.5211679048184927,
          1.883607692357036,
          1.2546259176505106,
          -1.798007110035973,
          1.6046581333958077,
          0.5308244007763789,
          -1.4677050692393325,
          -0.07553356999426532,
          -0.937130006178033,
          0.9744129361419283,
          1.0808327860734235,
          -1.3498838940521096,
          -2.6382976097380926,
          1.107574181094697,
          -1.1968544636420657,
          -0.04985157001773315,
          -1.3368586236919509,
          3.380206235874204,
          -0.9362765548657938,
          -0.8512302225203626,
          0.8312994793303591,
          1.1474159317775223,
          0.8692814620397293,
          -0.06373150398819571,
          -0.4524259118905803,
          -1.048789567781992,
          -0.9786629053950855,
          -1.1203219593181106,
          -0.6009018213810919,
          0.41862414869311826,
          -0.3053760309640807,
          0.18024535423151283,
          -0.0874185190206053,
          -2.1446915046004675,
          0.8614420346143572,
          0.1307140789749265,
          -0.22775045896728133,
          1.1093919174553286,
          0.5061696894655057,
          2.5114509290464673,
          -0.3562583850385001,
          0.263955672766923,
          0.2716152626191441,
          -0.3396231129337276,
          0.8138121170061813,
          1.6452114399898898,
          1.2386818562700987,
          0.8050649466533383,
          0.5777097466141733,
          -0.7454513238920552,
          0.7691464789300277,
          -0.23009953334279723,
          -1.1625225503153804,
          1.0967477999866877,
          -0.7762878624655949,
          -0.5844671710446078,
          -0.6061979063641796,
          -1.486947180766615,
          1.7503448743454857,
          -0.6151603064563296,
          -1.6531344263407675,
          0.7427151707507375,
          -0.7054157806980506,
          -0.032519123302962555,
          -2.341444922488864,
          1.8408479769371697,
          0.4150643762265185,
          -0.5229064046857338,
          -0.01712586072171458,
          -1.3049828462456508,
          -1.089725570464689,
          -3.6952327527777635,
          -1.3907085464763482
         ],
         "yaxis": "y"
        }
       ],
       "layout": {
        "coloraxis": {
         "colorbar": {
          "title": {
           "text": "cluster_pca"
          }
         },
         "colorscale": [
          [
           0,
           "#0d0887"
          ],
          [
           0.1111111111111111,
           "#46039f"
          ],
          [
           0.2222222222222222,
           "#7201a8"
          ],
          [
           0.3333333333333333,
           "#9c179e"
          ],
          [
           0.4444444444444444,
           "#bd3786"
          ],
          [
           0.5555555555555556,
           "#d8576b"
          ],
          [
           0.6666666666666666,
           "#ed7953"
          ],
          [
           0.7777777777777778,
           "#fb9f3a"
          ],
          [
           0.8888888888888888,
           "#fdca26"
          ],
          [
           1,
           "#f0f921"
          ]
         ]
        },
        "legend": {
         "tracegroupgap": 0
        },
        "margin": {
         "t": 60
        },
        "template": {
         "data": {
          "bar": [
           {
            "error_x": {
             "color": "#2a3f5f"
            },
            "error_y": {
             "color": "#2a3f5f"
            },
            "marker": {
             "line": {
              "color": "#E5ECF6",
              "width": 0.5
             },
             "pattern": {
              "fillmode": "overlay",
              "size": 10,
              "solidity": 0.2
             }
            },
            "type": "bar"
           }
          ],
          "barpolar": [
           {
            "marker": {
             "line": {
              "color": "#E5ECF6",
              "width": 0.5
             },
             "pattern": {
              "fillmode": "overlay",
              "size": 10,
              "solidity": 0.2
             }
            },
            "type": "barpolar"
           }
          ],
          "carpet": [
           {
            "aaxis": {
             "endlinecolor": "#2a3f5f",
             "gridcolor": "white",
             "linecolor": "white",
             "minorgridcolor": "white",
             "startlinecolor": "#2a3f5f"
            },
            "baxis": {
             "endlinecolor": "#2a3f5f",
             "gridcolor": "white",
             "linecolor": "white",
             "minorgridcolor": "white",
             "startlinecolor": "#2a3f5f"
            },
            "type": "carpet"
           }
          ],
          "choropleth": [
           {
            "colorbar": {
             "outlinewidth": 0,
             "ticks": ""
            },
            "type": "choropleth"
           }
          ],
          "contour": [
           {
            "colorbar": {
             "outlinewidth": 0,
             "ticks": ""
            },
            "colorscale": [
             [
              0,
              "#0d0887"
             ],
             [
              0.1111111111111111,
              "#46039f"
             ],
             [
              0.2222222222222222,
              "#7201a8"
             ],
             [
              0.3333333333333333,
              "#9c179e"
             ],
             [
              0.4444444444444444,
              "#bd3786"
             ],
             [
              0.5555555555555556,
              "#d8576b"
             ],
             [
              0.6666666666666666,
              "#ed7953"
             ],
             [
              0.7777777777777778,
              "#fb9f3a"
             ],
             [
              0.8888888888888888,
              "#fdca26"
             ],
             [
              1,
              "#f0f921"
             ]
            ],
            "type": "contour"
           }
          ],
          "contourcarpet": [
           {
            "colorbar": {
             "outlinewidth": 0,
             "ticks": ""
            },
            "type": "contourcarpet"
           }
          ],
          "heatmap": [
           {
            "colorbar": {
             "outlinewidth": 0,
             "ticks": ""
            },
            "colorscale": [
             [
              0,
              "#0d0887"
             ],
             [
              0.1111111111111111,
              "#46039f"
             ],
             [
              0.2222222222222222,
              "#7201a8"
             ],
             [
              0.3333333333333333,
              "#9c179e"
             ],
             [
              0.4444444444444444,
              "#bd3786"
             ],
             [
              0.5555555555555556,
              "#d8576b"
             ],
             [
              0.6666666666666666,
              "#ed7953"
             ],
             [
              0.7777777777777778,
              "#fb9f3a"
             ],
             [
              0.8888888888888888,
              "#fdca26"
             ],
             [
              1,
              "#f0f921"
             ]
            ],
            "type": "heatmap"
           }
          ],
          "heatmapgl": [
           {
            "colorbar": {
             "outlinewidth": 0,
             "ticks": ""
            },
            "colorscale": [
             [
              0,
              "#0d0887"
             ],
             [
              0.1111111111111111,
              "#46039f"
             ],
             [
              0.2222222222222222,
              "#7201a8"
             ],
             [
              0.3333333333333333,
              "#9c179e"
             ],
             [
              0.4444444444444444,
              "#bd3786"
             ],
             [
              0.5555555555555556,
              "#d8576b"
             ],
             [
              0.6666666666666666,
              "#ed7953"
             ],
             [
              0.7777777777777778,
              "#fb9f3a"
             ],
             [
              0.8888888888888888,
              "#fdca26"
             ],
             [
              1,
              "#f0f921"
             ]
            ],
            "type": "heatmapgl"
           }
          ],
          "histogram": [
           {
            "marker": {
             "pattern": {
              "fillmode": "overlay",
              "size": 10,
              "solidity": 0.2
             }
            },
            "type": "histogram"
           }
          ],
          "histogram2d": [
           {
            "colorbar": {
             "outlinewidth": 0,
             "ticks": ""
            },
            "colorscale": [
             [
              0,
              "#0d0887"
             ],
             [
              0.1111111111111111,
              "#46039f"
             ],
             [
              0.2222222222222222,
              "#7201a8"
             ],
             [
              0.3333333333333333,
              "#9c179e"
             ],
             [
              0.4444444444444444,
              "#bd3786"
             ],
             [
              0.5555555555555556,
              "#d8576b"
             ],
             [
              0.6666666666666666,
              "#ed7953"
             ],
             [
              0.7777777777777778,
              "#fb9f3a"
             ],
             [
              0.8888888888888888,
              "#fdca26"
             ],
             [
              1,
              "#f0f921"
             ]
            ],
            "type": "histogram2d"
           }
          ],
          "histogram2dcontour": [
           {
            "colorbar": {
             "outlinewidth": 0,
             "ticks": ""
            },
            "colorscale": [
             [
              0,
              "#0d0887"
             ],
             [
              0.1111111111111111,
              "#46039f"
             ],
             [
              0.2222222222222222,
              "#7201a8"
             ],
             [
              0.3333333333333333,
              "#9c179e"
             ],
             [
              0.4444444444444444,
              "#bd3786"
             ],
             [
              0.5555555555555556,
              "#d8576b"
             ],
             [
              0.6666666666666666,
              "#ed7953"
             ],
             [
              0.7777777777777778,
              "#fb9f3a"
             ],
             [
              0.8888888888888888,
              "#fdca26"
             ],
             [
              1,
              "#f0f921"
             ]
            ],
            "type": "histogram2dcontour"
           }
          ],
          "mesh3d": [
           {
            "colorbar": {
             "outlinewidth": 0,
             "ticks": ""
            },
            "type": "mesh3d"
           }
          ],
          "parcoords": [
           {
            "line": {
             "colorbar": {
              "outlinewidth": 0,
              "ticks": ""
             }
            },
            "type": "parcoords"
           }
          ],
          "pie": [
           {
            "automargin": true,
            "type": "pie"
           }
          ],
          "scatter": [
           {
            "fillpattern": {
             "fillmode": "overlay",
             "size": 10,
             "solidity": 0.2
            },
            "type": "scatter"
           }
          ],
          "scatter3d": [
           {
            "line": {
             "colorbar": {
              "outlinewidth": 0,
              "ticks": ""
             }
            },
            "marker": {
             "colorbar": {
              "outlinewidth": 0,
              "ticks": ""
             }
            },
            "type": "scatter3d"
           }
          ],
          "scattercarpet": [
           {
            "marker": {
             "colorbar": {
              "outlinewidth": 0,
              "ticks": ""
             }
            },
            "type": "scattercarpet"
           }
          ],
          "scattergeo": [
           {
            "marker": {
             "colorbar": {
              "outlinewidth": 0,
              "ticks": ""
             }
            },
            "type": "scattergeo"
           }
          ],
          "scattergl": [
           {
            "marker": {
             "colorbar": {
              "outlinewidth": 0,
              "ticks": ""
             }
            },
            "type": "scattergl"
           }
          ],
          "scattermapbox": [
           {
            "marker": {
             "colorbar": {
              "outlinewidth": 0,
              "ticks": ""
             }
            },
            "type": "scattermapbox"
           }
          ],
          "scatterpolar": [
           {
            "marker": {
             "colorbar": {
              "outlinewidth": 0,
              "ticks": ""
             }
            },
            "type": "scatterpolar"
           }
          ],
          "scatterpolargl": [
           {
            "marker": {
             "colorbar": {
              "outlinewidth": 0,
              "ticks": ""
             }
            },
            "type": "scatterpolargl"
           }
          ],
          "scatterternary": [
           {
            "marker": {
             "colorbar": {
              "outlinewidth": 0,
              "ticks": ""
             }
            },
            "type": "scatterternary"
           }
          ],
          "surface": [
           {
            "colorbar": {
             "outlinewidth": 0,
             "ticks": ""
            },
            "colorscale": [
             [
              0,
              "#0d0887"
             ],
             [
              0.1111111111111111,
              "#46039f"
             ],
             [
              0.2222222222222222,
              "#7201a8"
             ],
             [
              0.3333333333333333,
              "#9c179e"
             ],
             [
              0.4444444444444444,
              "#bd3786"
             ],
             [
              0.5555555555555556,
              "#d8576b"
             ],
             [
              0.6666666666666666,
              "#ed7953"
             ],
             [
              0.7777777777777778,
              "#fb9f3a"
             ],
             [
              0.8888888888888888,
              "#fdca26"
             ],
             [
              1,
              "#f0f921"
             ]
            ],
            "type": "surface"
           }
          ],
          "table": [
           {
            "cells": {
             "fill": {
              "color": "#EBF0F8"
             },
             "line": {
              "color": "white"
             }
            },
            "header": {
             "fill": {
              "color": "#C8D4E3"
             },
             "line": {
              "color": "white"
             }
            },
            "type": "table"
           }
          ]
         },
         "layout": {
          "annotationdefaults": {
           "arrowcolor": "#2a3f5f",
           "arrowhead": 0,
           "arrowwidth": 1
          },
          "autotypenumbers": "strict",
          "coloraxis": {
           "colorbar": {
            "outlinewidth": 0,
            "ticks": ""
           }
          },
          "colorscale": {
           "diverging": [
            [
             0,
             "#8e0152"
            ],
            [
             0.1,
             "#c51b7d"
            ],
            [
             0.2,
             "#de77ae"
            ],
            [
             0.3,
             "#f1b6da"
            ],
            [
             0.4,
             "#fde0ef"
            ],
            [
             0.5,
             "#f7f7f7"
            ],
            [
             0.6,
             "#e6f5d0"
            ],
            [
             0.7,
             "#b8e186"
            ],
            [
             0.8,
             "#7fbc41"
            ],
            [
             0.9,
             "#4d9221"
            ],
            [
             1,
             "#276419"
            ]
           ],
           "sequential": [
            [
             0,
             "#0d0887"
            ],
            [
             0.1111111111111111,
             "#46039f"
            ],
            [
             0.2222222222222222,
             "#7201a8"
            ],
            [
             0.3333333333333333,
             "#9c179e"
            ],
            [
             0.4444444444444444,
             "#bd3786"
            ],
            [
             0.5555555555555556,
             "#d8576b"
            ],
            [
             0.6666666666666666,
             "#ed7953"
            ],
            [
             0.7777777777777778,
             "#fb9f3a"
            ],
            [
             0.8888888888888888,
             "#fdca26"
            ],
            [
             1,
             "#f0f921"
            ]
           ],
           "sequentialminus": [
            [
             0,
             "#0d0887"
            ],
            [
             0.1111111111111111,
             "#46039f"
            ],
            [
             0.2222222222222222,
             "#7201a8"
            ],
            [
             0.3333333333333333,
             "#9c179e"
            ],
            [
             0.4444444444444444,
             "#bd3786"
            ],
            [
             0.5555555555555556,
             "#d8576b"
            ],
            [
             0.6666666666666666,
             "#ed7953"
            ],
            [
             0.7777777777777778,
             "#fb9f3a"
            ],
            [
             0.8888888888888888,
             "#fdca26"
            ],
            [
             1,
             "#f0f921"
            ]
           ]
          },
          "colorway": [
           "#636efa",
           "#EF553B",
           "#00cc96",
           "#ab63fa",
           "#FFA15A",
           "#19d3f3",
           "#FF6692",
           "#B6E880",
           "#FF97FF",
           "#FECB52"
          ],
          "font": {
           "color": "#2a3f5f"
          },
          "geo": {
           "bgcolor": "white",
           "lakecolor": "white",
           "landcolor": "#E5ECF6",
           "showlakes": true,
           "showland": true,
           "subunitcolor": "white"
          },
          "hoverlabel": {
           "align": "left"
          },
          "hovermode": "closest",
          "mapbox": {
           "style": "light"
          },
          "paper_bgcolor": "white",
          "plot_bgcolor": "#E5ECF6",
          "polar": {
           "angularaxis": {
            "gridcolor": "white",
            "linecolor": "white",
            "ticks": ""
           },
           "bgcolor": "#E5ECF6",
           "radialaxis": {
            "gridcolor": "white",
            "linecolor": "white",
            "ticks": ""
           }
          },
          "scene": {
           "xaxis": {
            "backgroundcolor": "#E5ECF6",
            "gridcolor": "white",
            "gridwidth": 2,
            "linecolor": "white",
            "showbackground": true,
            "ticks": "",
            "zerolinecolor": "white"
           },
           "yaxis": {
            "backgroundcolor": "#E5ECF6",
            "gridcolor": "white",
            "gridwidth": 2,
            "linecolor": "white",
            "showbackground": true,
            "ticks": "",
            "zerolinecolor": "white"
           },
           "zaxis": {
            "backgroundcolor": "#E5ECF6",
            "gridcolor": "white",
            "gridwidth": 2,
            "linecolor": "white",
            "showbackground": true,
            "ticks": "",
            "zerolinecolor": "white"
           }
          },
          "shapedefaults": {
           "line": {
            "color": "#2a3f5f"
           }
          },
          "ternary": {
           "aaxis": {
            "gridcolor": "white",
            "linecolor": "white",
            "ticks": ""
           },
           "baxis": {
            "gridcolor": "white",
            "linecolor": "white",
            "ticks": ""
           },
           "bgcolor": "#E5ECF6",
           "caxis": {
            "gridcolor": "white",
            "linecolor": "white",
            "ticks": ""
           }
          },
          "title": {
           "x": 0.05
          },
          "xaxis": {
           "automargin": true,
           "gridcolor": "white",
           "linecolor": "white",
           "ticks": "",
           "title": {
            "standoff": 15
           },
           "zerolinecolor": "white",
           "zerolinewidth": 2
          },
          "yaxis": {
           "automargin": true,
           "gridcolor": "white",
           "linecolor": "white",
           "ticks": "",
           "title": {
            "standoff": 15
           },
           "zerolinecolor": "white",
           "zerolinewidth": 2
          }
         }
        },
        "xaxis": {
         "anchor": "y",
         "domain": [
          0,
          1
         ],
         "title": {
          "text": "x"
         }
        },
        "yaxis": {
         "anchor": "x",
         "domain": [
          0,
          1
         ],
         "title": {
          "text": "y"
         }
        }
       }
      }
     },
     "metadata": {},
     "output_type": "display_data"
    }
   ],
   "source": [
    "fig = px.scatter(projection, x='x', y='y', color='cluster_pca', hover_data=['x',  'y', 'generos'])\n",
    "\n",
    "fig.show()"
   ]
  },
  {
   "cell_type": "code",
   "execution_count": 141,
   "metadata": {},
   "outputs": [
    {
     "data": {
      "text/plain": [
       "0.4927066994726641"
      ]
     },
     "execution_count": 141,
     "metadata": {},
     "output_type": "execute_result"
    }
   ],
   "source": [
    "pca_pipeline[1].explained_variance_ratio_.sum()"
   ]
  },
  {
   "cell_type": "code",
   "execution_count": 142,
   "metadata": {},
   "outputs": [
    {
     "data": {
      "text/plain": [
       "5.421597305805697"
      ]
     },
     "execution_count": 142,
     "metadata": {},
     "output_type": "execute_result"
    }
   ],
   "source": [
    "pca_pipeline[1].explained_variance_.sum()"
   ]
  },
  {
   "cell_type": "code",
   "execution_count": 143,
   "metadata": {},
   "outputs": [
    {
     "data": {
      "text/html": [
       "<div>\n",
       "<style scoped>\n",
       "    .dataframe tbody tr th:only-of-type {\n",
       "        vertical-align: middle;\n",
       "    }\n",
       "\n",
       "    .dataframe tbody tr th {\n",
       "        vertical-align: top;\n",
       "    }\n",
       "\n",
       "    .dataframe thead th {\n",
       "        text-align: right;\n",
       "    }\n",
       "</style>\n",
       "<table border=\"1\" class=\"dataframe\">\n",
       "  <thead>\n",
       "    <tr style=\"text-align: right;\">\n",
       "      <th></th>\n",
       "      <th>valence</th>\n",
       "      <th>year</th>\n",
       "      <th>acousticness</th>\n",
       "      <th>artists</th>\n",
       "      <th>danceability</th>\n",
       "      <th>duration_ms</th>\n",
       "      <th>energy</th>\n",
       "      <th>id</th>\n",
       "      <th>instrumentalness</th>\n",
       "      <th>liveness</th>\n",
       "      <th>loudness</th>\n",
       "      <th>name</th>\n",
       "      <th>popularity</th>\n",
       "      <th>speechiness</th>\n",
       "      <th>tempo</th>\n",
       "      <th>artists_song</th>\n",
       "    </tr>\n",
       "  </thead>\n",
       "  <tbody>\n",
       "    <tr>\n",
       "      <th>0</th>\n",
       "      <td>0.285</td>\n",
       "      <td>2000</td>\n",
       "      <td>0.00239</td>\n",
       "      <td>Coldplay</td>\n",
       "      <td>0.429</td>\n",
       "      <td>266773</td>\n",
       "      <td>0.661</td>\n",
       "      <td>3AJwUDP919kvQ9QcozQPxg</td>\n",
       "      <td>0.000121</td>\n",
       "      <td>0.2340</td>\n",
       "      <td>-7.227</td>\n",
       "      <td>Yellow</td>\n",
       "      <td>84</td>\n",
       "      <td>0.0281</td>\n",
       "      <td>173.372</td>\n",
       "      <td>Coldplay - Yellow</td>\n",
       "    </tr>\n",
       "    <tr>\n",
       "      <th>1</th>\n",
       "      <td>0.613</td>\n",
       "      <td>2000</td>\n",
       "      <td>0.14300</td>\n",
       "      <td>OutKast</td>\n",
       "      <td>0.843</td>\n",
       "      <td>270507</td>\n",
       "      <td>0.806</td>\n",
       "      <td>0I3q5fE6wg7LIfHGngUTnV</td>\n",
       "      <td>0.000000</td>\n",
       "      <td>0.0771</td>\n",
       "      <td>-5.946</td>\n",
       "      <td>Ms. Jackson</td>\n",
       "      <td>80</td>\n",
       "      <td>0.2690</td>\n",
       "      <td>94.948</td>\n",
       "      <td>OutKast - Ms. Jackson</td>\n",
       "    </tr>\n",
       "    <tr>\n",
       "      <th>2</th>\n",
       "      <td>0.400</td>\n",
       "      <td>2000</td>\n",
       "      <td>0.00958</td>\n",
       "      <td>Linkin Park</td>\n",
       "      <td>0.556</td>\n",
       "      <td>216880</td>\n",
       "      <td>0.864</td>\n",
       "      <td>60a0Rd6pjrkxjPbaKzXjfq</td>\n",
       "      <td>0.000000</td>\n",
       "      <td>0.2090</td>\n",
       "      <td>-5.870</td>\n",
       "      <td>In the End</td>\n",
       "      <td>84</td>\n",
       "      <td>0.0584</td>\n",
       "      <td>105.143</td>\n",
       "      <td>Linkin Park - In the End</td>\n",
       "    </tr>\n",
       "    <tr>\n",
       "      <th>3</th>\n",
       "      <td>0.543</td>\n",
       "      <td>2000</td>\n",
       "      <td>0.00664</td>\n",
       "      <td>3 Doors Down</td>\n",
       "      <td>0.545</td>\n",
       "      <td>233933</td>\n",
       "      <td>0.865</td>\n",
       "      <td>6ZOBP3NvffbU4SZcrnt1k6</td>\n",
       "      <td>0.000011</td>\n",
       "      <td>0.1680</td>\n",
       "      <td>-5.708</td>\n",
       "      <td>Kryptonite</td>\n",
       "      <td>78</td>\n",
       "      <td>0.0286</td>\n",
       "      <td>99.009</td>\n",
       "      <td>3 Doors Down - Kryptonite</td>\n",
       "    </tr>\n",
       "    <tr>\n",
       "      <th>4</th>\n",
       "      <td>0.760</td>\n",
       "      <td>2000</td>\n",
       "      <td>0.03020</td>\n",
       "      <td>Eminem</td>\n",
       "      <td>0.949</td>\n",
       "      <td>284200</td>\n",
       "      <td>0.661</td>\n",
       "      <td>3yfqSUWxFvZELEM4PmlwIR</td>\n",
       "      <td>0.000000</td>\n",
       "      <td>0.0454</td>\n",
       "      <td>-4.244</td>\n",
       "      <td>The Real Slim Shady</td>\n",
       "      <td>80</td>\n",
       "      <td>0.0572</td>\n",
       "      <td>104.504</td>\n",
       "      <td>Eminem - The Real Slim Shady</td>\n",
       "    </tr>\n",
       "  </tbody>\n",
       "</table>\n",
       "</div>"
      ],
      "text/plain": [
       "   valence  year  acousticness       artists  danceability  duration_ms  \\\n",
       "0    0.285  2000       0.00239      Coldplay         0.429       266773   \n",
       "1    0.613  2000       0.14300       OutKast         0.843       270507   \n",
       "2    0.400  2000       0.00958   Linkin Park         0.556       216880   \n",
       "3    0.543  2000       0.00664  3 Doors Down         0.545       233933   \n",
       "4    0.760  2000       0.03020        Eminem         0.949       284200   \n",
       "\n",
       "   energy                      id  instrumentalness  liveness  loudness  \\\n",
       "0   0.661  3AJwUDP919kvQ9QcozQPxg          0.000121    0.2340    -7.227   \n",
       "1   0.806  0I3q5fE6wg7LIfHGngUTnV          0.000000    0.0771    -5.946   \n",
       "2   0.864  60a0Rd6pjrkxjPbaKzXjfq          0.000000    0.2090    -5.870   \n",
       "3   0.865  6ZOBP3NvffbU4SZcrnt1k6          0.000011    0.1680    -5.708   \n",
       "4   0.661  3yfqSUWxFvZELEM4PmlwIR          0.000000    0.0454    -4.244   \n",
       "\n",
       "                  name  popularity  speechiness    tempo  \\\n",
       "0               Yellow          84       0.0281  173.372   \n",
       "1          Ms. Jackson          80       0.2690   94.948   \n",
       "2           In the End          84       0.0584  105.143   \n",
       "3           Kryptonite          78       0.0286   99.009   \n",
       "4  The Real Slim Shady          80       0.0572  104.504   \n",
       "\n",
       "                   artists_song  \n",
       "0             Coldplay - Yellow  \n",
       "1         OutKast - Ms. Jackson  \n",
       "2      Linkin Park - In the End  \n",
       "3     3 Doors Down - Kryptonite  \n",
       "4  Eminem - The Real Slim Shady  "
      ]
     },
     "execution_count": 143,
     "metadata": {},
     "output_type": "execute_result"
    }
   ],
   "source": [
    "dados.head()"
   ]
  },
  {
   "cell_type": "code",
   "execution_count": 144,
   "metadata": {},
   "outputs": [
    {
     "data": {
      "text/plain": [
       "artists\n",
       "Drake                   170\n",
       "Taylor Swift            156\n",
       "Eminem                  147\n",
       "Kanye West              136\n",
       "BTS                     122\n",
       "                       ... \n",
       "Of Monsters and Men       7\n",
       "The Living Tombstone      7\n",
       "Clean Bandit              7\n",
       "Nelly Furtado             6\n",
       "Empire of the Sun         6\n",
       "Name: count, Length: 875, dtype: int64"
      ]
     },
     "execution_count": 144,
     "metadata": {},
     "output_type": "execute_result"
    }
   ],
   "source": [
    "dados['artists'].value_counts()"
   ]
  },
  {
   "cell_type": "code",
   "execution_count": 145,
   "metadata": {},
   "outputs": [
    {
     "data": {
      "text/plain": [
       "artists_song\n",
       "Coldplay - Yellow                                                   1\n",
       "Juice WRLD - Intro                                                  1\n",
       "Carrie Underwood - The Champion - Bonus Track                       1\n",
       "YoungBoy Never Broke Again - Cross Me (feat. Lil Baby and Plies)    1\n",
       "Twenty One Pilots - Morph                                           1\n",
       "                                                                   ..\n",
       "Taylor Swift - Come Back...Be Here                                  1\n",
       "Banda El Recodo - Me Gusta Todo De Ti                               1\n",
       "Michael Bublé - The Christmas Song                                  1\n",
       "Glee Cast - Smooth Criminal (Glee Cast Version) (feat. 2CELLOS)     1\n",
       "Eminem - Darkness                                                   1\n",
       "Name: count, Length: 20311, dtype: int64"
      ]
     },
     "execution_count": 145,
     "metadata": {},
     "output_type": "execute_result"
    }
   ],
   "source": [
    "dados['artists_song'].value_counts()"
   ]
  },
  {
   "cell_type": "code",
   "execution_count": 146,
   "metadata": {},
   "outputs": [
    {
     "data": {
      "text/html": [
       "<div>\n",
       "<style scoped>\n",
       "    .dataframe tbody tr th:only-of-type {\n",
       "        vertical-align: middle;\n",
       "    }\n",
       "\n",
       "    .dataframe tbody tr th {\n",
       "        vertical-align: top;\n",
       "    }\n",
       "\n",
       "    .dataframe thead th {\n",
       "        text-align: right;\n",
       "    }\n",
       "</style>\n",
       "<table border=\"1\" class=\"dataframe\">\n",
       "  <thead>\n",
       "    <tr style=\"text-align: right;\">\n",
       "      <th></th>\n",
       "      <th>valence</th>\n",
       "      <th>year</th>\n",
       "      <th>acousticness</th>\n",
       "      <th>danceability</th>\n",
       "      <th>duration_ms</th>\n",
       "      <th>energy</th>\n",
       "      <th>id</th>\n",
       "      <th>instrumentalness</th>\n",
       "      <th>liveness</th>\n",
       "      <th>loudness</th>\n",
       "      <th>...</th>\n",
       "      <th>artists_Zara Larsson</th>\n",
       "      <th>artists_Zedd</th>\n",
       "      <th>artists_alt-J</th>\n",
       "      <th>artists_blackbear</th>\n",
       "      <th>artists_blink-182</th>\n",
       "      <th>artists_deadmau5</th>\n",
       "      <th>artists_for KING &amp; COUNTRY</th>\n",
       "      <th>artists_fun.</th>\n",
       "      <th>artists_girl in red</th>\n",
       "      <th>artists_iann dior</th>\n",
       "    </tr>\n",
       "  </thead>\n",
       "  <tbody>\n",
       "    <tr>\n",
       "      <th>0</th>\n",
       "      <td>0.285</td>\n",
       "      <td>2000</td>\n",
       "      <td>0.00239</td>\n",
       "      <td>0.429</td>\n",
       "      <td>266773</td>\n",
       "      <td>0.661</td>\n",
       "      <td>3AJwUDP919kvQ9QcozQPxg</td>\n",
       "      <td>0.000121</td>\n",
       "      <td>0.2340</td>\n",
       "      <td>-7.227</td>\n",
       "      <td>...</td>\n",
       "      <td>0</td>\n",
       "      <td>0</td>\n",
       "      <td>0</td>\n",
       "      <td>0</td>\n",
       "      <td>0</td>\n",
       "      <td>0</td>\n",
       "      <td>0</td>\n",
       "      <td>0</td>\n",
       "      <td>0</td>\n",
       "      <td>0</td>\n",
       "    </tr>\n",
       "    <tr>\n",
       "      <th>1</th>\n",
       "      <td>0.613</td>\n",
       "      <td>2000</td>\n",
       "      <td>0.14300</td>\n",
       "      <td>0.843</td>\n",
       "      <td>270507</td>\n",
       "      <td>0.806</td>\n",
       "      <td>0I3q5fE6wg7LIfHGngUTnV</td>\n",
       "      <td>0.000000</td>\n",
       "      <td>0.0771</td>\n",
       "      <td>-5.946</td>\n",
       "      <td>...</td>\n",
       "      <td>0</td>\n",
       "      <td>0</td>\n",
       "      <td>0</td>\n",
       "      <td>0</td>\n",
       "      <td>0</td>\n",
       "      <td>0</td>\n",
       "      <td>0</td>\n",
       "      <td>0</td>\n",
       "      <td>0</td>\n",
       "      <td>0</td>\n",
       "    </tr>\n",
       "    <tr>\n",
       "      <th>2</th>\n",
       "      <td>0.400</td>\n",
       "      <td>2000</td>\n",
       "      <td>0.00958</td>\n",
       "      <td>0.556</td>\n",
       "      <td>216880</td>\n",
       "      <td>0.864</td>\n",
       "      <td>60a0Rd6pjrkxjPbaKzXjfq</td>\n",
       "      <td>0.000000</td>\n",
       "      <td>0.2090</td>\n",
       "      <td>-5.870</td>\n",
       "      <td>...</td>\n",
       "      <td>0</td>\n",
       "      <td>0</td>\n",
       "      <td>0</td>\n",
       "      <td>0</td>\n",
       "      <td>0</td>\n",
       "      <td>0</td>\n",
       "      <td>0</td>\n",
       "      <td>0</td>\n",
       "      <td>0</td>\n",
       "      <td>0</td>\n",
       "    </tr>\n",
       "    <tr>\n",
       "      <th>3</th>\n",
       "      <td>0.543</td>\n",
       "      <td>2000</td>\n",
       "      <td>0.00664</td>\n",
       "      <td>0.545</td>\n",
       "      <td>233933</td>\n",
       "      <td>0.865</td>\n",
       "      <td>6ZOBP3NvffbU4SZcrnt1k6</td>\n",
       "      <td>0.000011</td>\n",
       "      <td>0.1680</td>\n",
       "      <td>-5.708</td>\n",
       "      <td>...</td>\n",
       "      <td>0</td>\n",
       "      <td>0</td>\n",
       "      <td>0</td>\n",
       "      <td>0</td>\n",
       "      <td>0</td>\n",
       "      <td>0</td>\n",
       "      <td>0</td>\n",
       "      <td>0</td>\n",
       "      <td>0</td>\n",
       "      <td>0</td>\n",
       "    </tr>\n",
       "    <tr>\n",
       "      <th>4</th>\n",
       "      <td>0.760</td>\n",
       "      <td>2000</td>\n",
       "      <td>0.03020</td>\n",
       "      <td>0.949</td>\n",
       "      <td>284200</td>\n",
       "      <td>0.661</td>\n",
       "      <td>3yfqSUWxFvZELEM4PmlwIR</td>\n",
       "      <td>0.000000</td>\n",
       "      <td>0.0454</td>\n",
       "      <td>-4.244</td>\n",
       "      <td>...</td>\n",
       "      <td>0</td>\n",
       "      <td>0</td>\n",
       "      <td>0</td>\n",
       "      <td>0</td>\n",
       "      <td>0</td>\n",
       "      <td>0</td>\n",
       "      <td>0</td>\n",
       "      <td>0</td>\n",
       "      <td>0</td>\n",
       "      <td>0</td>\n",
       "    </tr>\n",
       "    <tr>\n",
       "      <th>...</th>\n",
       "      <td>...</td>\n",
       "      <td>...</td>\n",
       "      <td>...</td>\n",
       "      <td>...</td>\n",
       "      <td>...</td>\n",
       "      <td>...</td>\n",
       "      <td>...</td>\n",
       "      <td>...</td>\n",
       "      <td>...</td>\n",
       "      <td>...</td>\n",
       "      <td>...</td>\n",
       "      <td>...</td>\n",
       "      <td>...</td>\n",
       "      <td>...</td>\n",
       "      <td>...</td>\n",
       "      <td>...</td>\n",
       "      <td>...</td>\n",
       "      <td>...</td>\n",
       "      <td>...</td>\n",
       "      <td>...</td>\n",
       "      <td>...</td>\n",
       "    </tr>\n",
       "    <tr>\n",
       "      <th>20306</th>\n",
       "      <td>0.187</td>\n",
       "      <td>2020</td>\n",
       "      <td>0.57400</td>\n",
       "      <td>0.445</td>\n",
       "      <td>176250</td>\n",
       "      <td>0.330</td>\n",
       "      <td>0PUkanqCGTb6qseXPKOw1F</td>\n",
       "      <td>0.000000</td>\n",
       "      <td>0.1020</td>\n",
       "      <td>-8.121</td>\n",
       "      <td>...</td>\n",
       "      <td>0</td>\n",
       "      <td>0</td>\n",
       "      <td>0</td>\n",
       "      <td>0</td>\n",
       "      <td>0</td>\n",
       "      <td>0</td>\n",
       "      <td>0</td>\n",
       "      <td>0</td>\n",
       "      <td>0</td>\n",
       "      <td>0</td>\n",
       "    </tr>\n",
       "    <tr>\n",
       "      <th>20307</th>\n",
       "      <td>0.240</td>\n",
       "      <td>2020</td>\n",
       "      <td>0.81500</td>\n",
       "      <td>0.467</td>\n",
       "      <td>179188</td>\n",
       "      <td>0.429</td>\n",
       "      <td>6Iw6fQVKZi0fWtEQBrTFcP</td>\n",
       "      <td>0.000052</td>\n",
       "      <td>0.1770</td>\n",
       "      <td>-8.689</td>\n",
       "      <td>...</td>\n",
       "      <td>0</td>\n",
       "      <td>0</td>\n",
       "      <td>0</td>\n",
       "      <td>0</td>\n",
       "      <td>0</td>\n",
       "      <td>0</td>\n",
       "      <td>0</td>\n",
       "      <td>0</td>\n",
       "      <td>0</td>\n",
       "      <td>0</td>\n",
       "    </tr>\n",
       "    <tr>\n",
       "      <th>20308</th>\n",
       "      <td>0.466</td>\n",
       "      <td>2020</td>\n",
       "      <td>0.31000</td>\n",
       "      <td>0.562</td>\n",
       "      <td>253613</td>\n",
       "      <td>0.686</td>\n",
       "      <td>308prODCCD0O660tIktbUi</td>\n",
       "      <td>0.022500</td>\n",
       "      <td>0.1250</td>\n",
       "      <td>-8.480</td>\n",
       "      <td>...</td>\n",
       "      <td>0</td>\n",
       "      <td>0</td>\n",
       "      <td>0</td>\n",
       "      <td>0</td>\n",
       "      <td>0</td>\n",
       "      <td>0</td>\n",
       "      <td>0</td>\n",
       "      <td>0</td>\n",
       "      <td>0</td>\n",
       "      <td>0</td>\n",
       "    </tr>\n",
       "    <tr>\n",
       "      <th>20309</th>\n",
       "      <td>0.522</td>\n",
       "      <td>2020</td>\n",
       "      <td>0.20400</td>\n",
       "      <td>0.598</td>\n",
       "      <td>230600</td>\n",
       "      <td>0.472</td>\n",
       "      <td>2f8y4CuG57UJEmkG3ujd0D</td>\n",
       "      <td>0.000015</td>\n",
       "      <td>0.1080</td>\n",
       "      <td>-10.991</td>\n",
       "      <td>...</td>\n",
       "      <td>0</td>\n",
       "      <td>0</td>\n",
       "      <td>0</td>\n",
       "      <td>0</td>\n",
       "      <td>0</td>\n",
       "      <td>0</td>\n",
       "      <td>0</td>\n",
       "      <td>0</td>\n",
       "      <td>0</td>\n",
       "      <td>0</td>\n",
       "    </tr>\n",
       "    <tr>\n",
       "      <th>20310</th>\n",
       "      <td>0.195</td>\n",
       "      <td>2020</td>\n",
       "      <td>0.00998</td>\n",
       "      <td>0.671</td>\n",
       "      <td>337147</td>\n",
       "      <td>0.623</td>\n",
       "      <td>5SiZJoLXp3WOl3J4C8IK0d</td>\n",
       "      <td>0.000008</td>\n",
       "      <td>0.6430</td>\n",
       "      <td>-7.161</td>\n",
       "      <td>...</td>\n",
       "      <td>0</td>\n",
       "      <td>0</td>\n",
       "      <td>0</td>\n",
       "      <td>0</td>\n",
       "      <td>0</td>\n",
       "      <td>0</td>\n",
       "      <td>0</td>\n",
       "      <td>0</td>\n",
       "      <td>0</td>\n",
       "      <td>0</td>\n",
       "    </tr>\n",
       "  </tbody>\n",
       "</table>\n",
       "<p>20311 rows × 890 columns</p>\n",
       "</div>"
      ],
      "text/plain": [
       "       valence  year  acousticness  danceability  duration_ms  energy  \\\n",
       "0        0.285  2000       0.00239         0.429       266773   0.661   \n",
       "1        0.613  2000       0.14300         0.843       270507   0.806   \n",
       "2        0.400  2000       0.00958         0.556       216880   0.864   \n",
       "3        0.543  2000       0.00664         0.545       233933   0.865   \n",
       "4        0.760  2000       0.03020         0.949       284200   0.661   \n",
       "...        ...   ...           ...           ...          ...     ...   \n",
       "20306    0.187  2020       0.57400         0.445       176250   0.330   \n",
       "20307    0.240  2020       0.81500         0.467       179188   0.429   \n",
       "20308    0.466  2020       0.31000         0.562       253613   0.686   \n",
       "20309    0.522  2020       0.20400         0.598       230600   0.472   \n",
       "20310    0.195  2020       0.00998         0.671       337147   0.623   \n",
       "\n",
       "                           id  instrumentalness  liveness  loudness  ...  \\\n",
       "0      3AJwUDP919kvQ9QcozQPxg          0.000121    0.2340    -7.227  ...   \n",
       "1      0I3q5fE6wg7LIfHGngUTnV          0.000000    0.0771    -5.946  ...   \n",
       "2      60a0Rd6pjrkxjPbaKzXjfq          0.000000    0.2090    -5.870  ...   \n",
       "3      6ZOBP3NvffbU4SZcrnt1k6          0.000011    0.1680    -5.708  ...   \n",
       "4      3yfqSUWxFvZELEM4PmlwIR          0.000000    0.0454    -4.244  ...   \n",
       "...                       ...               ...       ...       ...  ...   \n",
       "20306  0PUkanqCGTb6qseXPKOw1F          0.000000    0.1020    -8.121  ...   \n",
       "20307  6Iw6fQVKZi0fWtEQBrTFcP          0.000052    0.1770    -8.689  ...   \n",
       "20308  308prODCCD0O660tIktbUi          0.022500    0.1250    -8.480  ...   \n",
       "20309  2f8y4CuG57UJEmkG3ujd0D          0.000015    0.1080   -10.991  ...   \n",
       "20310  5SiZJoLXp3WOl3J4C8IK0d          0.000008    0.6430    -7.161  ...   \n",
       "\n",
       "      artists_Zara Larsson  artists_Zedd  artists_alt-J  artists_blackbear  \\\n",
       "0                        0             0              0                  0   \n",
       "1                        0             0              0                  0   \n",
       "2                        0             0              0                  0   \n",
       "3                        0             0              0                  0   \n",
       "4                        0             0              0                  0   \n",
       "...                    ...           ...            ...                ...   \n",
       "20306                    0             0              0                  0   \n",
       "20307                    0             0              0                  0   \n",
       "20308                    0             0              0                  0   \n",
       "20309                    0             0              0                  0   \n",
       "20310                    0             0              0                  0   \n",
       "\n",
       "      artists_blink-182  artists_deadmau5  artists_for KING & COUNTRY  \\\n",
       "0                     0                 0                           0   \n",
       "1                     0                 0                           0   \n",
       "2                     0                 0                           0   \n",
       "3                     0                 0                           0   \n",
       "4                     0                 0                           0   \n",
       "...                 ...               ...                         ...   \n",
       "20306                 0                 0                           0   \n",
       "20307                 0                 0                           0   \n",
       "20308                 0                 0                           0   \n",
       "20309                 0                 0                           0   \n",
       "20310                 0                 0                           0   \n",
       "\n",
       "       artists_fun.  artists_girl in red  artists_iann dior  \n",
       "0                 0                    0                  0  \n",
       "1                 0                    0                  0  \n",
       "2                 0                    0                  0  \n",
       "3                 0                    0                  0  \n",
       "4                 0                    0                  0  \n",
       "...             ...                  ...                ...  \n",
       "20306             0                    0                  0  \n",
       "20307             0                    0                  0  \n",
       "20308             0                    0                  0  \n",
       "20309             0                    0                  0  \n",
       "20310             0                    0                  0  \n",
       "\n",
       "[20311 rows x 890 columns]"
      ]
     },
     "execution_count": 146,
     "metadata": {},
     "output_type": "execute_result"
    }
   ],
   "source": [
    "from sklearn.preprocessing import OneHotEncoder\n",
    "\n",
    "ohe = OneHotEncoder(dtype=int)\n",
    "colunas_ohe = ohe.fit_transform(dados[['artists']]).toarray()\n",
    "dados2 = dados.drop('artists', axis=1)\n",
    "\n",
    "dados_musicas_dummies = pd.concat([dados2, pd.DataFrame(colunas_ohe, columns=ohe.get_feature_names_out(['artists']))], axis=1)\n",
    "dados_musicas_dummies"
   ]
  },
  {
   "cell_type": "code",
   "execution_count": 147,
   "metadata": {},
   "outputs": [
    {
     "data": {
      "text/plain": [
       "(20311, 16)"
      ]
     },
     "execution_count": 147,
     "metadata": {},
     "output_type": "execute_result"
    }
   ],
   "source": [
    "dados.shape"
   ]
  },
  {
   "cell_type": "code",
   "execution_count": 148,
   "metadata": {},
   "outputs": [
    {
     "data": {
      "text/plain": [
       "(20311, 890)"
      ]
     },
     "execution_count": 148,
     "metadata": {},
     "output_type": "execute_result"
    }
   ],
   "source": [
    "dados_musicas_dummies.shape"
   ]
  },
  {
   "cell_type": "code",
   "execution_count": 156,
   "metadata": {},
   "outputs": [],
   "source": [
    "pca_pipeline = Pipeline(\n",
    "    [\n",
    "        ('scaler', StandardScaler()),\n",
    "        ('PCA', PCA(n_components=0.7, random_state=SEED))\n",
    "    ]\n",
    ")\n",
    "\n",
    "music_embedding_pca = pca_pipeline.fit_transform(dados_musicas_dummies.drop(['id', 'name', 'artists_song'], axis=1))\n",
    "projection_m = pd.DataFrame(data=music_embedding_pca)"
   ]
  },
  {
   "cell_type": "code",
   "execution_count": 157,
   "metadata": {},
   "outputs": [
    {
     "data": {
      "text/plain": [
       "612"
      ]
     },
     "execution_count": 157,
     "metadata": {},
     "output_type": "execute_result"
    }
   ],
   "source": [
    "pca_pipeline[1].n_components_"
   ]
  },
  {
   "cell_type": "code",
   "execution_count": 158,
   "metadata": {},
   "outputs": [
    {
     "ename": "ValueError",
     "evalue": "Length of values (20311) does not match length of index (2973)",
     "output_type": "error",
     "traceback": [
      "\u001b[0;31m---------------------------------------------------------------------------\u001b[0m",
      "\u001b[0;31mValueError\u001b[0m                                Traceback (most recent call last)",
      "Cell \u001b[0;32mIn[158], line 5\u001b[0m\n\u001b[1;32m      1\u001b[0m kmeans_pca_pipeline \u001b[38;5;241m=\u001b[39m KMeans(n_clusters\u001b[38;5;241m=\u001b[39m\u001b[38;5;241m50\u001b[39m, verbose\u001b[38;5;241m=\u001b[39m\u001b[38;5;28;01mFalse\u001b[39;00m, random_state\u001b[38;5;241m=\u001b[39mSEED)\n\u001b[1;32m      3\u001b[0m kmeans_pca_pipeline\u001b[38;5;241m.\u001b[39mfit(projection_m)\n\u001b[0;32m----> 5\u001b[0m \u001b[43mdados_generos\u001b[49m\u001b[43m[\u001b[49m\u001b[38;5;124;43m'\u001b[39;49m\u001b[38;5;124;43mcluster_pca\u001b[39;49m\u001b[38;5;124;43m'\u001b[39;49m\u001b[43m]\u001b[49m \u001b[38;5;241m=\u001b[39m kmeans_pca_pipeline\u001b[38;5;241m.\u001b[39mpredict(projection_m)\n\u001b[1;32m      6\u001b[0m projection[\u001b[38;5;124m'\u001b[39m\u001b[38;5;124mcluster_pca\u001b[39m\u001b[38;5;124m'\u001b[39m] \u001b[38;5;241m=\u001b[39m kmeans_pca_pipeline\u001b[38;5;241m.\u001b[39mpredict(projection_m)\n",
      "File \u001b[0;32m~/Desenvolvimento/repos/pessoal/MLKMeansMusicaAlura/.venv/lib/python3.11/site-packages/pandas/core/frame.py:4299\u001b[0m, in \u001b[0;36mDataFrame.__setitem__\u001b[0;34m(self, key, value)\u001b[0m\n\u001b[1;32m   4296\u001b[0m     \u001b[38;5;28mself\u001b[39m\u001b[38;5;241m.\u001b[39m_setitem_array([key], value)\n\u001b[1;32m   4297\u001b[0m \u001b[38;5;28;01melse\u001b[39;00m:\n\u001b[1;32m   4298\u001b[0m     \u001b[38;5;66;03m# set column\u001b[39;00m\n\u001b[0;32m-> 4299\u001b[0m     \u001b[38;5;28;43mself\u001b[39;49m\u001b[38;5;241;43m.\u001b[39;49m\u001b[43m_set_item\u001b[49m\u001b[43m(\u001b[49m\u001b[43mkey\u001b[49m\u001b[43m,\u001b[49m\u001b[43m \u001b[49m\u001b[43mvalue\u001b[49m\u001b[43m)\u001b[49m\n",
      "File \u001b[0;32m~/Desenvolvimento/repos/pessoal/MLKMeansMusicaAlura/.venv/lib/python3.11/site-packages/pandas/core/frame.py:4512\u001b[0m, in \u001b[0;36mDataFrame._set_item\u001b[0;34m(self, key, value)\u001b[0m\n\u001b[1;32m   4502\u001b[0m \u001b[38;5;28;01mdef\u001b[39;00m \u001b[38;5;21m_set_item\u001b[39m(\u001b[38;5;28mself\u001b[39m, key, value) \u001b[38;5;241m-\u001b[39m\u001b[38;5;241m>\u001b[39m \u001b[38;5;28;01mNone\u001b[39;00m:\n\u001b[1;32m   4503\u001b[0m \u001b[38;5;250m    \u001b[39m\u001b[38;5;124;03m\"\"\"\u001b[39;00m\n\u001b[1;32m   4504\u001b[0m \u001b[38;5;124;03m    Add series to DataFrame in specified column.\u001b[39;00m\n\u001b[1;32m   4505\u001b[0m \n\u001b[0;32m   (...)\u001b[0m\n\u001b[1;32m   4510\u001b[0m \u001b[38;5;124;03m    ensure homogeneity.\u001b[39;00m\n\u001b[1;32m   4511\u001b[0m \u001b[38;5;124;03m    \"\"\"\u001b[39;00m\n\u001b[0;32m-> 4512\u001b[0m     value, refs \u001b[38;5;241m=\u001b[39m \u001b[38;5;28;43mself\u001b[39;49m\u001b[38;5;241;43m.\u001b[39;49m\u001b[43m_sanitize_column\u001b[49m\u001b[43m(\u001b[49m\u001b[43mvalue\u001b[49m\u001b[43m)\u001b[49m\n\u001b[1;32m   4514\u001b[0m     \u001b[38;5;28;01mif\u001b[39;00m (\n\u001b[1;32m   4515\u001b[0m         key \u001b[38;5;129;01min\u001b[39;00m \u001b[38;5;28mself\u001b[39m\u001b[38;5;241m.\u001b[39mcolumns\n\u001b[1;32m   4516\u001b[0m         \u001b[38;5;129;01mand\u001b[39;00m value\u001b[38;5;241m.\u001b[39mndim \u001b[38;5;241m==\u001b[39m \u001b[38;5;241m1\u001b[39m\n\u001b[1;32m   4517\u001b[0m         \u001b[38;5;129;01mand\u001b[39;00m \u001b[38;5;129;01mnot\u001b[39;00m \u001b[38;5;28misinstance\u001b[39m(value\u001b[38;5;241m.\u001b[39mdtype, ExtensionDtype)\n\u001b[1;32m   4518\u001b[0m     ):\n\u001b[1;32m   4519\u001b[0m         \u001b[38;5;66;03m# broadcast across multiple columns if necessary\u001b[39;00m\n\u001b[1;32m   4520\u001b[0m         \u001b[38;5;28;01mif\u001b[39;00m \u001b[38;5;129;01mnot\u001b[39;00m \u001b[38;5;28mself\u001b[39m\u001b[38;5;241m.\u001b[39mcolumns\u001b[38;5;241m.\u001b[39mis_unique \u001b[38;5;129;01mor\u001b[39;00m \u001b[38;5;28misinstance\u001b[39m(\u001b[38;5;28mself\u001b[39m\u001b[38;5;241m.\u001b[39mcolumns, MultiIndex):\n",
      "File \u001b[0;32m~/Desenvolvimento/repos/pessoal/MLKMeansMusicaAlura/.venv/lib/python3.11/site-packages/pandas/core/frame.py:5253\u001b[0m, in \u001b[0;36mDataFrame._sanitize_column\u001b[0;34m(self, value)\u001b[0m\n\u001b[1;32m   5250\u001b[0m     \u001b[38;5;28;01mreturn\u001b[39;00m _reindex_for_setitem(value, \u001b[38;5;28mself\u001b[39m\u001b[38;5;241m.\u001b[39mindex)\n\u001b[1;32m   5252\u001b[0m \u001b[38;5;28;01mif\u001b[39;00m is_list_like(value):\n\u001b[0;32m-> 5253\u001b[0m     \u001b[43mcom\u001b[49m\u001b[38;5;241;43m.\u001b[39;49m\u001b[43mrequire_length_match\u001b[49m\u001b[43m(\u001b[49m\u001b[43mvalue\u001b[49m\u001b[43m,\u001b[49m\u001b[43m \u001b[49m\u001b[38;5;28;43mself\u001b[39;49m\u001b[38;5;241;43m.\u001b[39;49m\u001b[43mindex\u001b[49m\u001b[43m)\u001b[49m\n\u001b[1;32m   5254\u001b[0m arr \u001b[38;5;241m=\u001b[39m sanitize_array(value, \u001b[38;5;28mself\u001b[39m\u001b[38;5;241m.\u001b[39mindex, copy\u001b[38;5;241m=\u001b[39m\u001b[38;5;28;01mTrue\u001b[39;00m, allow_2d\u001b[38;5;241m=\u001b[39m\u001b[38;5;28;01mTrue\u001b[39;00m)\n\u001b[1;32m   5255\u001b[0m \u001b[38;5;28;01mif\u001b[39;00m (\n\u001b[1;32m   5256\u001b[0m     \u001b[38;5;28misinstance\u001b[39m(value, Index)\n\u001b[1;32m   5257\u001b[0m     \u001b[38;5;129;01mand\u001b[39;00m value\u001b[38;5;241m.\u001b[39mdtype \u001b[38;5;241m==\u001b[39m \u001b[38;5;124m\"\u001b[39m\u001b[38;5;124mobject\u001b[39m\u001b[38;5;124m\"\u001b[39m\n\u001b[0;32m   (...)\u001b[0m\n\u001b[1;32m   5260\u001b[0m     \u001b[38;5;66;03m# TODO: Remove kludge in sanitize_array for string mode when enforcing\u001b[39;00m\n\u001b[1;32m   5261\u001b[0m     \u001b[38;5;66;03m# this deprecation\u001b[39;00m\n",
      "File \u001b[0;32m~/Desenvolvimento/repos/pessoal/MLKMeansMusicaAlura/.venv/lib/python3.11/site-packages/pandas/core/common.py:573\u001b[0m, in \u001b[0;36mrequire_length_match\u001b[0;34m(data, index)\u001b[0m\n\u001b[1;32m    569\u001b[0m \u001b[38;5;250m\u001b[39m\u001b[38;5;124;03m\"\"\"\u001b[39;00m\n\u001b[1;32m    570\u001b[0m \u001b[38;5;124;03mCheck the length of data matches the length of the index.\u001b[39;00m\n\u001b[1;32m    571\u001b[0m \u001b[38;5;124;03m\"\"\"\u001b[39;00m\n\u001b[1;32m    572\u001b[0m \u001b[38;5;28;01mif\u001b[39;00m \u001b[38;5;28mlen\u001b[39m(data) \u001b[38;5;241m!=\u001b[39m \u001b[38;5;28mlen\u001b[39m(index):\n\u001b[0;32m--> 573\u001b[0m     \u001b[38;5;28;01mraise\u001b[39;00m \u001b[38;5;167;01mValueError\u001b[39;00m(\n\u001b[1;32m    574\u001b[0m         \u001b[38;5;124m\"\u001b[39m\u001b[38;5;124mLength of values \u001b[39m\u001b[38;5;124m\"\u001b[39m\n\u001b[1;32m    575\u001b[0m         \u001b[38;5;124mf\u001b[39m\u001b[38;5;124m\"\u001b[39m\u001b[38;5;124m(\u001b[39m\u001b[38;5;132;01m{\u001b[39;00m\u001b[38;5;28mlen\u001b[39m(data)\u001b[38;5;132;01m}\u001b[39;00m\u001b[38;5;124m) \u001b[39m\u001b[38;5;124m\"\u001b[39m\n\u001b[1;32m    576\u001b[0m         \u001b[38;5;124m\"\u001b[39m\u001b[38;5;124mdoes not match length of index \u001b[39m\u001b[38;5;124m\"\u001b[39m\n\u001b[1;32m    577\u001b[0m         \u001b[38;5;124mf\u001b[39m\u001b[38;5;124m\"\u001b[39m\u001b[38;5;124m(\u001b[39m\u001b[38;5;132;01m{\u001b[39;00m\u001b[38;5;28mlen\u001b[39m(index)\u001b[38;5;132;01m}\u001b[39;00m\u001b[38;5;124m)\u001b[39m\u001b[38;5;124m\"\u001b[39m\n\u001b[1;32m    578\u001b[0m     )\n",
      "\u001b[0;31mValueError\u001b[0m: Length of values (20311) does not match length of index (2973)"
     ]
    }
   ],
   "source": [
    "kmeans_pca_pipeline = KMeans(n_clusters=50, verbose=False, random_state=SEED)\n",
    "\n",
    "kmeans_pca_pipeline.fit(projection_m)\n",
    "\n",
    "dados_generos['cluster_pca'] = kmeans_pca_pipeline.predict(projection_m)\n",
    "projection['cluster_pca'] = kmeans_pca_pipeline.predict(projection_m)"
   ]
  },
  {
   "cell_type": "code",
   "execution_count": null,
   "metadata": {},
   "outputs": [],
   "source": []
  }
 ],
 "metadata": {
  "kernelspec": {
   "display_name": ".venv",
   "language": "python",
   "name": "python3"
  },
  "language_info": {
   "codemirror_mode": {
    "name": "ipython",
    "version": 3
   },
   "file_extension": ".py",
   "mimetype": "text/x-python",
   "name": "python",
   "nbconvert_exporter": "python",
   "pygments_lexer": "ipython3",
   "version": "3.11.5"
  }
 },
 "nbformat": 4,
 "nbformat_minor": 2
}
